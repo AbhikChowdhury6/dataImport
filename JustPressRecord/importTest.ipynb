{
 "cells": [
  {
   "cell_type": "code",
   "execution_count": null,
   "metadata": {},
   "outputs": [],
   "source": [
    "# so what do I want to do?\n",
    "# I would like to be given a directory\n",
    "# parse the day folder names\n",
    "# parse the time file\n",
    "\n",
    "\n",
    "# the actual storage schema i would like to use involves\n",
    "# getting the start time (assume it starts on microsecond 0)\n",
    "# we're going to chop it up into aligned hours\n",
    "# for the first one we'll insert silence up untill the start second untill the calculated end of the hour 59:59.999999\n",
    "# if an audio file ends and there is no additional audio for the rest of the hour it can end there\n",
    "# if I add another audio file it won't overlap and will be after the previous one, and the gap will be filled with silence"
   ]
  }
 ],
 "metadata": {
  "language_info": {
   "name": "python"
  }
 },
 "nbformat": 4,
 "nbformat_minor": 2
}
