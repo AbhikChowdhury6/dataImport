{
 "cells": [
  {
   "cell_type": "code",
   "execution_count": null,
   "metadata": {},
   "outputs": [],
   "source": [
    "# placeholders for\n",
    "# people, orgs\n",
    "\n",
    "# ranges 2:10-99, 3:100 - 999 etc\n",
    "\n",
    "# honestly a proper dataframe would be better\n",
    "# id, name, created date, most recent access\n",
    "# we can save it right here to poeple secret\n",
    "\n",
    "\n",
    "#main methods\n",
    "# assign a new name an identifier in a given range\n",
    "# look up an identifier for a given name\n",
    "# have a created date\n",
    "# have a most recently used date\n",
    "\n",
    "\n",
    "\n",
    "#queries\n",
    "# what are all of the labels associated with this entity id\n",
    "# where all in the documents, regardless of lables, is this entity referred to\n",
    "# for a given label which all entetiy id's have been refferred to as that\n",
    "# for a given label what indexs are taken and not taken\n",
    "\n",
    "\n",
    "\n",
    "#tables\n",
    "\n",
    "# list of all labels for reference i guess (labels having nums 2)- a few dozen maybe\n",
    "# entetiy id, list of used lables and the id's for those - thousands\n",
    "\n",
    "# so what's the flow\n",
    "# im jounraling, i write an escape\n",
    "# to generate a new number\n",
    "# I specify the label I want, and the human readable private enitiy id\n",
    "# or I just use that number\n",
    "\n",
    "#ngl a better flow would be\n",
    "#having a seperate program to refrence entites and labels and generate them\n",
    "#as I'm writing and want to refer to something\n",
    "#I escape write the label id, then an undescore\n",
    "# and then the enteties id for that label or just the entity if none generated\n",
    "\n",
    "# the reference program would have a list of labels and their id'save\n",
    "# a search/ list for entities including their human name,\n",
    "# with label id's sorted in a standard way\n",
    "# entity id's for now could be numbers between 10000 and 99999 \n",
    "\n",
    "# generate a new entity id with a human readable name\n",
    "# it would have a way to add a label with a range to an entity"
   ]
  },
  {
   "cell_type": "code",
   "execution_count": null,
   "metadata": {},
   "outputs": [],
   "source": []
  },
  {
   "cell_type": "code",
   "execution_count": null,
   "metadata": {},
   "outputs": [],
   "source": []
  },
  {
   "cell_type": "code",
   "execution_count": null,
   "metadata": {},
   "outputs": [],
   "source": []
  },
  {
   "cell_type": "code",
   "execution_count": null,
   "metadata": {},
   "outputs": [],
   "source": []
  }
 ],
 "metadata": {
  "kernelspec": {
   "display_name": "base",
   "language": "python",
   "name": "python3"
  },
  "language_info": {
   "name": "python",
   "version": "3.12.5"
  }
 },
 "nbformat": 4,
 "nbformat_minor": 2
}
