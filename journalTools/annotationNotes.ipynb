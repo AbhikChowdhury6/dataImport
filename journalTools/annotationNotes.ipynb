{
 "cells": [
  {
   "cell_type": "code",
   "execution_count": null,
   "metadata": {},
   "outputs": [],
   "source": [
    "import os\n",
    "import sys\n",
    "\n",
    "cwd = os.getcwd()\n",
    "delimiter = \"\\\\\" if \"\\\\\" in cwd else \"/\"\n",
    "repoPath = delimiter.join(cwd.split(delimiter)[:cwd.split(delimiter).index(\"dataImport\")]) + delimiter\n",
    "sys.path.append(repoPath + \"dataImport/\")\n",
    "\n",
    "import rwWorkingTSDf\n",
    "from rwWorkingTSDf import writeWorkingTSDf, readWorkingTSDF"
   ]
  },
  {
   "cell_type": "code",
   "execution_count": null,
   "metadata": {},
   "outputs": [],
   "source": [
    "# two functions\n",
    "\n",
    "# one takes in a timestmap and a bulk descriptor\n",
    "# loads up the video and retruns the target image for that timestamp using closest matching\n",
    "\n",
    "\n",
    "\n",
    "# the other takes in a timestamp and a working data descriptor\n",
    "# it also takes in a max interval\n",
    "# it'll query the working data with incresed by max interval on each side\n",
    "# it'll fill in any no data segments\n",
    "# re query for just the relevant 2 minutes\n",
    "# return those two lists"
   ]
  }
 ],
 "metadata": {
  "kernelspec": {
   "display_name": "vision",
   "language": "python",
   "name": "python3"
  },
  "language_info": {
   "name": "python",
   "version": "3.11.10"
  }
 },
 "nbformat": 4,
 "nbformat_minor": 2
}
