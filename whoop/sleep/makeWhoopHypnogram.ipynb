{
 "cells": [
  {
   "cell_type": "code",
   "execution_count": null,
   "metadata": {},
   "outputs": [],
   "source": [
    "# go through every sleep event file\n",
    "# add the start and end time and int value\n",
    "\n",
    "#sort all of the data points\n",
    "#fill in the -1 values\n",
    "\n",
    "#save"
   ]
  },
  {
   "cell_type": "code",
   "execution_count": 2,
   "metadata": {},
   "outputs": [
    {
     "name": "stdout",
     "output_type": "stream",
     "text": [
      "1.1.2\n",
      "2\n"
     ]
    }
   ],
   "source": [
    "import os\n",
    "import sys\n",
    "def getRepoPath():\n",
    "    cwd = os.getcwd()\n",
    "    delimiter = \"\\\\\" if \"\\\\\" in cwd else \"/\"\n",
    "    repoPath = delimiter.join(cwd.split(delimiter)[:cwd.split(delimiter).index(\"dataImport\")+1]) + delimiter\n",
    "    return repoPath\n",
    "repoPath = getRepoPath()\n",
    "sys.path.append(repoPath)\n",
    "from utils import exportsDataPath, workingDataPath, writeHypnoDfParquet\n",
    "\n",
    "import pandas as pd\n",
    "import datetime\n",
    "import os\n",
    "import pytz\n",
    "import json\n",
    "print(pd.__version__)\n",
    "utc = pytz.utc\n",
    "AZtz = pytz.timezone(\"US/Arizona\")\n",
    "\n",
    "exportPath = exportsDataPath + \"/whoop/WHOOP Production-export/Health/\"\n",
    "\n",
    "files = [f for f in os.listdir(exportPath) if f.split(\".\")[0][:12] == \"sleep_events\"]\n",
    "\n",
    "print(len(files))"
   ]
  },
  {
   "cell_type": "code",
   "execution_count": 3,
   "metadata": {},
   "outputs": [],
   "source": [
    "def whoopSleepStageToStandard(stageName):\n",
    "    #if stageName == \"LATENCY\":\n",
    "    #    return 0\n",
    "    if stageName == \"WAKE\":\n",
    "        return 0\n",
    "    # if stageName == \"DISTURBANCES\":\n",
    "    #    return 0\n",
    "    if stageName == \"LIGHT\":\n",
    "        return 1\n",
    "    if stageName == \"SWS\":\n",
    "        return 2\n",
    "    if stageName == \"REM\":\n",
    "        return 3\n",
    "    print(stageName)\n",
    "    return -1"
   ]
  },
  {
   "cell_type": "code",
   "execution_count": 4,
   "metadata": {},
   "outputs": [
    {
     "data": {
      "text/plain": [
       "'sleep_events (1).csv'"
      ]
     },
     "execution_count": 4,
     "metadata": {},
     "output_type": "execute_result"
    }
   ],
   "source": [
    "files[0]"
   ]
  },
  {
   "cell_type": "code",
   "execution_count": 6,
   "metadata": {},
   "outputs": [],
   "source": [
    "import csv\n",
    "with open(exportPath + files[0]) as f:\n",
    "    reader = csv.reader(f)\n",
    "    lines = [x for x in reader]\n"
   ]
  },
  {
   "cell_type": "code",
   "execution_count": 7,
   "metadata": {},
   "outputs": [
    {
     "data": {
      "text/plain": [
       "\"['2024-03-02T00:31:36.620Z','2024-03-02T00:37:21.728Z')\""
      ]
     },
     "execution_count": 7,
     "metadata": {},
     "output_type": "execute_result"
    }
   ],
   "source": [
    "row = lines[1:]\n",
    "row[0][0]"
   ]
  },
  {
   "cell_type": "code",
   "execution_count": 8,
   "metadata": {},
   "outputs": [
    {
     "data": {
      "text/plain": [
       "'2024-03-02T00:31:36.620Z'"
      ]
     },
     "execution_count": 8,
     "metadata": {},
     "output_type": "execute_result"
    }
   ],
   "source": [
    "rows = lines[1:]\n",
    "startTime = rows[0][0].split(\"\\'\")[1]\n",
    "startTime"
   ]
  },
  {
   "cell_type": "code",
   "execution_count": 9,
   "metadata": {},
   "outputs": [
    {
     "data": {
      "text/plain": [
       "'2024-03-02T00:37:21.728Z'"
      ]
     },
     "execution_count": 9,
     "metadata": {},
     "output_type": "execute_result"
    }
   ],
   "source": [
    "rows = lines[1:]\n",
    "endTime = rows[0][0].split(\"\\'\")[3]\n",
    "endTime"
   ]
  },
  {
   "cell_type": "code",
   "execution_count": 10,
   "metadata": {},
   "outputs": [
    {
     "data": {
      "text/plain": [
       "2"
      ]
     },
     "execution_count": 10,
     "metadata": {},
     "output_type": "execute_result"
    }
   ],
   "source": [
    "value = whoopSleepStageToStandard(rows[0][1])\n",
    "value"
   ]
  },
  {
   "cell_type": "code",
   "execution_count": 19,
   "metadata": {},
   "outputs": [
    {
     "name": "stdout",
     "output_type": "stream",
     "text": [
      "NO_DATA\n",
      "NO_DATA\n",
      "NO_DATA\n",
      "NO_DATA\n",
      "NO_DATA\n",
      "NO_DATA\n",
      "NO_DATA\n",
      "NO_DATA\n",
      "NO_DATA\n",
      "NO_DATA\n",
      "NO_DATA\n",
      "24616\n"
     ]
    }
   ],
   "source": [
    "data = []\n",
    "\n",
    "for sf in files:\n",
    "    with open(exportPath + sf) as f:\n",
    "        reader = csv.reader(f)\n",
    "        lines = [x for x in reader]\n",
    "        for row in lines[1:]:\n",
    "            if row[1] in [\"LATENCY\", \"DISTURBANCES\"]:\n",
    "                continue\n",
    "            toadd = []\n",
    "            toadd.append(pd.to_datetime(row[0].split(\"\\'\")[1]).round('S'))\n",
    "            toadd.append(pd.to_datetime(row[0].split(\"\\'\")[3]).round('S') + datetime.timedelta(seconds=1))\n",
    "            toadd.append(whoopSleepStageToStandard(row[1]))\n",
    "            data.append(toadd)\n",
    "\n",
    "print(len(data))"
   ]
  },
  {
   "cell_type": "code",
   "execution_count": 20,
   "metadata": {},
   "outputs": [
    {
     "data": {
      "text/plain": [
       "[[Timestamp('2022-04-11 08:04:24+0000', tz='UTC'),\n",
       "  Timestamp('2022-04-11 08:09:14+0000', tz='UTC'),\n",
       "  1],\n",
       " [Timestamp('2022-04-11 08:09:14+0000', tz='UTC'),\n",
       "  Timestamp('2022-04-11 08:18:00+0000', tz='UTC'),\n",
       "  0],\n",
       " [Timestamp('2022-04-11 08:18:00+0000', tz='UTC'),\n",
       "  Timestamp('2022-04-11 08:19:57+0000', tz='UTC'),\n",
       "  1]]"
      ]
     },
     "execution_count": 20,
     "metadata": {},
     "output_type": "execute_result"
    }
   ],
   "source": [
    "data = sorted(data, key=lambda x:x[0])\n",
    "data[:3]"
   ]
  },
  {
   "cell_type": "code",
   "execution_count": 21,
   "metadata": {},
   "outputs": [
    {
     "name": "stdout",
     "output_type": "stream",
     "text": [
      "25678\n"
     ]
    }
   ],
   "source": [
    "# add in the no data segments\n",
    "filledRecords = []\n",
    "# for every row except the last\n",
    "for ri in range(len(data)-1):\n",
    "    filledRecords.append(data[ri])\n",
    "    # if there is a gap between this rows end date and the next rows start date\n",
    "    if data[ri][1] < data[ri+1][0]:\n",
    "        filledRecords.append([\n",
    "            data[ri][1],\n",
    "            data[ri+1][0],\n",
    "            -1\n",
    "        ])\n",
    "filledRecords.append(data[-1])\n",
    "print(len(filledRecords))"
   ]
  },
  {
   "cell_type": "code",
   "execution_count": 22,
   "metadata": {},
   "outputs": [
    {
     "data": {
      "text/html": [
       "<div>\n",
       "<style scoped>\n",
       "    .dataframe tbody tr th:only-of-type {\n",
       "        vertical-align: middle;\n",
       "    }\n",
       "\n",
       "    .dataframe tbody tr th {\n",
       "        vertical-align: top;\n",
       "    }\n",
       "\n",
       "    .dataframe thead th {\n",
       "        text-align: right;\n",
       "    }\n",
       "</style>\n",
       "<table border=\"1\" class=\"dataframe\">\n",
       "  <thead>\n",
       "    <tr style=\"text-align: right;\">\n",
       "      <th></th>\n",
       "      <th>endDate</th>\n",
       "      <th>value</th>\n",
       "    </tr>\n",
       "    <tr>\n",
       "      <th>startDate</th>\n",
       "      <th></th>\n",
       "      <th></th>\n",
       "    </tr>\n",
       "  </thead>\n",
       "  <tbody>\n",
       "    <tr>\n",
       "      <th>2022-04-11 08:04:24+00:00</th>\n",
       "      <td>2022-04-11 08:09:14+00:00</td>\n",
       "      <td>1</td>\n",
       "    </tr>\n",
       "    <tr>\n",
       "      <th>2022-04-11 08:09:14+00:00</th>\n",
       "      <td>2022-04-11 08:18:00+00:00</td>\n",
       "      <td>0</td>\n",
       "    </tr>\n",
       "    <tr>\n",
       "      <th>2022-04-11 08:18:00+00:00</th>\n",
       "      <td>2022-04-11 08:19:57+00:00</td>\n",
       "      <td>1</td>\n",
       "    </tr>\n",
       "    <tr>\n",
       "      <th>2022-04-11 08:19:57+00:00</th>\n",
       "      <td>2022-04-11 08:27:40+00:00</td>\n",
       "      <td>2</td>\n",
       "    </tr>\n",
       "    <tr>\n",
       "      <th>2022-04-11 08:27:40+00:00</th>\n",
       "      <td>2022-04-11 08:33:57+00:00</td>\n",
       "      <td>1</td>\n",
       "    </tr>\n",
       "    <tr>\n",
       "      <th>...</th>\n",
       "      <td>...</td>\n",
       "      <td>...</td>\n",
       "    </tr>\n",
       "    <tr>\n",
       "      <th>2024-05-10 13:17:31+00:00</th>\n",
       "      <td>2024-05-10 13:49:43+00:00</td>\n",
       "      <td>1</td>\n",
       "    </tr>\n",
       "    <tr>\n",
       "      <th>2024-05-10 13:49:43+00:00</th>\n",
       "      <td>2024-05-10 14:10:52+00:00</td>\n",
       "      <td>2</td>\n",
       "    </tr>\n",
       "    <tr>\n",
       "      <th>2024-05-10 14:10:52+00:00</th>\n",
       "      <td>2024-05-10 14:34:25+00:00</td>\n",
       "      <td>1</td>\n",
       "    </tr>\n",
       "    <tr>\n",
       "      <th>2024-05-10 14:34:25+00:00</th>\n",
       "      <td>2024-05-10 14:45:28+00:00</td>\n",
       "      <td>3</td>\n",
       "    </tr>\n",
       "    <tr>\n",
       "      <th>2024-05-10 14:45:28+00:00</th>\n",
       "      <td>2024-05-10 14:47:24+00:00</td>\n",
       "      <td>1</td>\n",
       "    </tr>\n",
       "  </tbody>\n",
       "</table>\n",
       "<p>25678 rows × 2 columns</p>\n",
       "</div>"
      ],
      "text/plain": [
       "                                            endDate  value\n",
       "startDate                                                 \n",
       "2022-04-11 08:04:24+00:00 2022-04-11 08:09:14+00:00      1\n",
       "2022-04-11 08:09:14+00:00 2022-04-11 08:18:00+00:00      0\n",
       "2022-04-11 08:18:00+00:00 2022-04-11 08:19:57+00:00      1\n",
       "2022-04-11 08:19:57+00:00 2022-04-11 08:27:40+00:00      2\n",
       "2022-04-11 08:27:40+00:00 2022-04-11 08:33:57+00:00      1\n",
       "...                                             ...    ...\n",
       "2024-05-10 13:17:31+00:00 2024-05-10 13:49:43+00:00      1\n",
       "2024-05-10 13:49:43+00:00 2024-05-10 14:10:52+00:00      2\n",
       "2024-05-10 14:10:52+00:00 2024-05-10 14:34:25+00:00      1\n",
       "2024-05-10 14:34:25+00:00 2024-05-10 14:45:28+00:00      3\n",
       "2024-05-10 14:45:28+00:00 2024-05-10 14:47:24+00:00      1\n",
       "\n",
       "[25678 rows x 2 columns]"
      ]
     },
     "execution_count": 22,
     "metadata": {},
     "output_type": "execute_result"
    }
   ],
   "source": [
    "ColumnNames = [\"startDate\", \"endDate\", \"value\"]\n",
    "\n",
    "\n",
    "whoopHypnoDf = pd.DataFrame(columns=ColumnNames, data=filledRecords)\n",
    "\n",
    "whoopHypnoDf = whoopHypnoDf.set_index(\"startDate\")\n",
    "whoopHypnoDf"
   ]
  },
  {
   "cell_type": "code",
   "execution_count": 23,
   "metadata": {},
   "outputs": [
    {
     "data": {
      "text/plain": [
       "endDate    datetime64[ns, UTC]\n",
       "value                    int64\n",
       "dtype: object"
      ]
     },
     "execution_count": 23,
     "metadata": {},
     "output_type": "execute_result"
    }
   ],
   "source": [
    "whoopHypnoDf.dtypes"
   ]
  },
  {
   "cell_type": "code",
   "execution_count": 24,
   "metadata": {},
   "outputs": [],
   "source": [
    "writeHypnoDfParquet('whoop', whoopHypnoDf)"
   ]
  }
 ],
 "metadata": {
  "kernelspec": {
   "display_name": "Python 3",
   "language": "python",
   "name": "python3"
  },
  "language_info": {
   "codemirror_mode": {
    "name": "ipython",
    "version": 3
   },
   "file_extension": ".py",
   "mimetype": "text/x-python",
   "name": "python",
   "nbconvert_exporter": "python",
   "pygments_lexer": "ipython3",
   "version": "3.8.10"
  }
 },
 "nbformat": 4,
 "nbformat_minor": 2
}
