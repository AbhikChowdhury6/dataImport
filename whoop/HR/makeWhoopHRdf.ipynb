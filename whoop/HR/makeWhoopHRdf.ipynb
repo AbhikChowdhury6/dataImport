{
 "cells": [
  {
   "cell_type": "code",
   "execution_count": null,
   "metadata": {},
   "outputs": [],
   "source": [
    "# to get your whoop data go to https://privacy.whoop.com/policies/en-US/\n",
    "# wait a few weeks\n",
    "# end up contancting customer support and have them resolve it"
   ]
  },
  {
   "cell_type": "code",
   "execution_count": 1,
   "metadata": {},
   "outputs": [],
   "source": [
    "import os\n",
    "# Get the list of all files and directories\n",
    "path = \"/home/chowder/Documents/personalData/Whoop/WHOOP Production-export/Health\"\n",
    "dir_list = os.listdir(path)"
   ]
  },
  {
   "cell_type": "code",
   "execution_count": 2,
   "metadata": {},
   "outputs": [
    {
     "data": {
      "text/plain": [
       "'metrics (30).csv'"
      ]
     },
     "execution_count": 2,
     "metadata": {},
     "output_type": "execute_result"
    }
   ],
   "source": [
    "hrFilenames = [x for x in dir_list if x[0:6] == \"metric\"]\n",
    "hrFilenames[0]"
   ]
  },
  {
   "cell_type": "code",
   "execution_count": 14,
   "metadata": {},
   "outputs": [
    {
     "name": "stderr",
     "output_type": "stream",
     "text": [
      "/tmp/ipykernel_2767644/1508130766.py:5: DeprecationWarning: The default dtype for empty Series will be 'object' instead of 'float64' in a future version. Specify a dtype explicitly to silence this warning.\n",
      "  whoopHRs = pd.Series([], index=empty_datetime_index, name='hr')\n"
     ]
    }
   ],
   "source": [
    "import pandas as pd\n",
    "\n",
    "empty_datetime_index = pd.DatetimeIndex([], tz='UTC')\n",
    "\n",
    "whoopHRs = pd.Series([], index=empty_datetime_index, name='hr')\n",
    "\n"
   ]
  },
  {
   "cell_type": "code",
   "execution_count": 4,
   "metadata": {},
   "outputs": [
    {
     "name": "stdout",
     "output_type": "stream",
     "text": [
      "/home/chowder/Documents/personalData/Whoop/WHOOP Production-export/Health/metrics (30).csv\n"
     ]
    }
   ],
   "source": [
    "hrf = hrFilenames[0]\n",
    "filePath = path + \"/\" + hrf\n",
    "print(filePath)\n",
    "dfToadd = pd.read_csv(filePath, parse_dates=[\"ts\"])\n",
    "dfToadd = dfToadd.set_index(\"ts\")"
   ]
  },
  {
   "cell_type": "code",
   "execution_count": 5,
   "metadata": {},
   "outputs": [
    {
     "data": {
      "text/plain": [
       "hr                    int64\n",
       "accel_x             float64\n",
       "accel_y             float64\n",
       "accel_z             float64\n",
       "skin_temp             int64\n",
       "parsed_skin_temp    float64\n",
       "dtype: object"
      ]
     },
     "execution_count": 5,
     "metadata": {},
     "output_type": "execute_result"
    }
   ],
   "source": [
    "dfToadd.dtypes"
   ]
  },
  {
   "cell_type": "code",
   "execution_count": 7,
   "metadata": {},
   "outputs": [
    {
     "data": {
      "text/html": [
       "<div>\n",
       "<style scoped>\n",
       "    .dataframe tbody tr th:only-of-type {\n",
       "        vertical-align: middle;\n",
       "    }\n",
       "\n",
       "    .dataframe tbody tr th {\n",
       "        vertical-align: top;\n",
       "    }\n",
       "\n",
       "    .dataframe thead th {\n",
       "        text-align: right;\n",
       "    }\n",
       "</style>\n",
       "<table border=\"1\" class=\"dataframe\">\n",
       "  <thead>\n",
       "    <tr style=\"text-align: right;\">\n",
       "      <th></th>\n",
       "      <th>hr</th>\n",
       "    </tr>\n",
       "    <tr>\n",
       "      <th>ts</th>\n",
       "      <th></th>\n",
       "    </tr>\n",
       "  </thead>\n",
       "  <tbody>\n",
       "    <tr>\n",
       "      <th>2023-11-23 00:00:00.750000+00:00</th>\n",
       "      <td>79</td>\n",
       "    </tr>\n",
       "    <tr>\n",
       "      <th>2023-11-23 00:01:01.312000+00:00</th>\n",
       "      <td>91</td>\n",
       "    </tr>\n",
       "    <tr>\n",
       "      <th>2023-11-23 00:02:01.874000+00:00</th>\n",
       "      <td>105</td>\n",
       "    </tr>\n",
       "    <tr>\n",
       "      <th>2023-11-23 00:03:02.436000+00:00</th>\n",
       "      <td>99</td>\n",
       "    </tr>\n",
       "    <tr>\n",
       "      <th>2023-11-23 00:04:02.999000+00:00</th>\n",
       "      <td>100</td>\n",
       "    </tr>\n",
       "    <tr>\n",
       "      <th>...</th>\n",
       "      <td>...</td>\n",
       "    </tr>\n",
       "    <tr>\n",
       "      <th>2023-12-12 23:55:19.858000+00:00</th>\n",
       "      <td>70</td>\n",
       "    </tr>\n",
       "    <tr>\n",
       "      <th>2023-12-12 23:56:20.420000+00:00</th>\n",
       "      <td>68</td>\n",
       "    </tr>\n",
       "    <tr>\n",
       "      <th>2023-12-12 23:57:20.983000+00:00</th>\n",
       "      <td>68</td>\n",
       "    </tr>\n",
       "    <tr>\n",
       "      <th>2023-12-12 23:58:21.545000+00:00</th>\n",
       "      <td>75</td>\n",
       "    </tr>\n",
       "    <tr>\n",
       "      <th>2023-12-12 23:59:22.107000+00:00</th>\n",
       "      <td>72</td>\n",
       "    </tr>\n",
       "  </tbody>\n",
       "</table>\n",
       "<p>28126 rows × 1 columns</p>\n",
       "</div>"
      ],
      "text/plain": [
       "                                   hr\n",
       "ts                                   \n",
       "2023-11-23 00:00:00.750000+00:00   79\n",
       "2023-11-23 00:01:01.312000+00:00   91\n",
       "2023-11-23 00:02:01.874000+00:00  105\n",
       "2023-11-23 00:03:02.436000+00:00   99\n",
       "2023-11-23 00:04:02.999000+00:00  100\n",
       "...                               ...\n",
       "2023-12-12 23:55:19.858000+00:00   70\n",
       "2023-12-12 23:56:20.420000+00:00   68\n",
       "2023-12-12 23:57:20.983000+00:00   68\n",
       "2023-12-12 23:58:21.545000+00:00   75\n",
       "2023-12-12 23:59:22.107000+00:00   72\n",
       "\n",
       "[28126 rows x 1 columns]"
      ]
     },
     "execution_count": 7,
     "metadata": {},
     "output_type": "execute_result"
    }
   ],
   "source": [
    "whoopHRdf = pd.concat([whoopHRdf, dfToadd[[\"hr\"]]])\n",
    "whoopHRdf"
   ]
  },
  {
   "cell_type": "code",
   "execution_count": 15,
   "metadata": {},
   "outputs": [
    {
     "name": "stdout",
     "output_type": "stream",
     "text": [
      "metrics (30).csv\n",
      "metrics (36).csv\n",
      "metrics (28).csv\n",
      "metrics (9).csv\n",
      "metrics (16).csv\n",
      "metrics (7).csv\n",
      "metrics (22).csv\n",
      "metrics (11).csv\n",
      "metrics (27).csv\n",
      "metrics (1).csv\n",
      "metrics (15).csv\n",
      "metrics (34).csv\n",
      "metrics (13).csv\n",
      "metrics (18).csv\n",
      "metrics (37).csv\n",
      "metrics (14).csv\n",
      "metrics (29).csv\n",
      "metrics (21).csv\n",
      "metrics (17).csv\n",
      "metrics (10).csv\n",
      "metrics (19).csv\n",
      "metrics (33).csv\n",
      "metrics (38).csv\n",
      "metrics (35).csv\n",
      "metrics (2).csv\n",
      "metrics (4).csv\n",
      "metrics (31).csv\n",
      "metrics (24).csv\n",
      "metrics (12).csv\n",
      "metrics (6).csv\n",
      "metrics (25).csv\n",
      "metrics (32).csv\n",
      "metrics.csv\n",
      "metrics (3).csv\n",
      "metrics (8).csv\n",
      "metrics (5).csv\n",
      "metrics (23).csv\n",
      "metrics (26).csv\n",
      "metrics (20).csv\n"
     ]
    }
   ],
   "source": [
    "\n",
    "\n",
    "for hrf in hrFilenames:\n",
    "    print(hrf)\n",
    "    dfToadd = pd.read_csv(path + \"/\" + hrf, parse_dates=[\"ts\"])\n",
    "    dfToadd = dfToadd.set_index(\"ts\")\n",
    "    whoopHRs = pd.concat([whoopHRs, dfToadd[\"hr\"]])\n",
    "\n"
   ]
  },
  {
   "cell_type": "code",
   "execution_count": 10,
   "metadata": {},
   "outputs": [
    {
     "data": {
      "text/plain": [
       "DatetimeIndex(['2023-11-23 00:00:00.750000+00:00',\n",
       "               '2023-11-23 00:01:01.312000+00:00',\n",
       "               '2023-11-23 00:02:01.874000+00:00',\n",
       "               '2023-11-23 00:03:02.436000+00:00',\n",
       "               '2023-11-23 00:04:02.999000+00:00',\n",
       "               '2023-11-23 00:05:03.561000+00:00',\n",
       "               '2023-11-23 00:06:04.123000+00:00',\n",
       "               '2023-11-23 00:07:04.685000+00:00',\n",
       "               '2023-11-23 00:08:05.248000+00:00',\n",
       "               '2023-11-23 00:09:05.810000+00:00',\n",
       "               ...\n",
       "               '2023-05-27 23:50:32.696000+00:00',\n",
       "               '2023-05-27 23:51:33.258000+00:00',\n",
       "               '2023-05-27 23:52:33.820000+00:00',\n",
       "               '2023-05-27 23:53:34.382000+00:00',\n",
       "               '2023-05-27 23:54:34.945000+00:00',\n",
       "               '2023-05-27 23:55:35.507000+00:00',\n",
       "               '2023-05-27 23:56:36.069000+00:00',\n",
       "               '2023-05-27 23:57:36.631000+00:00',\n",
       "               '2023-05-27 23:58:37.194000+00:00',\n",
       "               '2023-05-27 23:59:37.756000+00:00'],\n",
       "              dtype='datetime64[ns, UTC]', name='ts', length=1046488, freq=None)"
      ]
     },
     "execution_count": 10,
     "metadata": {},
     "output_type": "execute_result"
    }
   ],
   "source": [
    "whoopHRdf.index"
   ]
  },
  {
   "cell_type": "code",
   "execution_count": 11,
   "metadata": {},
   "outputs": [],
   "source": [
    "whoopHRdf = whoopHRdf[~whoopHRdf.index.duplicated(keep=\"first\")]"
   ]
  },
  {
   "cell_type": "code",
   "execution_count": 12,
   "metadata": {},
   "outputs": [
    {
     "data": {
      "text/html": [
       "<div>\n",
       "<style scoped>\n",
       "    .dataframe tbody tr th:only-of-type {\n",
       "        vertical-align: middle;\n",
       "    }\n",
       "\n",
       "    .dataframe tbody tr th {\n",
       "        vertical-align: top;\n",
       "    }\n",
       "\n",
       "    .dataframe thead th {\n",
       "        text-align: right;\n",
       "    }\n",
       "</style>\n",
       "<table border=\"1\" class=\"dataframe\">\n",
       "  <thead>\n",
       "    <tr style=\"text-align: right;\">\n",
       "      <th></th>\n",
       "      <th>0</th>\n",
       "      <th>hr</th>\n",
       "    </tr>\n",
       "    <tr>\n",
       "      <th>ts</th>\n",
       "      <th></th>\n",
       "      <th></th>\n",
       "    </tr>\n",
       "  </thead>\n",
       "  <tbody>\n",
       "    <tr>\n",
       "      <th>2023-11-23 00:00:00.750000+00:00</th>\n",
       "      <td>79.0</td>\n",
       "      <td>NaN</td>\n",
       "    </tr>\n",
       "    <tr>\n",
       "      <th>2023-11-23 00:01:01.312000+00:00</th>\n",
       "      <td>91.0</td>\n",
       "      <td>NaN</td>\n",
       "    </tr>\n",
       "    <tr>\n",
       "      <th>2023-11-23 00:02:01.874000+00:00</th>\n",
       "      <td>105.0</td>\n",
       "      <td>NaN</td>\n",
       "    </tr>\n",
       "    <tr>\n",
       "      <th>2023-11-23 00:03:02.436000+00:00</th>\n",
       "      <td>99.0</td>\n",
       "      <td>NaN</td>\n",
       "    </tr>\n",
       "    <tr>\n",
       "      <th>2023-11-23 00:04:02.999000+00:00</th>\n",
       "      <td>100.0</td>\n",
       "      <td>NaN</td>\n",
       "    </tr>\n",
       "    <tr>\n",
       "      <th>...</th>\n",
       "      <td>...</td>\n",
       "      <td>...</td>\n",
       "    </tr>\n",
       "    <tr>\n",
       "      <th>2023-05-27 23:55:35.507000+00:00</th>\n",
       "      <td>91.0</td>\n",
       "      <td>NaN</td>\n",
       "    </tr>\n",
       "    <tr>\n",
       "      <th>2023-05-27 23:56:36.069000+00:00</th>\n",
       "      <td>92.0</td>\n",
       "      <td>NaN</td>\n",
       "    </tr>\n",
       "    <tr>\n",
       "      <th>2023-05-27 23:57:36.631000+00:00</th>\n",
       "      <td>102.0</td>\n",
       "      <td>NaN</td>\n",
       "    </tr>\n",
       "    <tr>\n",
       "      <th>2023-05-27 23:58:37.194000+00:00</th>\n",
       "      <td>94.0</td>\n",
       "      <td>NaN</td>\n",
       "    </tr>\n",
       "    <tr>\n",
       "      <th>2023-05-27 23:59:37.756000+00:00</th>\n",
       "      <td>95.0</td>\n",
       "      <td>NaN</td>\n",
       "    </tr>\n",
       "  </tbody>\n",
       "</table>\n",
       "<p>1045319 rows × 2 columns</p>\n",
       "</div>"
      ],
      "text/plain": [
       "                                      0   hr\n",
       "ts                                          \n",
       "2023-11-23 00:00:00.750000+00:00   79.0  NaN\n",
       "2023-11-23 00:01:01.312000+00:00   91.0  NaN\n",
       "2023-11-23 00:02:01.874000+00:00  105.0  NaN\n",
       "2023-11-23 00:03:02.436000+00:00   99.0  NaN\n",
       "2023-11-23 00:04:02.999000+00:00  100.0  NaN\n",
       "...                                 ...  ...\n",
       "2023-05-27 23:55:35.507000+00:00   91.0  NaN\n",
       "2023-05-27 23:56:36.069000+00:00   92.0  NaN\n",
       "2023-05-27 23:57:36.631000+00:00  102.0  NaN\n",
       "2023-05-27 23:58:37.194000+00:00   94.0  NaN\n",
       "2023-05-27 23:59:37.756000+00:00   95.0  NaN\n",
       "\n",
       "[1045319 rows x 2 columns]"
      ]
     },
     "execution_count": 12,
     "metadata": {},
     "output_type": "execute_result"
    }
   ],
   "source": [
    "whoopHRdf[\"hr\"]"
   ]
  },
  {
   "cell_type": "code",
   "execution_count": 16,
   "metadata": {},
   "outputs": [
    {
     "data": {
      "text/plain": [
       "2023-11-23 00:00:00.750000+00:00     79\n",
       "2023-11-23 00:01:01.312000+00:00     91\n",
       "2023-11-23 00:02:01.874000+00:00    105\n",
       "2023-11-23 00:03:02.436000+00:00     99\n",
       "2023-11-23 00:04:02.999000+00:00    100\n",
       "                                   ... \n",
       "2023-05-27 23:55:35.507000+00:00     91\n",
       "2023-05-27 23:56:36.069000+00:00     92\n",
       "2023-05-27 23:57:36.631000+00:00    102\n",
       "2023-05-27 23:58:37.194000+00:00     94\n",
       "2023-05-27 23:59:37.756000+00:00     95\n",
       "Name: hr, Length: 1046488, dtype: int64"
      ]
     },
     "execution_count": 16,
     "metadata": {},
     "output_type": "execute_result"
    }
   ],
   "source": [
    "whoopHRs"
   ]
  },
  {
   "cell_type": "code",
   "execution_count": 18,
   "metadata": {},
   "outputs": [
    {
     "data": {
      "text/plain": [
       "2023-11-23 00:00:00.750000+00:00     79\n",
       "2023-11-23 00:01:01.312000+00:00     91\n",
       "2023-11-23 00:02:01.874000+00:00    105\n",
       "2023-11-23 00:03:02.436000+00:00     99\n",
       "2023-11-23 00:04:02.999000+00:00    100\n",
       "                                   ... \n",
       "2023-05-27 23:55:35.507000+00:00     91\n",
       "2023-05-27 23:56:36.069000+00:00     92\n",
       "2023-05-27 23:57:36.631000+00:00    102\n",
       "2023-05-27 23:58:37.194000+00:00     94\n",
       "2023-05-27 23:59:37.756000+00:00     95\n",
       "Name: hr, Length: 1045319, dtype: int64"
      ]
     },
     "execution_count": 18,
     "metadata": {},
     "output_type": "execute_result"
    }
   ],
   "source": [
    "whoopHRs = whoopHRs[~whoopHRs.index.duplicated(keep=\"first\")]\n",
    "whoopHRs"
   ]
  },
  {
   "cell_type": "code",
   "execution_count": 20,
   "metadata": {},
   "outputs": [],
   "source": [
    "whoopHRdf = pd.DataFrame(whoopHRs)"
   ]
  },
  {
   "cell_type": "code",
   "execution_count": 21,
   "metadata": {},
   "outputs": [],
   "source": [
    "whoopHRdf.to_parquet('whoopHRdf.parquet.gzip',\n",
    "              compression='gzip') "
   ]
  },
  {
   "cell_type": "code",
   "execution_count": 22,
   "metadata": {},
   "outputs": [],
   "source": [
    "whoopHRdf = pd.read_parquet('whoopHRdf.parquet.gzip') \n"
   ]
  },
  {
   "cell_type": "code",
   "execution_count": 105,
   "metadata": {},
   "outputs": [],
   "source": [
    "tss = whoopHRdf.ts.value_counts().iloc[0:1000]"
   ]
  },
  {
   "cell_type": "code",
   "execution_count": 71,
   "metadata": {},
   "outputs": [
    {
     "data": {
      "text/html": [
       "<div>\n",
       "<style scoped>\n",
       "    .dataframe tbody tr th:only-of-type {\n",
       "        vertical-align: middle;\n",
       "    }\n",
       "\n",
       "    .dataframe tbody tr th {\n",
       "        vertical-align: top;\n",
       "    }\n",
       "\n",
       "    .dataframe thead th {\n",
       "        text-align: right;\n",
       "    }\n",
       "</style>\n",
       "<table border=\"1\" class=\"dataframe\">\n",
       "  <thead>\n",
       "    <tr style=\"text-align: right;\">\n",
       "      <th></th>\n",
       "      <th>ts</th>\n",
       "      <th>hr</th>\n",
       "    </tr>\n",
       "  </thead>\n",
       "  <tbody>\n",
       "    <tr>\n",
       "      <th>0</th>\n",
       "      <td>2023-11-23 00:00:00.750000+00:00</td>\n",
       "      <td>79</td>\n",
       "    </tr>\n",
       "    <tr>\n",
       "      <th>1</th>\n",
       "      <td>2023-11-23 00:01:01.312000+00:00</td>\n",
       "      <td>91</td>\n",
       "    </tr>\n",
       "    <tr>\n",
       "      <th>2</th>\n",
       "      <td>2023-11-23 00:02:01.874000+00:00</td>\n",
       "      <td>105</td>\n",
       "    </tr>\n",
       "    <tr>\n",
       "      <th>3</th>\n",
       "      <td>2023-11-23 00:03:02.436000+00:00</td>\n",
       "      <td>99</td>\n",
       "    </tr>\n",
       "    <tr>\n",
       "      <th>4</th>\n",
       "      <td>2023-11-23 00:04:02.999000+00:00</td>\n",
       "      <td>100</td>\n",
       "    </tr>\n",
       "    <tr>\n",
       "      <th>...</th>\n",
       "      <td>...</td>\n",
       "      <td>...</td>\n",
       "    </tr>\n",
       "    <tr>\n",
       "      <th>26000</th>\n",
       "      <td>2023-05-27 23:55:35.507000+00:00</td>\n",
       "      <td>91</td>\n",
       "    </tr>\n",
       "    <tr>\n",
       "      <th>26001</th>\n",
       "      <td>2023-05-27 23:56:36.069000+00:00</td>\n",
       "      <td>92</td>\n",
       "    </tr>\n",
       "    <tr>\n",
       "      <th>26002</th>\n",
       "      <td>2023-05-27 23:57:36.631000+00:00</td>\n",
       "      <td>102</td>\n",
       "    </tr>\n",
       "    <tr>\n",
       "      <th>26003</th>\n",
       "      <td>2023-05-27 23:58:37.194000+00:00</td>\n",
       "      <td>94</td>\n",
       "    </tr>\n",
       "    <tr>\n",
       "      <th>26004</th>\n",
       "      <td>2023-05-27 23:59:37.756000+00:00</td>\n",
       "      <td>95</td>\n",
       "    </tr>\n",
       "  </tbody>\n",
       "</table>\n",
       "<p>1046488 rows × 2 columns</p>\n",
       "</div>"
      ],
      "text/plain": [
       "                                    ts   hr\n",
       "0     2023-11-23 00:00:00.750000+00:00   79\n",
       "1     2023-11-23 00:01:01.312000+00:00   91\n",
       "2     2023-11-23 00:02:01.874000+00:00  105\n",
       "3     2023-11-23 00:03:02.436000+00:00   99\n",
       "4     2023-11-23 00:04:02.999000+00:00  100\n",
       "...                                ...  ...\n",
       "26000 2023-05-27 23:55:35.507000+00:00   91\n",
       "26001 2023-05-27 23:56:36.069000+00:00   92\n",
       "26002 2023-05-27 23:57:36.631000+00:00  102\n",
       "26003 2023-05-27 23:58:37.194000+00:00   94\n",
       "26004 2023-05-27 23:59:37.756000+00:00   95\n",
       "\n",
       "[1046488 rows x 2 columns]"
      ]
     },
     "execution_count": 71,
     "metadata": {},
     "output_type": "execute_result"
    }
   ],
   "source": [
    "whoopHRdf"
   ]
  },
  {
   "cell_type": "code",
   "execution_count": null,
   "metadata": {},
   "outputs": [],
   "source": []
  }
 ],
 "metadata": {
  "kernelspec": {
   "display_name": "Python 3",
   "language": "python",
   "name": "python3"
  },
  "language_info": {
   "codemirror_mode": {
    "name": "ipython",
    "version": 3
   },
   "file_extension": ".py",
   "mimetype": "text/x-python",
   "name": "python",
   "nbconvert_exporter": "python",
   "pygments_lexer": "ipython3",
   "version": "3.8.10"
  }
 },
 "nbformat": 4,
 "nbformat_minor": 2
}
