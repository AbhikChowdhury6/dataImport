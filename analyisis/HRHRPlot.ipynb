{
 "cells": [
  {
   "cell_type": "code",
   "execution_count": null,
   "metadata": {},
   "outputs": [],
   "source": [
    "# first I'll clac intersecting groups, then for all the groups I'll make the HR-HR plot"
   ]
  },
  {
   "cell_type": "code",
   "execution_count": 11,
   "metadata": {},
   "outputs": [],
   "source": [
    "import os\n",
    "import sys\n",
    "def getRepoPath():\n",
    "    cwd = os.getcwd()\n",
    "    delimiter = \"\\\\\" if \"\\\\\" in cwd else \"/\"\n",
    "    repoPath = delimiter.join(cwd.split(delimiter)[:cwd.split(delimiter).index(\"dataImport\")]) + delimiter\n",
    "    return repoPath\n",
    "repoPath = getRepoPath()\n",
    "sys.path.append(repoPath + 'dataImport/')\n",
    "from utils import workingDataPath, getWorkingHRDfParquet, getHRGroups, calcIntersectionOfMultipleGroups, getHRsForTimePeriods, graphMultiHRDate\n",
    "import pandas as pd\n"
   ]
  },
  {
   "cell_type": "code",
   "execution_count": null,
   "metadata": {},
   "outputs": [],
   "source": [
    "appleHRDf = getWorkingHRDfParquet('apple')\n",
    "polarHRDf = getWorkingHRDfParquet('polar')\n",
    "fitbitHRDf = getWorkingHRDfParquet('fitbit')"
   ]
  },
  {
   "cell_type": "code",
   "execution_count": 3,
   "metadata": {},
   "outputs": [
    {
     "name": "stdout",
     "output_type": "stream",
     "text": [
      "3134\n",
      "3134\n",
      "3134\n"
     ]
    }
   ],
   "source": [
    "#let's look at times that have samples 10 seconds or less apart\n",
    "appleGroups = getHRGroups(appleHRDf, 10)\n",
    "print(len(appleGroups))\n",
    "polarGroups = getHRGroups(polarHRDf, 10)\n",
    "print(len(polarGroups))\n",
    "#fitbit takes like a minute to process\n",
    "fitbitGroups = getHRGroups(fitbitHRDf, 10)\n",
    "print(len(fitbitGroups))"
   ]
  },
  {
   "cell_type": "code",
   "execution_count": 14,
   "metadata": {},
   "outputs": [],
   "source": [
    "intersectingGroups = pd.DataFrame(calcIntersectionOfMultipleGroups([polarGroups, fitbitGroups]), columns = ['startDate', 'endDate'])"
   ]
  },
  {
   "cell_type": "code",
   "execution_count": 15,
   "metadata": {},
   "outputs": [],
   "source": [
    "intersectingFitbitHRs = getHRsForTimePeriods(intersectingGroups, fitbitHRDf)\n",
    "intersectingPolarHRs = getHRsForTimePeriods(intersectingGroups, polarHRDf)"
   ]
  },
  {
   "cell_type": "code",
   "execution_count": 17,
   "metadata": {},
   "outputs": [
    {
     "data": {
      "text/plain": [
       "[datetime.date(2020, 5, 26),\n",
       " datetime.date(2020, 5, 27),\n",
       " datetime.date(2020, 5, 28),\n",
       " datetime.date(2024, 7, 18),\n",
       " datetime.date(2024, 7, 30),\n",
       " datetime.date(2024, 8, 7),\n",
       " datetime.date(2024, 8, 20),\n",
       " datetime.date(2024, 8, 21),\n",
       " datetime.date(2024, 8, 24)]"
      ]
     },
     "execution_count": 17,
     "metadata": {},
     "output_type": "execute_result"
    }
   ],
   "source": [
    "sorted(list(set(intersectingFitbitHRs.index.date)))"
   ]
  },
  {
   "cell_type": "code",
   "execution_count": null,
   "metadata": {},
   "outputs": [],
   "source": []
  }
 ],
 "metadata": {
  "kernelspec": {
   "display_name": "Python 3",
   "language": "python",
   "name": "python3"
  },
  "language_info": {
   "codemirror_mode": {
    "name": "ipython",
    "version": 3
   },
   "file_extension": ".py",
   "mimetype": "text/x-python",
   "name": "python",
   "nbconvert_exporter": "python",
   "pygments_lexer": "ipython3",
   "version": "3.8.10"
  }
 },
 "nbformat": 4,
 "nbformat_minor": 2
}
