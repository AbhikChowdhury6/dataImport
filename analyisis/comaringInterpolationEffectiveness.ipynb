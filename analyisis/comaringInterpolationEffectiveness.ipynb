{
 "cells": [
  {
   "cell_type": "code",
   "execution_count": 1,
   "metadata": {},
   "outputs": [],
   "source": [
    "import os\n",
    "import sys\n",
    "def getRepoPath():\n",
    "    cwd = os.getcwd()\n",
    "    delimiter = \"\\\\\" if \"\\\\\" in cwd else \"/\"\n",
    "    repoPath = delimiter.join(cwd.split(delimiter)[:cwd.split(delimiter).index(\"dataImport\")]) + delimiter\n",
    "    return repoPath\n",
    "repoPath = getRepoPath()\n",
    "sys.path.append(repoPath + 'dataImport/')\n",
    "from utils import workingDataPath, getWorkingHRDfParquet, getHRGroups, calcIntersectionOfMultipleGroups, getHRsForTimePeriods, graphMultiHRDate, graphHypnoandHRDate\n",
    "import pandas as pd\n",
    "from datetime import date, time, timedelta"
   ]
  },
  {
   "cell_type": "code",
   "execution_count": 2,
   "metadata": {},
   "outputs": [
    {
     "name": "stdout",
     "output_type": "stream",
     "text": [
      "567895\n",
      "1903183\n",
      "16052785\n"
     ]
    }
   ],
   "source": [
    "appleHRDf = getWorkingHRDfParquet('apple')\n",
    "print(len(appleHRDf))\n",
    "polarHRDf = getWorkingHRDfParquet('polar')\n",
    "print(len(polarHRDf))\n",
    "fitbitHRDf = getWorkingHRDfParquet('fitbit')\n",
    "print(len(fitbitHRDf))"
   ]
  },
  {
   "cell_type": "code",
   "execution_count": 3,
   "metadata": {},
   "outputs": [
    {
     "name": "stdout",
     "output_type": "stream",
     "text": [
      "650\n",
      "82\n",
      "28616\n"
     ]
    }
   ],
   "source": [
    "# takes 15 sec to run\n",
    "#let's look at times that have samples 15 seconds or less apart\n",
    "appleGroups = getHRGroups(appleHRDf, 15)\n",
    "print(len(appleGroups))\n",
    "polarGroups = getHRGroups(polarHRDf, 15)\n",
    "print(len(polarGroups))\n",
    "fitbitGroups = getHRGroups(fitbitHRDf, 15)\n",
    "print(len(fitbitGroups))"
   ]
  },
  {
   "cell_type": "code",
   "execution_count": 4,
   "metadata": {},
   "outputs": [
    {
     "name": "stdout",
     "output_type": "stream",
     "text": [
      "653\n",
      "80\n",
      "244\n",
      "132\n"
     ]
    }
   ],
   "source": [
    "apple_fitbit_intersections = calcIntersectionOfMultipleGroups([appleGroups, fitbitGroups])\n",
    "print(len(apple_fitbit_intersections))\n",
    "apple_polar_intersections = calcIntersectionOfMultipleGroups([appleGroups, polarGroups])\n",
    "print(len(apple_polar_intersections))\n",
    "fitbit_polar_intersections = calcIntersectionOfMultipleGroups([polarGroups, fitbitGroups])\n",
    "print(len(fitbit_polar_intersections))\n",
    "all_intersections = calcIntersectionOfMultipleGroups([appleGroups, fitbitGroups, polarGroups])\n",
    "print(len(all_intersections))"
   ]
  },
  {
   "cell_type": "code",
   "execution_count": 20,
   "metadata": {},
   "outputs": [],
   "source": [
    "def squaredDiffForTwoGroupsNoInterpolation(intersectingGroups, HRDf1, HRDf2):\n",
    "    intersectingGroupsDf =  pd.DataFrame(intersectingGroups, columns = ['startDate', 'endDate'])\n",
    "    HRs1 = getHRsForTimePeriods(intersectingGroupsDf, HRDf1)\n",
    "    HRs2 = getHRsForTimePeriods(intersectingGroupsDf, HRDf2)\n",
    "    print(f\"number of samples in each group {len(HRs1)} {len(HRs2)}\")\n",
    "\n",
    "    #for now lets just calc intersections with the same index using the join function\n",
    "    intersectingHRs = HRs1.join(HRs2, how='inner', lsuffix=\"_1\", rsuffix=\"_2\")\n",
    "    print(f\"number of samples in common {len(intersectingHRs)}\")\n",
    "    squaredDiff = ((intersectingHRs['value_1'] - intersectingHRs['value_2']) ** 2).sum()\n",
    "    print(f\"total Squared Difference: {squaredDiff}\")\n",
    "    return squaredDiff/len(intersectingHRs)\n"
   ]
  },
  {
   "cell_type": "code",
   "execution_count": 21,
   "metadata": {},
   "outputs": [
    {
     "name": "stdout",
     "output_type": "stream",
     "text": [
      "bumber of samples in each group 234030 173203\n",
      "number of samples in common 33861\n",
      "total Squared Difference: 5114113.0\n",
      "151.03254481556954\n",
      "bumber of samples in each group 99389 496848\n",
      "number of samples in common 99355\n",
      "total Squared Difference: 4511979.0\n",
      "45.41270192743194\n",
      "bumber of samples in each group 1464704 200121\n",
      "number of samples in common 200047\n",
      "total Squared Difference: 38348586\n",
      "191.69788099796548\n"
     ]
    }
   ],
   "source": [
    "print(squaredDiffForTwoGroupsNoInterpolation(apple_fitbit_intersections, appleHRDf, fitbitHRDf))\n",
    "print(squaredDiffForTwoGroupsNoInterpolation(apple_polar_intersections, appleHRDf, polarHRDf))\n",
    "print(squaredDiffForTwoGroupsNoInterpolation(fitbit_polar_intersections, polarHRDf, fitbitHRDf))"
   ]
  },
  {
   "cell_type": "code",
   "execution_count": 24,
   "metadata": {},
   "outputs": [],
   "source": [
    "def squaredDiffForTwoGroupsInterpolation(intersectingGroups, HRDf1, HRDf2, interpolationType):\n",
    "    intersectingGroupsDf =  pd.DataFrame(intersectingGroups, columns = ['startDate', 'endDate'])\n",
    "    HRs1 = getHRsForTimePeriods(intersectingGroupsDf, HRDf1)\n",
    "    HRs2 = getHRsForTimePeriods(intersectingGroupsDf, HRDf2)\n",
    "\n",
    "    HRs1Interp = HRs1.resample('1s').asfreq().interpolate(method=interpolationType)\n",
    "    HRs2Interp = HRs2.resample('1s').asfreq().interpolate(method=interpolationType)\n",
    "    print(f\"number of samples in each group {len(HRs1Interp)} {len(HRs2Interp)}\")\n",
    "\n",
    "    #for now lets just calc intersections with the same index using the join function\n",
    "    intersectingHRs = HRs1Interp.join(HRs2Interp, how='inner', lsuffix=\"_1\", rsuffix=\"_2\")\n",
    "    print(f\"number of samples in common {len(intersectingHRs)}\")\n",
    "    squaredDiff = ((intersectingHRs['value_1'] - intersectingHRs['value_2']) ** 2).sum()\n",
    "    print(f\"total Squared Difference: {squaredDiff}\")\n",
    "    return squaredDiff/len(intersectingHRs)"
   ]
  },
  {
   "cell_type": "code",
   "execution_count": 25,
   "metadata": {},
   "outputs": [
    {
     "name": "stdout",
     "output_type": "stream",
     "text": [
      "number of samples in each group 99791385 99791387\n",
      "number of samples in common 99791382\n",
      "total Squared Difference: 20060817492.214104\n",
      "201.02755458596718\n",
      "number of samples in each group 16552143 16552146\n",
      "number of samples in common 16552143\n",
      "total Squared Difference: 29094777873.89336\n",
      "1757.7650141068357\n",
      "number of samples in each group 136078706 136078705\n",
      "number of samples in common 136078705\n",
      "total Squared Difference: 12100593495.23862\n",
      "88.92349096971948\n"
     ]
    }
   ],
   "source": [
    "print(squaredDiffForTwoGroupsInterpolation(apple_fitbit_intersections, appleHRDf, fitbitHRDf, 'linear'))\n",
    "print(squaredDiffForTwoGroupsInterpolation(apple_polar_intersections, appleHRDf, polarHRDf, 'linear'))\n",
    "print(squaredDiffForTwoGroupsInterpolation(fitbit_polar_intersections, polarHRDf, fitbitHRDf, 'linear'))"
   ]
  },
  {
   "cell_type": "code",
   "execution_count": 26,
   "metadata": {},
   "outputs": [
    {
     "name": "stdout",
     "output_type": "stream",
     "text": [
      "number of samples in each group 99791385 99791387\n",
      "number of samples in common 99791382\n",
      "total Squared Difference: 28949200733.0\n",
      "290.09720231151823\n",
      "number of samples in each group 16552143 16552146\n",
      "number of samples in common 16552143\n",
      "total Squared Difference: 41167550203.0\n",
      "2487.1432178298605\n",
      "number of samples in each group 136078706 136078705\n",
      "number of samples in common 136078705\n",
      "total Squared Difference: 20663212488.0\n",
      "151.84750977752176\n"
     ]
    }
   ],
   "source": [
    "print(squaredDiffForTwoGroupsInterpolation(apple_fitbit_intersections, appleHRDf, fitbitHRDf, 'nearest'))\n",
    "print(squaredDiffForTwoGroupsInterpolation(apple_polar_intersections, appleHRDf, polarHRDf, 'nearest'))\n",
    "print(squaredDiffForTwoGroupsInterpolation(fitbit_polar_intersections, polarHRDf, fitbitHRDf, 'nearest'))"
   ]
  },
  {
   "cell_type": "code",
   "execution_count": 27,
   "metadata": {},
   "outputs": [
    {
     "name": "stdout",
     "output_type": "stream",
     "text": [
      "number of samples in each group 99791385 99791387\n",
      "number of samples in common 99791382\n",
      "total Squared Difference: 9844806817.0\n",
      "98.65387791703296\n",
      "number of samples in each group 16552143 16552146\n",
      "number of samples in common 16552143\n",
      "total Squared Difference: 18206414856.0\n",
      "1099.9430621158842\n",
      "number of samples in each group 136078706 136078705\n",
      "number of samples in common 136078705\n",
      "total Squared Difference: 34350305819.0\n",
      "252.4296936761707\n"
     ]
    }
   ],
   "source": [
    "print(squaredDiffForTwoGroupsInterpolation(apple_fitbit_intersections, appleHRDf, fitbitHRDf, 'zero'))\n",
    "print(squaredDiffForTwoGroupsInterpolation(apple_polar_intersections, appleHRDf, polarHRDf, 'zero'))\n",
    "print(squaredDiffForTwoGroupsInterpolation(fitbit_polar_intersections, polarHRDf, fitbitHRDf, 'zero'))"
   ]
  },
  {
   "cell_type": "code",
   "execution_count": 29,
   "metadata": {},
   "outputs": [
    {
     "name": "stderr",
     "output_type": "stream",
     "text": [
      "C:\\Users\\abhik\\AppData\\Local\\Temp\\ipykernel_8028\\4131151390.py:6: FutureWarning: DataFrame.interpolate with method=pad is deprecated and will raise in a future version. Use obj.ffill() or obj.bfill() instead.\n",
      "  HRs1Interp = HRs1.resample('1s').asfreq().interpolate(method=interpolationType)\n",
      "C:\\Users\\abhik\\AppData\\Local\\Temp\\ipykernel_8028\\4131151390.py:7: FutureWarning: DataFrame.interpolate with method=pad is deprecated and will raise in a future version. Use obj.ffill() or obj.bfill() instead.\n",
      "  HRs2Interp = HRs2.resample('1s').asfreq().interpolate(method=interpolationType)\n"
     ]
    },
    {
     "name": "stdout",
     "output_type": "stream",
     "text": [
      "number of samples in each group 99791385 99791387\n",
      "number of samples in common 99791382\n",
      "total Squared Difference: 9844806817.0\n",
      "98.65387791703296\n"
     ]
    },
    {
     "name": "stderr",
     "output_type": "stream",
     "text": [
      "C:\\Users\\abhik\\AppData\\Local\\Temp\\ipykernel_8028\\4131151390.py:6: FutureWarning: DataFrame.interpolate with method=pad is deprecated and will raise in a future version. Use obj.ffill() or obj.bfill() instead.\n",
      "  HRs1Interp = HRs1.resample('1s').asfreq().interpolate(method=interpolationType)\n",
      "C:\\Users\\abhik\\AppData\\Local\\Temp\\ipykernel_8028\\4131151390.py:7: FutureWarning: DataFrame.interpolate with method=pad is deprecated and will raise in a future version. Use obj.ffill() or obj.bfill() instead.\n",
      "  HRs2Interp = HRs2.resample('1s').asfreq().interpolate(method=interpolationType)\n"
     ]
    },
    {
     "name": "stdout",
     "output_type": "stream",
     "text": [
      "number of samples in each group 16552143 16552146\n",
      "number of samples in common 16552143\n",
      "total Squared Difference: 18206414856.0\n",
      "1099.9430621158842\n"
     ]
    },
    {
     "name": "stderr",
     "output_type": "stream",
     "text": [
      "C:\\Users\\abhik\\AppData\\Local\\Temp\\ipykernel_8028\\4131151390.py:6: FutureWarning: DataFrame.interpolate with method=pad is deprecated and will raise in a future version. Use obj.ffill() or obj.bfill() instead.\n",
      "  HRs1Interp = HRs1.resample('1s').asfreq().interpolate(method=interpolationType)\n",
      "C:\\Users\\abhik\\AppData\\Local\\Temp\\ipykernel_8028\\4131151390.py:7: FutureWarning: DataFrame.interpolate with method=pad is deprecated and will raise in a future version. Use obj.ffill() or obj.bfill() instead.\n",
      "  HRs2Interp = HRs2.resample('1s').asfreq().interpolate(method=interpolationType)\n"
     ]
    },
    {
     "name": "stdout",
     "output_type": "stream",
     "text": [
      "number of samples in each group 136078706 136078705\n",
      "number of samples in common 136078705\n",
      "total Squared Difference: 34350305819.0\n",
      "252.4296936761707\n"
     ]
    }
   ],
   "source": [
    "print(squaredDiffForTwoGroupsInterpolation(apple_fitbit_intersections, appleHRDf, fitbitHRDf, 'pad'))\n",
    "print(squaredDiffForTwoGroupsInterpolation(apple_polar_intersections, appleHRDf, polarHRDf, 'pad'))\n",
    "print(squaredDiffForTwoGroupsInterpolation(fitbit_polar_intersections, polarHRDf, fitbitHRDf, 'pad'))"
   ]
  },
  {
   "cell_type": "code",
   "execution_count": 30,
   "metadata": {},
   "outputs": [
    {
     "name": "stderr",
     "output_type": "stream",
     "text": [
      "C:\\Users\\abhik\\AppData\\Local\\Temp\\ipykernel_8028\\4131151390.py:6: FutureWarning: DataFrame.interpolate with method=bfill is deprecated and will raise in a future version. Use obj.ffill() or obj.bfill() instead.\n",
      "  HRs1Interp = HRs1.resample('1s').asfreq().interpolate(method=interpolationType)\n",
      "C:\\Users\\abhik\\AppData\\Local\\Temp\\ipykernel_8028\\4131151390.py:7: FutureWarning: DataFrame.interpolate with method=bfill is deprecated and will raise in a future version. Use obj.ffill() or obj.bfill() instead.\n",
      "  HRs2Interp = HRs2.resample('1s').asfreq().interpolate(method=interpolationType)\n"
     ]
    },
    {
     "name": "stdout",
     "output_type": "stream",
     "text": [
      "number of samples in each group 99791385 99791387\n",
      "number of samples in common 99791382\n",
      "total Squared Difference: 48054411326.0\n",
      "481.5487105489731\n"
     ]
    },
    {
     "name": "stderr",
     "output_type": "stream",
     "text": [
      "C:\\Users\\abhik\\AppData\\Local\\Temp\\ipykernel_8028\\4131151390.py:6: FutureWarning: DataFrame.interpolate with method=bfill is deprecated and will raise in a future version. Use obj.ffill() or obj.bfill() instead.\n",
      "  HRs1Interp = HRs1.resample('1s').asfreq().interpolate(method=interpolationType)\n",
      "C:\\Users\\abhik\\AppData\\Local\\Temp\\ipykernel_8028\\4131151390.py:7: FutureWarning: DataFrame.interpolate with method=bfill is deprecated and will raise in a future version. Use obj.ffill() or obj.bfill() instead.\n",
      "  HRs2Interp = HRs2.resample('1s').asfreq().interpolate(method=interpolationType)\n"
     ]
    },
    {
     "name": "stdout",
     "output_type": "stream",
     "text": [
      "number of samples in each group 16552143 16552146\n",
      "number of samples in common 16552143\n",
      "total Squared Difference: 64131147029.0\n",
      "3874.4920841367793\n"
     ]
    },
    {
     "name": "stderr",
     "output_type": "stream",
     "text": [
      "C:\\Users\\abhik\\AppData\\Local\\Temp\\ipykernel_8028\\4131151390.py:6: FutureWarning: DataFrame.interpolate with method=bfill is deprecated and will raise in a future version. Use obj.ffill() or obj.bfill() instead.\n",
      "  HRs1Interp = HRs1.resample('1s').asfreq().interpolate(method=interpolationType)\n",
      "C:\\Users\\abhik\\AppData\\Local\\Temp\\ipykernel_8028\\4131151390.py:7: FutureWarning: DataFrame.interpolate with method=bfill is deprecated and will raise in a future version. Use obj.ffill() or obj.bfill() instead.\n",
      "  HRs2Interp = HRs2.resample('1s').asfreq().interpolate(method=interpolationType)\n"
     ]
    },
    {
     "name": "stdout",
     "output_type": "stream",
     "text": [
      "number of samples in each group 136078706 136078705\n",
      "number of samples in common 136078705\n",
      "total Squared Difference: 6977206943.0\n",
      "51.273319679225345\n"
     ]
    }
   ],
   "source": [
    "print(squaredDiffForTwoGroupsInterpolation(apple_fitbit_intersections, appleHRDf, fitbitHRDf, 'bfill'))\n",
    "print(squaredDiffForTwoGroupsInterpolation(apple_polar_intersections, appleHRDf, polarHRDf, 'bfill'))\n",
    "print(squaredDiffForTwoGroupsInterpolation(fitbit_polar_intersections, polarHRDf, fitbitHRDf, 'bfill'))"
   ]
  },
  {
   "cell_type": "code",
   "execution_count": null,
   "metadata": {},
   "outputs": [],
   "source": []
  }
 ],
 "metadata": {
  "kernelspec": {
   "display_name": "base",
   "language": "python",
   "name": "python3"
  },
  "language_info": {
   "codemirror_mode": {
    "name": "ipython",
    "version": 3
   },
   "file_extension": ".py",
   "mimetype": "text/x-python",
   "name": "python",
   "nbconvert_exporter": "python",
   "pygments_lexer": "ipython3",
   "version": "3.12.4"
  }
 },
 "nbformat": 4,
 "nbformat_minor": 2
}
