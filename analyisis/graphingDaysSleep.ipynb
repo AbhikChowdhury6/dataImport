{
 "cells": [
  {
   "cell_type": "code",
   "execution_count": null,
   "metadata": {},
   "outputs": [],
   "source": [
    "# intakes a date\n",
    "# groups segments of data?\n",
    "# nahhh I think that displaying standard intervals into the prvious day and the next day sounds handy\n",
    "# I never wake up after noon I think although this would be fun to check\n",
    "# ngl noon to noon would give some pretty good context I think and then overlaying multiple days gets easier\n",
    "# also this inital funtion will just graph one devices hypnograph\n",
    "\n",
    "\n",
    "# testing with apple sleep"
   ]
  },
  {
   "cell_type": "code",
   "execution_count": 1,
   "metadata": {},
   "outputs": [
    {
     "data": {
      "text/html": [
       "<div>\n",
       "<style scoped>\n",
       "    .dataframe tbody tr th:only-of-type {\n",
       "        vertical-align: middle;\n",
       "    }\n",
       "\n",
       "    .dataframe tbody tr th {\n",
       "        vertical-align: top;\n",
       "    }\n",
       "\n",
       "    .dataframe thead th {\n",
       "        text-align: right;\n",
       "    }\n",
       "</style>\n",
       "<table border=\"1\" class=\"dataframe\">\n",
       "  <thead>\n",
       "    <tr style=\"text-align: right;\">\n",
       "      <th></th>\n",
       "      <th>endDate</th>\n",
       "      <th>value</th>\n",
       "      <th>startDate</th>\n",
       "    </tr>\n",
       "    <tr>\n",
       "      <th>startDate</th>\n",
       "      <th></th>\n",
       "      <th></th>\n",
       "      <th></th>\n",
       "    </tr>\n",
       "  </thead>\n",
       "  <tbody>\n",
       "    <tr>\n",
       "      <th>2022-10-01 00:42:59-07:00</th>\n",
       "      <td>2022-10-01 01:13:59-07:00</td>\n",
       "      <td>1</td>\n",
       "      <td>2022-10-01 00:42:59-07:00</td>\n",
       "    </tr>\n",
       "    <tr>\n",
       "      <th>2022-10-01 01:13:59-07:00</th>\n",
       "      <td>2022-10-01 01:29:59-07:00</td>\n",
       "      <td>2</td>\n",
       "      <td>2022-10-01 01:13:59-07:00</td>\n",
       "    </tr>\n",
       "    <tr>\n",
       "      <th>2022-10-01 01:29:59-07:00</th>\n",
       "      <td>2022-10-01 01:30:29-07:00</td>\n",
       "      <td>0</td>\n",
       "      <td>2022-10-01 01:29:59-07:00</td>\n",
       "    </tr>\n",
       "    <tr>\n",
       "      <th>2022-10-01 01:30:29-07:00</th>\n",
       "      <td>2022-10-01 01:43:29-07:00</td>\n",
       "      <td>1</td>\n",
       "      <td>2022-10-01 01:30:29-07:00</td>\n",
       "    </tr>\n",
       "    <tr>\n",
       "      <th>2022-10-01 01:43:29-07:00</th>\n",
       "      <td>2022-10-01 01:50:59-07:00</td>\n",
       "      <td>3</td>\n",
       "      <td>2022-10-01 01:43:29-07:00</td>\n",
       "    </tr>\n",
       "    <tr>\n",
       "      <th>...</th>\n",
       "      <td>...</td>\n",
       "      <td>...</td>\n",
       "      <td>...</td>\n",
       "    </tr>\n",
       "    <tr>\n",
       "      <th>2024-07-16 07:14:28-07:00</th>\n",
       "      <td>2024-07-16 07:14:58-07:00</td>\n",
       "      <td>0</td>\n",
       "      <td>2024-07-16 07:14:28-07:00</td>\n",
       "    </tr>\n",
       "    <tr>\n",
       "      <th>2024-07-16 07:14:58-07:00</th>\n",
       "      <td>2024-07-16 07:34:58-07:00</td>\n",
       "      <td>1</td>\n",
       "      <td>2024-07-16 07:14:58-07:00</td>\n",
       "    </tr>\n",
       "    <tr>\n",
       "      <th>2024-07-16 07:34:58-07:00</th>\n",
       "      <td>2024-07-16 07:36:28-07:00</td>\n",
       "      <td>0</td>\n",
       "      <td>2024-07-16 07:34:58-07:00</td>\n",
       "    </tr>\n",
       "    <tr>\n",
       "      <th>2024-07-16 07:36:28-07:00</th>\n",
       "      <td>2024-07-16 07:44:58-07:00</td>\n",
       "      <td>1</td>\n",
       "      <td>2024-07-16 07:36:28-07:00</td>\n",
       "    </tr>\n",
       "    <tr>\n",
       "      <th>2024-07-16 07:44:58-07:00</th>\n",
       "      <td>2024-07-16 07:46:28-07:00</td>\n",
       "      <td>0</td>\n",
       "      <td>2024-07-16 07:44:58-07:00</td>\n",
       "    </tr>\n",
       "  </tbody>\n",
       "</table>\n",
       "<p>17571 rows × 3 columns</p>\n",
       "</div>"
      ],
      "text/plain": [
       "                                            endDate  value  \\\n",
       "startDate                                                    \n",
       "2022-10-01 00:42:59-07:00 2022-10-01 01:13:59-07:00      1   \n",
       "2022-10-01 01:13:59-07:00 2022-10-01 01:29:59-07:00      2   \n",
       "2022-10-01 01:29:59-07:00 2022-10-01 01:30:29-07:00      0   \n",
       "2022-10-01 01:30:29-07:00 2022-10-01 01:43:29-07:00      1   \n",
       "2022-10-01 01:43:29-07:00 2022-10-01 01:50:59-07:00      3   \n",
       "...                                             ...    ...   \n",
       "2024-07-16 07:14:28-07:00 2024-07-16 07:14:58-07:00      0   \n",
       "2024-07-16 07:14:58-07:00 2024-07-16 07:34:58-07:00      1   \n",
       "2024-07-16 07:34:58-07:00 2024-07-16 07:36:28-07:00      0   \n",
       "2024-07-16 07:36:28-07:00 2024-07-16 07:44:58-07:00      1   \n",
       "2024-07-16 07:44:58-07:00 2024-07-16 07:46:28-07:00      0   \n",
       "\n",
       "                                          startDate  \n",
       "startDate                                            \n",
       "2022-10-01 00:42:59-07:00 2022-10-01 00:42:59-07:00  \n",
       "2022-10-01 01:13:59-07:00 2022-10-01 01:13:59-07:00  \n",
       "2022-10-01 01:29:59-07:00 2022-10-01 01:29:59-07:00  \n",
       "2022-10-01 01:30:29-07:00 2022-10-01 01:30:29-07:00  \n",
       "2022-10-01 01:43:29-07:00 2022-10-01 01:43:29-07:00  \n",
       "...                                             ...  \n",
       "2024-07-16 07:14:28-07:00 2024-07-16 07:14:28-07:00  \n",
       "2024-07-16 07:14:58-07:00 2024-07-16 07:14:58-07:00  \n",
       "2024-07-16 07:34:58-07:00 2024-07-16 07:34:58-07:00  \n",
       "2024-07-16 07:36:28-07:00 2024-07-16 07:36:28-07:00  \n",
       "2024-07-16 07:44:58-07:00 2024-07-16 07:44:58-07:00  \n",
       "\n",
       "[17571 rows x 3 columns]"
      ]
     },
     "execution_count": 1,
     "metadata": {},
     "output_type": "execute_result"
    }
   ],
   "source": [
    "import os\n",
    "import sys\n",
    "def getRepoPath():\n",
    "    cwd = os.getcwd()\n",
    "    delimiter = \"\\\\\" if \"\\\\\" in cwd else \"/\"\n",
    "    repoPath = delimiter.join(cwd.split(delimiter)[:cwd.split(delimiter).index(\"dataImport\")]) + delimiter\n",
    "    return repoPath\n",
    "repoPath = getRepoPath()\n",
    "sys.path.append(repoPath + 'dataImport/')\n",
    "from utils import workingDataPath, getWorkingHypnoDfParquet, regroupHypno\n",
    "import pandas as pd\n",
    "\n",
    "appleHypnoDF = getWorkingHypnoDfParquet(\"apple\").drop([\"creationDate\", \"sourceVersion\"], axis=1)\n",
    "appleHypnoDF['startDate'] = appleHypnoDF.index\n",
    "appleHypnoDF"
   ]
  },
  {
   "cell_type": "code",
   "execution_count": 44,
   "metadata": {},
   "outputs": [],
   "source": [
    "from datetime import datetime, date, time, timedelta\n",
    "import pytz\n",
    "import matplotlib.pyplot as plt\n",
    "def graphHypnoDate(hypnoDf, forDate, deviceName, cutOffTime = time(12,0,0), timezone = 'US/Arizona'):\n",
    "    graphTimeStart = pytz.timezone(timezone).localize(datetime.combine(forDate, cutOffTime))\n",
    "    graphTimeEnd = graphTimeStart + timedelta(days=1)\n",
    "    hypnoDfForDay = hypnoDf[(hypnoDf['startDate'] < graphTimeEnd) &\n",
    "                            (hypnoDf['endDate'] > graphTimeStart)]\n",
    "\n",
    "    print(hypnoDfForDay['startDate'].iloc[0])\n",
    "    values = []\n",
    "    times = []\n",
    "    for rowIndex in range(len(hypnoDfForDay)):\n",
    "        times.append(hypnoDfForDay.iloc[rowIndex]['startDate'])\n",
    "        values.append(hypnoDfForDay.iloc[rowIndex]['value'])\n",
    "        times.append(hypnoDfForDay.iloc[rowIndex]['endDate'])\n",
    "        values.append(hypnoDfForDay.iloc[rowIndex]['value'])\n",
    "\n",
    "\n",
    "\n",
    "    fig, ax = plt.subplots(figsize=(16.0, 4.0))\n",
    "\n",
    "    plt.gca().set_title(\"Sleep Stages for \" + deviceName + \" for \" + str(forDate))\n",
    "    plt.gca().set_ylim([-1.3,3.3])\n",
    "    plt.gca().set_xlim([graphTimeStart, graphTimeEnd])\n",
    "    plt.gca().xaxis.set_major_formatter(plt.matplotlib.dates.DateFormatter('%H:%M'))\n",
    "\n",
    "\n",
    "    legend1 = ax.plot(times, values, label=deviceName, alpha=1, linewidth=1)\n",
    "\n",
    "\n",
    "    legend2 = [\n",
    "        ax.axhline(y = -1, color = 'k', linestyle = ':', linewidth=.7, label = \"No Data\"),\n",
    "        ax.axhline(y = 0, color = 'c', linestyle = ':', linewidth=.7, label = \"Awake\"),\n",
    "        ax.axhline(y = 1, color = 'm', linestyle = ':', linewidth=.7, label = \"Light\"),\n",
    "        ax.axhline(y = 2, color = 'r', linestyle = ':', linewidth=.7, label = \"Deep\"),\n",
    "        ax.axhline(y = 3, color = 'b', linestyle = ':', linewidth=.7, label = \"REM\") \n",
    "    ]\n",
    "\n",
    "    legendToAdd = ax.legend(loc=\"upper left\", handles=legend1)\n",
    "    plt.legend(loc=\"upper right\", handles=legend2[::-1])\n",
    "\n",
    "    ax.add_artist(legendToAdd)\n",
    "    plt.ylabel(\"Sleep Stage\")\n",
    "    plt.xlabel(\"Time\")\n",
    "    plt.show()"
   ]
  },
  {
   "cell_type": "code",
   "execution_count": 45,
   "metadata": {},
   "outputs": [
    {
     "name": "stdout",
     "output_type": "stream",
     "text": [
      "538\n"
     ]
    },
    {
     "data": {
      "text/plain": [
       "array([datetime.date(2022, 10, 1), datetime.date(2022, 10, 2),\n",
       "       datetime.date(2022, 10, 3), datetime.date(2022, 10, 4),\n",
       "       datetime.date(2022, 10, 5), datetime.date(2022, 10, 6),\n",
       "       datetime.date(2022, 10, 7), datetime.date(2022, 10, 8),\n",
       "       datetime.date(2022, 10, 9), datetime.date(2022, 10, 10)],\n",
       "      dtype=object)"
      ]
     },
     "execution_count": 45,
     "metadata": {},
     "output_type": "execute_result"
    }
   ],
   "source": [
    "appleDates = appleHypnoDF['startDate'].dt.date.unique()\n",
    "print(len(appleDates))\n",
    "appleDates[:10]"
   ]
  },
  {
   "cell_type": "code",
   "execution_count": 47,
   "metadata": {},
   "outputs": [
    {
     "name": "stdout",
     "output_type": "stream",
     "text": [
      "2022-10-04 09:02:05-07:00\n"
     ]
    },
    {
     "data": {
      "image/png": "[encoded data removed]",
      "text/plain": [
       "<Figure size 1600x400 with 1 Axes>"
      ]
     },
     "metadata": {},
     "output_type": "display_data"
    }
   ],
   "source": [
    "from datetime import date\n",
    "graphHypnoDate(appleHypnoDF, date(2022, 10, 4), 'apple watch')"
   ]
  },
  {
   "cell_type": "code",
   "execution_count": null,
   "metadata": {},
   "outputs": [],
   "source": []
  }
 ],
 "metadata": {
  "kernelspec": {
   "display_name": "Python 3",
   "language": "python",
   "name": "python3"
  },
  "language_info": {
   "codemirror_mode": {
    "name": "ipython",
    "version": 3
   },
   "file_extension": ".py",
   "mimetype": "text/x-python",
   "name": "python",
   "nbconvert_exporter": "python",
   "pygments_lexer": "ipython3",
   "version": "3.8.10"
  }
 },
 "nbformat": 4,
 "nbformat_minor": 2
}
