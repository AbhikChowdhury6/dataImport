{
 "cells": [
  {
   "cell_type": "code",
   "execution_count": 1,
   "metadata": {},
   "outputs": [],
   "source": [
    "#to export go into the health app, click on your profile icon, scroll to the bottom and click export all data\n",
    "#it normally takes a couple minutes"
   ]
  },
  {
   "cell_type": "code",
   "execution_count": 2,
   "metadata": {},
   "outputs": [],
   "source": [
    "import xml.etree.ElementTree as ET \n",
    "\n",
    "workingDataFile = \"/home/chowder/Documents/workingData/apple/hr/appleWatchHRdf.parquet.gzip\"\n",
    "\n",
    "pathOfExport = \"/home/chowder/Documents/dataExports/apple/\"\n",
    "individualExportPath = \"/27-8-24/export/apple_health_export/\"\n",
    "xmlFileName = \"export.xml\"\n",
    "\n",
    "tree = ET.parse(pathOfExport + individualExportPath + xmlFileName)\n",
    "root = tree.getroot() \n",
    "\n",
    "rType = \"HKQuantityTypeIdentifierHeartRate\"\n",
    "manufaturerField = \"Apple Inc.\"\n",
    "modelField = \"Watch\"\n"
   ]
  },
  {
   "cell_type": "code",
   "execution_count": 3,
   "metadata": {},
   "outputs": [
    {
     "name": "stdout",
     "output_type": "stream",
     "text": [
      "1334964\n"
     ]
    }
   ],
   "source": [
    "print(len(root.findall(\"./\")))"
   ]
  },
  {
   "cell_type": "code",
   "execution_count": 4,
   "metadata": {},
   "outputs": [
    {
     "name": "stdout",
     "output_type": "stream",
     "text": [
      "100000\n",
      "200000\n",
      "300000\n",
      "371449\n",
      "371449\n"
     ]
    }
   ],
   "source": [
    "import pandas as pd\n",
    "\n",
    "numRecords = 0\n",
    "listRecords = []\n",
    "\n",
    "def getAppleWatchInfo(record):\n",
    "    # check if the type of record is right\n",
    "    if (record[\"type\"] == \"HKQuantityTypeIdentifierHeartRate\"):\n",
    "\n",
    "        # parse the device to a dictonary to make sure we have the right one\n",
    "        # raw text of record[\"device\"] should look like this \n",
    "        # '<<HKDevice: 0x999999999>, name:Apple Watch, manufacturer:' +\n",
    "        # 'Apple Inc., model:Watch, hardware:Watch6,1, software:7.6>'\n",
    "        device = {x.split(\":\")[0].strip() : x.split(\":\")[1] \n",
    "                  for x in record[\"device\"].split(\",\")\n",
    "                  if len(x.split(\":\")) == 2}\n",
    "\n",
    "        if(device[\"manufacturer\"] == \"Apple Inc.\" and\n",
    "           device[\"model\"] == \"Watch\"):\n",
    "           return device\n",
    "    \n",
    "    return None\n",
    "\n",
    "\n",
    "# for every element tagged Record\n",
    "for r in root.findall(\"./Record\"):\n",
    "    # the data is in the attributes \n",
    "    record = r.attrib\n",
    "    device = getAppleWatchInfo(record)\n",
    "    if device is not None:\n",
    "        numRecords += 1\n",
    "        if numRecords % 100_000 == 0: print(numRecords)\n",
    "        \n",
    "        row = [pd.to_datetime(record[\"startDate\"]),\n",
    "               device[\"hardware\"], \n",
    "               device[\"software\"][:-1], #removes a hanging '>' from the field\n",
    "               pd.to_datetime(record[\"creationDate\"]), \n",
    "               float(record[\"value\"])]\n",
    "\n",
    "        listRecords.append(row)\n",
    "\n",
    "\n",
    "print(len(listRecords))\n",
    "print(numRecords)"
   ]
  },
  {
   "cell_type": "code",
   "execution_count": 5,
   "metadata": {},
   "outputs": [],
   "source": [
    "listRecords = sorted(listRecords, key=lambda x:x[0])"
   ]
  },
  {
   "cell_type": "code",
   "execution_count": 6,
   "metadata": {},
   "outputs": [
    {
     "data": {
      "text/html": [
       "<div>\n",
       "<style scoped>\n",
       "    .dataframe tbody tr th:only-of-type {\n",
       "        vertical-align: middle;\n",
       "    }\n",
       "\n",
       "    .dataframe tbody tr th {\n",
       "        vertical-align: top;\n",
       "    }\n",
       "\n",
       "    .dataframe thead th {\n",
       "        text-align: right;\n",
       "    }\n",
       "</style>\n",
       "<table border=\"1\" class=\"dataframe\">\n",
       "  <thead>\n",
       "    <tr style=\"text-align: right;\">\n",
       "      <th></th>\n",
       "      <th>hardware</th>\n",
       "      <th>software</th>\n",
       "      <th>creationDate</th>\n",
       "      <th>value</th>\n",
       "    </tr>\n",
       "    <tr>\n",
       "      <th>sampleDT</th>\n",
       "      <th></th>\n",
       "      <th></th>\n",
       "      <th></th>\n",
       "      <th></th>\n",
       "    </tr>\n",
       "  </thead>\n",
       "  <tbody>\n",
       "    <tr>\n",
       "      <th>2021-07-19 19:55:06-07:00</th>\n",
       "      <td>Watch6</td>\n",
       "      <td>7.6</td>\n",
       "      <td>2021-07-19 19:55:07-07:00</td>\n",
       "      <td>78.0</td>\n",
       "    </tr>\n",
       "    <tr>\n",
       "      <th>2021-07-19 19:55:11-07:00</th>\n",
       "      <td>Watch6</td>\n",
       "      <td>7.6</td>\n",
       "      <td>2021-07-19 19:55:12-07:00</td>\n",
       "      <td>79.0</td>\n",
       "    </tr>\n",
       "    <tr>\n",
       "      <th>2021-07-19 19:55:14-07:00</th>\n",
       "      <td>Watch6</td>\n",
       "      <td>7.6</td>\n",
       "      <td>2021-07-19 19:55:17-07:00</td>\n",
       "      <td>80.0</td>\n",
       "    </tr>\n",
       "    <tr>\n",
       "      <th>2021-07-19 19:55:21-07:00</th>\n",
       "      <td>Watch6</td>\n",
       "      <td>7.6</td>\n",
       "      <td>2021-07-19 19:55:22-07:00</td>\n",
       "      <td>82.0</td>\n",
       "    </tr>\n",
       "    <tr>\n",
       "      <th>2021-07-19 19:55:23-07:00</th>\n",
       "      <td>Watch6</td>\n",
       "      <td>7.6</td>\n",
       "      <td>2021-07-19 19:55:27-07:00</td>\n",
       "      <td>83.0</td>\n",
       "    </tr>\n",
       "    <tr>\n",
       "      <th>...</th>\n",
       "      <td>...</td>\n",
       "      <td>...</td>\n",
       "      <td>...</td>\n",
       "      <td>...</td>\n",
       "    </tr>\n",
       "    <tr>\n",
       "      <th>2024-08-27 18:45:33-07:00</th>\n",
       "      <td>Watch6</td>\n",
       "      <td>10.6.1</td>\n",
       "      <td>2024-08-27 18:45:37-07:00</td>\n",
       "      <td>79.0</td>\n",
       "    </tr>\n",
       "    <tr>\n",
       "      <th>2024-08-27 18:45:41-07:00</th>\n",
       "      <td>Watch6</td>\n",
       "      <td>10.6.1</td>\n",
       "      <td>2024-08-27 18:45:42-07:00</td>\n",
       "      <td>76.0</td>\n",
       "    </tr>\n",
       "    <tr>\n",
       "      <th>2024-08-27 18:45:45-07:00</th>\n",
       "      <td>Watch6</td>\n",
       "      <td>10.6.1</td>\n",
       "      <td>2024-08-27 18:45:47-07:00</td>\n",
       "      <td>76.0</td>\n",
       "    </tr>\n",
       "    <tr>\n",
       "      <th>2024-08-27 18:45:48-07:00</th>\n",
       "      <td>Watch6</td>\n",
       "      <td>10.6.1</td>\n",
       "      <td>2024-08-27 18:45:52-07:00</td>\n",
       "      <td>77.0</td>\n",
       "    </tr>\n",
       "    <tr>\n",
       "      <th>2024-08-27 18:45:56-07:00</th>\n",
       "      <td>Watch6</td>\n",
       "      <td>10.6.1</td>\n",
       "      <td>2024-08-27 18:45:57-07:00</td>\n",
       "      <td>73.0</td>\n",
       "    </tr>\n",
       "  </tbody>\n",
       "</table>\n",
       "<p>371449 rows × 4 columns</p>\n",
       "</div>"
      ],
      "text/plain": [
       "                          hardware software              creationDate  value\n",
       "sampleDT                                                                    \n",
       "2021-07-19 19:55:06-07:00   Watch6      7.6 2021-07-19 19:55:07-07:00   78.0\n",
       "2021-07-19 19:55:11-07:00   Watch6      7.6 2021-07-19 19:55:12-07:00   79.0\n",
       "2021-07-19 19:55:14-07:00   Watch6      7.6 2021-07-19 19:55:17-07:00   80.0\n",
       "2021-07-19 19:55:21-07:00   Watch6      7.6 2021-07-19 19:55:22-07:00   82.0\n",
       "2021-07-19 19:55:23-07:00   Watch6      7.6 2021-07-19 19:55:27-07:00   83.0\n",
       "...                            ...      ...                       ...    ...\n",
       "2024-08-27 18:45:33-07:00   Watch6   10.6.1 2024-08-27 18:45:37-07:00   79.0\n",
       "2024-08-27 18:45:41-07:00   Watch6   10.6.1 2024-08-27 18:45:42-07:00   76.0\n",
       "2024-08-27 18:45:45-07:00   Watch6   10.6.1 2024-08-27 18:45:47-07:00   76.0\n",
       "2024-08-27 18:45:48-07:00   Watch6   10.6.1 2024-08-27 18:45:52-07:00   77.0\n",
       "2024-08-27 18:45:56-07:00   Watch6   10.6.1 2024-08-27 18:45:57-07:00   73.0\n",
       "\n",
       "[371449 rows x 4 columns]"
      ]
     },
     "execution_count": 6,
     "metadata": {},
     "output_type": "execute_result"
    }
   ],
   "source": [
    "\n",
    "ColumnNames = [\"sampleDT\", \"hardware\", \"software\", \"creationDate\", \"value\"]\n",
    "\n",
    "appleWatchHRDf = pd.DataFrame(columns=ColumnNames, data=listRecords)\n",
    "\n",
    "appleWatchHRDf = appleWatchHRDf.set_index(\"sampleDT\")\n",
    "appleWatchHRDf"
   ]
  },
  {
   "cell_type": "code",
   "execution_count": 7,
   "metadata": {},
   "outputs": [
    {
     "data": {
      "text/plain": [
       "hardware                                        object\n",
       "software                                        object\n",
       "creationDate    datetime64[ns, pytz.FixedOffset(-420)]\n",
       "value                                          float64\n",
       "dtype: object"
      ]
     },
     "execution_count": 7,
     "metadata": {},
     "output_type": "execute_result"
    }
   ],
   "source": [
    "appleWatchHRDf.dtypes"
   ]
  },
  {
   "cell_type": "code",
   "execution_count": 8,
   "metadata": {},
   "outputs": [],
   "source": [
    "appleWatchHRDf.to_parquet(workingDataFile,\n",
    "              compression='gzip') "
   ]
  },
  {
   "cell_type": "code",
   "execution_count": null,
   "metadata": {},
   "outputs": [],
   "source": []
  }
 ],
 "metadata": {
  "kernelspec": {
   "display_name": "Python 3",
   "language": "python",
   "name": "python3"
  },
  "language_info": {
   "codemirror_mode": {
    "name": "ipython",
    "version": 3
   },
   "file_extension": ".py",
   "mimetype": "text/x-python",
   "name": "python",
   "nbconvert_exporter": "python",
   "pygments_lexer": "ipython3",
   "version": "3.8.10"
  }
 },
 "nbformat": 4,
 "nbformat_minor": 2
}
