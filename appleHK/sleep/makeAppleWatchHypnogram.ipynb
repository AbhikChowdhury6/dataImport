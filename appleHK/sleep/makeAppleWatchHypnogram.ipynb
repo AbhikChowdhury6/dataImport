{
 "cells": [
  {
   "cell_type": "code",
   "execution_count": 1,
   "metadata": {},
   "outputs": [],
   "source": [
    "import os\n",
    "import sys\n",
    "def getRepoPath():\n",
    "    cwd = os.getcwd()\n",
    "    delimiter = \"\\\\\" if \"\\\\\" in cwd else \"/\"\n",
    "    repoPath = delimiter.join(cwd.split(delimiter)[:cwd.split(delimiter).index(\"dataImport\")]) + delimiter\n",
    "    return repoPath\n",
    "repoPath = getRepoPath()\n",
    "sys.path.append(repoPath + 'dataImport/')\n",
    "from utils import exportsDataPath, writeHypnoDfParquet\n",
    "import pandas as pd\n",
    "\n",
    "import xml.etree.ElementTree as ET \n",
    "\n",
    "xmlFileName = exportsDataPath + \"apple/17-9-24/export/apple_health_export/export.xml\"\n",
    "tree = ET.parse(xmlFileName)\n",
    "\n",
    "root = tree.getroot() \n",
    "\n",
    "ColumnNames = [\"startDate\", \"endDate\", \"creationDate\", \"sourceVersion\", \"value\"]\n",
    "parquetName = \"appleWatchHypnoDf.parquet.gzip\"\n",
    "\n",
    "rType = \"HKCategoryTypeIdentifierSleepAnalysis\"\n",
    "sourceName = \"Abhik\\'s Apple Watch\"\n"
   ]
  },
  {
   "cell_type": "markdown",
   "metadata": {},
   "source": [
    "some example data\n",
    "\n",
    " <Record type=\"HKCategoryTypeIdentifierSleepAnalysis\" sourceName=\"Abhik’s Apple Watch\" sourceVersion=\"9.0\" creationDate=\"2022-10-01 09:03:33 -0700\" startDate=\"2022-10-01 01:13:59 -0700\" endDate=\"2022-10-01 01:29:59 -0700\" value=\"HKCategoryValueSleepAnalysisAsleepDeep\">\n",
    "  <MetadataEntry key=\"HKTimeZone\" value=\"America/Phoenix\"/>\n",
    " </Record>\n",
    " <Record type=\"HKCategoryTypeIdentifierSleepAnalysis\" sourceName=\"Abhik’s Apple Watch\" sourceVersion=\"9.0\" creationDate=\"2022-10-01 09:03:33 -0700\" startDate=\"2022-10-01 01:29:59 -0700\" endDate=\"2022-10-01 01:30:29 -0700\" value=\"HKCategoryValueSleepAnalysisAwake\">\n",
    "  <MetadataEntry key=\"HKTimeZone\" value=\"America/Phoenix\"/>\n",
    " </Record>\n",
    " <Record type=\"HKCategoryTypeIdentifierSleepAnalysis\" sourceName=\"Abhik’s Apple Watch\" sourceVersion=\"9.0\" creationDate=\"2022-10-01 09:03:33 -0700\" startDate=\"2022-10-01 01:30:29 -0700\" endDate=\"2022-10-01 01:43:29 -0700\" value=\"HKCategoryValueSleepAnalysisAsleepCore\">\n",
    "  <MetadataEntry key=\"HKTimeZone\" value=\"America/Phoenix\"/>\n",
    " </Record>\n",
    " <Record type=\"HKCategoryTypeIdentifierSleepAnalysis\" sourceName=\"Abhik’s Apple Watch\" sourceVersion=\"9.0\" creationDate=\"2022-10-01 09:03:33 -0700\" startDate=\"2022-10-01 01:43:29 -0700\" endDate=\"2022-10-01 01:50:59 -0700\" value=\"HKCategoryValueSleepAnalysisAsleepREM\">\n",
    "  <MetadataEntry key=\"HKTimeZone\" value=\"America/Phoenix\"/>"
   ]
  },
  {
   "cell_type": "code",
   "execution_count": 2,
   "metadata": {},
   "outputs": [
    {
     "name": "stdout",
     "output_type": "stream",
     "text": [
      "2275650\n"
     ]
    }
   ],
   "source": [
    "print(len(root.findall(\"./Record\")))"
   ]
  },
  {
   "cell_type": "code",
   "execution_count": 3,
   "metadata": {},
   "outputs": [],
   "source": [
    "# rtypes = set([r.attrib['type'] for r in root.findall(\"./Record\")])\n",
    "# rtypes"
   ]
  },
  {
   "cell_type": "code",
   "execution_count": 4,
   "metadata": {},
   "outputs": [
    {
     "data": {
      "text/plain": [
       "2716"
      ]
     },
     "execution_count": 4,
     "metadata": {},
     "output_type": "execute_result"
    }
   ],
   "source": [
    "[r.attrib['value'] for r in root.findall(\"./Record\") if rType in r.attrib['type']].count('HKCategoryValueSleepAnalysisAsleepUnspecified')\n"
   ]
  },
  {
   "cell_type": "code",
   "execution_count": 5,
   "metadata": {},
   "outputs": [
    {
     "name": "stdout",
     "output_type": "stream",
     "text": [
      "21109\n",
      "24649\n"
     ]
    }
   ],
   "source": [
    "import pandas as pd\n",
    "\n",
    "numRecords = 0\n",
    "listRecords = []\n",
    "\n",
    "sourceName = \"Abhik’s Apple Watch\"\n",
    "\n",
    "val = 8\n",
    "\n",
    "# for every element tagged Record\n",
    "for r in root.findall(\"./Record\"):\n",
    "    # the data is in the attributes \n",
    "    record = r.attrib\n",
    "    #if record[\"type\"] == rType:\n",
    "    #    print(record)\n",
    "    if (record[\"type\"] == rType and record[\"sourceName\"] == sourceName): \n",
    "        numRecords += 1\n",
    "        if numRecords % 100_000 == 0: print(numRecords)\n",
    "\n",
    "        # the columns that I'm looking for are\n",
    "        # sleep stage, start time, end time, source version\n",
    "        # print(record[\"value\"])\n",
    "        val = -2\n",
    "        if record[\"value\"] == \"HKCategoryValueSleepAnalysisAwake\":\n",
    "            val = 0\n",
    "        elif record[\"value\"] == \"HKCategoryValueSleepAnalysisAsleepCore\":\n",
    "            val = 1\n",
    "        elif record[\"value\"] == \"HKCategoryValueSleepAnalysisAsleepDeep\":\n",
    "            val = 2\n",
    "        elif record[\"value\"] == \"HKCategoryValueSleepAnalysisAsleepREM\":\n",
    "            val = 3\n",
    "        elif record[\"value\"] == \"HKCategoryValueSleepAnalysisAsleepUnspecified\":\n",
    "            val = 1\n",
    "        # elif record[\"value\"] == \"HKCategoryValueSleepAnalysisInBed\":\n",
    "        #     val = 1\n",
    "\n",
    "        if val != -2:\n",
    "            row = [pd.to_datetime(record[\"startDate\"]),\n",
    "                   pd.to_datetime(record[\"endDate\"]),\n",
    "                   pd.to_datetime(record[\"creationDate\"]), \n",
    "                   record[\"sourceVersion\"],\n",
    "                   val]\n",
    "        \n",
    "            listRecords.append(row)\n",
    "\n",
    "\n",
    "\n",
    "print(len(listRecords))\n",
    "print(numRecords)"
   ]
  },
  {
   "cell_type": "code",
   "execution_count": 6,
   "metadata": {},
   "outputs": [
    {
     "data": {
      "text/plain": [
       "{0, 1, 2, 3}"
      ]
     },
     "execution_count": 6,
     "metadata": {},
     "output_type": "execute_result"
    }
   ],
   "source": [
    "set([x[4] for x in listRecords])"
   ]
  },
  {
   "cell_type": "code",
   "execution_count": 7,
   "metadata": {},
   "outputs": [
    {
     "name": "stdout",
     "output_type": "stream",
     "text": [
      "24153\n"
     ]
    }
   ],
   "source": [
    "from pytz import FixedOffset\n",
    "\n",
    "tz = FixedOffset(-420)\n",
    "\n",
    "# add in the no data segments\n",
    "filledRecords = []\n",
    "# for every row except the last\n",
    "for ri in range(len(listRecords)-1):\n",
    "    filledRecords.append(listRecords[ri])\n",
    "    # if there is a gap between this rows end date and the next rows start date\n",
    "    if listRecords[ri][1] < listRecords[ri+1][0]:\n",
    "        filledRecords.append([\n",
    "            listRecords[ri][1],\n",
    "            listRecords[ri+1][0],\n",
    "            pd.Timestamp.now(tz=tz),\n",
    "            \"synth\",\n",
    "            -1\n",
    "        ])\n",
    "print(len(filledRecords))"
   ]
  },
  {
   "cell_type": "code",
   "execution_count": 8,
   "metadata": {},
   "outputs": [
    {
     "name": "stdout",
     "output_type": "stream",
     "text": [
      "24153\n"
     ]
    }
   ],
   "source": [
    "print(len(filledRecords))"
   ]
  },
  {
   "cell_type": "code",
   "execution_count": 9,
   "metadata": {},
   "outputs": [],
   "source": [
    "# filledRecords[:100]"
   ]
  },
  {
   "cell_type": "code",
   "execution_count": 10,
   "metadata": {},
   "outputs": [],
   "source": [
    "ColumnNames = [\"startDate\", \"endDate\", \"creationDate\", \"sourceVersion\", \"value\"]\n",
    "\n",
    "AppleWatchHypnoDf = pd.DataFrame(columns=ColumnNames, data=filledRecords)\n",
    "\n",
    "AppleWatchHypnoDf = AppleWatchHypnoDf.set_index(\"startDate\")"
   ]
  },
  {
   "cell_type": "code",
   "execution_count": 11,
   "metadata": {},
   "outputs": [
    {
     "data": {
      "text/html": [
       "<div>\n",
       "<style scoped>\n",
       "    .dataframe tbody tr th:only-of-type {\n",
       "        vertical-align: middle;\n",
       "    }\n",
       "\n",
       "    .dataframe tbody tr th {\n",
       "        vertical-align: top;\n",
       "    }\n",
       "\n",
       "    .dataframe thead th {\n",
       "        text-align: right;\n",
       "    }\n",
       "</style>\n",
       "<table border=\"1\" class=\"dataframe\">\n",
       "  <thead>\n",
       "    <tr style=\"text-align: right;\">\n",
       "      <th></th>\n",
       "      <th>endDate</th>\n",
       "      <th>creationDate</th>\n",
       "      <th>sourceVersion</th>\n",
       "      <th>value</th>\n",
       "    </tr>\n",
       "    <tr>\n",
       "      <th>startDate</th>\n",
       "      <th></th>\n",
       "      <th></th>\n",
       "      <th></th>\n",
       "      <th></th>\n",
       "    </tr>\n",
       "  </thead>\n",
       "  <tbody>\n",
       "    <tr>\n",
       "      <th>2021-07-22 04:35:38-07:00</th>\n",
       "      <td>2021-07-22 06:12:38-07:00</td>\n",
       "      <td>2021-07-22 08:00:51-07:00</td>\n",
       "      <td>7.6</td>\n",
       "      <td>1</td>\n",
       "    </tr>\n",
       "    <tr>\n",
       "      <th>2021-07-22 06:12:38-07:00</th>\n",
       "      <td>2021-07-22 06:14:08-07:00</td>\n",
       "      <td>2024-09-17 13:13:31.663221-07:00</td>\n",
       "      <td>synth</td>\n",
       "      <td>-1</td>\n",
       "    </tr>\n",
       "    <tr>\n",
       "      <th>2021-07-22 06:14:08-07:00</th>\n",
       "      <td>2021-07-22 06:32:08-07:00</td>\n",
       "      <td>2021-07-22 08:00:51-07:00</td>\n",
       "      <td>7.6</td>\n",
       "      <td>1</td>\n",
       "    </tr>\n",
       "    <tr>\n",
       "      <th>2021-07-22 06:32:08-07:00</th>\n",
       "      <td>2021-07-22 06:33:38-07:00</td>\n",
       "      <td>2024-09-17 13:13:31.663259-07:00</td>\n",
       "      <td>synth</td>\n",
       "      <td>-1</td>\n",
       "    </tr>\n",
       "    <tr>\n",
       "      <th>2021-07-22 06:33:38-07:00</th>\n",
       "      <td>2021-07-22 08:00:08-07:00</td>\n",
       "      <td>2021-07-22 08:00:51-07:00</td>\n",
       "      <td>7.6</td>\n",
       "      <td>1</td>\n",
       "    </tr>\n",
       "    <tr>\n",
       "      <th>...</th>\n",
       "      <td>...</td>\n",
       "      <td>...</td>\n",
       "      <td>...</td>\n",
       "      <td>...</td>\n",
       "    </tr>\n",
       "    <tr>\n",
       "      <th>2024-09-17 07:23:21-07:00</th>\n",
       "      <td>2024-09-17 07:31:21-07:00</td>\n",
       "      <td>2024-09-17 10:37:33-07:00</td>\n",
       "      <td>10.6.1</td>\n",
       "      <td>3</td>\n",
       "    </tr>\n",
       "    <tr>\n",
       "      <th>2024-09-17 07:31:21-07:00</th>\n",
       "      <td>2024-09-17 07:31:51-07:00</td>\n",
       "      <td>2024-09-17 10:37:33-07:00</td>\n",
       "      <td>10.6.1</td>\n",
       "      <td>0</td>\n",
       "    </tr>\n",
       "    <tr>\n",
       "      <th>2024-09-17 07:31:51-07:00</th>\n",
       "      <td>2024-09-17 07:42:21-07:00</td>\n",
       "      <td>2024-09-17 10:37:33-07:00</td>\n",
       "      <td>10.6.1</td>\n",
       "      <td>1</td>\n",
       "    </tr>\n",
       "    <tr>\n",
       "      <th>2024-09-17 07:42:21-07:00</th>\n",
       "      <td>2024-09-17 07:47:51-07:00</td>\n",
       "      <td>2024-09-17 10:37:33-07:00</td>\n",
       "      <td>10.6.1</td>\n",
       "      <td>3</td>\n",
       "    </tr>\n",
       "    <tr>\n",
       "      <th>2024-09-17 07:47:51-07:00</th>\n",
       "      <td>2024-09-17 09:13:21-07:00</td>\n",
       "      <td>2024-09-17 10:37:33-07:00</td>\n",
       "      <td>10.6.1</td>\n",
       "      <td>1</td>\n",
       "    </tr>\n",
       "  </tbody>\n",
       "</table>\n",
       "<p>24153 rows × 4 columns</p>\n",
       "</div>"
      ],
      "text/plain": [
       "                                            endDate  \\\n",
       "startDate                                             \n",
       "2021-07-22 04:35:38-07:00 2021-07-22 06:12:38-07:00   \n",
       "2021-07-22 06:12:38-07:00 2021-07-22 06:14:08-07:00   \n",
       "2021-07-22 06:14:08-07:00 2021-07-22 06:32:08-07:00   \n",
       "2021-07-22 06:32:08-07:00 2021-07-22 06:33:38-07:00   \n",
       "2021-07-22 06:33:38-07:00 2021-07-22 08:00:08-07:00   \n",
       "...                                             ...   \n",
       "2024-09-17 07:23:21-07:00 2024-09-17 07:31:21-07:00   \n",
       "2024-09-17 07:31:21-07:00 2024-09-17 07:31:51-07:00   \n",
       "2024-09-17 07:31:51-07:00 2024-09-17 07:42:21-07:00   \n",
       "2024-09-17 07:42:21-07:00 2024-09-17 07:47:51-07:00   \n",
       "2024-09-17 07:47:51-07:00 2024-09-17 09:13:21-07:00   \n",
       "\n",
       "                                              creationDate sourceVersion  \\\n",
       "startDate                                                                  \n",
       "2021-07-22 04:35:38-07:00        2021-07-22 08:00:51-07:00           7.6   \n",
       "2021-07-22 06:12:38-07:00 2024-09-17 13:13:31.663221-07:00         synth   \n",
       "2021-07-22 06:14:08-07:00        2021-07-22 08:00:51-07:00           7.6   \n",
       "2021-07-22 06:32:08-07:00 2024-09-17 13:13:31.663259-07:00         synth   \n",
       "2021-07-22 06:33:38-07:00        2021-07-22 08:00:51-07:00           7.6   \n",
       "...                                                    ...           ...   \n",
       "2024-09-17 07:23:21-07:00        2024-09-17 10:37:33-07:00        10.6.1   \n",
       "2024-09-17 07:31:21-07:00        2024-09-17 10:37:33-07:00        10.6.1   \n",
       "2024-09-17 07:31:51-07:00        2024-09-17 10:37:33-07:00        10.6.1   \n",
       "2024-09-17 07:42:21-07:00        2024-09-17 10:37:33-07:00        10.6.1   \n",
       "2024-09-17 07:47:51-07:00        2024-09-17 10:37:33-07:00        10.6.1   \n",
       "\n",
       "                           value  \n",
       "startDate                         \n",
       "2021-07-22 04:35:38-07:00      1  \n",
       "2021-07-22 06:12:38-07:00     -1  \n",
       "2021-07-22 06:14:08-07:00      1  \n",
       "2021-07-22 06:32:08-07:00     -1  \n",
       "2021-07-22 06:33:38-07:00      1  \n",
       "...                          ...  \n",
       "2024-09-17 07:23:21-07:00      3  \n",
       "2024-09-17 07:31:21-07:00      0  \n",
       "2024-09-17 07:31:51-07:00      1  \n",
       "2024-09-17 07:42:21-07:00      3  \n",
       "2024-09-17 07:47:51-07:00      1  \n",
       "\n",
       "[24153 rows x 4 columns]"
      ]
     },
     "execution_count": 11,
     "metadata": {},
     "output_type": "execute_result"
    }
   ],
   "source": [
    "AppleWatchHypnoDf"
   ]
  },
  {
   "cell_type": "code",
   "execution_count": 12,
   "metadata": {},
   "outputs": [
    {
     "data": {
      "text/plain": [
       "endDate          datetime64[ns, pytz.FixedOffset(-420)]\n",
       "creationDate     datetime64[ns, pytz.FixedOffset(-420)]\n",
       "sourceVersion                                    object\n",
       "value                                             int64\n",
       "dtype: object"
      ]
     },
     "execution_count": 12,
     "metadata": {},
     "output_type": "execute_result"
    }
   ],
   "source": [
    "AppleWatchHypnoDf.dtypes"
   ]
  },
  {
   "cell_type": "code",
   "execution_count": 13,
   "metadata": {},
   "outputs": [],
   "source": [
    "writeHypnoDfParquet('apple', AppleWatchHypnoDf)"
   ]
  }
 ],
 "metadata": {
  "kernelspec": {
   "display_name": "Python 3",
   "language": "python",
   "name": "python3"
  },
  "language_info": {
   "codemirror_mode": {
    "name": "ipython",
    "version": 3
   },
   "file_extension": ".py",
   "mimetype": "text/x-python",
   "name": "python",
   "nbconvert_exporter": "python",
   "pygments_lexer": "ipython3",
   "version": "3.8.10"
  }
 },
 "nbformat": 4,
 "nbformat_minor": 2
}
