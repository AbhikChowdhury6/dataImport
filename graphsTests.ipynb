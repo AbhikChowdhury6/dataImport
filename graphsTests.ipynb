{
 "cells": [
  {
   "cell_type": "code",
   "execution_count": null,
   "metadata": {},
   "outputs": [],
   "source": [
    "import pandas as pd\n",
    "from datetime import datetime\n",
    "import os\n",
    "import sys\n",
    "cwd = os.getcwd()\n",
    "delimiter = \"\\\\\" if \"\\\\\" in cwd else \"/\"\n",
    "repoPath = delimiter.join(cwd.split(delimiter)[:cwd.split(delimiter).index(\"dataImport\")]) + delimiter\n",
    "sys.path.append(repoPath + \"dataImport/\")\n",
    "import rwWorkingTSDf\n",
    "from rwWorkingTSDf import readWorkingTSDF\n",
    "\n",
    "\n",
    "testdd = [\"abhik\", '0', \"apple\", 'AppleWatch-10-46mm', 'hr', 'builtin']\n",
    "testdf = readWorkingTSDF(testdd)\n"
   ]
  }
 ],
 "metadata": {
  "kernelspec": {
   "display_name": "vision",
   "language": "python",
   "name": "python3"
  },
  "language_info": {
   "name": "python",
   "version": "3.11.10"
  }
 },
 "nbformat": 4,
 "nbformat_minor": 2
}
