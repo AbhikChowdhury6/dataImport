{
 "cells": [
  {
   "cell_type": "code",
   "execution_count": 1,
   "metadata": {},
   "outputs": [],
   "source": [
    "import cv2\n",
    "import os\n",
    "import sys\n",
    "import shutil\n",
    "from datetime import datetime, timezone, timedelta\n",
    "\n",
    "cwd = os.getcwd()\n",
    "delimiter = \"\\\\\" if \"\\\\\" in cwd else \"/\"\n",
    "repoPath = delimiter.join(cwd.split(delimiter)[:cwd.split(delimiter).index(\"dataImport\")]) + delimiter\n",
    "sys.path.append(repoPath + \"dataImport/\")\n",
    "\n",
    "import vidUtils\n",
    "from vidUtils import deleteVidInterval, getMP4Path, bulkDataPath\n",
    "import rwWorkingTSDf\n",
    "from rwWorkingTSDf import readWorkingTSDF, deleteTSDfInterval, dt_to_fnString"
   ]
  },
  {
   "cell_type": "code",
   "execution_count": 2,
   "metadata": {},
   "outputs": [
    {
     "name": "stdout",
     "output_type": "stream",
     "text": [
      "read in 536321 rows from 1 files, retruning 0 rows\n"
     ]
    },
    {
     "data": {
      "text/html": [
       "<div>\n",
       "<style scoped>\n",
       "    .dataframe tbody tr th:only-of-type {\n",
       "        vertical-align: middle;\n",
       "    }\n",
       "\n",
       "    .dataframe tbody tr th {\n",
       "        vertical-align: top;\n",
       "    }\n",
       "\n",
       "    .dataframe thead th {\n",
       "        text-align: right;\n",
       "    }\n",
       "</style>\n",
       "<table border=\"1\" class=\"dataframe\">\n",
       "  <thead>\n",
       "    <tr style=\"text-align: right;\">\n",
       "      <th></th>\n",
       "      <th>videoIndex</th>\n",
       "      <th>videoStartTime</th>\n",
       "      <th>videoEndTime</th>\n",
       "    </tr>\n",
       "    <tr>\n",
       "      <th>sampleDT</th>\n",
       "      <th></th>\n",
       "      <th></th>\n",
       "      <th></th>\n",
       "    </tr>\n",
       "  </thead>\n",
       "  <tbody>\n",
       "  </tbody>\n",
       "</table>\n",
       "</div>"
      ],
      "text/plain": [
       "Empty DataFrame\n",
       "Columns: [videoIndex, videoStartTime, videoEndTime]\n",
       "Index: []"
      ]
     },
     "execution_count": 2,
     "metadata": {},
     "output_type": "execute_result"
    }
   ],
   "source": [
    "deviceDescriptor = [\"abhik\", \"mobilepi\", \"abhik\", \"piCam-raspberryPi5-Camv3120noir\", \"mp4\", \"piVidCap\"]\n",
    "#deviceDescriptor = [\"abhik\", \"bedroompi\", \"abhik\", \"piCam-raspberryPi5-Camv3120\", \"mp4\", \"piVidCap\"]\n",
    "#deviceDescriptor = [\"abhik\", \"bathroompi\", \"abhik\", \"piCam-raspberryPi5-Camv3noir\", \"mp4\", \"piVidCap\"]\n",
    "#deviceDescriptor = [\"abhik\", \"kitchenpi\", \"abhik\", \"piCam-raspberryPi5-Camv3120noir\", \"mp4\", \"piVidCap\"]\n",
    "\n",
    "tz = timezone(timedelta(hours=-7))\n",
    "delStartTime = datetime(2025, 3, 15, 21, 53, 0, 000000, tzinfo=tz)\n",
    "delEndTime = datetime(2025, 3, 15, 21, 53, 45, 000000, tzinfo=tz)\n",
    "#once we have a function in vidutils we could just call it here"
   ]
  },
  {
   "cell_type": "code",
   "execution_count": null,
   "metadata": {},
   "outputs": [],
   "source": [
    "toDelDf = readWorkingTSDF(deviceDescriptor, None, delStartTime, delEndTime)\n",
    "toDelDf"
   ]
  },
  {
   "cell_type": "code",
   "execution_count": 6,
   "metadata": {},
   "outputs": [
    {
     "data": {
      "text/plain": [
       "[]"
      ]
     },
     "execution_count": 6,
     "metadata": {},
     "output_type": "execute_result"
    }
   ],
   "source": [
    "grouped = toDelDf.groupby(\"videoStartTime\")\n",
    "groupKeys = sorted(toDelDf['videoStartTime'].unique())\n",
    "allFileNames = []\n",
    "for firstTs, group in grouped:\n",
    "    lastTs = group[\"videoEndTime\"].iloc[0]\n",
    "    allFileNames.append(getMP4Path(deviceDescriptor, firstTs, lastTs))\n",
    "allFileNames = sorted(allFileNames)\n",
    "if len(allFileNames):\n",
    "    pass\n",
    "    #return\n",
    "allFileNames"
   ]
  },
  {
   "cell_type": "code",
   "execution_count": 4,
   "metadata": {},
   "outputs": [
    {
     "ename": "IndexError",
     "evalue": "list index out of range",
     "output_type": "error",
     "traceback": [
      "\u001b[0;31m---------------------------------------------------------------------------\u001b[0m",
      "\u001b[0;31mIndexError\u001b[0m                                Traceback (most recent call last)",
      "Cell \u001b[0;32mIn[4], line 1\u001b[0m\n\u001b[0;32m----> 1\u001b[0m firstCut \u001b[38;5;241m=\u001b[39m grouped\u001b[38;5;241m.\u001b[39mget_group(\u001b[43mgroupKeys\u001b[49m\u001b[43m[\u001b[49m\u001b[38;5;241;43m0\u001b[39;49m\u001b[43m]\u001b[49m)[\u001b[38;5;124m'\u001b[39m\u001b[38;5;124mvideoIndex\u001b[39m\u001b[38;5;124m'\u001b[39m]\u001b[38;5;241m.\u001b[39miloc[\u001b[38;5;241m0\u001b[39m] \u001b[38;5;241m!=\u001b[39m \u001b[38;5;241m0\u001b[39m\n\u001b[1;32m      2\u001b[0m lastRow \u001b[38;5;241m=\u001b[39m grouped\u001b[38;5;241m.\u001b[39mget_group(groupKeys[\u001b[38;5;241m-\u001b[39m\u001b[38;5;241m1\u001b[39m])\u001b[38;5;241m.\u001b[39miloc[\u001b[38;5;241m-\u001b[39m\u001b[38;5;241m1\u001b[39m]\n\u001b[1;32m      3\u001b[0m lastCut \u001b[38;5;241m=\u001b[39m lastRow\u001b[38;5;241m.\u001b[39mname \u001b[38;5;241m!=\u001b[39m lastRow[\u001b[38;5;124m'\u001b[39m\u001b[38;5;124mvideoEndTime\u001b[39m\u001b[38;5;124m'\u001b[39m]\n",
      "\u001b[0;31mIndexError\u001b[0m: list index out of range"
     ]
    }
   ],
   "source": [
    "firstCut = grouped.get_group(groupKeys[0])['videoIndex'].iloc[0] != 0\n",
    "lastRow = grouped.get_group(groupKeys[-1]).iloc[-1]\n",
    "lastCut = lastRow.name != lastRow['videoEndTime']\n",
    "\n",
    "firstGroup = grouped.get_group(groupKeys[0])\n",
    "lastGroup = grouped.get_group(groupKeys[-1])\n",
    "output_start_ts = groupKeys[0]\n",
    "output_end_ts = lastGroup['videoEndTime'].iloc[0]"
   ]
  },
  {
   "cell_type": "code",
   "execution_count": null,
   "metadata": {},
   "outputs": [],
   "source": [
    "# get output parameters from the first video\n",
    "cap = cv2.VideoCapture(allFileNames[0])\n",
    "fps = cap.get(cv2.CAP_PROP_FPS)\n",
    "width = int(cap.get(cv2.CAP_PROP_FRAME_WIDTH))\n",
    "height = int(cap.get(cv2.CAP_PROP_FRAME_HEIGHT))\n",
    "fourcc = cv2.VideoWriter_fourcc(*'avc1')\n",
    "tempFilePath = bulkDataPath + \"_\".join(deviceDescriptor) + \"/temp.mp4\"\n",
    "cap.release()\n",
    "\n",
    "# make an outout with the temp direcotry\n",
    "out = cv2.VideoWriter(tempFilePath, fourcc, fps, (width, height))\n",
    "\n",
    "\n",
    "if firstCut:\n",
    "    cap = cv2.VideoCapture(allFileNames[0])\n",
    "    end_frame_index = firstGroup['videoIndex'].iloc[0]\n",
    "    for i in range(end_frame_index):\n",
    "        ret, frame = cap.read()\n",
    "        if not ret:\n",
    "            break\n",
    "        out.write(frame)\n",
    "    cap.release()\n",
    "    if not lastCut:\n",
    "        output_end_ts = firstGroup.iloc[0].name\n",
    "\n",
    "if lastCut:\n",
    "    cap = cv2.VideoCapture(allFileNames[-1])\n",
    "    start_frame_index = lastGroup['videoIndex'].iloc[-1] + 1\n",
    "    cap.set(cv2.CAP_PROP_POS_FRAMES, start_frame_index)\n",
    "    while True:\n",
    "        ret, frame = cap.read()\n",
    "        if not ret:\n",
    "            break\n",
    "        out.write(frame)\n",
    "    cap.release()\n",
    "    if not firstCut:\n",
    "        output_start_ts = lastGroup.iloc[-1].name\n",
    "\n",
    "out.release()\n",
    "\n",
    "newFileName = getMP4Path(deviceDescriptor, output_start_ts, output_end_ts)\n",
    "newFileName"
   ]
  },
  {
   "cell_type": "code",
   "execution_count": null,
   "metadata": {},
   "outputs": [],
   "source": [
    "[os.remove(f) for f in allFileNames]\n",
    "\n",
    "if not firstCut and not lastCut:\n",
    "    #delete the temp file\n",
    "    os.remove(tempFilePath)\n",
    "else:\n",
    "    #move the temp file to the new file name\n",
    "    shutil.move(tempFilePath, newFileName)\n",
    "\n",
    "deleteTSDfInterval(deviceDescriptor, delStartTime, delEndTime)"
   ]
  }
 ],
 "metadata": {
  "kernelspec": {
   "display_name": "vision",
   "language": "python",
   "name": "python3"
  },
  "language_info": {
   "codemirror_mode": {
    "name": "ipython",
    "version": 3
   },
   "file_extension": ".py",
   "mimetype": "text/x-python",
   "name": "python",
   "nbconvert_exporter": "python",
   "pygments_lexer": "ipython3",
   "version": "3.11.10"
  }
 },
 "nbformat": 4,
 "nbformat_minor": 2
}
