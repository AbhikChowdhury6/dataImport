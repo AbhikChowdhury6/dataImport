{
 "cells": [
  {
   "cell_type": "code",
   "execution_count": 1,
   "metadata": {},
   "outputs": [],
   "source": [
    "import cv2\n",
    "import os\n",
    "import sys\n",
    "from datetime import datetime\n",
    "from ultralytics import YOLO\n",
    "import matplotlib.pyplot as plt\n",
    "\n",
    "cwd = os.getcwd()\n",
    "delimiter = \"\\\\\" if \"\\\\\" in cwd else \"/\"\n",
    "repoPath = delimiter.join(cwd.split(delimiter)[:cwd.split(delimiter).index(\"dataImport\")]) + delimiter\n",
    "sys.path.append(repoPath + \"dataImport/\")\n",
    "import vidUtils\n",
    "from vidUtils import getFrame, getCap\n",
    "import rwWorkingTSDf\n",
    "from rwWorkingTSDf import readWorkingTSDF, writeWorkingTSDf, getWorkingTSDfPath"
   ]
  },
  {
   "cell_type": "code",
   "execution_count": 2,
   "metadata": {},
   "outputs": [],
   "source": [
    "model = YOLO(\"yolo11x-pose.pt\")"
   ]
  },
  {
   "cell_type": "code",
   "execution_count": 3,
   "metadata": {},
   "outputs": [],
   "source": [
    "deviceDescriptor = [\"abhik\", \"bedroompi\", \"abhik\", \"piCam-raspberryPi5-Camv3120\", \"mp4\", \"piVidCap\"]\n",
    "outputDescriptor = [\"abhik\", \"bedroompi\", \"ultralytics\", \"piCam-raspberryPi5-Camv3120\", \"17pose\", \"yolo11x-pose\"]"
   ]
  },
  {
   "cell_type": "code",
   "execution_count": 4,
   "metadata": {},
   "outputs": [
    {
     "name": "stdout",
     "output_type": "stream",
     "text": [
      "read in 30466 rows from 1 files, retruning 30466 rows\n"
     ]
    }
   ],
   "source": [
    "vidDf = readWorkingTSDF(deviceDescriptor)\n",
    "import json\n",
    "\n",
    "newDfRows = []\n",
    "for i in range(100):\n",
    "    row = vidDf.iloc[i]\n",
    "    ts = row.name\n",
    "    videoIndex = row['videoIndex']\n",
    "    videoStartTime = row['videoStartTime']\n",
    "    videoEndTime = row['videoEndTime']\n",
    "    frame = getFrame(deviceDescriptor, videoStartTime, videoEndTime, videoIndex)\n",
    "    result = model(frame, verbose=False)\n",
    "    toSave = json.dumps({'xyn': result[0].keypoints.xyn.tolist(), 'conf': result[0].keypoints.conf.tolist()})\n",
    "    newDfRows.append([ts, toSave])\n"
   ]
  },
  {
   "cell_type": "code",
   "execution_count": 5,
   "metadata": {},
   "outputs": [
    {
     "data": {
      "text/html": [
       "<div>\n",
       "<style scoped>\n",
       "    .dataframe tbody tr th:only-of-type {\n",
       "        vertical-align: middle;\n",
       "    }\n",
       "\n",
       "    .dataframe tbody tr th {\n",
       "        vertical-align: top;\n",
       "    }\n",
       "\n",
       "    .dataframe thead th {\n",
       "        text-align: right;\n",
       "    }\n",
       "</style>\n",
       "<table border=\"1\" class=\"dataframe\">\n",
       "  <thead>\n",
       "    <tr style=\"text-align: right;\">\n",
       "      <th></th>\n",
       "      <th>pose</th>\n",
       "    </tr>\n",
       "    <tr>\n",
       "      <th>sampleDT</th>\n",
       "      <th></th>\n",
       "    </tr>\n",
       "  </thead>\n",
       "  <tbody>\n",
       "    <tr>\n",
       "      <th>2025-03-13 23:03:00.000596+00:00</th>\n",
       "      <td>{\"xyn\": [[[0.548828661441803, 0.53396099805831...</td>\n",
       "    </tr>\n",
       "    <tr>\n",
       "      <th>2025-03-13 23:03:00.100148+00:00</th>\n",
       "      <td>{\"xyn\": [[[0.5484716296195984, 0.5321729779243...</td>\n",
       "    </tr>\n",
       "    <tr>\n",
       "      <th>2025-03-13 23:03:00.201352+00:00</th>\n",
       "      <td>{\"xyn\": [[[0.5490943193435669, 0.5313501954078...</td>\n",
       "    </tr>\n",
       "    <tr>\n",
       "      <th>2025-03-13 23:03:00.303282+00:00</th>\n",
       "      <td>{\"xyn\": [[[0.5493457913398743, 0.5299937725067...</td>\n",
       "    </tr>\n",
       "    <tr>\n",
       "      <th>2025-03-13 23:03:00.402564+00:00</th>\n",
       "      <td>{\"xyn\": [[[0.5500948429107666, 0.5293601155281...</td>\n",
       "    </tr>\n",
       "    <tr>\n",
       "      <th>...</th>\n",
       "      <td>...</td>\n",
       "    </tr>\n",
       "    <tr>\n",
       "      <th>2025-03-13 23:03:09.500148+00:00</th>\n",
       "      <td>{\"xyn\": [[[0.5534456372261047, 0.5194787979125...</td>\n",
       "    </tr>\n",
       "    <tr>\n",
       "      <th>2025-03-13 23:03:09.600136+00:00</th>\n",
       "      <td>{\"xyn\": [[[0.5525461435317993, 0.5217380523681...</td>\n",
       "    </tr>\n",
       "    <tr>\n",
       "      <th>2025-03-13 23:03:09.700147+00:00</th>\n",
       "      <td>{\"xyn\": [[[0.5516005158424377, 0.5251188278198...</td>\n",
       "    </tr>\n",
       "    <tr>\n",
       "      <th>2025-03-13 23:03:09.800143+00:00</th>\n",
       "      <td>{\"xyn\": [[[0.5502411127090454, 0.5264595746994...</td>\n",
       "    </tr>\n",
       "    <tr>\n",
       "      <th>2025-03-13 23:03:09.900155+00:00</th>\n",
       "      <td>{\"xyn\": [[[0.5495722889900208, 0.5285299420356...</td>\n",
       "    </tr>\n",
       "  </tbody>\n",
       "</table>\n",
       "<p>100 rows × 1 columns</p>\n",
       "</div>"
      ],
      "text/plain": [
       "                                                                               pose\n",
       "sampleDT                                                                           \n",
       "2025-03-13 23:03:00.000596+00:00  {\"xyn\": [[[0.548828661441803, 0.53396099805831...\n",
       "2025-03-13 23:03:00.100148+00:00  {\"xyn\": [[[0.5484716296195984, 0.5321729779243...\n",
       "2025-03-13 23:03:00.201352+00:00  {\"xyn\": [[[0.5490943193435669, 0.5313501954078...\n",
       "2025-03-13 23:03:00.303282+00:00  {\"xyn\": [[[0.5493457913398743, 0.5299937725067...\n",
       "2025-03-13 23:03:00.402564+00:00  {\"xyn\": [[[0.5500948429107666, 0.5293601155281...\n",
       "...                                                                             ...\n",
       "2025-03-13 23:03:09.500148+00:00  {\"xyn\": [[[0.5534456372261047, 0.5194787979125...\n",
       "2025-03-13 23:03:09.600136+00:00  {\"xyn\": [[[0.5525461435317993, 0.5217380523681...\n",
       "2025-03-13 23:03:09.700147+00:00  {\"xyn\": [[[0.5516005158424377, 0.5251188278198...\n",
       "2025-03-13 23:03:09.800143+00:00  {\"xyn\": [[[0.5502411127090454, 0.5264595746994...\n",
       "2025-03-13 23:03:09.900155+00:00  {\"xyn\": [[[0.5495722889900208, 0.5285299420356...\n",
       "\n",
       "[100 rows x 1 columns]"
      ]
     },
     "execution_count": 5,
     "metadata": {},
     "output_type": "execute_result"
    }
   ],
   "source": [
    "import pandas as pd\n",
    "newDf = pd.DataFrame(data=newDfRows, columns=['sampleDT', 'pose'])\n",
    "newDf = newDf.set_index('sampleDT')\n",
    "newDf"
   ]
  },
  {
   "cell_type": "code",
   "execution_count": 6,
   "metadata": {},
   "outputs": [
    {
     "name": "stdout",
     "output_type": "stream",
     "text": [
      "hashes match for 2025-03-13T230300,000596+0000_2025-03-13T230309,900155+0000_821a0a3a_.parquet.gzip\n"
     ]
    }
   ],
   "source": [
    "writeWorkingTSDf(outputDescriptor, newDf)"
   ]
  },
  {
   "cell_type": "code",
   "execution_count": 7,
   "metadata": {},
   "outputs": [],
   "source": [
    "# \"SELECT * FROM 'data/video_*.parquet.gzip'\"\n",
    "#maybe I shuold use snappy?"
   ]
  },
  {
   "cell_type": "code",
   "execution_count": 16,
   "metadata": {},
   "outputs": [
    {
     "ename": "TypeError",
     "evalue": "query(): incompatible function arguments. The following argument types are supported:\n    1. (query: object, *, alias: str = '', params: object = None, connection: duckdb.DuckDBPyConnection = None) -> duckdb.duckdb.DuckDBPyRelation\n\nInvoked with: \"\\nSELECT * FROM read_parquet('?*')\\nWHERE sampleDT BETWEEN ? AND ?\\n\", ['/home/chowder/Documents/workingData/abhik_bedroompi_ultralytics_piCam-raspberryPi5-Camv3120_17pose_yolo11x-pose/', '2025-03-13T23:03:00.201352+00:00', '2025-03-13T23:03:09.700147+00:00']",
     "output_type": "error",
     "traceback": [
      "\u001b[0;31m---------------------------------------------------------------------------\u001b[0m",
      "\u001b[0;31mTypeError\u001b[0m                                 Traceback (most recent call last)",
      "Cell \u001b[0;32mIn[16], line 12\u001b[0m\n\u001b[1;32m      6\u001b[0m eTS \u001b[38;5;241m=\u001b[39m newDf\u001b[38;5;241m.\u001b[39miloc[\u001b[38;5;241m97\u001b[39m]\u001b[38;5;241m.\u001b[39mname\u001b[38;5;241m.\u001b[39misoformat()\n\u001b[1;32m      8\u001b[0m query \u001b[38;5;241m=\u001b[39m \u001b[38;5;124m\"\"\"\u001b[39m\n\u001b[1;32m      9\u001b[0m \u001b[38;5;124mSELECT * FROM read_parquet(\u001b[39m\u001b[38;5;124m'\u001b[39m\u001b[38;5;124m?*\u001b[39m\u001b[38;5;124m'\u001b[39m\u001b[38;5;124m)\u001b[39m\n\u001b[1;32m     10\u001b[0m \u001b[38;5;124mWHERE sampleDT BETWEEN ? AND ?\u001b[39m\n\u001b[1;32m     11\u001b[0m \u001b[38;5;124m\"\"\"\u001b[39m\n\u001b[0;32m---> 12\u001b[0m result \u001b[38;5;241m=\u001b[39m \u001b[43mduckdb\u001b[49m\u001b[38;5;241;43m.\u001b[39;49m\u001b[43mquery\u001b[49m\u001b[43m(\u001b[49m\u001b[43mquery\u001b[49m\u001b[43m,\u001b[49m\u001b[43m \u001b[49m\u001b[43m[\u001b[49m\u001b[43mwdp\u001b[49m\u001b[43m,\u001b[49m\u001b[43m \u001b[49m\u001b[43msTS\u001b[49m\u001b[43m,\u001b[49m\u001b[43m \u001b[49m\u001b[43meTS\u001b[49m\u001b[43m]\u001b[49m\u001b[43m)\u001b[49m\u001b[38;5;241m.\u001b[39mdf()\n\u001b[1;32m     13\u001b[0m \u001b[38;5;28mprint\u001b[39m(result)\n",
      "\u001b[0;31mTypeError\u001b[0m: query(): incompatible function arguments. The following argument types are supported:\n    1. (query: object, *, alias: str = '', params: object = None, connection: duckdb.DuckDBPyConnection = None) -> duckdb.duckdb.DuckDBPyRelation\n\nInvoked with: \"\\nSELECT * FROM read_parquet('?*')\\nWHERE sampleDT BETWEEN ? AND ?\\n\", ['/home/chowder/Documents/workingData/abhik_bedroompi_ultralytics_piCam-raspberryPi5-Camv3120_17pose_yolo11x-pose/', '2025-03-13T23:03:00.201352+00:00', '2025-03-13T23:03:09.700147+00:00']"
     ]
    }
   ],
   "source": [
    "import duckdb\n",
    "\n",
    "\n",
    "wdp = getWorkingTSDfPath(outputDescriptor)\n",
    "sTS = newDf.iloc[2].name.isoformat()\n",
    "eTS = newDf.iloc[97].name.isoformat()\n",
    "\n",
    "query = \"\"\"\n",
    "SELECT * FROM read_parquet('?*')\n",
    "WHERE sampleDT BETWEEN ? AND ?\n",
    "\"\"\"\n",
    "result = duckdb.query(query, [wdp, sTS, eTS]).df()\n",
    "print(result)"
   ]
  },
  {
   "cell_type": "code",
   "execution_count": 18,
   "metadata": {},
   "outputs": [
    {
     "name": "stdout",
     "output_type": "stream",
     "text": [
      "2025-03-13 23:03:00.303282+00:00\n",
      "2025-03-13 23:03:09.700147+00:00\n",
      "                                                                               pose\n",
      "sampleDT                                                                           \n",
      "2025-03-13 16:03:00.303282-07:00  {\"xyn\": [[[0.5493457913398743, 0.5299937725067...\n",
      "2025-03-13 16:03:00.402564-07:00  {\"xyn\": [[[0.5500948429107666, 0.5293601155281...\n",
      "2025-03-13 16:03:00.500204-07:00  {\"xyn\": [[[0.551284670829773, 0.52800923585891...\n",
      "2025-03-13 16:03:00.600374-07:00  {\"xyn\": [[[0.5559868216514587, 0.5183365941047...\n",
      "2025-03-13 16:03:00.700461-07:00  {\"xyn\": [[[0.562384307384491, 0.50334841012954...\n",
      "...                                                                             ...\n",
      "2025-03-13 16:03:09.300135-07:00  {\"xyn\": [[[0.5577629208564758, 0.5098487734794...\n",
      "2025-03-13 16:03:09.400139-07:00  {\"xyn\": [[[0.5545237064361572, 0.5173035264015...\n",
      "2025-03-13 16:03:09.500148-07:00  {\"xyn\": [[[0.5534456372261047, 0.5194787979125...\n",
      "2025-03-13 16:03:09.600136-07:00  {\"xyn\": [[[0.5525461435317993, 0.5217380523681...\n",
      "2025-03-13 16:03:09.700147-07:00  {\"xyn\": [[[0.5516005158424377, 0.5251188278198...\n",
      "\n",
      "[95 rows x 1 columns]\n"
     ]
    }
   ],
   "source": [
    "import duckdb\n",
    "import pandas as pd\n",
    "\n",
    "# Example: Extracting timestamps from a DataFrame index\n",
    "sTS = newDf.iloc[3].name\n",
    "eTS = newDf.iloc[97].name\n",
    "\n",
    "# Open a DuckDB connection\n",
    "con = duckdb.connect()\n",
    "\n",
    "# Query execution using parameterized input\n",
    "query = f\"\"\"\n",
    "SELECT * FROM read_parquet('{wdp}*')\n",
    "WHERE sampleDT BETWEEN ? AND ?\n",
    "\"\"\"\n",
    "\n",
    "result = con.execute(query, [sTS, eTS]).df().set_index('sampleDT')\n",
    "print(sTS)\n",
    "print(eTS)\n",
    "print(result)"
   ]
  },
  {
   "cell_type": "code",
   "execution_count": 20,
   "metadata": {},
   "outputs": [
    {
     "name": "stdout",
     "output_type": "stream",
     "text": [
      "2025-03-13T23:03:00.303282+00:00\n",
      "2025-03-13T23:03:09.700147+00:00\n",
      "                                                                               pose\n",
      "sampleDT                                                                           \n",
      "2025-03-13 16:03:00.303282-07:00  {\"xyn\": [[[0.5493457913398743, 0.5299937725067...\n",
      "2025-03-13 16:03:00.402564-07:00  {\"xyn\": [[[0.5500948429107666, 0.5293601155281...\n",
      "2025-03-13 16:03:00.500204-07:00  {\"xyn\": [[[0.551284670829773, 0.52800923585891...\n",
      "2025-03-13 16:03:00.600374-07:00  {\"xyn\": [[[0.5559868216514587, 0.5183365941047...\n",
      "2025-03-13 16:03:00.700461-07:00  {\"xyn\": [[[0.562384307384491, 0.50334841012954...\n",
      "...                                                                             ...\n",
      "2025-03-13 16:03:09.300135-07:00  {\"xyn\": [[[0.5577629208564758, 0.5098487734794...\n",
      "2025-03-13 16:03:09.400139-07:00  {\"xyn\": [[[0.5545237064361572, 0.5173035264015...\n",
      "2025-03-13 16:03:09.500148-07:00  {\"xyn\": [[[0.5534456372261047, 0.5194787979125...\n",
      "2025-03-13 16:03:09.600136-07:00  {\"xyn\": [[[0.5525461435317993, 0.5217380523681...\n",
      "2025-03-13 16:03:09.700147-07:00  {\"xyn\": [[[0.5516005158424377, 0.5251188278198...\n",
      "\n",
      "[95 rows x 1 columns]\n"
     ]
    }
   ],
   "source": [
    "import duckdb\n",
    "import pandas as pd\n",
    "\n",
    "# Example: Extracting timestamps from a DataFrame index\n",
    "sTS = newDf.iloc[3].name.isoformat()\n",
    "eTS = newDf.iloc[97].name.isoformat()\n",
    "\n",
    "# Open a DuckDB connection\n",
    "con = duckdb.connect()\n",
    "\n",
    "# Query execution using parameterized input\n",
    "query = f\"\"\"\n",
    "SELECT * FROM read_parquet('{wdp}*')\n",
    "WHERE sampleDT BETWEEN '{sTS}' AND '{eTS}'\n",
    "\"\"\"\n",
    "\n",
    "result = con.execute(query).df().set_index('sampleDT')\n",
    "print(sTS)\n",
    "print(eTS)\n",
    "print(result)"
   ]
  },
  {
   "cell_type": "code",
   "execution_count": null,
   "metadata": {},
   "outputs": [],
   "source": []
  }
 ],
 "metadata": {
  "kernelspec": {
   "display_name": "vision",
   "language": "python",
   "name": "python3"
  },
  "language_info": {
   "codemirror_mode": {
    "name": "ipython",
    "version": 3
   },
   "file_extension": ".py",
   "mimetype": "text/x-python",
   "name": "python",
   "nbconvert_exporter": "python",
   "pygments_lexer": "ipython3",
   "version": "3.11.10"
  }
 },
 "nbformat": 4,
 "nbformat_minor": 2
}
