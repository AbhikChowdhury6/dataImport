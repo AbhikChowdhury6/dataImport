{
 "cells": [
  {
   "cell_type": "code",
   "execution_count": 1,
   "metadata": {},
   "outputs": [],
   "source": [
    "import cv2\n",
    "import os\n",
    "import sys\n",
    "from datetime import datetime\n",
    "from ultralytics import YOLO\n",
    "import matplotlib.pyplot as plt\n",
    "\n",
    "cwd = os.getcwd()\n",
    "delimiter = \"\\\\\" if \"\\\\\" in cwd else \"/\"\n",
    "repoPath = delimiter.join(cwd.split(delimiter)[:cwd.split(delimiter).index(\"dataImport\")]) + delimiter\n",
    "sys.path.append(repoPath + \"dataImport/\")\n",
    "import vidUtils\n",
    "from vidUtils import getFrame, getCap\n",
    "import rwWorkingTSDf\n",
    "from rwWorkingTSDf import readWorkingTSDF, writeWorkingTSDf, getWorkingTSDfPath"
   ]
  },
  {
   "cell_type": "code",
   "execution_count": 2,
   "metadata": {},
   "outputs": [],
   "source": [
    "model = YOLO(\"yolo11x-pose.pt\")"
   ]
  },
  {
   "cell_type": "code",
   "execution_count": 3,
   "metadata": {},
   "outputs": [],
   "source": [
    "deviceDescriptor = [\"abhik\", \"bedroompi\", \"abhik\", \"piCam-raspberryPi5-Camv3120\", \"mp4\", \"piVidCap\"]\n",
    "outputDescriptor = [\"abhik\", \"bedroompi\", \"ultralytics\", \"piCam-raspberryPi5-Camv3120\", \"17pose\", \"yolo11x-pose\"]"
   ]
  },
  {
   "cell_type": "code",
   "execution_count": 4,
   "metadata": {},
   "outputs": [
    {
     "name": "stdout",
     "output_type": "stream",
     "text": [
      "read in 30466 rows from 1 files, retruning 30466 rows\n"
     ]
    }
   ],
   "source": [
    "vidDf = readWorkingTSDF(*deviceDescriptor)\n",
    "import json\n",
    "\n",
    "newDfRows = []\n",
    "for i in range(100):\n",
    "    row = vidDf.iloc[i]\n",
    "    ts = row.name\n",
    "    videoIndex = row['videoIndex']\n",
    "    videoStartTime = row['videoStartTime']\n",
    "    videoEndTime = row['videoEndTime']\n",
    "    frame = getFrame(deviceDescriptor, videoStartTime, videoEndTime, videoIndex)\n",
    "    result = model(frame, verbose=False)\n",
    "    toSave = json.dumps({'xyn': result[0].keypoints.xyn.tolist(), 'conf': result[0].keypoints.conf.tolist()})\n",
    "    newDfRows.append([ts, toSave])\n"
   ]
  },
  {
   "cell_type": "code",
   "execution_count": 5,
   "metadata": {},
   "outputs": [
    {
     "data": {
      "text/html": [
       "<div>\n",
       "<style scoped>\n",
       "    .dataframe tbody tr th:only-of-type {\n",
       "        vertical-align: middle;\n",
       "    }\n",
       "\n",
       "    .dataframe tbody tr th {\n",
       "        vertical-align: top;\n",
       "    }\n",
       "\n",
       "    .dataframe thead th {\n",
       "        text-align: right;\n",
       "    }\n",
       "</style>\n",
       "<table border=\"1\" class=\"dataframe\">\n",
       "  <thead>\n",
       "    <tr style=\"text-align: right;\">\n",
       "      <th></th>\n",
       "      <th>pose</th>\n",
       "    </tr>\n",
       "    <tr>\n",
       "      <th>sampleDT</th>\n",
       "      <th></th>\n",
       "    </tr>\n",
       "  </thead>\n",
       "  <tbody>\n",
       "    <tr>\n",
       "      <th>2025-03-13 23:03:00.000596+00:00</th>\n",
       "      <td>{\"xyn\": [[[0.548828661441803, 0.53396099805831...</td>\n",
       "    </tr>\n",
       "    <tr>\n",
       "      <th>2025-03-13 23:03:00.100148+00:00</th>\n",
       "      <td>{\"xyn\": [[[0.5484716296195984, 0.5321729779243...</td>\n",
       "    </tr>\n",
       "    <tr>\n",
       "      <th>2025-03-13 23:03:00.201352+00:00</th>\n",
       "      <td>{\"xyn\": [[[0.5490943193435669, 0.5313501954078...</td>\n",
       "    </tr>\n",
       "    <tr>\n",
       "      <th>2025-03-13 23:03:00.303282+00:00</th>\n",
       "      <td>{\"xyn\": [[[0.5493457913398743, 0.5299937725067...</td>\n",
       "    </tr>\n",
       "    <tr>\n",
       "      <th>2025-03-13 23:03:00.402564+00:00</th>\n",
       "      <td>{\"xyn\": [[[0.5500948429107666, 0.5293601155281...</td>\n",
       "    </tr>\n",
       "    <tr>\n",
       "      <th>...</th>\n",
       "      <td>...</td>\n",
       "    </tr>\n",
       "    <tr>\n",
       "      <th>2025-03-13 23:03:09.500148+00:00</th>\n",
       "      <td>{\"xyn\": [[[0.5534456372261047, 0.5194787979125...</td>\n",
       "    </tr>\n",
       "    <tr>\n",
       "      <th>2025-03-13 23:03:09.600136+00:00</th>\n",
       "      <td>{\"xyn\": [[[0.5525461435317993, 0.5217380523681...</td>\n",
       "    </tr>\n",
       "    <tr>\n",
       "      <th>2025-03-13 23:03:09.700147+00:00</th>\n",
       "      <td>{\"xyn\": [[[0.5516005158424377, 0.5251188278198...</td>\n",
       "    </tr>\n",
       "    <tr>\n",
       "      <th>2025-03-13 23:03:09.800143+00:00</th>\n",
       "      <td>{\"xyn\": [[[0.5502411127090454, 0.5264595746994...</td>\n",
       "    </tr>\n",
       "    <tr>\n",
       "      <th>2025-03-13 23:03:09.900155+00:00</th>\n",
       "      <td>{\"xyn\": [[[0.5495722889900208, 0.5285299420356...</td>\n",
       "    </tr>\n",
       "  </tbody>\n",
       "</table>\n",
       "<p>100 rows × 1 columns</p>\n",
       "</div>"
      ],
      "text/plain": [
       "                                                                               pose\n",
       "sampleDT                                                                           \n",
       "2025-03-13 23:03:00.000596+00:00  {\"xyn\": [[[0.548828661441803, 0.53396099805831...\n",
       "2025-03-13 23:03:00.100148+00:00  {\"xyn\": [[[0.5484716296195984, 0.5321729779243...\n",
       "2025-03-13 23:03:00.201352+00:00  {\"xyn\": [[[0.5490943193435669, 0.5313501954078...\n",
       "2025-03-13 23:03:00.303282+00:00  {\"xyn\": [[[0.5493457913398743, 0.5299937725067...\n",
       "2025-03-13 23:03:00.402564+00:00  {\"xyn\": [[[0.5500948429107666, 0.5293601155281...\n",
       "...                                                                             ...\n",
       "2025-03-13 23:03:09.500148+00:00  {\"xyn\": [[[0.5534456372261047, 0.5194787979125...\n",
       "2025-03-13 23:03:09.600136+00:00  {\"xyn\": [[[0.5525461435317993, 0.5217380523681...\n",
       "2025-03-13 23:03:09.700147+00:00  {\"xyn\": [[[0.5516005158424377, 0.5251188278198...\n",
       "2025-03-13 23:03:09.800143+00:00  {\"xyn\": [[[0.5502411127090454, 0.5264595746994...\n",
       "2025-03-13 23:03:09.900155+00:00  {\"xyn\": [[[0.5495722889900208, 0.5285299420356...\n",
       "\n",
       "[100 rows x 1 columns]"
      ]
     },
     "execution_count": 5,
     "metadata": {},
     "output_type": "execute_result"
    }
   ],
   "source": [
    "import pandas as pd\n",
    "newDf = pd.DataFrame(data=newDfRows, columns=['sampleDT', 'pose'])\n",
    "newDf = newDf.set_index('sampleDT')\n",
    "newDf"
   ]
  },
  {
   "cell_type": "code",
   "execution_count": null,
   "metadata": {},
   "outputs": [
    {
     "name": "stdout",
     "output_type": "stream",
     "text": [
      "saved to a file named 2025-03-13T230300,000596+0000_2025-03-13T230309,900155+0000_821a0a3a_.parquet.gzip\n"
     ]
    }
   ],
   "source": [
    "writeWorkingTSDf(outputDescriptor, newDf)"
   ]
  },
  {
   "cell_type": "code",
   "execution_count": null,
   "metadata": {},
   "outputs": [],
   "source": [
    "import duckdb\n",
    "\n",
    "\n",
    "\n",
    "\n",
    "query = \"\"\"\n",
    "SELECT * FROM 'frames.parquet.gzip'\n",
    "WHERE timestamp BETWEEN 100 AND 200\n",
    "\"\"\"\n",
    "result = duckdb.query(query).df()\n",
    "print(result)"
   ]
  },
  {
   "cell_type": "code",
   "execution_count": null,
   "metadata": {},
   "outputs": [],
   "source": []
  }
 ],
 "metadata": {
  "kernelspec": {
   "display_name": "vision",
   "language": "python",
   "name": "python3"
  },
  "language_info": {
   "codemirror_mode": {
    "name": "ipython",
    "version": 3
   },
   "file_extension": ".py",
   "mimetype": "text/x-python",
   "name": "python",
   "nbconvert_exporter": "python",
   "pygments_lexer": "ipython3",
   "version": "3.11.10"
  }
 },
 "nbformat": 4,
 "nbformat_minor": 2
}
