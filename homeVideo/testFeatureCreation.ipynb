{
 "cells": [
  {
   "cell_type": "code",
   "execution_count": 1,
   "metadata": {},
   "outputs": [],
   "source": [
    "import cv2\n",
    "import os\n",
    "import sys\n",
    "from datetime import datetime\n",
    "from ultralytics import YOLO\n",
    "import matplotlib.pyplot as plt\n",
    "import duckdb\n",
    "\n",
    "\n",
    "cwd = os.getcwd()\n",
    "delimiter = \"\\\\\" if \"\\\\\" in cwd else \"/\"\n",
    "repoPath = delimiter.join(cwd.split(delimiter)[:cwd.split(delimiter).index(\"dataImport\")]) + delimiter\n",
    "sys.path.append(repoPath + \"dataImport/\")\n",
    "import vidUtils\n",
    "from vidUtils import getFrame, getCap\n",
    "import rwWorkingTSDf\n",
    "from rwWorkingTSDf import readWorkingTSDF, writeWorkingTSDf, getWorkingTSDfPath"
   ]
  },
  {
   "cell_type": "code",
   "execution_count": 2,
   "metadata": {},
   "outputs": [],
   "source": [
    "model = YOLO(\"yolo11x-pose.pt\")"
   ]
  },
  {
   "cell_type": "code",
   "execution_count": 3,
   "metadata": {},
   "outputs": [],
   "source": [
    "deviceDescriptor = [\"abhik\", \"bedroompi\", \"abhik\", \"piCam-raspberryPi5-Camv3120\", \"mp4\", \"piVidCap\"]\n",
    "outputDescriptor = [\"abhik\", \"bedroompi\", \"ultralytics\", \"piCam-raspberryPi5-Camv3120\", \"17pose\", \"yolo11x-pose\"]"
   ]
  },
  {
   "cell_type": "code",
   "execution_count": 4,
   "metadata": {},
   "outputs": [
    {
     "name": "stdout",
     "output_type": "stream",
     "text": [
      "read in 30466 rows from 1 files, retruning 30466 rows\n"
     ]
    }
   ],
   "source": [
    "vidDf = readWorkingTSDF(deviceDescriptor)\n",
    "import json\n",
    "\n",
    "newDfRows = []\n",
    "for i in range(100):\n",
    "    row = vidDf.iloc[i]\n",
    "    ts = row.name\n",
    "    videoIndex = row['videoIndex']\n",
    "    videoStartTime = row['videoStartTime']\n",
    "    videoEndTime = row['videoEndTime']\n",
    "    frame = getFrame(deviceDescriptor, videoStartTime, videoEndTime, videoIndex)\n",
    "    result = model(frame, verbose=False)\n",
    "    toSave = json.dumps({'xyn': result[0].keypoints.xyn.tolist(), 'conf': result[0].keypoints.conf.tolist()})\n",
    "    newDfRows.append([ts, toSave])\n"
   ]
  },
  {
   "cell_type": "code",
   "execution_count": 21,
   "metadata": {},
   "outputs": [],
   "source": [
    "row = vidDf.iloc[0]\n",
    "ts = row.name\n",
    "videoIndex = row['videoIndex']\n",
    "videoStartTime = row['videoStartTime']\n",
    "videoEndTime = row['videoEndTime']\n",
    "frame = getFrame(deviceDescriptor, videoStartTime, videoEndTime, videoIndex)\n",
    "result = model(frame, verbose=False)"
   ]
  },
  {
   "cell_type": "code",
   "execution_count": 25,
   "metadata": {},
   "outputs": [
    {
     "data": {
      "text/plain": [
       "[[0.548828661441803, 0.5339609980583191],\n",
       " [0.5560177564620972, 0.5020471215248108],\n",
       " [0.5317835211753845, 0.510195791721344],\n",
       " [0.0, 0.0],\n",
       " [0.49121537804603577, 0.4943516254425049],\n",
       " [0.5648428797721863, 0.5330049991607666],\n",
       " [0.4446115493774414, 0.5631726980209351],\n",
       " [0.6148164868354797, 0.611517608165741],\n",
       " [0.4482085406780243, 0.7690936923027039],\n",
       " [0.6140410304069519, 0.7285906076431274],\n",
       " [0.5214909911155701, 0.8189781308174133],\n",
       " [0.5419003367424011, 0.7451704144477844],\n",
       " [0.4563613533973694, 0.7597834467887878],\n",
       " [0.6035729646682739, 0.7961767315864563],\n",
       " [0.3784731924533844, 0.7690061330795288],\n",
       " [0.5005213022232056, 0.8904839754104614],\n",
       " [0.48805490136146545, 0.8636950254440308]]"
      ]
     },
     "execution_count": 25,
     "metadata": {},
     "output_type": "execute_result"
    }
   ],
   "source": [
    "result[0].keypoints.xyn.tolist()[0]"
   ]
  },
  {
   "cell_type": "code",
   "execution_count": 5,
   "metadata": {},
   "outputs": [
    {
     "data": {
      "text/html": [
       "<div>\n",
       "<style scoped>\n",
       "    .dataframe tbody tr th:only-of-type {\n",
       "        vertical-align: middle;\n",
       "    }\n",
       "\n",
       "    .dataframe tbody tr th {\n",
       "        vertical-align: top;\n",
       "    }\n",
       "\n",
       "    .dataframe thead th {\n",
       "        text-align: right;\n",
       "    }\n",
       "</style>\n",
       "<table border=\"1\" class=\"dataframe\">\n",
       "  <thead>\n",
       "    <tr style=\"text-align: right;\">\n",
       "      <th></th>\n",
       "      <th>pose</th>\n",
       "    </tr>\n",
       "    <tr>\n",
       "      <th>sampleDT</th>\n",
       "      <th></th>\n",
       "    </tr>\n",
       "  </thead>\n",
       "  <tbody>\n",
       "    <tr>\n",
       "      <th>2025-03-13 23:03:00.000596+00:00</th>\n",
       "      <td>{\"xyn\": [[[0.548828661441803, 0.53396099805831...</td>\n",
       "    </tr>\n",
       "    <tr>\n",
       "      <th>2025-03-13 23:03:00.100148+00:00</th>\n",
       "      <td>{\"xyn\": [[[0.5484716296195984, 0.5321729779243...</td>\n",
       "    </tr>\n",
       "    <tr>\n",
       "      <th>2025-03-13 23:03:00.201352+00:00</th>\n",
       "      <td>{\"xyn\": [[[0.5490943193435669, 0.5313501954078...</td>\n",
       "    </tr>\n",
       "    <tr>\n",
       "      <th>2025-03-13 23:03:00.303282+00:00</th>\n",
       "      <td>{\"xyn\": [[[0.5493457913398743, 0.5299937725067...</td>\n",
       "    </tr>\n",
       "    <tr>\n",
       "      <th>2025-03-13 23:03:00.402564+00:00</th>\n",
       "      <td>{\"xyn\": [[[0.5500948429107666, 0.5293601155281...</td>\n",
       "    </tr>\n",
       "    <tr>\n",
       "      <th>...</th>\n",
       "      <td>...</td>\n",
       "    </tr>\n",
       "    <tr>\n",
       "      <th>2025-03-13 23:03:09.500148+00:00</th>\n",
       "      <td>{\"xyn\": [[[0.5534456372261047, 0.5194787979125...</td>\n",
       "    </tr>\n",
       "    <tr>\n",
       "      <th>2025-03-13 23:03:09.600136+00:00</th>\n",
       "      <td>{\"xyn\": [[[0.5525461435317993, 0.5217380523681...</td>\n",
       "    </tr>\n",
       "    <tr>\n",
       "      <th>2025-03-13 23:03:09.700147+00:00</th>\n",
       "      <td>{\"xyn\": [[[0.5516005158424377, 0.5251188278198...</td>\n",
       "    </tr>\n",
       "    <tr>\n",
       "      <th>2025-03-13 23:03:09.800143+00:00</th>\n",
       "      <td>{\"xyn\": [[[0.5502411127090454, 0.5264595746994...</td>\n",
       "    </tr>\n",
       "    <tr>\n",
       "      <th>2025-03-13 23:03:09.900155+00:00</th>\n",
       "      <td>{\"xyn\": [[[0.5495722889900208, 0.5285299420356...</td>\n",
       "    </tr>\n",
       "  </tbody>\n",
       "</table>\n",
       "<p>100 rows × 1 columns</p>\n",
       "</div>"
      ],
      "text/plain": [
       "                                                                               pose\n",
       "sampleDT                                                                           \n",
       "2025-03-13 23:03:00.000596+00:00  {\"xyn\": [[[0.548828661441803, 0.53396099805831...\n",
       "2025-03-13 23:03:00.100148+00:00  {\"xyn\": [[[0.5484716296195984, 0.5321729779243...\n",
       "2025-03-13 23:03:00.201352+00:00  {\"xyn\": [[[0.5490943193435669, 0.5313501954078...\n",
       "2025-03-13 23:03:00.303282+00:00  {\"xyn\": [[[0.5493457913398743, 0.5299937725067...\n",
       "2025-03-13 23:03:00.402564+00:00  {\"xyn\": [[[0.5500948429107666, 0.5293601155281...\n",
       "...                                                                             ...\n",
       "2025-03-13 23:03:09.500148+00:00  {\"xyn\": [[[0.5534456372261047, 0.5194787979125...\n",
       "2025-03-13 23:03:09.600136+00:00  {\"xyn\": [[[0.5525461435317993, 0.5217380523681...\n",
       "2025-03-13 23:03:09.700147+00:00  {\"xyn\": [[[0.5516005158424377, 0.5251188278198...\n",
       "2025-03-13 23:03:09.800143+00:00  {\"xyn\": [[[0.5502411127090454, 0.5264595746994...\n",
       "2025-03-13 23:03:09.900155+00:00  {\"xyn\": [[[0.5495722889900208, 0.5285299420356...\n",
       "\n",
       "[100 rows x 1 columns]"
      ]
     },
     "execution_count": 5,
     "metadata": {},
     "output_type": "execute_result"
    }
   ],
   "source": [
    "import pandas as pd\n",
    "newDf = pd.DataFrame(data=newDfRows, columns=['sampleDT', 'pose'])\n",
    "newDf = newDf.set_index('sampleDT')\n",
    "newDf"
   ]
  },
  {
   "cell_type": "code",
   "execution_count": 6,
   "metadata": {},
   "outputs": [
    {
     "name": "stdout",
     "output_type": "stream",
     "text": [
      "hashes match for 2025-03-13T230300,000596+0000_2025-03-13T230309,900155+0000_821a0a3a_.parquet.gzip\n"
     ]
    }
   ],
   "source": [
    "writeWorkingTSDf(outputDescriptor, newDf)"
   ]
  },
  {
   "cell_type": "code",
   "execution_count": 7,
   "metadata": {},
   "outputs": [],
   "source": [
    "# \"SELECT * FROM 'data/video_*.parquet.gzip'\"\n",
    "#maybe I shuold use snappy?"
   ]
  },
  {
   "cell_type": "code",
   "execution_count": null,
   "metadata": {},
   "outputs": [
    {
     "name": "stdout",
     "output_type": "stream",
     "text": [
      "2025-03-13 23:03:00.303282+00:00\n",
      "2025-03-13 23:03:09.700147+00:00\n",
      "                                                                               pose\n",
      "sampleDT                                                                           \n",
      "2025-03-13 16:03:00.303282-07:00  {\"xyn\": [[[0.5493457913398743, 0.5299937725067...\n",
      "2025-03-13 16:03:00.402564-07:00  {\"xyn\": [[[0.5500948429107666, 0.5293601155281...\n",
      "2025-03-13 16:03:00.500204-07:00  {\"xyn\": [[[0.551284670829773, 0.52800923585891...\n",
      "2025-03-13 16:03:00.600374-07:00  {\"xyn\": [[[0.5559868216514587, 0.5183365941047...\n",
      "2025-03-13 16:03:00.700461-07:00  {\"xyn\": [[[0.562384307384491, 0.50334841012954...\n",
      "...                                                                             ...\n",
      "2025-03-13 16:03:09.300135-07:00  {\"xyn\": [[[0.5577629208564758, 0.5098487734794...\n",
      "2025-03-13 16:03:09.400139-07:00  {\"xyn\": [[[0.5545237064361572, 0.5173035264015...\n",
      "2025-03-13 16:03:09.500148-07:00  {\"xyn\": [[[0.5534456372261047, 0.5194787979125...\n",
      "2025-03-13 16:03:09.600136-07:00  {\"xyn\": [[[0.5525461435317993, 0.5217380523681...\n",
      "2025-03-13 16:03:09.700147-07:00  {\"xyn\": [[[0.5516005158424377, 0.5251188278198...\n",
      "\n",
      "[95 rows x 1 columns]\n"
     ]
    }
   ],
   "source": [
    "\n",
    "# Example: Extracting timestamps from a DataFrame index\n",
    "sTS = newDf.iloc[3].name\n",
    "eTS = newDf.iloc[97].name\n",
    "\n",
    "# Open a DuckDB connection\n",
    "con = duckdb.connect()\n",
    "\n",
    "# Query execution using parameterized input\n",
    "query = f\"\"\"\n",
    "SELECT * FROM read_parquet('{wdp}*')\n",
    "WHERE sampleDT BETWEEN ? AND ?\n",
    "\"\"\"\n",
    "\n",
    "result = con.execute(query, [sTS, eTS]).df().set_index('sampleDT')\n",
    "print(sTS)\n",
    "print(eTS)\n",
    "print(result)"
   ]
  },
  {
   "cell_type": "code",
   "execution_count": 32,
   "metadata": {},
   "outputs": [
    {
     "name": "stdout",
     "output_type": "stream",
     "text": [
      "2025-03-13T23:03:00.303282+00:00\n",
      "2025-03-13T23:03:09.700147+00:00\n",
      "                                                                               pose\n",
      "sampleDT                                                                           \n",
      "2025-03-13 16:03:00.303282-07:00  {\"xyn\": [[[0.5493457913398743, 0.5299937725067...\n",
      "2025-03-13 16:03:00.402564-07:00  {\"xyn\": [[[0.5500948429107666, 0.5293601155281...\n",
      "2025-03-13 16:03:00.500204-07:00  {\"xyn\": [[[0.551284670829773, 0.52800923585891...\n",
      "2025-03-13 16:03:00.600374-07:00  {\"xyn\": [[[0.5559868216514587, 0.5183365941047...\n",
      "2025-03-13 16:03:00.700461-07:00  {\"xyn\": [[[0.562384307384491, 0.50334841012954...\n",
      "...                                                                             ...\n",
      "2025-03-13 16:03:09.300135-07:00  {\"xyn\": [[[0.5577629208564758, 0.5098487734794...\n",
      "2025-03-13 16:03:09.400139-07:00  {\"xyn\": [[[0.5545237064361572, 0.5173035264015...\n",
      "2025-03-13 16:03:09.500148-07:00  {\"xyn\": [[[0.5534456372261047, 0.5194787979125...\n",
      "2025-03-13 16:03:09.600136-07:00  {\"xyn\": [[[0.5525461435317993, 0.5217380523681...\n",
      "2025-03-13 16:03:09.700147-07:00  {\"xyn\": [[[0.5516005158424377, 0.5251188278198...\n",
      "\n",
      "[95 rows x 1 columns]\n"
     ]
    }
   ],
   "source": [
    "\n",
    "# Example: Extracting timestamps from a DataFrame index\n",
    "sTS = newDf.iloc[3].name.isoformat()\n",
    "eTS = newDf.iloc[97].name.isoformat()\n",
    "\n",
    "# Open a DuckDB connection\n",
    "con = duckdb.connect()\n",
    "\n",
    "# Query execution using parameterized input\n",
    "query = f\"\"\"\n",
    "SELECT * FROM read_parquet('{wdp}*')\n",
    "WHERE sampleDT BETWEEN '{sTS}' AND '{eTS}'\n",
    "\"\"\"\n",
    "\n",
    "result = con.execute(query).df().set_index('sampleDT')\n",
    "print(sTS)\n",
    "print(eTS)\n",
    "print(result)"
   ]
  },
  {
   "cell_type": "code",
   "execution_count": 39,
   "metadata": {},
   "outputs": [
    {
     "data": {
      "text/plain": [
       "'{\"xyn\": [[[0.5493457913398743, 0.5299937725067139], [0.5564596056938171, 0.49916407465934753], [0.5327727198600769, 0.507202684879303], [0.0, 0.0], [0.49235010147094727, 0.49065545201301575], [0.5644938349723816, 0.531312882900238], [0.44555139541625977, 0.5622283220291138], [0.6149812936782837, 0.6118618249893188], [0.44849061965942383, 0.767432451248169], [0.6145949959754944, 0.7294580340385437], [0.5215438604354858, 0.8196727633476257], [0.5393237471580505, 0.7405465841293335], [0.4549259841442108, 0.7557634115219116], [0.6017857789993286, 0.7936225533485413], [0.37912461161613464, 0.7722176909446716], [0.4971955716609955, 0.8887398838996887], [0.4855356216430664, 0.8622958064079285]]], \"conf\": [[0.9974155426025391, 0.9061453342437744, 0.9973766803741455, 0.13243576884269714, 0.9925325512886047, 0.996394693851471, 0.998034656047821, 0.9773266911506653, 0.981618344783783, 0.9947291016578674, 0.9945664405822754, 0.9592680335044861, 0.9588340520858765, 0.9528013467788696, 0.9330042004585266, 0.760539174079895, 0.704466700553894]]}'"
      ]
     },
     "execution_count": 39,
     "metadata": {},
     "output_type": "execute_result"
    }
   ],
   "source": [
    "result.iloc[0]['pose']"
   ]
  },
  {
   "cell_type": "code",
   "execution_count": 41,
   "metadata": {},
   "outputs": [],
   "source": [
    "j = json.loads(result.iloc[0]['pose'])"
   ]
  },
  {
   "cell_type": "code",
   "execution_count": 45,
   "metadata": {},
   "outputs": [
    {
     "data": {
      "text/plain": [
       "True"
      ]
     },
     "execution_count": 45,
     "metadata": {},
     "output_type": "execute_result"
    }
   ],
   "source": [
    "j['xyn'][0][0][0] < 0.55"
   ]
  },
  {
   "cell_type": "code",
   "execution_count": null,
   "metadata": {},
   "outputs": [],
   "source": [
    "#jsonb will be good for now we'll use protobuff later once things stablize, and if needed"
   ]
  },
  {
   "cell_type": "code",
   "execution_count": null,
   "metadata": {},
   "outputs": [],
   "source": [
    "# Example: Extracting timestamps from a DataFrame index\n",
    "sTS = newDf.iloc[3].name.isoformat()\n",
    "eTS = newDf.iloc[97].name.isoformat()\n",
    "\n",
    "# Open a DuckDB connection\n",
    "con = duckdb.connect()\n",
    "\n",
    "# Query execution using parameterized input\n",
    "query = f\"\"\"\n",
    "SELECT * FROM read_parquet('{wdp}*')\n",
    "WHERE sampleDT BETWEEN '{sTS}' AND '{eTS}'\n",
    "\"\"\"\n",
    "\n",
    "query = f\"\"\"\n",
    "SELECT sampleDT, pose::json -> 'xyn' \n",
    "FROM read_parquet('{wdp}*')\n",
    "WHERE pose::json -> 'xyn' IS NOT NULL\n",
    "\"\"\"\n",
    "\n",
    "result = con.execute(query).df().set_index('sampleDT')\n",
    "print(sTS)\n",
    "print(eTS)\n",
    "print(result)"
   ]
  }
 ],
 "metadata": {
  "kernelspec": {
   "display_name": "vision",
   "language": "python",
   "name": "python3"
  },
  "language_info": {
   "codemirror_mode": {
    "name": "ipython",
    "version": 3
   },
   "file_extension": ".py",
   "mimetype": "text/x-python",
   "name": "python",
   "nbconvert_exporter": "python",
   "pygments_lexer": "ipython3",
   "version": "3.11.10"
  }
 },
 "nbformat": 4,
 "nbformat_minor": 2
}
