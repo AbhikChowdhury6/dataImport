{
 "cells": [
  {
   "cell_type": "code",
   "execution_count": null,
   "metadata": {
    "vscode": {
     "languageId": "plaintext"
    }
   },
   "outputs": [],
   "source": [
    "# get a flattend list of all the videos for a given camera\n",
    "\n",
    "# deduplicate the metadatadfs\n",
    "# for each of those video names query the DF for the number of timestamps\n",
    "# add a column called value that is the frame index\n"
   ]
  }
 ],
 "metadata": {
  "language_info": {
   "name": "python"
  }
 },
 "nbformat": 4,
 "nbformat_minor": 2
}
