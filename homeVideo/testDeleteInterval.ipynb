{
 "cells": [
  {
   "cell_type": "code",
   "execution_count": null,
   "metadata": {},
   "outputs": [],
   "source": [
    "import cv2\n",
    "import os\n",
    "import sys\n",
    "from datetime import datetime\n",
    "\n",
    "cwd = os.getcwd()\n",
    "delimiter = \"\\\\\" if \"\\\\\" in cwd else \"/\"\n",
    "repoPath = delimiter.join(cwd.split(delimiter)[:cwd.split(delimiter).index(\"dataImport\")]) + delimiter\n",
    "sys.path.append(repoPath + \"dataImport/\")\n",
    "import vidUtils\n",
    "from vidUtils import deleteVidInterval\n",
    "import rwWorkingTSDf\n",
    "from rwWorkingTSDf import readWorkingTSDF, deleteTSDfInterval"
   ]
  },
  {
   "cell_type": "code",
   "execution_count": null,
   "metadata": {},
   "outputs": [],
   "source": [
    "deviceDescriptor = [\"abhik\", \"mobilepi\", \"abhik\", \"piCam-raspberryPi5-Camv3120noir\", \"mp4\", \"piVidCap\"]\n",
    "#deviceDescriptor = [\"abhik\", \"bedroompi\", \"abhik\", \"piCam-raspberryPi5-Camv3120\", \"mp4\", \"piVidCap\"]\n",
    "#deviceDescriptor = [\"abhik\", \"bathroompi\", \"abhik\", \"piCam-raspberryPi5-Camv3noir\", \"mp4\", \"piVidCap\"]\n",
    "#deviceDescriptor = [\"abhik\", \"kitchenpi\", \"abhik\", \"piCam-raspberryPi5-Camv3120noir\", \"mp4\", \"piVidCap\"]\n",
    "\n",
    "# find some timestamps\n",
    "vidDf = readWorkingTSDF(deviceDescriptor)\n",
    "vidDf"
   ]
  },
  {
   "cell_type": "code",
   "execution_count": null,
   "metadata": {},
   "outputs": [],
   "source": [
    "idx = 10\n",
    "videoIndex = vidDf.iloc[idx]['videoIndex']\n",
    "videoStartTime = vidDf.iloc[idx]['videoStartTime']\n",
    "videoEndTime = vidDf.iloc[idx]['videoEndTime']"
   ]
  },
  {
   "cell_type": "code",
   "execution_count": null,
   "metadata": {},
   "outputs": [],
   "source": [
    "fitbitDeviceDescriptor = [\"abhik\", \"0\", \"fitbit\", \"charge4or5\", \"hr\", \"builtin\"]\n",
    "fitbitDf = readWorkingTSDF(fitbitDeviceDescriptor)"
   ]
  },
  {
   "cell_type": "code",
   "execution_count": null,
   "metadata": {},
   "outputs": [],
   "source": []
  },
  {
   "cell_type": "code",
   "execution_count": null,
   "metadata": {},
   "outputs": [],
   "source": []
  },
  {
   "cell_type": "code",
   "execution_count": null,
   "metadata": {},
   "outputs": [],
   "source": [
    "# the process would be to generate the start and end timestamps from looking at the video\n",
    "\n",
    "# the we'd query the vidDF for the frames beteween the timestamps\n",
    "\n",
    "#then we'd group by the start and end time \n",
    "# for each group of start and end time we'd select the smallest and largest vid index\n",
    "# we'll start a new output, and the frames from every group of videos that arent in the interval\n",
    "#cut one video\n",
    "# delete each video in between\n",
    "# cut last video\n",
    "# delete the metadata from the dataframe\n",
    "# hmm there should be a delete from the df instead of just a write\n",
    "# delte tsdf interval will have the same logic as the files\n",
    "# load all the relevant dataframes, delete them, write them back"
   ]
  },
  {
   "cell_type": "code",
   "execution_count": null,
   "metadata": {},
   "outputs": [],
   "source": []
  },
  {
   "cell_type": "code",
   "execution_count": null,
   "metadata": {},
   "outputs": [],
   "source": []
  }
 ],
 "metadata": {
  "kernelspec": {
   "display_name": "vision",
   "language": "python",
   "name": "python3"
  },
  "language_info": {
   "name": "python",
   "version": "3.11.10"
  }
 },
 "nbformat": 4,
 "nbformat_minor": 2
}
