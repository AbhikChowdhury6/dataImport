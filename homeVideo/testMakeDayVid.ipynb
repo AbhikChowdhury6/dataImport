{
 "cells": [
  {
   "cell_type": "code",
   "execution_count": null,
   "metadata": {},
   "outputs": [],
   "source": [
    "import cv2\n",
    "import os\n",
    "import sys\n",
    "from datetime import datetime\n",
    "\n",
    "cwd = os.getcwd()\n",
    "delimiter = \"\\\\\" if \"\\\\\" in cwd else \"/\"\n",
    "repoPath = delimiter.join(cwd.split(delimiter)[:cwd.split(delimiter).index(\"dataImport\")]) + delimiter\n",
    "sys.path.append(repoPath + \"dataImport/\")\n",
    "import vidUtils\n",
    "from vidUtils import generateDaysVid\n",
    "import rwWorkingTSDf\n",
    "from rwWorkingTSDf import readWorkingTSDF"
   ]
  },
  {
   "cell_type": "code",
   "execution_count": null,
   "metadata": {},
   "outputs": [],
   "source": [
    "deviceDescriptor = [\"abhik\", \"bedroompi\", \"abhik\", \"piCam-raspberryPi5-Camv3120\", \"mp4\", \"piVidCap\"]\n",
    "\n",
    "# find some timestamps\n",
    "vidDf = readWorkingTSDF(*deviceDescriptor)\n",
    "vidDf"
   ]
  },
  {
   "cell_type": "code",
   "execution_count": null,
   "metadata": {},
   "outputs": [],
   "source": [
    "idx = 10\n",
    "videoIndex = vidDf.iloc[idx]['videoIndex']\n",
    "videoStartTime = vidDf.iloc[idx]['videoStartTime']\n",
    "videoEndTime = vidDf.iloc[idx]['videoEndTime']"
   ]
  },
  {
   "cell_type": "code",
   "execution_count": null,
   "metadata": {},
   "outputs": [],
   "source": [
    "generateDaysVid(deviceDescriptor, videoStartTime)"
   ]
  }
 ],
 "metadata": {
  "kernelspec": {
   "display_name": "vision",
   "language": "python",
   "name": "python3"
  },
  "language_info": {
   "name": "python",
   "version": "3.11.10"
  }
 },
 "nbformat": 4,
 "nbformat_minor": 2
}
