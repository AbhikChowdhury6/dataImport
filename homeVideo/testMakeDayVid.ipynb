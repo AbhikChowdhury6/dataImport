{
 "cells": [
  {
   "cell_type": "code",
   "execution_count": 1,
   "metadata": {},
   "outputs": [],
   "source": [
    "import cv2\n",
    "import os\n",
    "import sys\n",
    "from datetime import datetime\n",
    "\n",
    "cwd = os.getcwd()\n",
    "delimiter = \"\\\\\" if \"\\\\\" in cwd else \"/\"\n",
    "repoPath = delimiter.join(cwd.split(delimiter)[:cwd.split(delimiter).index(\"dataImport\")]) + delimiter\n",
    "sys.path.append(repoPath + \"dataImport/\")\n",
    "import vidUtils\n",
    "from vidUtils import generateDaysVid\n",
    "import rwWorkingTSDf\n",
    "from rwWorkingTSDf import readWorkingTSDF"
   ]
  },
  {
   "cell_type": "code",
   "execution_count": 2,
   "metadata": {},
   "outputs": [
    {
     "name": "stdout",
     "output_type": "stream",
     "text": [
      "read in 30466 rows from 1 files, retruning 30466 rows\n"
     ]
    },
    {
     "data": {
      "text/html": [
       "<div>\n",
       "<style scoped>\n",
       "    .dataframe tbody tr th:only-of-type {\n",
       "        vertical-align: middle;\n",
       "    }\n",
       "\n",
       "    .dataframe tbody tr th {\n",
       "        vertical-align: top;\n",
       "    }\n",
       "\n",
       "    .dataframe thead th {\n",
       "        text-align: right;\n",
       "    }\n",
       "</style>\n",
       "<table border=\"1\" class=\"dataframe\">\n",
       "  <thead>\n",
       "    <tr style=\"text-align: right;\">\n",
       "      <th></th>\n",
       "      <th>videoIndex</th>\n",
       "      <th>videoStartTime</th>\n",
       "      <th>videoEndTime</th>\n",
       "    </tr>\n",
       "    <tr>\n",
       "      <th>sampleDT</th>\n",
       "      <th></th>\n",
       "      <th></th>\n",
       "      <th></th>\n",
       "    </tr>\n",
       "  </thead>\n",
       "  <tbody>\n",
       "    <tr>\n",
       "      <th>2025-03-13 23:03:00.000596+00:00</th>\n",
       "      <td>0</td>\n",
       "      <td>2025-03-13 23:03:00.000596+00:00</td>\n",
       "      <td>2025-03-13 23:05:59.900151+00:00</td>\n",
       "    </tr>\n",
       "    <tr>\n",
       "      <th>2025-03-13 23:03:00.100148+00:00</th>\n",
       "      <td>1</td>\n",
       "      <td>2025-03-13 23:03:00.000596+00:00</td>\n",
       "      <td>2025-03-13 23:05:59.900151+00:00</td>\n",
       "    </tr>\n",
       "    <tr>\n",
       "      <th>2025-03-13 23:03:00.201352+00:00</th>\n",
       "      <td>2</td>\n",
       "      <td>2025-03-13 23:03:00.000596+00:00</td>\n",
       "      <td>2025-03-13 23:05:59.900151+00:00</td>\n",
       "    </tr>\n",
       "    <tr>\n",
       "      <th>2025-03-13 23:03:00.303282+00:00</th>\n",
       "      <td>3</td>\n",
       "      <td>2025-03-13 23:03:00.000596+00:00</td>\n",
       "      <td>2025-03-13 23:05:59.900151+00:00</td>\n",
       "    </tr>\n",
       "    <tr>\n",
       "      <th>2025-03-13 23:03:00.402564+00:00</th>\n",
       "      <td>4</td>\n",
       "      <td>2025-03-13 23:03:00.000596+00:00</td>\n",
       "      <td>2025-03-13 23:05:59.900151+00:00</td>\n",
       "    </tr>\n",
       "    <tr>\n",
       "      <th>...</th>\n",
       "      <td>...</td>\n",
       "      <td>...</td>\n",
       "      <td>...</td>\n",
       "    </tr>\n",
       "    <tr>\n",
       "      <th>2025-03-13 23:57:44.500134+00:00</th>\n",
       "      <td>1795</td>\n",
       "      <td>2025-03-13 23:54:45.000165+00:00</td>\n",
       "      <td>2025-03-13 23:57:44.900133+00:00</td>\n",
       "    </tr>\n",
       "    <tr>\n",
       "      <th>2025-03-13 23:57:44.600140+00:00</th>\n",
       "      <td>1796</td>\n",
       "      <td>2025-03-13 23:54:45.000165+00:00</td>\n",
       "      <td>2025-03-13 23:57:44.900133+00:00</td>\n",
       "    </tr>\n",
       "    <tr>\n",
       "      <th>2025-03-13 23:57:44.700130+00:00</th>\n",
       "      <td>1797</td>\n",
       "      <td>2025-03-13 23:54:45.000165+00:00</td>\n",
       "      <td>2025-03-13 23:57:44.900133+00:00</td>\n",
       "    </tr>\n",
       "    <tr>\n",
       "      <th>2025-03-13 23:57:44.800144+00:00</th>\n",
       "      <td>1798</td>\n",
       "      <td>2025-03-13 23:54:45.000165+00:00</td>\n",
       "      <td>2025-03-13 23:57:44.900133+00:00</td>\n",
       "    </tr>\n",
       "    <tr>\n",
       "      <th>2025-03-13 23:57:44.900133+00:00</th>\n",
       "      <td>1799</td>\n",
       "      <td>2025-03-13 23:54:45.000165+00:00</td>\n",
       "      <td>2025-03-13 23:57:44.900133+00:00</td>\n",
       "    </tr>\n",
       "  </tbody>\n",
       "</table>\n",
       "<p>30466 rows × 3 columns</p>\n",
       "</div>"
      ],
      "text/plain": [
       "                                  videoIndex                   videoStartTime  \\\n",
       "sampleDT                                                                        \n",
       "2025-03-13 23:03:00.000596+00:00           0 2025-03-13 23:03:00.000596+00:00   \n",
       "2025-03-13 23:03:00.100148+00:00           1 2025-03-13 23:03:00.000596+00:00   \n",
       "2025-03-13 23:03:00.201352+00:00           2 2025-03-13 23:03:00.000596+00:00   \n",
       "2025-03-13 23:03:00.303282+00:00           3 2025-03-13 23:03:00.000596+00:00   \n",
       "2025-03-13 23:03:00.402564+00:00           4 2025-03-13 23:03:00.000596+00:00   \n",
       "...                                      ...                              ...   \n",
       "2025-03-13 23:57:44.500134+00:00        1795 2025-03-13 23:54:45.000165+00:00   \n",
       "2025-03-13 23:57:44.600140+00:00        1796 2025-03-13 23:54:45.000165+00:00   \n",
       "2025-03-13 23:57:44.700130+00:00        1797 2025-03-13 23:54:45.000165+00:00   \n",
       "2025-03-13 23:57:44.800144+00:00        1798 2025-03-13 23:54:45.000165+00:00   \n",
       "2025-03-13 23:57:44.900133+00:00        1799 2025-03-13 23:54:45.000165+00:00   \n",
       "\n",
       "                                                     videoEndTime  \n",
       "sampleDT                                                           \n",
       "2025-03-13 23:03:00.000596+00:00 2025-03-13 23:05:59.900151+00:00  \n",
       "2025-03-13 23:03:00.100148+00:00 2025-03-13 23:05:59.900151+00:00  \n",
       "2025-03-13 23:03:00.201352+00:00 2025-03-13 23:05:59.900151+00:00  \n",
       "2025-03-13 23:03:00.303282+00:00 2025-03-13 23:05:59.900151+00:00  \n",
       "2025-03-13 23:03:00.402564+00:00 2025-03-13 23:05:59.900151+00:00  \n",
       "...                                                           ...  \n",
       "2025-03-13 23:57:44.500134+00:00 2025-03-13 23:57:44.900133+00:00  \n",
       "2025-03-13 23:57:44.600140+00:00 2025-03-13 23:57:44.900133+00:00  \n",
       "2025-03-13 23:57:44.700130+00:00 2025-03-13 23:57:44.900133+00:00  \n",
       "2025-03-13 23:57:44.800144+00:00 2025-03-13 23:57:44.900133+00:00  \n",
       "2025-03-13 23:57:44.900133+00:00 2025-03-13 23:57:44.900133+00:00  \n",
       "\n",
       "[30466 rows x 3 columns]"
      ]
     },
     "execution_count": 2,
     "metadata": {},
     "output_type": "execute_result"
    }
   ],
   "source": [
    "deviceDescriptor = [\"abhik\", \"bedroompi\", \"abhik\", \"piCam-raspberryPi5-Camv3120\", \"mp4\", \"piVidCap\"]\n",
    "\n",
    "# find some timestamps\n",
    "vidDf = readWorkingTSDF(*deviceDescriptor)\n",
    "vidDf"
   ]
  },
  {
   "cell_type": "code",
   "execution_count": 3,
   "metadata": {},
   "outputs": [],
   "source": [
    "idx = 10\n",
    "videoIndex = vidDf.iloc[idx]['videoIndex']\n",
    "videoStartTime = vidDf.iloc[idx]['videoStartTime']\n",
    "videoEndTime = vidDf.iloc[idx]['videoEndTime']"
   ]
  },
  {
   "cell_type": "code",
   "execution_count": 4,
   "metadata": {},
   "outputs": [
    {
     "name": "stdout",
     "output_type": "stream",
     "text": [
      "finished wrting : 2025-03-13T233945,000157+0000_2025-03-13T234244,900142+0000.mp4\n",
      "finished wrting : 2025-03-13T232200,000163+0000_2025-03-13T232459,900132+0000.mp4\n",
      "finished wrting : 2025-03-13T234245,000152+0000_2025-03-13T234544,900150+0000.mp4\n",
      "finished wrting : 2025-03-13T231900,000146+0000_2025-03-13T232159,900167+0000.mp4\n",
      "finished wrting : 2025-03-13T234845,000155+0000_2025-03-13T235144,900172+0000.mp4\n",
      "finished wrting : 2025-03-13T235145,000161+0000_2025-03-13T235444,900152+0000.mp4\n",
      "finished wrting : 2025-03-13T234545,000185+0000_2025-03-13T234844,900153+0000.mp4\n",
      "finished wrting : 2025-03-13T232800,000164+0000_2025-03-13T233059,900163+0000.mp4\n",
      "finished wrting : 2025-03-13T232500,000134+0000_2025-03-13T232759,900196+0000.mp4\n",
      "finished wrting : 2025-03-13T231600,000139+0000_2025-03-13T231859,900164+0000.mp4\n",
      "finished wrting : 2025-03-13T231300,000170+0000_2025-03-13T231559,900123+0000.mp4\n",
      "finished wrting : 2025-03-13T230300,000596+0000_2025-03-13T230559,900151+0000.mp4\n",
      "finished wrting : 2025-03-13T233100,000131+0000_2025-03-13T233359,900168+0000.mp4\n",
      "finished wrting : 2025-03-13T233400,000151+0000_2025-03-13T233644,900192+0000.mp4\n",
      "finished wrting : 2025-03-13T235445,000165+0000_2025-03-13T235744,900133+0000.mp4\n",
      "finished wrting : 2025-03-13T230600,000163+0000_2025-03-13T231259,900147+0000.mp4\n",
      "finished wrting : 2025-03-13T233645,000181+0000_2025-03-13T233944,900152+0000.mp4\n",
      "finished /home/chowder/Documents/daysVids/abhik_bedroompi_abhik_piCam-raspberryPi5-Camv3120_mp4_piVidCap_2025-03-13/\n"
     ]
    }
   ],
   "source": [
    "generateDaysVid(deviceDescriptor, videoStartTime)"
   ]
  },
  {
   "cell_type": "code",
   "execution_count": 4,
   "metadata": {},
   "outputs": [
    {
     "name": "stderr",
     "output_type": "stream",
     "text": [
      "ffmpeg version 7.1 Copyright (c) 2000-2024 the FFmpeg developers\n",
      "  built with gcc 13.3.0 (conda-forge gcc 13.3.0-1)\n",
      "  configuration: --prefix=/home/conda/feedstock_root/build_artifacts/ffmpeg_1729892860555/_h_env_placehold_placehold_placehold_placehold_placehold_placehold_placehold_placehold_placehold_placehold_placehold_placehold_placehold_placehold_placehold_placehold_placehold_placehold_plac --cc=/home/conda/feedstock_root/build_artifacts/ffmpeg_1729892860555/_build_env/bin/x86_64-conda-linux-gnu-cc --cxx=/home/conda/feedstock_root/build_artifacts/ffmpeg_1729892860555/_build_env/bin/x86_64-conda-linux-gnu-c++ --nm=/home/conda/feedstock_root/build_artifacts/ffmpeg_1729892860555/_build_env/bin/x86_64-conda-linux-gnu-nm --ar=/home/conda/feedstock_root/build_artifacts/ffmpeg_1729892860555/_build_env/bin/x86_64-conda-linux-gnu-ar --disable-doc --enable-openssl --enable-demuxer=dash --enable-hardcoded-tables --enable-libfreetype --enable-libharfbuzz --enable-libfontconfig --enable-libopenh264 --enable-libdav1d --disable-gnutls --enable-libmp3lame --enable-libvpx --enable-libass --enable-pthreads --enable-vaapi --enable-libopenvino --enable-gpl --enable-libx264 --enable-libx265 --enable-libaom --enable-libsvtav1 --enable-libxml2 --enable-pic --enable-shared --disable-static --enable-version3 --enable-zlib --enable-libopus --enable-librsvg --pkg-config=/home/conda/feedstock_root/build_artifacts/ffmpeg_1729892860555/_build_env/bin/pkg-config\n",
      "  libavutil      59. 39.100 / 59. 39.100\n",
      "  libavcodec     61. 19.100 / 61. 19.100\n",
      "  libavformat    61.  7.100 / 61.  7.100\n",
      "  libavdevice    61.  3.100 / 61.  3.100\n",
      "  libavfilter    10.  4.100 / 10.  4.100\n",
      "  libswscale      8.  3.100 /  8.  3.100\n",
      "  libswresample   5.  3.100 /  5.  3.100\n",
      "  libpostproc    58.  3.100 / 58.  3.100\n",
      "[mov,mp4,m4a,3gp,3g2,mj2 @ 0x55cf073ac640] Auto-inserting h264_mp4toannexb bitstream filter\n",
      "Input #0, concat, from '/home/chowder/Documents/daysVids/abhik_bedroompi_abhik_piCam-raspberryPi5-Camv3120_mp4_piVidCap_2025-03-13/file_list.txt':\n",
      "  Duration: N/A, start: 0.000000, bitrate: 180 kb/s\n",
      "  Stream #0:0(und): Video: h264 (High) (avc1 / 0x31637661), yuv420p(progressive), 640x360, 180 kb/s, 30 fps, 30 tbr, 15360 tbn\n",
      "      Metadata:\n",
      "        handler_name    : VideoHandler\n",
      "        vendor_id       : [0][0][0][0]\n",
      "Stream mapping:\n",
      "  Stream #0:0 -> #0:0 (copy)\n",
      "Output #0, mp4, to '/home/chowder/Documents/daysVids/abhik_bedroompi_abhik_piCam-raspberryPi5-Camv3120_mp4_piVidCap_2025-03-13/bedroompi.mp4':\n",
      "  Metadata:\n",
      "    encoder         : Lavf61.7.100\n",
      "  Stream #0:0(und): Video: h264 (High) (avc1 / 0x31637661), yuv420p(progressive), 640x360, q=2-31, 180 kb/s, 30 fps, 30 tbr, 15360 tbn\n",
      "      Metadata:\n",
      "        handler_name    : VideoHandler\n",
      "        vendor_id       : [0][0][0][0]\n",
      "Press [q] to stop, [?] for help\n",
      "[mov,mp4,m4a,3gp,3g2,mj2 @ 0x7ff15c0707c0] Auto-inserting h264_mp4toannexb bitstream filter\n",
      "[mov,mp4,m4a,3gp,3g2,mj2 @ 0x7ff15c09f540] Auto-inserting h264_mp4toannexb bitstream filter\n",
      "[mov,mp4,m4a,3gp,3g2,mj2 @ 0x7ff15c07f7c0] Auto-inserting h264_mp4toannexb bitstream filter\n",
      "[mov,mp4,m4a,3gp,3g2,mj2 @ 0x7ff15c06c800] Auto-inserting h264_mp4toannexb bitstream filter\n",
      "[mov,mp4,m4a,3gp,3g2,mj2 @ 0x7ff15c074980] Auto-inserting h264_mp4toannexb bitstream filter\n",
      "    Last message repeated 2 times\n",
      "[mov,mp4,m4a,3gp,3g2,mj2 @ 0x7ff15c03fbc0] Auto-inserting h264_mp4toannexb bitstream filter\n",
      "    Last message repeated 1 times\n",
      "[mov,mp4,m4a,3gp,3g2,mj2 @ 0x7ff15c054c00] Auto-inserting h264_mp4toannexb bitstream filter\n"
     ]
    },
    {
     "name": "stdout",
     "output_type": "stream",
     "text": [
      "Finished processing: /home/chowder/Documents/daysVids/abhik_bedroompi_abhik_piCam-raspberryPi5-Camv3120_mp4_piVidCap_2025-03-13/bedroompi.mp4\n"
     ]
    },
    {
     "name": "stderr",
     "output_type": "stream",
     "text": [
      "[mov,mp4,m4a,3gp,3g2,mj2 @ 0x7ff15c037fc0] Auto-inserting h264_mp4toannexb bitstream filter\n",
      "[mov,mp4,m4a,3gp,3g2,mj2 @ 0x7ff15c09dd40] Auto-inserting h264_mp4toannexb bitstream filter\n",
      "[mov,mp4,m4a,3gp,3g2,mj2 @ 0x7ff15c037fc0] Auto-inserting h264_mp4toannexb bitstream filter\n",
      "[mov,mp4,m4a,3gp,3g2,mj2 @ 0x7ff15c0981c0] Auto-inserting h264_mp4toannexb bitstream filter\n",
      "[mov,mp4,m4a,3gp,3g2,mj2 @ 0x7ff15c074980] Auto-inserting h264_mp4toannexb bitstream filter\n",
      "[mov,mp4,m4a,3gp,3g2,mj2 @ 0x7ff15c037fc0] Auto-inserting h264_mp4toannexb bitstream filter\n",
      "[out#0/mp4 @ 0x55cf073b4380] video:18444KiB audio:0KiB subtitle:0KiB other streams:0KiB global headers:0KiB muxing overhead: 1.949195%\n",
      "frame=30616 fps=0.0 q=-1.0 Lsize=   18803KiB time=00:17:00.46 bitrate= 150.9kbits/s speed=3.46e+03x    \n"
     ]
    }
   ],
   "source": [
    "generateDaysVid(deviceDescriptor, videoStartTime)"
   ]
  },
  {
   "cell_type": "code",
   "execution_count": null,
   "metadata": {},
   "outputs": [],
   "source": []
  }
 ],
 "metadata": {
  "kernelspec": {
   "display_name": "vision",
   "language": "python",
   "name": "python3"
  },
  "language_info": {
   "codemirror_mode": {
    "name": "ipython",
    "version": 3
   },
   "file_extension": ".py",
   "mimetype": "text/x-python",
   "name": "python",
   "nbconvert_exporter": "python",
   "pygments_lexer": "ipython3",
   "version": "3.11.10"
  }
 },
 "nbformat": 4,
 "nbformat_minor": 2
}
