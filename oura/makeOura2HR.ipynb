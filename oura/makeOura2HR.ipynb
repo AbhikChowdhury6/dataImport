{
 "cells": [
  {
   "cell_type": "code",
   "execution_count": 21,
   "metadata": {},
   "outputs": [
    {
     "name": "stdout",
     "output_type": "stream",
     "text": [
      "1.1.2\n"
     ]
    }
   ],
   "source": [
    "import pandas as pd\n",
    "import datetime\n",
    "import os\n",
    "import pytz\n",
    "import json\n",
    "print(pd.__version__)\n",
    "utc = pytz.utc\n",
    "\n",
    "columnNames = [\"sampleDT\", \"value\"]\n",
    "\n",
    "path = \"/home/chowder/Documents/personalData/ouraRing/\"\n",
    "jsonFileName = \"oura_2021-01-16T02-12-49.json\"\n",
    "\n",
    "parquetName = \"ouraRingHrDf.parquet.gzip\"\n",
    "\n",
    "with open(path + jsonFileName) as f:\n",
    "  jsonData = json.load(f)"
   ]
  },
  {
   "cell_type": "code",
   "execution_count": 12,
   "metadata": {},
   "outputs": [],
   "source": [
    "samplesList = []\n",
    "\n",
    "for SleepJSON in jsonData['sleep']:\n",
    "    startTime = pd.to_datetime(SleepJSON['bedtime_start'])\n",
    "    sampleStartTime = startTime\n",
    "\n",
    "    hr_5min = SleepJSON['hr_5min']\n",
    "\n",
    "    for i in range(0, len(hr_5min)):\n",
    "        toadd = []\n",
    "        toadd.append(startTime+ datetime.timedelta(minutes=i*5))\n",
    "        toadd.append(int(hr_5min[i]))\n",
    "        samplesList.append(toadd)"
   ]
  },
  {
   "cell_type": "code",
   "execution_count": 13,
   "metadata": {},
   "outputs": [
    {
     "data": {
      "text/plain": [
       "8144"
      ]
     },
     "execution_count": 13,
     "metadata": {},
     "output_type": "execute_result"
    }
   ],
   "source": [
    "len(samplesList)"
   ]
  },
  {
   "cell_type": "code",
   "execution_count": 16,
   "metadata": {},
   "outputs": [],
   "source": [
    "ouraHRdf = pd.DataFrame(data=samplesList, columns=columnNames)\n",
    "\n",
    "ouraHRdf = ouraHRdf.set_index(\"sampleDT\")"
   ]
  },
  {
   "cell_type": "code",
   "execution_count": 17,
   "metadata": {},
   "outputs": [
    {
     "data": {
      "text/html": [
       "<div>\n",
       "<style scoped>\n",
       "    .dataframe tbody tr th:only-of-type {\n",
       "        vertical-align: middle;\n",
       "    }\n",
       "\n",
       "    .dataframe tbody tr th {\n",
       "        vertical-align: top;\n",
       "    }\n",
       "\n",
       "    .dataframe thead th {\n",
       "        text-align: right;\n",
       "    }\n",
       "</style>\n",
       "<table border=\"1\" class=\"dataframe\">\n",
       "  <thead>\n",
       "    <tr style=\"text-align: right;\">\n",
       "      <th></th>\n",
       "      <th>value</th>\n",
       "    </tr>\n",
       "    <tr>\n",
       "      <th>sampleDT</th>\n",
       "      <th></th>\n",
       "    </tr>\n",
       "  </thead>\n",
       "  <tbody>\n",
       "    <tr>\n",
       "      <th>2020-10-15 01:03:59-07:00</th>\n",
       "      <td>56</td>\n",
       "    </tr>\n",
       "    <tr>\n",
       "      <th>2020-10-15 01:08:59-07:00</th>\n",
       "      <td>55</td>\n",
       "    </tr>\n",
       "    <tr>\n",
       "      <th>2020-10-15 01:13:59-07:00</th>\n",
       "      <td>54</td>\n",
       "    </tr>\n",
       "    <tr>\n",
       "      <th>2020-10-15 01:18:59-07:00</th>\n",
       "      <td>55</td>\n",
       "    </tr>\n",
       "    <tr>\n",
       "      <th>2020-10-15 01:23:59-07:00</th>\n",
       "      <td>55</td>\n",
       "    </tr>\n",
       "    <tr>\n",
       "      <th>...</th>\n",
       "      <td>...</td>\n",
       "    </tr>\n",
       "    <tr>\n",
       "      <th>2021-01-15 08:36:19-07:00</th>\n",
       "      <td>59</td>\n",
       "    </tr>\n",
       "    <tr>\n",
       "      <th>2021-01-15 08:41:19-07:00</th>\n",
       "      <td>57</td>\n",
       "    </tr>\n",
       "    <tr>\n",
       "      <th>2021-01-15 08:46:19-07:00</th>\n",
       "      <td>57</td>\n",
       "    </tr>\n",
       "    <tr>\n",
       "      <th>2021-01-15 08:51:19-07:00</th>\n",
       "      <td>59</td>\n",
       "    </tr>\n",
       "    <tr>\n",
       "      <th>2021-01-15 08:56:19-07:00</th>\n",
       "      <td>0</td>\n",
       "    </tr>\n",
       "  </tbody>\n",
       "</table>\n",
       "<p>8144 rows × 1 columns</p>\n",
       "</div>"
      ],
      "text/plain": [
       "                           value\n",
       "sampleDT                        \n",
       "2020-10-15 01:03:59-07:00     56\n",
       "2020-10-15 01:08:59-07:00     55\n",
       "2020-10-15 01:13:59-07:00     54\n",
       "2020-10-15 01:18:59-07:00     55\n",
       "2020-10-15 01:23:59-07:00     55\n",
       "...                          ...\n",
       "2021-01-15 08:36:19-07:00     59\n",
       "2021-01-15 08:41:19-07:00     57\n",
       "2021-01-15 08:46:19-07:00     57\n",
       "2021-01-15 08:51:19-07:00     59\n",
       "2021-01-15 08:56:19-07:00      0\n",
       "\n",
       "[8144 rows x 1 columns]"
      ]
     },
     "execution_count": 17,
     "metadata": {},
     "output_type": "execute_result"
    }
   ],
   "source": [
    "ouraHRdf"
   ]
  },
  {
   "cell_type": "code",
   "execution_count": 22,
   "metadata": {},
   "outputs": [],
   "source": [
    "ouraHRdf.to_parquet(path + parquetName,\n",
    "              compression='gzip') "
   ]
  }
 ],
 "metadata": {
  "kernelspec": {
   "display_name": "Python 3",
   "language": "python",
   "name": "python3"
  },
  "language_info": {
   "codemirror_mode": {
    "name": "ipython",
    "version": 3
   },
   "file_extension": ".py",
   "mimetype": "text/x-python",
   "name": "python",
   "nbconvert_exporter": "python",
   "pygments_lexer": "ipython3",
   "version": "3.8.10"
  }
 },
 "nbformat": 4,
 "nbformat_minor": 2
}
