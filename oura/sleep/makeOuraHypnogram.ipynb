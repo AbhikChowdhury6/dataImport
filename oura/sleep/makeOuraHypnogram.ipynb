{
 "cells": [
  {
   "cell_type": "code",
   "execution_count": 2,
   "metadata": {},
   "outputs": [
    {
     "name": "stdout",
     "output_type": "stream",
     "text": [
      "1.1.2\n"
     ]
    }
   ],
   "source": [
    "import os\n",
    "import sys\n",
    "def getRepoPath():\n",
    "    cwd = os.getcwd()\n",
    "    delimiter = \"\\\\\" if \"\\\\\" in cwd else \"/\"\n",
    "    repoPath = delimiter.join(cwd.split(delimiter)[:cwd.split(delimiter).index(\"dataImport\")+1]) + delimiter\n",
    "    return repoPath\n",
    "repoPath = getRepoPath()\n",
    "sys.path.append(repoPath)\n",
    "from utils import exportsDataPath, workingDataPath, writeHypnoDfParquet\n",
    "\n",
    "import pandas as pd\n",
    "import datetime\n",
    "import os\n",
    "import pytz\n",
    "import json\n",
    "print(pd.__version__)\n",
    "utc = pytz.utc\n",
    "AZtz = pytz.timezone(\"US/Arizona\")\n",
    "\n",
    "ColumnNames = [\"startDate\", \"endDate\", \"value\"]\n",
    "\n",
    "jsonFileName = \"oura_sleep_2024-09-13T00-24-27.json\"\n",
    "\n",
    "with open(exportsDataPath + 'oura/' + jsonFileName) as f:\n",
    "  jsonData = json.load(f)"
   ]
  },
  {
   "cell_type": "code",
   "execution_count": 3,
   "metadata": {},
   "outputs": [],
   "source": [
    "def ouraSleepStageToStandard(ouraNum):\n",
    "    if ouraNum == 4: #awake\n",
    "        return 0\n",
    "    if ouraNum == 2: #light sleep\n",
    "        return 1\n",
    "    if ouraNum == 1: #deep sleep\n",
    "        return 2\n",
    "    if ouraNum == 3: #REM sleep\n",
    "        return 3\n",
    "    "
   ]
  },
  {
   "cell_type": "code",
   "execution_count": 6,
   "metadata": {},
   "outputs": [
    {
     "name": "stdout",
     "output_type": "stream",
     "text": [
      "2020-10-15T01:03:59.000-07:00\n",
      "2020-10-15T09:47:59.000-07:00\n",
      "424221114322222121112211123322211111122222211223312224333333242221122222333333442222222223333344444444444\n",
      "105\n",
      "2020-10-15 09:48:59-07:00\n"
     ]
    }
   ],
   "source": [
    "#testing parsing\n",
    "print(jsonData['sleep'][0]['bedtime_start'])\n",
    "print(jsonData['sleep'][0]['bedtime_end'])\n",
    "print(jsonData['sleep'][0]['sleep_phase_5_min'])\n",
    "print(len(jsonData['sleep'][0]['sleep_phase_5_min']))\n",
    "print(pd.to_datetime(jsonData['sleep'][0]['bedtime_start']) + datetime.timedelta(minutes=len(jsonData['sleep'][0]['sleep_phase_5_min'])*5))\n"
   ]
  },
  {
   "cell_type": "code",
   "execution_count": 7,
   "metadata": {},
   "outputs": [],
   "source": [
    "# testing generating a record\n",
    "listRecords = []\n",
    "startTime = pd.to_datetime(jsonData['sleep'][0]['bedtime_start'])\n",
    "\n",
    "hypnogram_5min = jsonData['sleep'][0]['sleep_phase_5_min']\n",
    "toadd = []\n",
    "toadd.append(startTime)\n",
    "\n",
    "for i in range(1, len(hypnogram_5min)):\n",
    "    if(hypnogram_5min[i-1] != hypnogram_5min[i]):#if the block has ended\n",
    "        toadd.append(startTime + datetime.timedelta(minutes=i*5)) # add the end time\n",
    "        toadd.append(ouraSleepStageToStandard(int(hypnogram_5min[i-1])))\n",
    "        listRecords.append(toadd)\n",
    "        toadd = [startTime + datetime.timedelta(minutes=i*5)]\n",
    "\n",
    "toadd.append(startTime + datetime.timedelta(minutes=len(hypnogram_5min)*5))\n",
    "toadd.append(ouraSleepStageToStandard(int(hypnogram_5min[-1])))\n",
    "listRecords.append(toadd)"
   ]
  },
  {
   "cell_type": "code",
   "execution_count": 8,
   "metadata": {},
   "outputs": [
    {
     "data": {
      "text/plain": [
       "[Timestamp('2020-10-15 08:53:59-0700', tz='pytz.FixedOffset(-420)'),\n",
       " Timestamp('2020-10-15 09:48:59-0700', tz='pytz.FixedOffset(-420)'),\n",
       " 0]"
      ]
     },
     "execution_count": 8,
     "metadata": {},
     "output_type": "execute_result"
    }
   ],
   "source": [
    "listRecords[-1]"
   ]
  },
  {
   "cell_type": "code",
   "execution_count": 42,
   "metadata": {},
   "outputs": [],
   "source": [
    "#parse the file\n",
    "listRecords = []\n",
    "\n",
    "for SleepJSON in jsonData['sleep']:\n",
    "    # if sleep_phase_5_min key exists parse that\n",
    "    if 'sleep_phase_5_min' in SleepJSON:\n",
    "            toadd = []\n",
    "            startTime = pd.to_datetime(SleepJSON['bedtime_start']).tz_convert(\"US/Arizona\")\n",
    "            toadd.append(startTime)\n",
    "\n",
    "            hypnogram_5min = SleepJSON['sleep_phase_5_min']\n",
    "            for i in range(1, len(hypnogram_5min)):\n",
    "                if(hypnogram_5min[i-1] != hypnogram_5min[i]):#if the block has ended\n",
    "                    toadd.append(startTime + datetime.timedelta(minutes=i*5)) # add the end time\n",
    "                    toadd.append(ouraSleepStageToStandard(int(hypnogram_5min[i-1]))) #add the value\n",
    "                    listRecords.append(toadd)\n",
    "                    #start time of the next block\n",
    "                    toadd = [startTime + datetime.timedelta(minutes=i*5)]\n",
    "\n",
    "            toadd.append(startTime + datetime.timedelta(minutes=len(hypnogram_5min)*5))\n",
    "            toadd.append(ouraSleepStageToStandard(int(hypnogram_5min[-1])))\n",
    "            listRecords.append(toadd)\n",
    "\n",
    "    # if it doesn't if total_sleep_duration exists and is == 0 then label the bedime start and end as awake time\n",
    "    # elif 'total_sleep_duration' in SleepJSON and SleepJSON['total_sleep_duration'] == 0:\n",
    "    #     startTime = pd.to_datetime(SleepJSON['bedtime_start']).tz_convert(\"US/Arizona\")\n",
    "    #     endTime = pd.to_datetime(SleepJSON['bedtime_end']).tz_convert(\"US/Arizona\")\n",
    "    #     listRecords.append([startTime, endTime, 0])\n",
    "\n",
    "\n",
    "    # # if total_sleep_duration also doesn't exit label the start and end times as stage 1\n",
    "    # else:\n",
    "    #     startTime = pd.to_datetime(SleepJSON['bedtime_start']).tz_convert(\"US/Arizona\")\n",
    "    #     endTime = pd.to_datetime(SleepJSON['bedtime_end']).tz_convert(\"US/Arizona\")\n",
    "    #     listRecords.append([startTime, endTime, 1])\n",
    "\n"
   ]
  },
  {
   "cell_type": "code",
   "execution_count": 43,
   "metadata": {},
   "outputs": [
    {
     "data": {
      "text/plain": [
       "28206"
      ]
     },
     "execution_count": 43,
     "metadata": {},
     "output_type": "execute_result"
    }
   ],
   "source": [
    "len(listRecords)"
   ]
  },
  {
   "cell_type": "code",
   "execution_count": 44,
   "metadata": {},
   "outputs": [
    {
     "data": {
      "text/plain": [
       "{'sleep'}"
      ]
     },
     "execution_count": 44,
     "metadata": {},
     "output_type": "execute_result"
    }
   ],
   "source": [
    "set(jsonData.keys())"
   ]
  },
  {
   "cell_type": "code",
   "execution_count": 45,
   "metadata": {},
   "outputs": [],
   "source": [
    "# for restfulJSON in jsonData['restful_periods']:\n",
    "#     startTime = pd.to_datetime(restfulJSON['bedtime_start']).tz_convert(\"US/Arizona\")\n",
    "#     endTime = pd.to_datetime(restfulJSON['bedtime_end']).tz_convert(\"US/Arizona\")\n",
    "#     listRecords.append([startTime, endTime, 1]) #fill in naps with light sleep"
   ]
  },
  {
   "cell_type": "code",
   "execution_count": 46,
   "metadata": {},
   "outputs": [
    {
     "data": {
      "text/plain": [
       "28206"
      ]
     },
     "execution_count": 46,
     "metadata": {},
     "output_type": "execute_result"
    }
   ],
   "source": [
    "len(listRecords)"
   ]
  },
  {
   "cell_type": "code",
   "execution_count": 47,
   "metadata": {},
   "outputs": [],
   "source": [
    "listRecords = sorted(listRecords, key=lambda x:x[0])"
   ]
  },
  {
   "cell_type": "code",
   "execution_count": 48,
   "metadata": {},
   "outputs": [
    {
     "name": "stdout",
     "output_type": "stream",
     "text": [
      "30608\n"
     ]
    }
   ],
   "source": [
    "# add in the no data segments\n",
    "filledRecords = []\n",
    "# for every row except the last\n",
    "for ri in range(len(listRecords)-1):\n",
    "    filledRecords.append(listRecords[ri])\n",
    "    # if there is a gap between this rows end date and the next rows start date\n",
    "    if listRecords[ri][1] < listRecords[ri+1][0]:\n",
    "        filledRecords.append([\n",
    "            listRecords[ri][1],\n",
    "            listRecords[ri+1][0],\n",
    "            -1\n",
    "        ])\n",
    "print(len(filledRecords))"
   ]
  },
  {
   "cell_type": "code",
   "execution_count": 49,
   "metadata": {},
   "outputs": [
    {
     "name": "stdout",
     "output_type": "stream",
     "text": [
      "                                            endDate  value\n",
      "startDate                                                 \n",
      "2020-10-15 01:03:59-07:00 2020-10-15 01:08:59-07:00      0\n",
      "                                            endDate  value\n",
      "startDate                                                 \n",
      "2023-08-30 03:15:03-07:00 2023-08-30 03:30:03-07:00      0\n"
     ]
    }
   ],
   "source": [
    "ouraHypnoDf = pd.DataFrame(columns=ColumnNames, data=filledRecords)\n",
    "ouraHypnoDf = ouraHypnoDf.set_index(\"startDate\")\n",
    "print(ouraHypnoDf.head(1))\n",
    "print(ouraHypnoDf.tail(1))"
   ]
  },
  {
   "cell_type": "code",
   "execution_count": 50,
   "metadata": {},
   "outputs": [
    {
     "data": {
      "text/plain": [
       "endDate    datetime64[ns, US/Arizona]\n",
       "value                           int64\n",
       "dtype: object"
      ]
     },
     "execution_count": 50,
     "metadata": {},
     "output_type": "execute_result"
    }
   ],
   "source": [
    "ouraHypnoDf.dtypes"
   ]
  },
  {
   "cell_type": "code",
   "execution_count": 51,
   "metadata": {},
   "outputs": [],
   "source": [
    "writeHypnoDfParquet('oura', ouraHypnoDf)"
   ]
  },
  {
   "cell_type": "code",
   "execution_count": null,
   "metadata": {},
   "outputs": [],
   "source": []
  },
  {
   "cell_type": "code",
   "execution_count": null,
   "metadata": {},
   "outputs": [],
   "source": []
  },
  {
   "cell_type": "code",
   "execution_count": null,
   "metadata": {},
   "outputs": [],
   "source": []
  },
  {
   "cell_type": "code",
   "execution_count": null,
   "metadata": {},
   "outputs": [],
   "source": []
  }
 ],
 "metadata": {
  "kernelspec": {
   "display_name": "Python 3",
   "language": "python",
   "name": "python3"
  },
  "language_info": {
   "codemirror_mode": {
    "name": "ipython",
    "version": 3
   },
   "file_extension": ".py",
   "mimetype": "text/x-python",
   "name": "python",
   "nbconvert_exporter": "python",
   "pygments_lexer": "ipython3",
   "version": "3.8.10"
  }
 },
 "nbformat": 4,
 "nbformat_minor": 2
}
