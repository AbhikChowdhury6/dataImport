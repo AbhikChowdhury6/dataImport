{
 "cells": [
  {
   "cell_type": "code",
   "execution_count": 1,
   "metadata": {},
   "outputs": [
    {
     "name": "stdout",
     "output_type": "stream",
     "text": [
      "1.1.2\n"
     ]
    }
   ],
   "source": [
    "import pandas as pd\n",
    "import datetime\n",
    "import os\n",
    "import pytz\n",
    "import json\n",
    "print(pd.__version__)\n",
    "utc = pytz.utc\n",
    "\n",
    "ColumnNames = [\"startDate\", \"endDate\", \"value\"]\n",
    "\n",
    "globalPath = \"/home/chowder/Documents/personalData/ouraRing/\"\n",
    "jsonFileName = \"oura_2021-01-16T02-12-49.json\"\n",
    "\n",
    "parquetName = \"ouraRingHypnoDf.parquet.gzip\"\n",
    "\n",
    "with open(globalPath + jsonFileName) as f:\n",
    "  jsonData = json.load(f)"
   ]
  },
  {
   "cell_type": "code",
   "execution_count": 2,
   "metadata": {},
   "outputs": [],
   "source": [
    "def ouraSleepStageToStandard(ouraNum):\n",
    "    if ouraNum == 4: #awake\n",
    "        return 0\n",
    "    if ouraNum == 2: #light sleep\n",
    "        return 1\n",
    "    if ouraNum == 1: #deep sleep\n",
    "        return 2\n",
    "    if ouraNum == 3: #REM sleep\n",
    "        return 3\n",
    "    "
   ]
  },
  {
   "cell_type": "code",
   "execution_count": 3,
   "metadata": {},
   "outputs": [
    {
     "name": "stdout",
     "output_type": "stream",
     "text": [
      "2020-10-15T01:03:59-07:00\n",
      "2020-10-15T09:47:59-07:00\n",
      "424221114322222121112211123322211111122222211223312224333333242221122222333333442222222223333344444444444\n",
      "105\n",
      "2020-10-15 09:48:59-07:00\n"
     ]
    }
   ],
   "source": [
    "print(jsonData['sleep'][0]['bedtime_start'])\n",
    "print(jsonData['sleep'][0]['bedtime_end'])\n",
    "print(jsonData['sleep'][0]['hypnogram_5min'])\n",
    "print(len(jsonData['sleep'][0]['hypnogram_5min']))\n",
    "print(pd.to_datetime(jsonData['sleep'][0]['bedtime_start']) + datetime.timedelta(minutes=len(jsonData['sleep'][0]['hypnogram_5min'])*5))\n"
   ]
  },
  {
   "cell_type": "code",
   "execution_count": 4,
   "metadata": {},
   "outputs": [],
   "source": [
    "listRecords = []\n",
    "startTime = pd.to_datetime(jsonData['sleep'][0]['bedtime_start'])\n",
    "\n",
    "hypnogram_5min = jsonData['sleep'][0]['hypnogram_5min']\n",
    "toadd = []\n",
    "toadd.append(startTime)\n",
    "\n",
    "for i in range(1, len(hypnogram_5min)):\n",
    "    if(hypnogram_5min[i-1] != hypnogram_5min[i]):#if the block has ended\n",
    "        toadd.append(startTime + datetime.timedelta(minutes=i*5)) # add the end time\n",
    "        toadd.append(ouraSleepStageToStandard(int(hypnogram_5min[i-1])))\n",
    "        listRecords.append(toadd)\n",
    "        toadd = [startTime + datetime.timedelta(minutes=i*5)]\n",
    "\n",
    "toadd.append(startTime + datetime.timedelta(minutes=len(hypnogram_5min)*5))\n",
    "toadd.append(ouraSleepStageToStandard(int(hypnogram_5min[-1])))\n",
    "listRecords.append(toadd)"
   ]
  },
  {
   "cell_type": "code",
   "execution_count": 5,
   "metadata": {},
   "outputs": [
    {
     "data": {
      "text/plain": [
       "[Timestamp('2020-10-15 08:53:59-0700', tz='pytz.FixedOffset(-420)'),\n",
       " Timestamp('2020-10-15 09:48:59-0700', tz='pytz.FixedOffset(-420)'),\n",
       " 0]"
      ]
     },
     "execution_count": 5,
     "metadata": {},
     "output_type": "execute_result"
    }
   ],
   "source": [
    "listRecords[-1]"
   ]
  },
  {
   "cell_type": "code",
   "execution_count": 6,
   "metadata": {},
   "outputs": [],
   "source": [
    "listRecords = []\n",
    "\n",
    "for SleepJSON in jsonData['sleep']:\n",
    "    startTime = pd.to_datetime(SleepJSON['bedtime_start'])\n",
    "    stageStartTime = startTime\n",
    "\n",
    "    hypnogram_5min = SleepJSON['hypnogram_5min']\n",
    "    toadd = []\n",
    "    toadd.append(stageStartTime)\n",
    "\n",
    "    for i in range(1, len(hypnogram_5min)):\n",
    "        if(hypnogram_5min[i-1] != hypnogram_5min[i]):#if the block has ended\n",
    "            toadd.append(startTime + datetime.timedelta(minutes=i*5)) # add the end time\n",
    "            toadd.append(ouraSleepStageToStandard(int(hypnogram_5min[i-1])))\n",
    "            listRecords.append(toadd)\n",
    "            toadd = [startTime + datetime.timedelta(minutes=i*5)]\n",
    "    \n",
    "    toadd.append(startTime + datetime.timedelta(minutes=len(hypnogram_5min)*5))\n",
    "    toadd.append(ouraSleepStageToStandard(int(hypnogram_5min[-1])))\n",
    "    listRecords.append(toadd)\n",
    "\n",
    "\n"
   ]
  },
  {
   "cell_type": "code",
   "execution_count": 7,
   "metadata": {},
   "outputs": [
    {
     "data": {
      "text/plain": [
       "2424"
      ]
     },
     "execution_count": 7,
     "metadata": {},
     "output_type": "execute_result"
    }
   ],
   "source": [
    "len(listRecords)"
   ]
  },
  {
   "cell_type": "code",
   "execution_count": 8,
   "metadata": {},
   "outputs": [],
   "source": [
    "for restfulJSON in jsonData['restful_periods']:\n",
    "    startTime = pd.to_datetime(restfulJSON['bedtime_start'])\n",
    "    endTime = pd.to_datetime(restfulJSON['bedtime_end'])\n",
    "    listRecords.append([startTime, endTime, 1]) #fill in naps with light sleep"
   ]
  },
  {
   "cell_type": "code",
   "execution_count": 9,
   "metadata": {},
   "outputs": [
    {
     "data": {
      "text/plain": [
       "2511"
      ]
     },
     "execution_count": 9,
     "metadata": {},
     "output_type": "execute_result"
    }
   ],
   "source": [
    "len(listRecords)"
   ]
  },
  {
   "cell_type": "code",
   "execution_count": 10,
   "metadata": {},
   "outputs": [],
   "source": [
    "listRecords = sorted(listRecords, key=lambda x:x[0])\n"
   ]
  },
  {
   "cell_type": "code",
   "execution_count": 11,
   "metadata": {},
   "outputs": [
    {
     "name": "stdout",
     "output_type": "stream",
     "text": [
      "2684\n"
     ]
    }
   ],
   "source": [
    "# add in the no data segments\n",
    "filledRecords = []\n",
    "# for every row except the last\n",
    "for ri in range(len(listRecords)-1):\n",
    "    filledRecords.append(listRecords[ri])\n",
    "    # if there is a gap between this rows end date and the next rows start date\n",
    "    if listRecords[ri][1] < listRecords[ri+1][0]:\n",
    "        filledRecords.append([\n",
    "            listRecords[ri][1],\n",
    "            listRecords[ri+1][0],\n",
    "            -1\n",
    "        ])\n",
    "print(len(filledRecords))"
   ]
  },
  {
   "cell_type": "code",
   "execution_count": 12,
   "metadata": {},
   "outputs": [
    {
     "data": {
      "text/plain": [
       "{pandas._libs.tslibs.timestamps.Timestamp}"
      ]
     },
     "execution_count": 12,
     "metadata": {},
     "output_type": "execute_result"
    }
   ],
   "source": [
    "set([type(x[1]) for x in filledRecords])"
   ]
  },
  {
   "cell_type": "code",
   "execution_count": null,
   "metadata": {},
   "outputs": [],
   "source": []
  },
  {
   "cell_type": "code",
   "execution_count": 13,
   "metadata": {},
   "outputs": [
    {
     "data": {
      "text/html": [
       "<div>\n",
       "<style scoped>\n",
       "    .dataframe tbody tr th:only-of-type {\n",
       "        vertical-align: middle;\n",
       "    }\n",
       "\n",
       "    .dataframe tbody tr th {\n",
       "        vertical-align: top;\n",
       "    }\n",
       "\n",
       "    .dataframe thead th {\n",
       "        text-align: right;\n",
       "    }\n",
       "</style>\n",
       "<table border=\"1\" class=\"dataframe\">\n",
       "  <thead>\n",
       "    <tr style=\"text-align: right;\">\n",
       "      <th></th>\n",
       "      <th>endDate</th>\n",
       "      <th>value</th>\n",
       "    </tr>\n",
       "    <tr>\n",
       "      <th>startDate</th>\n",
       "      <th></th>\n",
       "      <th></th>\n",
       "    </tr>\n",
       "  </thead>\n",
       "  <tbody>\n",
       "    <tr>\n",
       "      <th>2020-10-15 01:03:59-07:00</th>\n",
       "      <td>2020-10-15 01:08:59-07:00</td>\n",
       "      <td>0</td>\n",
       "    </tr>\n",
       "    <tr>\n",
       "      <th>2020-10-15 01:08:59-07:00</th>\n",
       "      <td>2020-10-15 01:13:59-07:00</td>\n",
       "      <td>1</td>\n",
       "    </tr>\n",
       "    <tr>\n",
       "      <th>2020-10-15 01:13:59-07:00</th>\n",
       "      <td>2020-10-15 01:18:59-07:00</td>\n",
       "      <td>0</td>\n",
       "    </tr>\n",
       "    <tr>\n",
       "      <th>2020-10-15 01:18:59-07:00</th>\n",
       "      <td>2020-10-15 01:28:59-07:00</td>\n",
       "      <td>1</td>\n",
       "    </tr>\n",
       "    <tr>\n",
       "      <th>2020-10-15 01:28:59-07:00</th>\n",
       "      <td>2020-10-15 01:43:59-07:00</td>\n",
       "      <td>2</td>\n",
       "    </tr>\n",
       "    <tr>\n",
       "      <th>...</th>\n",
       "      <td>...</td>\n",
       "      <td>...</td>\n",
       "    </tr>\n",
       "    <tr>\n",
       "      <th>2021-01-15 06:56:19-07:00</th>\n",
       "      <td>2021-01-15 07:01:19-07:00</td>\n",
       "      <td>3</td>\n",
       "    </tr>\n",
       "    <tr>\n",
       "      <th>2021-01-15 07:01:19-07:00</th>\n",
       "      <td>2021-01-15 07:41:19-07:00</td>\n",
       "      <td>1</td>\n",
       "    </tr>\n",
       "    <tr>\n",
       "      <th>2021-01-15 07:41:19-07:00</th>\n",
       "      <td>2021-01-15 08:26:19-07:00</td>\n",
       "      <td>3</td>\n",
       "    </tr>\n",
       "    <tr>\n",
       "      <th>2021-01-15 08:26:19-07:00</th>\n",
       "      <td>2021-01-15 08:31:19-07:00</td>\n",
       "      <td>0</td>\n",
       "    </tr>\n",
       "    <tr>\n",
       "      <th>2021-01-15 08:31:19-07:00</th>\n",
       "      <td>2021-01-15 08:51:19-07:00</td>\n",
       "      <td>1</td>\n",
       "    </tr>\n",
       "  </tbody>\n",
       "</table>\n",
       "<p>2684 rows × 2 columns</p>\n",
       "</div>"
      ],
      "text/plain": [
       "                                             endDate  value\n",
       "startDate                                                  \n",
       "2020-10-15 01:03:59-07:00  2020-10-15 01:08:59-07:00      0\n",
       "2020-10-15 01:08:59-07:00  2020-10-15 01:13:59-07:00      1\n",
       "2020-10-15 01:13:59-07:00  2020-10-15 01:18:59-07:00      0\n",
       "2020-10-15 01:18:59-07:00  2020-10-15 01:28:59-07:00      1\n",
       "2020-10-15 01:28:59-07:00  2020-10-15 01:43:59-07:00      2\n",
       "...                                              ...    ...\n",
       "2021-01-15 06:56:19-07:00  2021-01-15 07:01:19-07:00      3\n",
       "2021-01-15 07:01:19-07:00  2021-01-15 07:41:19-07:00      1\n",
       "2021-01-15 07:41:19-07:00  2021-01-15 08:26:19-07:00      3\n",
       "2021-01-15 08:26:19-07:00  2021-01-15 08:31:19-07:00      0\n",
       "2021-01-15 08:31:19-07:00  2021-01-15 08:51:19-07:00      1\n",
       "\n",
       "[2684 rows x 2 columns]"
      ]
     },
     "execution_count": 13,
     "metadata": {},
     "output_type": "execute_result"
    }
   ],
   "source": [
    "ouraHypnoDf = pd.DataFrame(columns=ColumnNames, data=filledRecords)\n",
    "\n",
    "ouraHypnoDf = ouraHypnoDf.set_index(\"startDate\")\n",
    "ouraHypnoDf"
   ]
  },
  {
   "cell_type": "code",
   "execution_count": 14,
   "metadata": {},
   "outputs": [
    {
     "data": {
      "text/plain": [
       "endDate    object\n",
       "value       int64\n",
       "dtype: object"
      ]
     },
     "execution_count": 14,
     "metadata": {},
     "output_type": "execute_result"
    }
   ],
   "source": [
    "ouraHypnoDf.dtypes"
   ]
  },
  {
   "cell_type": "code",
   "execution_count": 15,
   "metadata": {},
   "outputs": [
    {
     "data": {
      "text/plain": [
       "startDate\n",
       "2020-10-15 01:03:59-07:00    2020-10-15 01:08:59-07:00\n",
       "2020-10-15 01:08:59-07:00    2020-10-15 01:13:59-07:00\n",
       "2020-10-15 01:13:59-07:00    2020-10-15 01:18:59-07:00\n",
       "2020-10-15 01:18:59-07:00    2020-10-15 01:28:59-07:00\n",
       "2020-10-15 01:28:59-07:00    2020-10-15 01:43:59-07:00\n",
       "                                       ...            \n",
       "2021-01-15 06:56:19-07:00    2021-01-15 07:01:19-07:00\n",
       "2021-01-15 07:01:19-07:00    2021-01-15 07:41:19-07:00\n",
       "2021-01-15 07:41:19-07:00    2021-01-15 08:26:19-07:00\n",
       "2021-01-15 08:26:19-07:00    2021-01-15 08:31:19-07:00\n",
       "2021-01-15 08:31:19-07:00    2021-01-15 08:51:19-07:00\n",
       "Name: endDate, Length: 2684, dtype: object"
      ]
     },
     "execution_count": 15,
     "metadata": {},
     "output_type": "execute_result"
    }
   ],
   "source": [
    "ouraHypnoDf[\"endDate\"]"
   ]
  },
  {
   "cell_type": "code",
   "execution_count": 16,
   "metadata": {},
   "outputs": [
    {
     "ename": "NameError",
     "evalue": "name 'parquetName' is not defined",
     "output_type": "error",
     "traceback": [
      "\u001b[0;31m---------------------------------------------------------------------------\u001b[0m",
      "\u001b[0;31mNameError\u001b[0m                                 Traceback (most recent call last)",
      "Cell \u001b[0;32mIn[16], line 1\u001b[0m\n\u001b[0;32m----> 1\u001b[0m ouraHypnoDf\u001b[38;5;241m.\u001b[39mto_parquet(globalPath \u001b[38;5;241m+\u001b[39m \u001b[43mparquetName\u001b[49m,\n\u001b[1;32m      2\u001b[0m               compression\u001b[38;5;241m=\u001b[39m\u001b[38;5;124m'\u001b[39m\u001b[38;5;124mgzip\u001b[39m\u001b[38;5;124m'\u001b[39m) \n",
      "\u001b[0;31mNameError\u001b[0m: name 'parquetName' is not defined"
     ]
    }
   ],
   "source": [
    "ouraHypnoDf.to_parquet(globalPath + parquetName,\n",
    "              compression='gzip') "
   ]
  },
  {
   "cell_type": "code",
   "execution_count": null,
   "metadata": {},
   "outputs": [],
   "source": []
  }
 ],
 "metadata": {
  "kernelspec": {
   "display_name": "Python 3",
   "language": "python",
   "name": "python3"
  },
  "language_info": {
   "codemirror_mode": {
    "name": "ipython",
    "version": 3
   },
   "file_extension": ".py",
   "mimetype": "text/x-python",
   "name": "python",
   "nbconvert_exporter": "python",
   "pygments_lexer": "ipython3",
   "version": "3.8.10"
  }
 },
 "nbformat": 4,
 "nbformat_minor": 2
}
