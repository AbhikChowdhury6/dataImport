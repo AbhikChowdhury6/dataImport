{
 "cells": [
  {
   "cell_type": "code",
   "execution_count": null,
   "metadata": {},
   "outputs": [],
   "source": [
    "import pandas as pd\n",
    "import datetime\n",
    "import os\n",
    "import pytz\n",
    "import json\n",
    "print(pd.__version__)\n",
    "utc = pytz.utc\n",
    "\n",
    "dataFileColumns = [\"startDate\", \"endDate\", \"value\"]\n",
    "\n",
    "path = \"/home/chowder/Documents/personalData/ouraRing/\"\n",
    "jsonFileName = \"oura_2021-08-10T02-14-44.json\"\n",
    "\n",
    "outputFileName = \"ouraRingHypnoDf.parquet.gzip\"\n",
    "\n",
    "with open(path + jsonFileName) as f:\n",
    "  jsonData = json.load(f)"
   ]
  },
  {
   "cell_type": "code",
   "execution_count": null,
   "metadata": {},
   "outputs": [],
   "source": [
    "def ouraSleepStageToStandard(ouraNum):\n",
    "    if ouraNum == 4: #awake\n",
    "        return 0\n",
    "    if ouraNum == 2: #light sleep\n",
    "        return 1\n",
    "    if ouraNum == 1: #deep sleep\n",
    "        return 2\n",
    "    if ouraNum == 3: #REM sleep\n",
    "        return 3\n",
    "    "
   ]
  },
  {
   "cell_type": "code",
   "execution_count": null,
   "metadata": {},
   "outputs": [],
   "source": [
    "for SleepJSON in jsonData['sleep']:\n",
    "    startTime = datetime.datetime.fromisoformat(SleepJSON['bedtime_start']).astimezone(utc)\n",
    "    stageStartTime = startTime\n",
    "\n",
    "    hypnogram_5min = SleepJSON['hypnogram_5min']"
   ]
  },
  {
   "cell_type": "code",
   "execution_count": null,
   "metadata": {},
   "outputs": [],
   "source": []
  }
 ],
 "metadata": {
  "language_info": {
   "name": "python"
  }
 },
 "nbformat": 4,
 "nbformat_minor": 2
}
