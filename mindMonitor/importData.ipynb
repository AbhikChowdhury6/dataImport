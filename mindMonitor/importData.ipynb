{
 "metadata": {
  "language_info": {
   "codemirror_mode": {
    "name": "ipython",
    "version": 3
   },
   "file_extension": ".py",
   "mimetype": "text/x-python",
   "name": "python",
   "nbconvert_exporter": "python",
   "pygments_lexer": "ipython3",
   "version": "3.8.3"
  },
  "orig_nbformat": 2,
  "kernelspec": {
   "name": "python383jvsc74a57bd087e4dce2d64ddd29ba98032e602deb84283b90528a9753928e81e862a87ea896",
   "display_name": "Python 3.8.3 64-bit ('base': conda)"
  },
  "metadata": {
   "interpreter": {
    "hash": "87e4dce2d64ddd29ba98032e602deb84283b90528a9753928e81e862a87ea896"
   }
  }
 },
 "nbformat": 4,
 "nbformat_minor": 2,
 "cells": [
  {
   "cell_type": "code",
   "execution_count": 2,
   "metadata": {},
   "outputs": [
    {
     "output_type": "stream",
     "name": "stdout",
     "text": [
      "1.2.4\nEmpty DataFrame\nColumns: [timestamp, X, Y, Z]\nIndex: []\nEmpty DataFrame\nColumns: [timestamp, X, Y, Z]\nIndex: []\nEmpty DataFrame\nColumns: [timestamp, HeadBandOn, HSI_TP9, HSI_AF7, HSI_AF8, HSI_TP10, Battery]\nIndex: []\nEmpty DataFrame\nColumns: [timestamp, Elements]\nIndex: []\nEmpty DataFrame\nColumns: [timestamp, File_Names]\nIndex: []\n"
     ]
    }
   ],
   "source": [
    "import pandas as pd\n",
    "import os\n",
    "print(pd.__version__)\n",
    "\n",
    "#the location of the data directory relitive to this file\n",
    "datDir = \"./../../personalData/mindMonitor\"\n",
    "\n",
    "#list of data streams\n",
    "dataFileNames = [\"Alpha_power\", \"Beta_power\", \"Delta_power\", \"Gamma_power\", \"Theta_power\", \"RAW\", \"Accelerometer\", \"Gyroscope\", \"Headband_Status\", \"Muse_Features\", \"Imported_Files\"]\n",
    "\n",
    "dataFileColumns = {\n",
    "    \"Alpha_power\": [\"timestamp\", \"Alpha_TP9\", \"Alpha_AF7\", \"Alpha_AF8\", \"Alpha_TP10\"],\n",
    "    \"Beta_power\": [\"timestamp\", \"Beta_TP9\", \"Beta_AF7\", \"Beta_AF8\", \"Beta_TP10\"],\n",
    "    \"Delta_power\": [\"timestamp\", \"Delta_TP9\", \"Delta_AF7\", \"Delta_AF8\", \"Delta_TP10\"],\n",
    "    \"Gamma_power\": [\"timestamp\", \"Gamma_TP9\", \"Gamma_AF7\", \"Gamma_AF8\", \"Gamma_TP10\"],\n",
    "    \"Theta_power\": [\"timestamp\", \"Theta_TP9\", \"Theta_AF7\", \"Theta_AF8\", \"Theta_TP10\"],\n",
    "    \"RAW\": [\"timestamp\", \"RAW_TP9\", \"RAW_AF7\", \"RAW_AF8\", \"RAW_TP10\", \"AUX_RIGHT\"],\n",
    "    \"Accelerometer\": [\"timestamp\", \"X\", \"Y\", \"Z\" ],\n",
    "    \"Gyroscope\": [\"timestamp\",  \"X\", \"Y\", \"Z\" ],\n",
    "    \"Headband_Status\": [\"timestamp\", \"HeadBandOn\", \"HSI_TP9\", \"HSI_AF7\", \"HSI_AF8\", \"HSI_TP10\", \"Battery\"],\n",
    "    \"Muse_Features\": [\"timestamp\", \"Elements\"],\n",
    "    \"Imported_Files\": [\"timestamp\", \"File_Names\"]\n",
    "    }\n",
    "\n",
    "#get a list of files in this directory\n",
    "files = [f for f in os.listdir(datDir) if os.path.isfile(f)]\n",
    "\n",
    "# check if the parquet files already exist\n",
    "for f in dataFileNames:\n",
    "    if not (datDir + f + \".parquet.gzip\" in files):\n",
    "        # if not make them\n",
    "        #create and empty dataframe\n",
    "        emptydf = pd.DataFrame(columns = dataFileColumns[f])\n",
    "        emptydf.set_index('timestamp')\n",
    "        print(emptydf)\n",
    "        \n",
    "        #save as a parquet file\n",
    "        emptydf.to_parquet(datDir + f + '.parquet.gzip', compression='gzip') \n",
    "\n"
   ]
  },
  {
   "cell_type": "code",
   "execution_count": 9,
   "metadata": {},
   "outputs": [],
   "source": [
    "#load the parquet files\n",
    "dfDict = {}\n",
    "for f in dataFileNames:\n",
    "    dfDict[f] = pd.read_parquet(f + \".parquet.gzip\")\n"
   ]
  },
  {
   "cell_type": "code",
   "execution_count": 16,
   "metadata": {},
   "outputs": [],
   "source": [
    "#compare them to the list of files already imported\n",
    "alreadyImportedFilesList = dfDict[\"Imported_Files\"]['File_Names'].to_list()\n",
    "\n",
    "#get a list of unimported files\n",
    "for f in files:\n",
    "    if ( (not (f in alreadyImportedFilesList)) and f[-4:] == \".csv\"):\n",
    "        #import f\n",
    "        pass"
   ]
  },
  {
   "cell_type": "code",
   "execution_count": 21,
   "metadata": {},
   "outputs": [],
   "source": [
    "#import function\n",
    "def importMindMonitor(filename , dfs, dfnames, dfcols):\n",
    "    #read in file\n",
    "    importingdf = pd.read_csv(\"./\" + filename)\n",
    "    print(importingdf.head())\n",
    "    \n",
    "    #convert timestamp into real timestamps\n",
    "    originaldatesList = importingdf['TimeStamp'].to_list()\n",
    "    datetimeList = [pd.to_datetime(x, format='%Y/%m/%d %H:%M:%S.%f') for x in originaldatesList]\n",
    "    importingdf.drop('TimeStamp')\n",
    "    importingdf.add(column = 'timestamp', data = datetimeList)\n",
    "    importingdf.set_index('timestamp')\n",
    "\n",
    "    for f in dfnames:\n",
    "        #get subdf\n",
    "        subdf = importingdf[f].loc[:,dfcols[f]]\n",
    "\n",
    "        #deduplicate\n",
    "\n",
    "        #merge\n",
    "\n",
    "\n"
   ]
  },
  {
   "cell_type": "code",
   "execution_count": 19,
   "metadata": {},
   "outputs": [],
   "source": [
    "#deduplication function\n",
    "def deduplicate(dfToDeDuplicate):\n",
    "    #save first data point\n",
    "    #whenever there is a change save that as well\n",
    "    return deDupeddf"
   ]
  },
  {
   "cell_type": "code",
   "execution_count": 22,
   "metadata": {},
   "outputs": [
    {
     "output_type": "stream",
     "name": "stdout",
     "text": [
      "                 TimeStamp  Delta_TP9  Delta_AF7  Delta_AF8  Delta_TP10  \\\n0  2020-10-19 08:00:25.165    0.69539   0.393909    0.76654    0.367348   \n1  2020-10-19 08:00:25.167    0.69539   0.393909    0.76654    0.367348   \n2  2020-10-19 08:00:25.169    0.69539   0.393909    0.76654    0.367348   \n3  2020-10-19 08:00:25.170    0.69539   0.393909    0.76654    0.367348   \n4  2020-10-19 08:00:25.172    0.69539   0.393909    0.76654    0.367348   \n\n   Theta_TP9  Theta_AF7  Theta_AF8  Theta_TP10  Alpha_TP9  ...    Gyro_X  \\\n0   0.464865   0.041941   0.062758    0.055259   0.819408  ...  3.895416   \n1   0.464865   0.041941   0.062758    0.055259   0.819408  ...  3.895416   \n2   0.464865   0.041941   0.062758    0.055259   0.819408  ...  3.895416   \n3   0.464865   0.041941   0.062758    0.055259   0.819408  ...  3.895416   \n4   0.464865   0.041941   0.062758    0.055259   0.819408  ...  3.895416   \n\n     Gyro_Y   Gyro_Z  HeadBandOn  HSI_TP9  HSI_AF7  HSI_AF8  HSI_TP10  \\\n0 -3.484192  3.20755         1.0      1.0      1.0      1.0       1.0   \n1 -3.484192  3.20755         1.0      1.0      1.0      1.0       1.0   \n2 -3.484192  3.20755         1.0      1.0      1.0      1.0       1.0   \n3 -3.484192  3.20755         1.0      1.0      1.0      1.0       1.0   \n4 -3.484192  3.20755         1.0      1.0      1.0      1.0       1.0   \n\n   Battery  Elements  \n0    100.0       NaN  \n1    100.0       NaN  \n2    100.0       NaN  \n3    100.0       NaN  \n4    100.0       NaN  \n\n[5 rows x 39 columns]\n"
     ]
    }
   ],
   "source": [
    "importMindMonitor(\"museMonitor_2020-10-19--08-00-25_-1882851932.csv\", dfDict, dataFileNames, dataFileColumns)"
   ]
  },
  {
   "cell_type": "code",
   "execution_count": null,
   "metadata": {},
   "outputs": [],
   "source": []
  }
 ]
}