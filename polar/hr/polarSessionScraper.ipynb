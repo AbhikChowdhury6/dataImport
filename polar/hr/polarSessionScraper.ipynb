{
 "cells": [
  {
   "cell_type": "code",
   "execution_count": null,
   "metadata": {},
   "outputs": [],
   "source": [
    "# steps are login\n",
    "    #go to https://flow.polar.com/\n",
    "    # click sign in\n",
    "    # click sign in\n",
    "    # input creds\n",
    "    # click sign in \n",
    "# go to export trainnings\n",
    "    #click on training history\n",
    "    #click on last 6 months id = daterangeselection__range-pill--last-six-months\n",
    "    #click on each training session (opens a new window based on the id in the trainning session)\n",
    "        #it seems like some distiguishing features of this are the aria-label = training session and class = row history-list__row history-list id-7958388293\n",
    "        # although the class is session specific\n",
    "    # click on export sessionid = exportTrainingSessionPopup\n",
    "    # click on session CSV - id = exportTrainingSessionAsCsvFile\n",
    "    # put the download where I want it\n"
   ]
  },
  {
   "cell_type": "code",
   "execution_count": null,
   "metadata": {},
   "outputs": [],
   "source": [
    "import os\n",
    "import sys\n",
    "def getRepoPath():\n",
    "    cwd = os.getcwd()\n",
    "    delimiter = \"\\\\\" if \"\\\\\" in cwd else \"/\"\n",
    "    repoPath = delimiter.join(cwd.split(delimiter)[:cwd.split(delimiter).index(\"dataImport\")]) + delimiter\n",
    "    return repoPath\n",
    "repoPath = getRepoPath()\n",
    "sys.path.append(repoPath + 'dataImport/')\n",
    "from utils import workingDataPath, getWorkingHRDfParquet, getHRGroups\n",
    "import pandas as pd\n",
    "\n",
    "from secrets import polarUserName, polarPassword"
   ]
  },
  {
   "cell_type": "code",
   "execution_count": null,
   "metadata": {},
   "outputs": [],
   "source": [
    "from selenium import webdriver\n",
    "from selenium.webdriver.common.by import By\n",
    "from selenium.webdriver.common.keys import Keys"
   ]
  },
  {
   "cell_type": "code",
   "execution_count": null,
   "metadata": {},
   "outputs": [],
   "source": [
    "driver = webdriver.Chrome()  # Use the path to your ChromeDriver if necessary\n",
    "driver.get(\"https://flow.polar.com/\")"
   ]
  },
  {
   "cell_type": "code",
   "execution_count": null,
   "metadata": {},
   "outputs": [],
   "source": [
    "element = driver.find_element(By.ID, \"loginButtonNav\")\n",
    "element.click()\n",
    "element = driver.find_element(By.ID, \"login\")\n",
    "element.click()"
   ]
  }
 ],
 "metadata": {
  "language_info": {
   "name": "python"
  }
 },
 "nbformat": 4,
 "nbformat_minor": 2
}
