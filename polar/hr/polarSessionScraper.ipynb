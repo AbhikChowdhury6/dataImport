{
 "cells": [
  {
   "cell_type": "code",
   "execution_count": null,
   "metadata": {},
   "outputs": [],
   "source": [
    "# steps are login\n",
    "    #go to https://flow.polar.com/\n",
    "    # click sign in\n",
    "    # click sign in\n",
    "    # input creds\n",
    "    # click sign in \n",
    "# go to export trainnings\n",
    "    #click on training history\n",
    "    #click on last 6 months id = daterangeselection__range-pill--last-six-months\n",
    "    #click on each training session (opens a new window based on the id in the trainning session)\n",
    "        #it seems like some distiguishing features of this are the aria-label = training session and class = row history-list__row history-list id-7958388293\n",
    "        # although the class is session specific\n",
    "    # click on export sessionid = exportTrainingSessionPopup\n",
    "    # click on session CSV - id = exportTrainingSessionAsCsvFile\n",
    "    # put the download where I want it\n"
   ]
  },
  {
   "cell_type": "code",
   "execution_count": 1,
   "metadata": {},
   "outputs": [
    {
     "name": "stderr",
     "output_type": "stream",
     "text": [
      "/home/chowder/anaconda3/lib/python3.8/site-packages/pandas/core/computation/expressions.py:20: UserWarning: Pandas requires version '2.7.3' or newer of 'numexpr' (version '2.7.1' currently installed).\n",
      "  from pandas.core.computation.check import NUMEXPR_INSTALLED\n"
     ]
    }
   ],
   "source": [
    "import os\n",
    "import sys\n",
    "def getRepoPath():\n",
    "    cwd = os.getcwd()\n",
    "    delimiter = \"\\\\\" if \"\\\\\" in cwd else \"/\"\n",
    "    repoPath = delimiter.join(cwd.split(delimiter)[:cwd.split(delimiter).index(\"dataImport\")]) + delimiter\n",
    "    return repoPath\n",
    "repoPath = getRepoPath()\n",
    "sys.path.append(repoPath + 'dataImport/')\n",
    "from utils import workingDataPath, getWorkingHRDfParquet, getHRGroups\n",
    "import pandas as pd\n",
    "\n",
    "from mySecrets import polarUserName, polarPassword"
   ]
  },
  {
   "cell_type": "code",
   "execution_count": 6,
   "metadata": {},
   "outputs": [],
   "source": [
    "from selenium import webdriver\n",
    "from selenium.webdriver.common.by import By\n",
    "from selenium.webdriver.common.keys import Keys\n",
    "import time"
   ]
  },
  {
   "cell_type": "code",
   "execution_count": 4,
   "metadata": {},
   "outputs": [],
   "source": [
    "driver = webdriver.Chrome()  # Use the path to your ChromeDriver if necessary\n",
    "driver.get(\"https://flow.polar.com/\")\n",
    "element = driver.find_element(By.ID, \"CybotCookiebotDialogBodyLevelButtonLevelOptinAllowallSelection\")\n",
    "element.click()\n",
    "time.sleep(1)\n"
   ]
  },
  {
   "cell_type": "code",
   "execution_count": 7,
   "metadata": {},
   "outputs": [],
   "source": [
    "#on the home page, go to login\n",
    "element = driver.find_element(By.ID, \"loginButtonNav\")\n",
    "element.click()\n",
    "time.sleep(1)\n",
    "element = driver.find_element(By.ID, \"login\")\n",
    "element.click()\n",
    "time.sleep(2)"
   ]
  },
  {
   "cell_type": "code",
   "execution_count": 8,
   "metadata": {},
   "outputs": [],
   "source": [
    "#on the login page, login\n",
    "username_field = driver.find_element(By.ID, \"username\")\n",
    "username_field.send_keys(polarUserName)\n",
    "\n",
    "password_field = driver.find_element(By.ID, \"password\")\n",
    "password_field.send_keys(polarPassword)\n",
    "\n",
    "signInButton = driver.find_element(By.XPATH, \"//*[@data-testid='login-button']\")\n",
    "signInButton.click()\n",
    "time.sleep(5)"
   ]
  },
  {
   "cell_type": "code",
   "execution_count": 11,
   "metadata": {},
   "outputs": [],
   "source": [
    "#from wherever they landed you go to the trainning sessions page\n",
    "#click on diary at the top\n",
    "element = driver.find_element(By.ID, \"main_training\")\n",
    "element.click()\n",
    "time.sleep(1)\n",
    "\n",
    "#click on the trainning sessions button\n",
    "element = driver.find_element(By.ID, \"diary_list\")\n",
    "element.click()\n",
    "time.sleep(5)\n",
    "\n",
    "#click on data for the last 6 months\n",
    "element = driver.find_element(By.ID, \"daterangeselection__range-pill--last-six-months\")\n",
    "element.click()\n",
    "time.sleep(5)"
   ]
  },
  {
   "cell_type": "code",
   "execution_count": 12,
   "metadata": {},
   "outputs": [
    {
     "name": "stdout",
     "output_type": "stream",
     "text": [
      "['7963491493', '7963049137', '7962320062', '7962181390', '7961655468', '7961638766', '7961630192', '7961134032', '7960883859', '7960330806', '7959912674', '7959811840', '7959912664', '7958477856', '7958388293', '7957768904', '7957639510', '7955813940', '7955149224', '7955149199', '7954504612', '7954435994', '7953639803', '7951475126', '7951155476', '7951054491', '7951054506', '7951054514', '7951054462', '7951054454', '7951054477', '7948309401', '7948061446', '7948061531', '7948061424', '7948061506', '7948061470', '7947535667', '7947043180', '7947009082', '7946938680', '7946657638', '7946408747', '7945668559', '7945034419', '7944944857', '7944928047', '7944670301', '7944928060', '7936183748', '7944928043', '7944928063', '7944928053', '7926566566', '7922789379', '7921452466']\n"
     ]
    }
   ],
   "source": [
    "# there's a bunch of aria-labels with diffrent class names\n",
    "# Find all elements with the aria-label=\"training session\"\n",
    "elements = driver.find_elements(By.XPATH, \"//*[@aria-label='training session']\")\n",
    "\n",
    "workoutIDs = [element.get_attribute(\"class\").split('id-')[1] for element in elements]\n",
    "print(workoutIDs)"
   ]
  },
  {
   "cell_type": "code",
   "execution_count": 14,
   "metadata": {},
   "outputs": [],
   "source": [
    "for workoutID in workoutIDs:\n",
    "    \n",
    "    driver.get(\"https://flow.polar.com/training/analysis/\" + workoutID)\n",
    "    \n",
    "    element = driver.find_element(By.ID, \"exportTrainingSessionPopup\")\n",
    "    element.click()\n",
    "    time.sleep(1)\n",
    "\n",
    "    element = driver.find_element(By.ID, \"exportTrainingSessionAsCsvFile\")\n",
    "    element.click()\n",
    "    time.sleep(2)\n"
   ]
  },
  {
   "cell_type": "code",
   "execution_count": 15,
   "metadata": {},
   "outputs": [],
   "source": [
    "driver.quit()"
   ]
  }
 ],
 "metadata": {
  "kernelspec": {
   "display_name": "Python 3",
   "language": "python",
   "name": "python3"
  },
  "language_info": {
   "codemirror_mode": {
    "name": "ipython",
    "version": 3
   },
   "file_extension": ".py",
   "mimetype": "text/x-python",
   "name": "python",
   "nbconvert_exporter": "python",
   "pygments_lexer": "ipython3",
   "version": "3.8.3"
  }
 },
 "nbformat": 4,
 "nbformat_minor": 2
}
