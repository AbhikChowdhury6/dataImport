{
 "cells": [
  {
   "cell_type": "code",
   "execution_count": null,
   "metadata": {},
   "outputs": [],
   "source": [
    "import os\n",
    "import sys\n",
    "def getRepoPath():\n",
    "    cwd = os.getcwd()\n",
    "    delimiter = \"\\\\\" if \"\\\\\" in cwd else \"/\"\n",
    "    repoPath = delimiter.join(cwd.split(delimiter)[:cwd.split(delimiter).index(\"dataImport\")+1]) + delimiter\n",
    "    return repoPath\n",
    "repoPath = getRepoPath()\n",
    "sys.path.append(repoPath)\n",
    "import writeWorkingTSDf\n",
    "from writeWorkingTSDf import writeWorkingTSDf"
   ]
  },
  {
   "cell_type": "code",
   "execution_count": null,
   "metadata": {},
   "outputs": [],
   "source": [
    "exportLocation = \"/home/chowder/Documents/dataExports/polar/polar-user-data-export_9cc7f44f-6622-4e4d-b682-f3065d10aeb1/\""
   ]
  },
  {
   "cell_type": "code",
   "execution_count": null,
   "metadata": {},
   "outputs": [],
   "source": [
    "dir_list = os.listdir(exportPath + exportfn)\n",
    "hrFilenames = [x for x in dir_list if x.split(\"-\")[0] == \"training\"]\n",
    "hrFilenames[0]"
   ]
  },
  {
   "cell_type": "code",
   "execution_count": null,
   "metadata": {},
   "outputs": [],
   "source": [
    "import json\n",
    "import pandas as pd\n",
    "from datetime import datetime\n",
    "\n",
    "columnNames = [\"sampleDT\", \"value\"]\n",
    "\n",
    "samplesCount = 0\n",
    "samplesList = []\n",
    "\n",
    "for fn in hrFilenames:\n",
    "    print(fn)\n",
    "    data = json.load(open(exportPath + exportfn + \"/\" + fn))\n",
    "\n",
    "    samples = data[\"exercises\"][0][\"samples\"]\n",
    "    if 'heartRate' in samples:\n",
    "        for row in samples['heartRate']:\n",
    "            if len(row) == 2:\n",
    "                samplesList.append([pd.to_datetime(row[\"dateTime\"] + \"-0700\"), row[\"value\"]])\n",
    "                samplesCount += 1\n",
    "                if samplesCount % 20_000 == 0:\n",
    "                    print(samplesCount)\n"
   ]
  }
 ],
 "metadata": {
  "kernelspec": {
   "display_name": "vision",
   "language": "python",
   "name": "python3"
  },
  "language_info": {
   "name": "python",
   "version": "3.11.10"
  }
 },
 "nbformat": 4,
 "nbformat_minor": 2
}
