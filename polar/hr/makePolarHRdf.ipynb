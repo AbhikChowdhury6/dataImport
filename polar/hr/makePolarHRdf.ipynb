{
 "cells": [
  {
   "cell_type": "markdown",
   "metadata": {},
   "source": [
    "go to https://account.polar.com and download your data"
   ]
  },
  {
   "cell_type": "code",
   "execution_count": 10,
   "metadata": {},
   "outputs": [],
   "source": [
    "import os\n",
    "workingDataFile = \"/home/chowder/Documents/workingData/polar/hr/polarHRdf.parquet.gzip\"\n",
    "\n",
    "# Get the list of all files and directories\n",
    "exportPath = \"/home/chowder/Documents/dataExports/polar/\"\n",
    "exportfn = \"polar-user-data-export_156577f0-84e7-434c-914f-66e092eb137c\"\n",
    "dir_list = os.listdir(exportPath + exportfn)"
   ]
  },
  {
   "cell_type": "code",
   "execution_count": 11,
   "metadata": {},
   "outputs": [
    {
     "data": {
      "text/plain": [
       "'training-session-2019-10-27-4001044490-6e165d49-b8b5-4ecf-acb6-0bc1335bf278.json'"
      ]
     },
     "execution_count": 11,
     "metadata": {},
     "output_type": "execute_result"
    }
   ],
   "source": [
    "hrFilenames = [x for x in dir_list if x.split(\"-\")[0] == \"training\"]\n",
    "hrFilenames[0]"
   ]
  },
  {
   "cell_type": "code",
   "execution_count": 12,
   "metadata": {},
   "outputs": [
    {
     "data": {
      "text/plain": [
       "{'dateTime': '2019-10-27T16:16:57.000', 'value': 95}"
      ]
     },
     "execution_count": 12,
     "metadata": {},
     "output_type": "execute_result"
    }
   ],
   "source": [
    "import json\n",
    "data = json.load(open(exportPath + exportfn + \"/\" + hrFilenames[0]))\n",
    "data[\"exercises\"][0][\"samples\"]['heartRate'][0]\n",
    "# exercises"
   ]
  },
  {
   "cell_type": "code",
   "execution_count": 13,
   "metadata": {},
   "outputs": [
    {
     "name": "stdout",
     "output_type": "stream",
     "text": [
      "training-session-2019-10-27-4001044490-6e165d49-b8b5-4ecf-acb6-0bc1335bf278.json\n",
      "training-session-2020-05-26-4704617257-acb12704-d279-48c3-be87-b71597e8669c.json\n",
      "20000\n",
      "40000\n",
      "60000\n",
      "training-session-2024-07-16-7921452466-a7324d4b-db7d-4f9e-a408-4027f96be4d1.json\n",
      "training-session-2024-07-18-7922789379-d653bdf2-ab9d-49b7-92fa-d9aac76f33c4.json\n",
      "80000\n",
      "training-session-2020-05-28-4710506157-6e626658-e3f6-43be-ad12-329e6bd20709.json\n",
      "training-session-2019-10-27-3997220845-24165c43-53a6-4bcc-a104-2e1b696dfae0.json\n",
      "training-session-2019-10-30-4007105070-2f06cc5b-557c-4958-b7af-c21b5a563229.json\n",
      "training-session-2024-07-24-7926566566-0858fb7b-8688-4b79-a5dd-24cd9947671c.json\n",
      "training-session-2019-10-27-4001044540-14a76d51-93eb-496c-88a1-40d6c3a868f5.json\n",
      "training-session-2019-10-27-3997190235-ef37fe2f-8793-40b9-a81b-e2fdd326973d.json\n",
      "training-session-2019-10-30-4007108755-608ac9ec-ab9e-4abd-bfdd-95704f62b8de.json\n",
      "training-session-2024-08-07-7936183748-5763bd67-6c0b-4b81-8fc7-674d6791b06e.json\n",
      "100000\n",
      "training-session-2019-10-28-4002504330-a0972f1d-5fb6-419a-a3d7-dee513e19c75.json\n",
      "120000\n",
      "140000\n"
     ]
    }
   ],
   "source": [
    "import json\n",
    "import pandas as pd\n",
    "\n",
    "columnNames = [\"sampleDT\", \"value\"]\n",
    "\n",
    "samplesCount = 0\n",
    "samplesList = []\n",
    "\n",
    "for fn in hrFilenames:\n",
    "    print(fn)\n",
    "    data = json.load(open(exportPath + exportfn + \"/\" + fn))\n",
    "\n",
    "    samples = data[\"exercises\"][0][\"samples\"]\n",
    "    if 'heartRate' in samples:\n",
    "        for row in samples['heartRate']:\n",
    "            if len(row) == 2:\n",
    "                samplesList.append([pd.to_datetime(row[\"dateTime\"] + \"-0700\"), row[\"value\"]])\n",
    "                samplesCount += 1\n",
    "                if samplesCount % 20_000 == 0:\n",
    "                    print(samplesCount)\n"
   ]
  },
  {
   "cell_type": "code",
   "execution_count": 14,
   "metadata": {},
   "outputs": [],
   "source": [
    "samplesList = sorted(samplesList, key=lambda x:x[0])\n",
    "samplesList = [x for x in samplesList if x[1] > 0]"
   ]
  },
  {
   "cell_type": "code",
   "execution_count": 15,
   "metadata": {},
   "outputs": [],
   "source": [
    "import pandas as pd\n",
    "\n",
    "polarHRdf = pd.DataFrame(data=samplesList, columns=columnNames)\n",
    "\n",
    "polarHRdf = polarHRdf.set_index(\"sampleDT\")"
   ]
  },
  {
   "cell_type": "code",
   "execution_count": 16,
   "metadata": {},
   "outputs": [
    {
     "data": {
      "text/html": [
       "<div>\n",
       "<style scoped>\n",
       "    .dataframe tbody tr th:only-of-type {\n",
       "        vertical-align: middle;\n",
       "    }\n",
       "\n",
       "    .dataframe tbody tr th {\n",
       "        vertical-align: top;\n",
       "    }\n",
       "\n",
       "    .dataframe thead th {\n",
       "        text-align: right;\n",
       "    }\n",
       "</style>\n",
       "<table border=\"1\" class=\"dataframe\">\n",
       "  <thead>\n",
       "    <tr style=\"text-align: right;\">\n",
       "      <th></th>\n",
       "      <th>value</th>\n",
       "    </tr>\n",
       "    <tr>\n",
       "      <th>sampleDT</th>\n",
       "      <th></th>\n",
       "    </tr>\n",
       "  </thead>\n",
       "  <tbody>\n",
       "    <tr>\n",
       "      <th>2019-10-27 15:32:45-07:00</th>\n",
       "      <td>69</td>\n",
       "    </tr>\n",
       "    <tr>\n",
       "      <th>2019-10-27 15:32:46-07:00</th>\n",
       "      <td>69</td>\n",
       "    </tr>\n",
       "    <tr>\n",
       "      <th>2019-10-27 15:32:47-07:00</th>\n",
       "      <td>69</td>\n",
       "    </tr>\n",
       "    <tr>\n",
       "      <th>2019-10-27 15:32:48-07:00</th>\n",
       "      <td>69</td>\n",
       "    </tr>\n",
       "    <tr>\n",
       "      <th>2019-10-27 15:32:49-07:00</th>\n",
       "      <td>69</td>\n",
       "    </tr>\n",
       "    <tr>\n",
       "      <th>...</th>\n",
       "      <td>...</td>\n",
       "    </tr>\n",
       "    <tr>\n",
       "      <th>2024-08-07 22:54:04-07:00</th>\n",
       "      <td>82</td>\n",
       "    </tr>\n",
       "    <tr>\n",
       "      <th>2024-08-07 22:54:05-07:00</th>\n",
       "      <td>82</td>\n",
       "    </tr>\n",
       "    <tr>\n",
       "      <th>2024-08-07 22:54:06-07:00</th>\n",
       "      <td>83</td>\n",
       "    </tr>\n",
       "    <tr>\n",
       "      <th>2024-08-07 22:54:07-07:00</th>\n",
       "      <td>83</td>\n",
       "    </tr>\n",
       "    <tr>\n",
       "      <th>2024-08-07 22:54:08-07:00</th>\n",
       "      <td>83</td>\n",
       "    </tr>\n",
       "  </tbody>\n",
       "</table>\n",
       "<p>146026 rows × 1 columns</p>\n",
       "</div>"
      ],
      "text/plain": [
       "                           value\n",
       "sampleDT                        \n",
       "2019-10-27 15:32:45-07:00     69\n",
       "2019-10-27 15:32:46-07:00     69\n",
       "2019-10-27 15:32:47-07:00     69\n",
       "2019-10-27 15:32:48-07:00     69\n",
       "2019-10-27 15:32:49-07:00     69\n",
       "...                          ...\n",
       "2024-08-07 22:54:04-07:00     82\n",
       "2024-08-07 22:54:05-07:00     82\n",
       "2024-08-07 22:54:06-07:00     83\n",
       "2024-08-07 22:54:07-07:00     83\n",
       "2024-08-07 22:54:08-07:00     83\n",
       "\n",
       "[146026 rows x 1 columns]"
      ]
     },
     "execution_count": 16,
     "metadata": {},
     "output_type": "execute_result"
    }
   ],
   "source": [
    "polarHRdf"
   ]
  },
  {
   "cell_type": "code",
   "execution_count": 17,
   "metadata": {},
   "outputs": [
    {
     "data": {
      "text/plain": [
       "value    int64\n",
       "dtype: object"
      ]
     },
     "execution_count": 17,
     "metadata": {},
     "output_type": "execute_result"
    }
   ],
   "source": [
    "polarHRdf.dtypes"
   ]
  },
  {
   "cell_type": "code",
   "execution_count": 18,
   "metadata": {},
   "outputs": [],
   "source": [
    "polarHRdf.to_parquet(workingDataFile,\n",
    "              compression='gzip') "
   ]
  }
 ],
 "metadata": {
  "kernelspec": {
   "display_name": "Python 3",
   "language": "python",
   "name": "python3"
  },
  "language_info": {
   "codemirror_mode": {
    "name": "ipython",
    "version": 3
   },
   "file_extension": ".py",
   "mimetype": "text/x-python",
   "name": "python",
   "nbconvert_exporter": "python",
   "pygments_lexer": "ipython3",
   "version": "3.8.10"
  }
 },
 "nbformat": 4,
 "nbformat_minor": 2
}
