{
 "cells": [
  {
   "cell_type": "code",
   "execution_count": null,
   "metadata": {},
   "outputs": [],
   "source": [
    "# we can read in the 5 different data frames and combine them in a kalman filter\n",
    "\n",
    "\n",
    "# make a gaussian preditiction of a value\n",
    "# based on data from a variety of sources of\n",
    "# varying noise levels\n",
    "\n",
    "\n",
    "#step 1 gaussian process regression using just one sensor with heald out data\n",
    "# only other feature is lag, lead, and time of day (day of week, and week of year are also on the table)\n"
   ]
  },
  {
   "cell_type": "code",
   "execution_count": null,
   "metadata": {},
   "outputs": [],
   "source": [
    "# since the apple watch has the highest variability in observation times\n",
    "# and is the most accurate\n",
    "\n",
    "# I do like the idea of building the predictive model\n",
    "# based on apple watch and polar data, and then fuse the other data\n",
    "\n",
    "# let's import the longest contiguous time"
   ]
  },
  {
   "cell_type": "code",
   "execution_count": null,
   "metadata": {},
   "outputs": [],
   "source": [
    "# the whoop strap has the most \n",
    "\n",
    "\n",
    "\n",
    "appleFileLocation = \"/home/chowder/Documents/personalData/Apple/\"\n",
    "\n",
    "polarFileLocation = \"/home/chowder/Documents/personalData/polarFlow/\"\n",
    "\n",
    "\n",
    "# load up the apple Series\n",
    "appleWatchHRDf = pd.read_parquet(appleFileLocation + 'appleHRdf.parquet.gzip') \n",
    "appleHRs = appleWatchHRDf[\"value\"]\n",
    "\n",
    "# load up the polar Series\n",
    "polarHRdf = pd.read_parquet(polarFileLocation + \"polarHRdf.parquet.gzip\") \n",
    "polarHRs = polarHRs[\"value\"]\n",
    "\n",
    "# extract time frames where they both have data\n",
    "    # extract contiguous start and end times\n",
    "    # whenever a sample is within 5 minutes either side of \n",
    "    # a sample from the other sensor connect them\n",
    "\n",
    "# iterate through every element of the smaller series\n",
    "    # query the larger series for samples for that time frame\n",
    "td = pd.Timedelta(minutes=5)\n",
    "\n",
    "overlappingAppleIndexes = []\n",
    "overlappingPolarISet = set()\n",
    "\n",
    "for appleSample in appleHRs:\n",
    "    overlapps = polarHRs.loc[appleSample-td, appleSample+td]\n",
    "    if len()\n",
    "\n",
    "#retun new series with just the overlapping samples\n"
   ]
  },
  {
   "cell_type": "code",
   "execution_count": null,
   "metadata": {},
   "outputs": [],
   "source": [
    "# find the longest contiguous time in either DF\n",
    "    #contiguous meaning no more than 11 minutes between samples"
   ]
  },
  {
   "cell_type": "code",
   "execution_count": null,
   "metadata": {},
   "outputs": [],
   "source": [
    "#graph that section"
   ]
  }
 ],
 "metadata": {
  "language_info": {
   "name": "python"
  }
 },
 "nbformat": 4,
 "nbformat_minor": 2
}
