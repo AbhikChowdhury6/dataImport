{
 "cells": [
  {
   "cell_type": "code",
   "execution_count": null,
   "metadata": {},
   "outputs": [],
   "source": [
    "# we can read in the 5 different data frames and combine them in a kalman filter\n",
    "\n",
    "\n",
    "# make a gaussian preditiction of a value\n",
    "# based on data from a variety of sources of\n",
    "# varying noise levels\n",
    "\n",
    "\n",
    "#step 1 gaussian process regression using just one sensor with heald out data\n",
    "# only other feature is lag, lead, and time of day (day of week, and week of year are also on the table)\n"
   ]
  },
  {
   "cell_type": "code",
   "execution_count": null,
   "metadata": {},
   "outputs": [],
   "source": [
    "# since the apple watch has the highest variability in observation times\n",
    "# and is the most accurate\n",
    "\n",
    "# I do like the idea of building the predictive model\n",
    "# based on apple watch and polar data, and then fuse the other data\n",
    "\n",
    "# let's import the longest contiguous time"
   ]
  },
  {
   "cell_type": "code",
   "execution_count": null,
   "metadata": {},
   "outputs": [],
   "source": [
    "# the whoop strap has the most \n",
    "\n"
   ]
  },
  {
   "cell_type": "code",
   "execution_count": null,
   "metadata": {},
   "outputs": [],
   "source": []
  }
 ],
 "metadata": {
  "language_info": {
   "name": "python"
  }
 },
 "nbformat": 4,
 "nbformat_minor": 2
}
