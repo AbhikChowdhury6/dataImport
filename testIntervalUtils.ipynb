{
 "cells": [
  {
   "cell_type": "code",
   "execution_count": null,
   "metadata": {},
   "outputs": [],
   "source": [
    "# the utils we'll be looking for\n",
    "\n",
    "# we created groups\n",
    "# we could calculate intersections\n",
    "# we could infill groups with -1\n",
    "\n",
    "# where is my interpolate and combine?\n",
    "\n",
    "# the interval type seems realy handy as a multiindex with a float value field\n",
    "    # multi type sleep data\n",
    "    # single type data present/ not present  for various sensors\n",
    "    # action intervals with various string descriptors\n",
    "\n",
    "# is there a way for me to have multiple kinds of values for the value segment?\n",
    "\n",
    "# start with the coded int intervals\n",
    "    #how to keep the key? - let's just do it in the docs for now\n",
    "# then extend to the action intervals\n",
    "\n",
    "# how about the key for the coded int is the column name\n",
    "#name+int!...."
   ]
  },
  {
   "cell_type": "code",
   "execution_count": null,
   "metadata": {},
   "outputs": [],
   "source": [
    "from datetime import datetime, timedelta\n",
    "import pandas as pd\n",
    "import os\n",
    "import sys\n",
    "\n",
    "cwd = os.getcwd()\n",
    "delimiter = \"\\\\\" if \"\\\\\" in cwd else \"/\"\n",
    "repoPath = delimiter.join(cwd.split(delimiter)[:cwd.split(delimiter).index(\"dataImport\")]) + delimiter\n",
    "sys.path.append(repoPath + \"dataImport/\")\n",
    "import rwWorkingTSDf\n",
    "from rwWorkingTSDf import readWorkingTSDF, writeWorkingTSDf\n"
   ]
  },
  {
   "cell_type": "code",
   "execution_count": null,
   "metadata": {},
   "outputs": [],
   "source": [
    "def infillIntervals(intervals):\n",
    "    # Shift columns to compare consecutive rows\n",
    "    next_start = intervals['startTime'].shift(-1)\n",
    "\n",
    "    # Find rows where there is a gap\n",
    "    gap_mask = next_start > intervals['endTime']\n",
    "\n",
    "    # Create a DataFrame for the gaps\n",
    "    gap_df = pd.DataFrame({\n",
    "        'startTime': intervals.loc[gap_mask, 'endTime'],\n",
    "        'endTime': next_start[gap_mask],\n",
    "        'value': 0\n",
    "    })\n",
    "\n",
    "    # Concatenate the original DataFrame and the gap DataFrame\n",
    "    combined_df = pd.concat([intervals, gap_df])\n",
    "\n",
    "    return combined_df.sort_values('startTime').reset_index(drop=True)"
   ]
  },
  {
   "cell_type": "code",
   "execution_count": null,
   "metadata": {},
   "outputs": [],
   "source": [
    "#modify the dd datatype to append \"-dataIntervals-86400\"\n",
    "# in seconds with p for .\n",
    "\n",
    "\n",
    "# so something we can do is make intervals for existing data\n",
    "# min and max interval are in seconds\n",
    "def samplesToIntervals(dd, max_interval):\n",
    "    #take in a device descriptor and min and max interval in seconds?\n",
    "    #column name would be noData+0!data+1\n",
    "    tsDf = readWorkingTSDF(dd)\n",
    "\n",
    "    time_diffs = tsDf.index.to_series().diff()\n",
    "\n",
    "    # Mark where the time difference exceeds the threshold (group break points)\n",
    "    group_breaks = time_diffs.dt.total_seconds() > max_interval\n",
    "\n",
    "    # Assign group labels by cumulatively summing the group breaks\n",
    "    group_labels = group_breaks.cumsum()\n",
    "\n",
    "    # Create a dataframe of (start_time, end_time) for each group\n",
    "    group_labels_times = pd.Series(group_labels.index, index=group_labels.values)\n",
    "    gStarts = group_labels_times[~group_labels_times.index.duplicated(keep=\"first\")]\n",
    "    gEnds = group_labels_times[~group_labels_times.index.duplicated(keep=\"last\")]\n",
    "    allGroupsDf = pd.DataFrame({'sampleDT':gStarts, 'endTime': gEnds})\n",
    "\n",
    "    #check min group time\n",
    "    minGroupTime = pd.Timedelta(seconds=0)\n",
    "    groupsDf = allGroupsDf[allGroupsDf['endTime'] - allGroupsDf['sampleDT'] > minGroupTime].copy()\n",
    "\n",
    "    \n",
    "    groupsDf['int!noInterval+0!interval+1'] = 1\n",
    "    return infillIntervals(groupsDf)\n"
   ]
  },
  {
   "cell_type": "code",
   "execution_count": null,
   "metadata": {},
   "outputs": [],
   "source": [
    "#alright new plan for the intervals just use writeWorking TSDF \n",
    "# add dedupe = false if needed"
   ]
  },
  {
   "cell_type": "code",
   "execution_count": null,
   "metadata": {},
   "outputs": [],
   "source": []
  },
  {
   "cell_type": "code",
   "execution_count": null,
   "metadata": {},
   "outputs": [],
   "source": [
    "# what did I want to do with these intervals?\n",
    "# determine where intervals for audio data were so I could query the aligned data struture better for actual audio\n",
    "\n",
    "# query times when cameras were recording fast, slow, or not at all\n",
    "\n",
    "# query intersecting HR intervals\n",
    "\n",
    "# store hypnographs\n",
    "\n",
    "# find gaps in air quality data\n",
    "\n",
    "# TODO make separate read and write interval functions"
   ]
  },
  {
   "cell_type": "code",
   "execution_count": null,
   "metadata": {},
   "outputs": [],
   "source": [
    "# after I get my audio imported and intervaled\n",
    "# pandas allows for non unique indicies \n",
    "# just don't deduplicate the data\n",
    "# we can store the activites in a standard interval "
   ]
  }
 ],
 "metadata": {
  "kernelspec": {
   "display_name": "vision",
   "language": "python",
   "name": "python3"
  },
  "language_info": {
   "name": "python",
   "version": "3.11.10"
  }
 },
 "nbformat": 4,
 "nbformat_minor": 2
}
