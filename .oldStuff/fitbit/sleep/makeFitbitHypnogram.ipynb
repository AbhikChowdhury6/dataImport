{
 "cells": [
  {
   "cell_type": "code",
   "execution_count": 1,
   "metadata": {},
   "outputs": [
    {
     "name": "stdout",
     "output_type": "stream",
     "text": [
      "1.1.2\n",
      "53\n"
     ]
    }
   ],
   "source": [
    "import os\n",
    "import sys\n",
    "def getRepoPath():\n",
    "    cwd = os.getcwd()\n",
    "    delimiter = \"\\\\\" if \"\\\\\" in cwd else \"/\"\n",
    "    repoPath = delimiter.join(cwd.split(delimiter)[:cwd.split(delimiter).index(\"dataImport\")+1]) + delimiter\n",
    "    return repoPath\n",
    "repoPath = getRepoPath()\n",
    "sys.path.append(repoPath)\n",
    "from utils import exportsDataPath, workingDataPath, writeHypnoDfParquet\n",
    "\n",
    "import pandas as pd\n",
    "import datetime\n",
    "import pytz\n",
    "import json\n",
    "print(pd.__version__)\n",
    "utc = pytz.utc\n",
    "AZtz = pytz.timezone(\"US/Arizona\")\n",
    "\n",
    "deviceName = 'fitbit'\n",
    "\n",
    "\n",
    "exportPath = exportsDataPath + deviceName + \\\n",
    "    \"/27-8-24/takeout-20240828T033834Z-001/Takeout/Fitbit/Global Export Data/\"\n",
    "files = [f for f in os.listdir(exportPath) if f.split(\"-\")[0] == \"sleep\"]\n",
    "\n",
    "print(len(files))"
   ]
  },
  {
   "cell_type": "code",
   "execution_count": 2,
   "metadata": {},
   "outputs": [],
   "source": [
    "def fitbitSleepStageToStandard(stageName):\n",
    "    if stageName == \"restless\":\n",
    "        return 1\n",
    "    if stageName == \"asleep\":\n",
    "        return 2\n",
    "    if stageName == \"awake\":\n",
    "        return 0\n",
    "    if stageName == \"wake\":\n",
    "        return 0\n",
    "    if stageName == \"light\":\n",
    "        return 1\n",
    "    if stageName == \"deep\":\n",
    "        return 2\n",
    "    if stageName == \"rem\":\n",
    "        return 3\n",
    "    print(stageName)\n",
    "    return -1\n"
   ]
  },
  {
   "cell_type": "code",
   "execution_count": 3,
   "metadata": {},
   "outputs": [
    {
     "name": "stdout",
     "output_type": "stream",
     "text": [
      "unknown\n",
      "45712\n"
     ]
    }
   ],
   "source": [
    "data = []\n",
    "\n",
    "for sf in files:\n",
    "  with open(exportPath + sf) as f:\n",
    "    jsonData = json.load(f)\n",
    "  \n",
    "  for sleepSession in jsonData:\n",
    "        #print(sleepSession['levels']['data'])\n",
    "        #print(sleepSession)\n",
    "        \n",
    "        for sleepStage in sleepSession['levels']['data']:\n",
    "            row = []\n",
    "            stageTime = AZtz.localize(pd.to_datetime(sleepStage['dateTime'], format='%Y-%m-%dT%H:%M:%S.%f'))\n",
    "            row.append(stageTime)\n",
    "            row.append(stageTime + datetime.timedelta(seconds=int(sleepStage['seconds'])))\n",
    "            row.append(fitbitSleepStageToStandard(sleepStage['level']))\n",
    "            data.append(row)\n",
    "  \n",
    "print(len(data))"
   ]
  },
  {
   "cell_type": "code",
   "execution_count": 4,
   "metadata": {},
   "outputs": [
    {
     "data": {
      "text/plain": [
       "[[Timestamp('2020-05-13 13:43:00-0700', tz='US/Arizona'),\n",
       "  Timestamp('2020-05-13 13:45:00-0700', tz='US/Arizona'),\n",
       "  1],\n",
       " [Timestamp('2020-05-13 13:45:00-0700', tz='US/Arizona'),\n",
       "  Timestamp('2020-05-13 14:41:00-0700', tz='US/Arizona'),\n",
       "  2]]"
      ]
     },
     "execution_count": 4,
     "metadata": {},
     "output_type": "execute_result"
    }
   ],
   "source": [
    "data = sorted(data, key=lambda x:x[0])\n",
    "data[:2]"
   ]
  },
  {
   "cell_type": "code",
   "execution_count": 5,
   "metadata": {},
   "outputs": [
    {
     "name": "stdout",
     "output_type": "stream",
     "text": [
      "47895\n"
     ]
    }
   ],
   "source": [
    "# add in the no data segments\n",
    "filledRecords = []\n",
    "# for every row except the last\n",
    "for ri in range(len(data)-1):\n",
    "    filledRecords.append(data[ri])\n",
    "    # if there is a gap between this rows end date and the next rows start date\n",
    "    if data[ri][1] < data[ri+1][0]:\n",
    "        filledRecords.append([\n",
    "            data[ri][1],\n",
    "            data[ri+1][0],\n",
    "            -1\n",
    "        ])\n",
    "filledRecords.append(data[-1])\n",
    "print(len(filledRecords))"
   ]
  },
  {
   "cell_type": "code",
   "execution_count": 6,
   "metadata": {},
   "outputs": [
    {
     "data": {
      "text/plain": [
       "{pandas._libs.tslibs.timestamps.Timestamp}"
      ]
     },
     "execution_count": 6,
     "metadata": {},
     "output_type": "execute_result"
    }
   ],
   "source": [
    "set([type(x[1]) for x in filledRecords])"
   ]
  },
  {
   "cell_type": "code",
   "execution_count": 7,
   "metadata": {},
   "outputs": [
    {
     "data": {
      "text/html": [
       "<div>\n",
       "<style scoped>\n",
       "    .dataframe tbody tr th:only-of-type {\n",
       "        vertical-align: middle;\n",
       "    }\n",
       "\n",
       "    .dataframe tbody tr th {\n",
       "        vertical-align: top;\n",
       "    }\n",
       "\n",
       "    .dataframe thead th {\n",
       "        text-align: right;\n",
       "    }\n",
       "</style>\n",
       "<table border=\"1\" class=\"dataframe\">\n",
       "  <thead>\n",
       "    <tr style=\"text-align: right;\">\n",
       "      <th></th>\n",
       "      <th>endDate</th>\n",
       "      <th>value</th>\n",
       "    </tr>\n",
       "    <tr>\n",
       "      <th>startDate</th>\n",
       "      <th></th>\n",
       "      <th></th>\n",
       "    </tr>\n",
       "  </thead>\n",
       "  <tbody>\n",
       "    <tr>\n",
       "      <th>2020-05-13 13:43:00-07:00</th>\n",
       "      <td>2020-05-13 13:45:00-07:00</td>\n",
       "      <td>1</td>\n",
       "    </tr>\n",
       "    <tr>\n",
       "      <th>2020-05-13 13:45:00-07:00</th>\n",
       "      <td>2020-05-13 14:41:00-07:00</td>\n",
       "      <td>2</td>\n",
       "    </tr>\n",
       "    <tr>\n",
       "      <th>2020-05-13 14:41:00-07:00</th>\n",
       "      <td>2020-05-13 14:42:00-07:00</td>\n",
       "      <td>1</td>\n",
       "    </tr>\n",
       "    <tr>\n",
       "      <th>2020-05-13 14:42:00-07:00</th>\n",
       "      <td>2020-05-13 14:43:00-07:00</td>\n",
       "      <td>2</td>\n",
       "    </tr>\n",
       "    <tr>\n",
       "      <th>2020-05-13 14:43:00-07:00</th>\n",
       "      <td>2020-05-14 01:21:00-07:00</td>\n",
       "      <td>-1</td>\n",
       "    </tr>\n",
       "    <tr>\n",
       "      <th>...</th>\n",
       "      <td>...</td>\n",
       "      <td>...</td>\n",
       "    </tr>\n",
       "    <tr>\n",
       "      <th>2024-08-27 12:20:30-07:00</th>\n",
       "      <td>2024-08-27 12:28:30-07:00</td>\n",
       "      <td>2</td>\n",
       "    </tr>\n",
       "    <tr>\n",
       "      <th>2024-08-27 12:28:30-07:00</th>\n",
       "      <td>2024-08-27 12:40:30-07:00</td>\n",
       "      <td>1</td>\n",
       "    </tr>\n",
       "    <tr>\n",
       "      <th>2024-08-27 12:40:30-07:00</th>\n",
       "      <td>2024-08-27 12:46:30-07:00</td>\n",
       "      <td>2</td>\n",
       "    </tr>\n",
       "    <tr>\n",
       "      <th>2024-08-27 12:46:30-07:00</th>\n",
       "      <td>2024-08-27 12:57:30-07:00</td>\n",
       "      <td>1</td>\n",
       "    </tr>\n",
       "    <tr>\n",
       "      <th>2024-08-27 12:57:30-07:00</th>\n",
       "      <td>2024-08-27 12:59:30-07:00</td>\n",
       "      <td>2</td>\n",
       "    </tr>\n",
       "  </tbody>\n",
       "</table>\n",
       "<p>47895 rows × 2 columns</p>\n",
       "</div>"
      ],
      "text/plain": [
       "                                            endDate  value\n",
       "startDate                                                 \n",
       "2020-05-13 13:43:00-07:00 2020-05-13 13:45:00-07:00      1\n",
       "2020-05-13 13:45:00-07:00 2020-05-13 14:41:00-07:00      2\n",
       "2020-05-13 14:41:00-07:00 2020-05-13 14:42:00-07:00      1\n",
       "2020-05-13 14:42:00-07:00 2020-05-13 14:43:00-07:00      2\n",
       "2020-05-13 14:43:00-07:00 2020-05-14 01:21:00-07:00     -1\n",
       "...                                             ...    ...\n",
       "2024-08-27 12:20:30-07:00 2024-08-27 12:28:30-07:00      2\n",
       "2024-08-27 12:28:30-07:00 2024-08-27 12:40:30-07:00      1\n",
       "2024-08-27 12:40:30-07:00 2024-08-27 12:46:30-07:00      2\n",
       "2024-08-27 12:46:30-07:00 2024-08-27 12:57:30-07:00      1\n",
       "2024-08-27 12:57:30-07:00 2024-08-27 12:59:30-07:00      2\n",
       "\n",
       "[47895 rows x 2 columns]"
      ]
     },
     "execution_count": 7,
     "metadata": {},
     "output_type": "execute_result"
    }
   ],
   "source": [
    "ColumnNames = [\"startDate\", \"endDate\", \"value\"]\n",
    "\n",
    "\n",
    "fitBitHypnoDf = pd.DataFrame(columns=ColumnNames, data=filledRecords)\n",
    "\n",
    "fitBitHypnoDf = fitBitHypnoDf.set_index(\"startDate\")\n",
    "fitBitHypnoDf"
   ]
  },
  {
   "cell_type": "code",
   "execution_count": 8,
   "metadata": {},
   "outputs": [
    {
     "data": {
      "text/plain": [
       "endDate    datetime64[ns, US/Arizona]\n",
       "value                           int64\n",
       "dtype: object"
      ]
     },
     "execution_count": 8,
     "metadata": {},
     "output_type": "execute_result"
    }
   ],
   "source": [
    "fitBitHypnoDf.dtypes"
   ]
  },
  {
   "cell_type": "code",
   "execution_count": 9,
   "metadata": {},
   "outputs": [],
   "source": [
    "writeHypnoDfParquet(deviceName, fitBitHypnoDf)"
   ]
  },
  {
   "cell_type": "code",
   "execution_count": null,
   "metadata": {},
   "outputs": [],
   "source": []
  }
 ],
 "metadata": {
  "kernelspec": {
   "display_name": "Python 3",
   "language": "python",
   "name": "python3"
  },
  "language_info": {
   "codemirror_mode": {
    "name": "ipython",
    "version": 3
   },
   "file_extension": ".py",
   "mimetype": "text/x-python",
   "name": "python",
   "nbconvert_exporter": "python",
   "pygments_lexer": "ipython3",
   "version": "3.8.10"
  }
 },
 "nbformat": 4,
 "nbformat_minor": 2
}
