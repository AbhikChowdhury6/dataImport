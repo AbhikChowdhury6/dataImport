{
 "cells": [
  {
   "cell_type": "code",
   "execution_count": 1,
   "metadata": {},
   "outputs": [],
   "source": [
    "import cv2\n",
    "import os\n",
    "import sys\n",
    "from datetime import datetime\n",
    "\n",
    "cwd = os.getcwd()\n",
    "delimiter = \"\\\\\" if \"\\\\\" in cwd else \"/\"\n",
    "repoPath = delimiter.join(cwd.split(delimiter)[:cwd.split(delimiter).index(\"dataImport\")]) + delimiter\n",
    "sys.path.append(repoPath + \"dataImport/\")\n",
    "import vidUtils\n",
    "from vidUtils import generateDaysVid\n",
    "import rwWorkingTSDf\n",
    "from rwWorkingTSDf import readWorkingTSDF"
   ]
  },
  {
   "cell_type": "code",
   "execution_count": 12,
   "metadata": {},
   "outputs": [],
   "source": [
    "deviceDescriptor = [\"abhik\", \"mobilepi\", \"abhik\", \"piCam-raspberryPi5-Camv3120noir\", \"mp4\", \"piVidCap\"]\n",
    "#deviceDescriptor = [\"abhik\", \"bedroompi\", \"abhik\", \"piCam-raspberryPi5-Camv3120\", \"mp4\", \"piVidCap\"]\n",
    "#deviceDescriptor = [\"abhik\", \"bathroompi\", \"abhik\", \"piCam-raspberryPi5-Camv3noir\", \"mp4\", \"piVidCap\"]\n",
    "#deviceDescriptor = [\"abhik\", \"kitchenpi\", \"abhik\", \"piCam-raspberryPi5-Camv3120noir\", \"mp4\", \"piVidCap\"]"
   ]
  },
  {
   "cell_type": "code",
   "execution_count": 7,
   "metadata": {},
   "outputs": [
    {
     "name": "stdout",
     "output_type": "stream",
     "text": [
      "read in 222356 rows from 1 files, retruning 222356 rows\n"
     ]
    },
    {
     "data": {
      "text/html": [
       "<div>\n",
       "<style scoped>\n",
       "    .dataframe tbody tr th:only-of-type {\n",
       "        vertical-align: middle;\n",
       "    }\n",
       "\n",
       "    .dataframe tbody tr th {\n",
       "        vertical-align: top;\n",
       "    }\n",
       "\n",
       "    .dataframe thead th {\n",
       "        text-align: right;\n",
       "    }\n",
       "</style>\n",
       "<table border=\"1\" class=\"dataframe\">\n",
       "  <thead>\n",
       "    <tr style=\"text-align: right;\">\n",
       "      <th></th>\n",
       "      <th>videoIndex</th>\n",
       "      <th>videoStartTime</th>\n",
       "      <th>videoEndTime</th>\n",
       "    </tr>\n",
       "    <tr>\n",
       "      <th>sampleDT</th>\n",
       "      <th></th>\n",
       "      <th></th>\n",
       "      <th></th>\n",
       "    </tr>\n",
       "  </thead>\n",
       "  <tbody>\n",
       "    <tr>\n",
       "      <th>2025-03-13 23:03:30.000599+00:00</th>\n",
       "      <td>0</td>\n",
       "      <td>2025-03-13 23:03:30.000599+00:00</td>\n",
       "      <td>2025-03-13 23:37:59.900140+00:00</td>\n",
       "    </tr>\n",
       "    <tr>\n",
       "      <th>2025-03-13 23:03:45.000163+00:00</th>\n",
       "      <td>1</td>\n",
       "      <td>2025-03-13 23:03:30.000599+00:00</td>\n",
       "      <td>2025-03-13 23:37:59.900140+00:00</td>\n",
       "    </tr>\n",
       "    <tr>\n",
       "      <th>2025-03-13 23:04:00.000138+00:00</th>\n",
       "      <td>2</td>\n",
       "      <td>2025-03-13 23:03:30.000599+00:00</td>\n",
       "      <td>2025-03-13 23:37:59.900140+00:00</td>\n",
       "    </tr>\n",
       "    <tr>\n",
       "      <th>2025-03-13 23:04:15.000151+00:00</th>\n",
       "      <td>3</td>\n",
       "      <td>2025-03-13 23:03:30.000599+00:00</td>\n",
       "      <td>2025-03-13 23:37:59.900140+00:00</td>\n",
       "    </tr>\n",
       "    <tr>\n",
       "      <th>2025-03-13 23:04:30.000151+00:00</th>\n",
       "      <td>4</td>\n",
       "      <td>2025-03-13 23:03:30.000599+00:00</td>\n",
       "      <td>2025-03-13 23:37:59.900140+00:00</td>\n",
       "    </tr>\n",
       "    <tr>\n",
       "      <th>...</th>\n",
       "      <td>...</td>\n",
       "      <td>...</td>\n",
       "      <td>...</td>\n",
       "    </tr>\n",
       "    <tr>\n",
       "      <th>2025-03-14 23:58:29.500152+00:00</th>\n",
       "      <td>1795</td>\n",
       "      <td>2025-03-14 23:55:30.000127+00:00</td>\n",
       "      <td>2025-03-14 23:58:29.900151+00:00</td>\n",
       "    </tr>\n",
       "    <tr>\n",
       "      <th>2025-03-14 23:58:29.600153+00:00</th>\n",
       "      <td>1796</td>\n",
       "      <td>2025-03-14 23:55:30.000127+00:00</td>\n",
       "      <td>2025-03-14 23:58:29.900151+00:00</td>\n",
       "    </tr>\n",
       "    <tr>\n",
       "      <th>2025-03-14 23:58:29.700152+00:00</th>\n",
       "      <td>1797</td>\n",
       "      <td>2025-03-14 23:55:30.000127+00:00</td>\n",
       "      <td>2025-03-14 23:58:29.900151+00:00</td>\n",
       "    </tr>\n",
       "    <tr>\n",
       "      <th>2025-03-14 23:58:29.800154+00:00</th>\n",
       "      <td>1798</td>\n",
       "      <td>2025-03-14 23:55:30.000127+00:00</td>\n",
       "      <td>2025-03-14 23:58:29.900151+00:00</td>\n",
       "    </tr>\n",
       "    <tr>\n",
       "      <th>2025-03-14 23:58:29.900151+00:00</th>\n",
       "      <td>1799</td>\n",
       "      <td>2025-03-14 23:55:30.000127+00:00</td>\n",
       "      <td>2025-03-14 23:58:29.900151+00:00</td>\n",
       "    </tr>\n",
       "  </tbody>\n",
       "</table>\n",
       "<p>222356 rows × 3 columns</p>\n",
       "</div>"
      ],
      "text/plain": [
       "                                  videoIndex                   videoStartTime  \\\n",
       "sampleDT                                                                        \n",
       "2025-03-13 23:03:30.000599+00:00           0 2025-03-13 23:03:30.000599+00:00   \n",
       "2025-03-13 23:03:45.000163+00:00           1 2025-03-13 23:03:30.000599+00:00   \n",
       "2025-03-13 23:04:00.000138+00:00           2 2025-03-13 23:03:30.000599+00:00   \n",
       "2025-03-13 23:04:15.000151+00:00           3 2025-03-13 23:03:30.000599+00:00   \n",
       "2025-03-13 23:04:30.000151+00:00           4 2025-03-13 23:03:30.000599+00:00   \n",
       "...                                      ...                              ...   \n",
       "2025-03-14 23:58:29.500152+00:00        1795 2025-03-14 23:55:30.000127+00:00   \n",
       "2025-03-14 23:58:29.600153+00:00        1796 2025-03-14 23:55:30.000127+00:00   \n",
       "2025-03-14 23:58:29.700152+00:00        1797 2025-03-14 23:55:30.000127+00:00   \n",
       "2025-03-14 23:58:29.800154+00:00        1798 2025-03-14 23:55:30.000127+00:00   \n",
       "2025-03-14 23:58:29.900151+00:00        1799 2025-03-14 23:55:30.000127+00:00   \n",
       "\n",
       "                                                     videoEndTime  \n",
       "sampleDT                                                           \n",
       "2025-03-13 23:03:30.000599+00:00 2025-03-13 23:37:59.900140+00:00  \n",
       "2025-03-13 23:03:45.000163+00:00 2025-03-13 23:37:59.900140+00:00  \n",
       "2025-03-13 23:04:00.000138+00:00 2025-03-13 23:37:59.900140+00:00  \n",
       "2025-03-13 23:04:15.000151+00:00 2025-03-13 23:37:59.900140+00:00  \n",
       "2025-03-13 23:04:30.000151+00:00 2025-03-13 23:37:59.900140+00:00  \n",
       "...                                                           ...  \n",
       "2025-03-14 23:58:29.500152+00:00 2025-03-14 23:58:29.900151+00:00  \n",
       "2025-03-14 23:58:29.600153+00:00 2025-03-14 23:58:29.900151+00:00  \n",
       "2025-03-14 23:58:29.700152+00:00 2025-03-14 23:58:29.900151+00:00  \n",
       "2025-03-14 23:58:29.800154+00:00 2025-03-14 23:58:29.900151+00:00  \n",
       "2025-03-14 23:58:29.900151+00:00 2025-03-14 23:58:29.900151+00:00  \n",
       "\n",
       "[222356 rows x 3 columns]"
      ]
     },
     "execution_count": 7,
     "metadata": {},
     "output_type": "execute_result"
    }
   ],
   "source": [
    "\n",
    "\n",
    "# find some timestamps\n",
    "vidDf = readWorkingTSDF(deviceDescriptor)\n",
    "vidDf"
   ]
  },
  {
   "cell_type": "code",
   "execution_count": 3,
   "metadata": {},
   "outputs": [],
   "source": [
    "idx = 10\n",
    "videoIndex = vidDf.iloc[idx]['videoIndex']\n",
    "videoStartTime = vidDf.iloc[idx]['videoStartTime']\n",
    "videoEndTime = vidDf.iloc[idx]['videoEndTime']"
   ]
  },
  {
   "cell_type": "code",
   "execution_count": 4,
   "metadata": {},
   "outputs": [
    {
     "name": "stdout",
     "output_type": "stream",
     "text": [
      "finished wrting : 2025-03-13T233945,000157+0000_2025-03-13T234244,900142+0000.mp4\n",
      "finished wrting : 2025-03-13T232200,000163+0000_2025-03-13T232459,900132+0000.mp4\n",
      "finished wrting : 2025-03-13T234245,000152+0000_2025-03-13T234544,900150+0000.mp4\n",
      "finished wrting : 2025-03-13T231900,000146+0000_2025-03-13T232159,900167+0000.mp4\n",
      "finished wrting : 2025-03-13T234845,000155+0000_2025-03-13T235144,900172+0000.mp4\n",
      "finished wrting : 2025-03-13T235145,000161+0000_2025-03-13T235444,900152+0000.mp4\n",
      "finished wrting : 2025-03-13T234545,000185+0000_2025-03-13T234844,900153+0000.mp4\n",
      "finished wrting : 2025-03-13T232800,000164+0000_2025-03-13T233059,900163+0000.mp4\n",
      "finished wrting : 2025-03-13T232500,000134+0000_2025-03-13T232759,900196+0000.mp4\n",
      "finished wrting : 2025-03-13T231600,000139+0000_2025-03-13T231859,900164+0000.mp4\n",
      "finished wrting : 2025-03-13T231300,000170+0000_2025-03-13T231559,900123+0000.mp4\n",
      "finished wrting : 2025-03-13T230300,000596+0000_2025-03-13T230559,900151+0000.mp4\n",
      "finished wrting : 2025-03-13T233100,000131+0000_2025-03-13T233359,900168+0000.mp4\n",
      "finished wrting : 2025-03-13T233400,000151+0000_2025-03-13T233644,900192+0000.mp4\n",
      "finished wrting : 2025-03-13T235445,000165+0000_2025-03-13T235744,900133+0000.mp4\n",
      "finished wrting : 2025-03-13T230600,000163+0000_2025-03-13T231259,900147+0000.mp4\n",
      "finished wrting : 2025-03-13T233645,000181+0000_2025-03-13T233944,900152+0000.mp4\n",
      "finished /home/chowder/Documents/daysVids/abhik_bedroompi_abhik_piCam-raspberryPi5-Camv3120_mp4_piVidCap_2025-03-13/\n"
     ]
    }
   ],
   "source": [
    "videoStartTime = datetime(2025, 3, 15, 21, 53, 45, 000000)\n",
    "generateDaysVid(deviceDescriptor, videoStartTime)"
   ]
  },
  {
   "cell_type": "code",
   "execution_count": 4,
   "metadata": {},
   "outputs": [
    {
     "name": "stderr",
     "output_type": "stream",
     "text": [
      "ffmpeg version 7.1 Copyright (c) 2000-2024 the FFmpeg developers\n",
      "  built with gcc 13.3.0 (conda-forge gcc 13.3.0-1)\n",
      "  configuration: --prefix=/home/conda/feedstock_root/build_artifacts/ffmpeg_1729892860555/_h_env_placehold_placehold_placehold_placehold_placehold_placehold_placehold_placehold_placehold_placehold_placehold_placehold_placehold_placehold_placehold_placehold_placehold_placehold_plac --cc=/home/conda/feedstock_root/build_artifacts/ffmpeg_1729892860555/_build_env/bin/x86_64-conda-linux-gnu-cc --cxx=/home/conda/feedstock_root/build_artifacts/ffmpeg_1729892860555/_build_env/bin/x86_64-conda-linux-gnu-c++ --nm=/home/conda/feedstock_root/build_artifacts/ffmpeg_1729892860555/_build_env/bin/x86_64-conda-linux-gnu-nm --ar=/home/conda/feedstock_root/build_artifacts/ffmpeg_1729892860555/_build_env/bin/x86_64-conda-linux-gnu-ar --disable-doc --enable-openssl --enable-demuxer=dash --enable-hardcoded-tables --enable-libfreetype --enable-libharfbuzz --enable-libfontconfig --enable-libopenh264 --enable-libdav1d --disable-gnutls --enable-libmp3lame --enable-libvpx --enable-libass --enable-pthreads --enable-vaapi --enable-libopenvino --enable-gpl --enable-libx264 --enable-libx265 --enable-libaom --enable-libsvtav1 --enable-libxml2 --enable-pic --enable-shared --disable-static --enable-version3 --enable-zlib --enable-libopus --enable-librsvg --pkg-config=/home/conda/feedstock_root/build_artifacts/ffmpeg_1729892860555/_build_env/bin/pkg-config\n",
      "  libavutil      59. 39.100 / 59. 39.100\n",
      "  libavcodec     61. 19.100 / 61. 19.100\n",
      "  libavformat    61.  7.100 / 61.  7.100\n",
      "  libavdevice    61.  3.100 / 61.  3.100\n",
      "  libavfilter    10.  4.100 / 10.  4.100\n",
      "  libswscale      8.  3.100 /  8.  3.100\n",
      "  libswresample   5.  3.100 /  5.  3.100\n",
      "  libpostproc    58.  3.100 / 58.  3.100\n",
      "[mov,mp4,m4a,3gp,3g2,mj2 @ 0x55cf073ac640] Auto-inserting h264_mp4toannexb bitstream filter\n",
      "Input #0, concat, from '/home/chowder/Documents/daysVids/abhik_bedroompi_abhik_piCam-raspberryPi5-Camv3120_mp4_piVidCap_2025-03-13/file_list.txt':\n",
      "  Duration: N/A, start: 0.000000, bitrate: 180 kb/s\n",
      "  Stream #0:0(und): Video: h264 (High) (avc1 / 0x31637661), yuv420p(progressive), 640x360, 180 kb/s, 30 fps, 30 tbr, 15360 tbn\n",
      "      Metadata:\n",
      "        handler_name    : VideoHandler\n",
      "        vendor_id       : [0][0][0][0]\n",
      "Stream mapping:\n",
      "  Stream #0:0 -> #0:0 (copy)\n",
      "Output #0, mp4, to '/home/chowder/Documents/daysVids/abhik_bedroompi_abhik_piCam-raspberryPi5-Camv3120_mp4_piVidCap_2025-03-13/bedroompi.mp4':\n",
      "  Metadata:\n",
      "    encoder         : Lavf61.7.100\n",
      "  Stream #0:0(und): Video: h264 (High) (avc1 / 0x31637661), yuv420p(progressive), 640x360, q=2-31, 180 kb/s, 30 fps, 30 tbr, 15360 tbn\n",
      "      Metadata:\n",
      "        handler_name    : VideoHandler\n",
      "        vendor_id       : [0][0][0][0]\n",
      "Press [q] to stop, [?] for help\n",
      "[mov,mp4,m4a,3gp,3g2,mj2 @ 0x7ff15c0707c0] Auto-inserting h264_mp4toannexb bitstream filter\n",
      "[mov,mp4,m4a,3gp,3g2,mj2 @ 0x7ff15c09f540] Auto-inserting h264_mp4toannexb bitstream filter\n",
      "[mov,mp4,m4a,3gp,3g2,mj2 @ 0x7ff15c07f7c0] Auto-inserting h264_mp4toannexb bitstream filter\n",
      "[mov,mp4,m4a,3gp,3g2,mj2 @ 0x7ff15c06c800] Auto-inserting h264_mp4toannexb bitstream filter\n",
      "[mov,mp4,m4a,3gp,3g2,mj2 @ 0x7ff15c074980] Auto-inserting h264_mp4toannexb bitstream filter\n",
      "    Last message repeated 2 times\n",
      "[mov,mp4,m4a,3gp,3g2,mj2 @ 0x7ff15c03fbc0] Auto-inserting h264_mp4toannexb bitstream filter\n",
      "    Last message repeated 1 times\n",
      "[mov,mp4,m4a,3gp,3g2,mj2 @ 0x7ff15c054c00] Auto-inserting h264_mp4toannexb bitstream filter\n"
     ]
    },
    {
     "name": "stdout",
     "output_type": "stream",
     "text": [
      "Finished processing: /home/chowder/Documents/daysVids/abhik_bedroompi_abhik_piCam-raspberryPi5-Camv3120_mp4_piVidCap_2025-03-13/bedroompi.mp4\n"
     ]
    },
    {
     "name": "stderr",
     "output_type": "stream",
     "text": [
      "[mov,mp4,m4a,3gp,3g2,mj2 @ 0x7ff15c037fc0] Auto-inserting h264_mp4toannexb bitstream filter\n",
      "[mov,mp4,m4a,3gp,3g2,mj2 @ 0x7ff15c09dd40] Auto-inserting h264_mp4toannexb bitstream filter\n",
      "[mov,mp4,m4a,3gp,3g2,mj2 @ 0x7ff15c037fc0] Auto-inserting h264_mp4toannexb bitstream filter\n",
      "[mov,mp4,m4a,3gp,3g2,mj2 @ 0x7ff15c0981c0] Auto-inserting h264_mp4toannexb bitstream filter\n",
      "[mov,mp4,m4a,3gp,3g2,mj2 @ 0x7ff15c074980] Auto-inserting h264_mp4toannexb bitstream filter\n",
      "[mov,mp4,m4a,3gp,3g2,mj2 @ 0x7ff15c037fc0] Auto-inserting h264_mp4toannexb bitstream filter\n",
      "[out#0/mp4 @ 0x55cf073b4380] video:18444KiB audio:0KiB subtitle:0KiB other streams:0KiB global headers:0KiB muxing overhead: 1.949195%\n",
      "frame=30616 fps=0.0 q=-1.0 Lsize=   18803KiB time=00:17:00.46 bitrate= 150.9kbits/s speed=3.46e+03x    \n"
     ]
    }
   ],
   "source": [
    "generateDaysVid(deviceDescriptor, videoStartTime)"
   ]
  },
  {
   "cell_type": "code",
   "execution_count": 13,
   "metadata": {},
   "outputs": [
    {
     "name": "stderr",
     "output_type": "stream",
     "text": [
      "ffmpeg version 7.1 Copyright (c) 2000-2024 the FFmpeg developers\n",
      "  built with gcc 13.3.0 (conda-forge gcc 13.3.0-1)\n",
      "  configuration: --prefix=/home/conda/feedstock_root/build_artifacts/ffmpeg_1729892860555/_h_env_placehold_placehold_placehold_placehold_placehold_placehold_placehold_placehold_placehold_placehold_placehold_placehold_placehold_placehold_placehold_placehold_placehold_placehold_plac --cc=/home/conda/feedstock_root/build_artifacts/ffmpeg_1729892860555/_build_env/bin/x86_64-conda-linux-gnu-cc --cxx=/home/conda/feedstock_root/build_artifacts/ffmpeg_1729892860555/_build_env/bin/x86_64-conda-linux-gnu-c++ --nm=/home/conda/feedstock_root/build_artifacts/ffmpeg_1729892860555/_build_env/bin/x86_64-conda-linux-gnu-nm --ar=/home/conda/feedstock_root/build_artifacts/ffmpeg_1729892860555/_build_env/bin/x86_64-conda-linux-gnu-ar --disable-doc --enable-openssl --enable-demuxer=dash --enable-hardcoded-tables --enable-libfreetype --enable-libharfbuzz --enable-libfontconfig --enable-libopenh264 --enable-libdav1d --disable-gnutls --enable-libmp3lame --enable-libvpx --enable-libass --enable-pthreads --enable-vaapi --enable-libopenvino --enable-gpl --enable-libx264 --enable-libx265 --enable-libaom --enable-libsvtav1 --enable-libxml2 --enable-pic --enable-shared --disable-static --enable-version3 --enable-zlib --enable-libopus --enable-librsvg --pkg-config=/home/conda/feedstock_root/build_artifacts/ffmpeg_1729892860555/_build_env/bin/pkg-config\n",
      "  libavutil      59. 39.100 / 59. 39.100\n",
      "  libavcodec     61. 19.100 / 61. 19.100\n",
      "  libavformat    61.  7.100 / 61.  7.100\n",
      "  libavdevice    61.  3.100 / 61.  3.100\n",
      "  libavfilter    10.  4.100 / 10.  4.100\n",
      "  libswscale      8.  3.100 /  8.  3.100\n",
      "  libswresample   5.  3.100 /  5.  3.100\n",
      "  libpostproc    58.  3.100 / 58.  3.100\n",
      "[mov,mp4,m4a,3gp,3g2,mj2 @ 0x5603a5f32640] Auto-inserting h264_mp4toannexb bitstream filter\n",
      "Input #0, concat, from '/home/chowder/Documents/daysVids/abhik_mobilepi_abhik_piCam-raspberryPi5-Camv3120noir_mp4_piVidCap_2025-03-16/file_list.txt':\n",
      "  Duration: N/A, start: 0.000000, bitrate: 90 kb/s\n",
      "  Stream #0:0(und): Video: h264 (High) (avc1 / 0x31637661), yuv420p(progressive), 640x360, 90 kb/s, 30 fps, 30 tbr, 15360 tbn\n",
      "      Metadata:\n",
      "        handler_name    : VideoHandler\n",
      "        vendor_id       : [0][0][0][0]\n",
      "File '/home/chowder/Documents/daysVids/abhik_mobilepi_abhik_piCam-raspberryPi5-Camv3120noir_mp4_piVidCap_2025-03-16/mobilepi.mp4' already exists. Overwrite? [y/N] "
     ]
    },
    {
     "ename": "KeyboardInterrupt",
     "evalue": "",
     "output_type": "error",
     "traceback": [
      "\u001b[0;31m---------------------------------------------------------------------------\u001b[0m",
      "\u001b[0;31mKeyboardInterrupt\u001b[0m                         Traceback (most recent call last)",
      "Cell \u001b[0;32mIn[13], line 3\u001b[0m\n\u001b[1;32m      1\u001b[0m \u001b[38;5;28;01mimport\u001b[39;00m \u001b[38;5;21;01mpandas\u001b[39;00m \u001b[38;5;28;01mas\u001b[39;00m \u001b[38;5;21;01mpd\u001b[39;00m\n\u001b[1;32m      2\u001b[0m videoStartTime \u001b[38;5;241m=\u001b[39m pd\u001b[38;5;241m.\u001b[39mTimestamp(\u001b[38;5;124m\"\u001b[39m\u001b[38;5;124m2025-03-16 23:03:00.201352\u001b[39m\u001b[38;5;124m\"\u001b[39m, tz\u001b[38;5;241m=\u001b[39m\u001b[38;5;124m\"\u001b[39m\u001b[38;5;124mUTC\u001b[39m\u001b[38;5;124m\"\u001b[39m)\n\u001b[0;32m----> 3\u001b[0m \u001b[43mgenerateDaysVid\u001b[49m\u001b[43m(\u001b[49m\u001b[43mdeviceDescriptor\u001b[49m\u001b[43m,\u001b[49m\u001b[43m \u001b[49m\u001b[43mvideoStartTime\u001b[49m\u001b[43m)\u001b[49m\n",
      "File \u001b[0;32m~/Documents/dataImport/vidUtils.py:73\u001b[0m, in \u001b[0;36mgenerateDaysVid\u001b[0;34m(deviceDescriptor, ts)\u001b[0m\n\u001b[1;32m     68\u001b[0m \u001b[38;5;66;03m# Use ffmpeg to concatenate without re-encoding\u001b[39;00m\n\u001b[1;32m     69\u001b[0m ffmpeg_command \u001b[38;5;241m=\u001b[39m [\n\u001b[1;32m     70\u001b[0m     \u001b[38;5;124m\"\u001b[39m\u001b[38;5;124mffmpeg\u001b[39m\u001b[38;5;124m\"\u001b[39m, \u001b[38;5;124m\"\u001b[39m\u001b[38;5;124m-f\u001b[39m\u001b[38;5;124m\"\u001b[39m, \u001b[38;5;124m\"\u001b[39m\u001b[38;5;124mconcat\u001b[39m\u001b[38;5;124m\"\u001b[39m, \u001b[38;5;124m\"\u001b[39m\u001b[38;5;124m-safe\u001b[39m\u001b[38;5;124m\"\u001b[39m, \u001b[38;5;124m\"\u001b[39m\u001b[38;5;124m0\u001b[39m\u001b[38;5;124m\"\u001b[39m,\n\u001b[1;32m     71\u001b[0m     \u001b[38;5;124m\"\u001b[39m\u001b[38;5;124m-i\u001b[39m\u001b[38;5;124m\"\u001b[39m, list_file_path, \u001b[38;5;124m\"\u001b[39m\u001b[38;5;124m-c\u001b[39m\u001b[38;5;124m\"\u001b[39m, \u001b[38;5;124m\"\u001b[39m\u001b[38;5;124mcopy\u001b[39m\u001b[38;5;124m\"\u001b[39m, output_file\n\u001b[1;32m     72\u001b[0m ]\n\u001b[0;32m---> 73\u001b[0m \u001b[43msubprocess\u001b[49m\u001b[38;5;241;43m.\u001b[39;49m\u001b[43mrun\u001b[49m\u001b[43m(\u001b[49m\u001b[43mffmpeg_command\u001b[49m\u001b[43m,\u001b[49m\u001b[43m \u001b[49m\u001b[43mcheck\u001b[49m\u001b[38;5;241;43m=\u001b[39;49m\u001b[38;5;28;43;01mTrue\u001b[39;49;00m\u001b[43m)\u001b[49m\n\u001b[1;32m     75\u001b[0m \u001b[38;5;28mprint\u001b[39m(\u001b[38;5;124m\"\u001b[39m\u001b[38;5;124mFinished processing:\u001b[39m\u001b[38;5;124m\"\u001b[39m, output_file)\n",
      "File \u001b[0;32m~/anaconda3/envs/vision/lib/python3.11/subprocess.py:550\u001b[0m, in \u001b[0;36mrun\u001b[0;34m(input, capture_output, timeout, check, *popenargs, **kwargs)\u001b[0m\n\u001b[1;32m    548\u001b[0m \u001b[38;5;28;01mwith\u001b[39;00m Popen(\u001b[38;5;241m*\u001b[39mpopenargs, \u001b[38;5;241m*\u001b[39m\u001b[38;5;241m*\u001b[39mkwargs) \u001b[38;5;28;01mas\u001b[39;00m process:\n\u001b[1;32m    549\u001b[0m     \u001b[38;5;28;01mtry\u001b[39;00m:\n\u001b[0;32m--> 550\u001b[0m         stdout, stderr \u001b[38;5;241m=\u001b[39m \u001b[43mprocess\u001b[49m\u001b[38;5;241;43m.\u001b[39;49m\u001b[43mcommunicate\u001b[49m\u001b[43m(\u001b[49m\u001b[38;5;28;43minput\u001b[39;49m\u001b[43m,\u001b[49m\u001b[43m \u001b[49m\u001b[43mtimeout\u001b[49m\u001b[38;5;241;43m=\u001b[39;49m\u001b[43mtimeout\u001b[49m\u001b[43m)\u001b[49m\n\u001b[1;32m    551\u001b[0m     \u001b[38;5;28;01mexcept\u001b[39;00m TimeoutExpired \u001b[38;5;28;01mas\u001b[39;00m exc:\n\u001b[1;32m    552\u001b[0m         process\u001b[38;5;241m.\u001b[39mkill()\n",
      "File \u001b[0;32m~/anaconda3/envs/vision/lib/python3.11/subprocess.py:1201\u001b[0m, in \u001b[0;36mPopen.communicate\u001b[0;34m(self, input, timeout)\u001b[0m\n\u001b[1;32m   1199\u001b[0m         stderr \u001b[38;5;241m=\u001b[39m \u001b[38;5;28mself\u001b[39m\u001b[38;5;241m.\u001b[39mstderr\u001b[38;5;241m.\u001b[39mread()\n\u001b[1;32m   1200\u001b[0m         \u001b[38;5;28mself\u001b[39m\u001b[38;5;241m.\u001b[39mstderr\u001b[38;5;241m.\u001b[39mclose()\n\u001b[0;32m-> 1201\u001b[0m     \u001b[38;5;28;43mself\u001b[39;49m\u001b[38;5;241;43m.\u001b[39;49m\u001b[43mwait\u001b[49m\u001b[43m(\u001b[49m\u001b[43m)\u001b[49m\n\u001b[1;32m   1202\u001b[0m \u001b[38;5;28;01melse\u001b[39;00m:\n\u001b[1;32m   1203\u001b[0m     \u001b[38;5;28;01mif\u001b[39;00m timeout \u001b[38;5;129;01mis\u001b[39;00m \u001b[38;5;129;01mnot\u001b[39;00m \u001b[38;5;28;01mNone\u001b[39;00m:\n",
      "File \u001b[0;32m~/anaconda3/envs/vision/lib/python3.11/subprocess.py:1264\u001b[0m, in \u001b[0;36mPopen.wait\u001b[0;34m(self, timeout)\u001b[0m\n\u001b[1;32m   1262\u001b[0m     endtime \u001b[38;5;241m=\u001b[39m _time() \u001b[38;5;241m+\u001b[39m timeout\n\u001b[1;32m   1263\u001b[0m \u001b[38;5;28;01mtry\u001b[39;00m:\n\u001b[0;32m-> 1264\u001b[0m     \u001b[38;5;28;01mreturn\u001b[39;00m \u001b[38;5;28;43mself\u001b[39;49m\u001b[38;5;241;43m.\u001b[39;49m\u001b[43m_wait\u001b[49m\u001b[43m(\u001b[49m\u001b[43mtimeout\u001b[49m\u001b[38;5;241;43m=\u001b[39;49m\u001b[43mtimeout\u001b[49m\u001b[43m)\u001b[49m\n\u001b[1;32m   1265\u001b[0m \u001b[38;5;28;01mexcept\u001b[39;00m \u001b[38;5;167;01mKeyboardInterrupt\u001b[39;00m:\n\u001b[1;32m   1266\u001b[0m     \u001b[38;5;66;03m# https://bugs.python.org/issue25942\u001b[39;00m\n\u001b[1;32m   1267\u001b[0m     \u001b[38;5;66;03m# The first keyboard interrupt waits briefly for the child to\u001b[39;00m\n\u001b[1;32m   1268\u001b[0m     \u001b[38;5;66;03m# exit under the common assumption that it also received the ^C\u001b[39;00m\n\u001b[1;32m   1269\u001b[0m     \u001b[38;5;66;03m# generated SIGINT and will exit rapidly.\u001b[39;00m\n\u001b[1;32m   1270\u001b[0m     \u001b[38;5;28;01mif\u001b[39;00m timeout \u001b[38;5;129;01mis\u001b[39;00m \u001b[38;5;129;01mnot\u001b[39;00m \u001b[38;5;28;01mNone\u001b[39;00m:\n",
      "File \u001b[0;32m~/anaconda3/envs/vision/lib/python3.11/subprocess.py:2053\u001b[0m, in \u001b[0;36mPopen._wait\u001b[0;34m(self, timeout)\u001b[0m\n\u001b[1;32m   2051\u001b[0m \u001b[38;5;28;01mif\u001b[39;00m \u001b[38;5;28mself\u001b[39m\u001b[38;5;241m.\u001b[39mreturncode \u001b[38;5;129;01mis\u001b[39;00m \u001b[38;5;129;01mnot\u001b[39;00m \u001b[38;5;28;01mNone\u001b[39;00m:\n\u001b[1;32m   2052\u001b[0m     \u001b[38;5;28;01mbreak\u001b[39;00m  \u001b[38;5;66;03m# Another thread waited.\u001b[39;00m\n\u001b[0;32m-> 2053\u001b[0m (pid, sts) \u001b[38;5;241m=\u001b[39m \u001b[38;5;28;43mself\u001b[39;49m\u001b[38;5;241;43m.\u001b[39;49m\u001b[43m_try_wait\u001b[49m\u001b[43m(\u001b[49m\u001b[38;5;241;43m0\u001b[39;49m\u001b[43m)\u001b[49m\n\u001b[1;32m   2054\u001b[0m \u001b[38;5;66;03m# Check the pid and loop as waitpid has been known to\u001b[39;00m\n\u001b[1;32m   2055\u001b[0m \u001b[38;5;66;03m# return 0 even without WNOHANG in odd situations.\u001b[39;00m\n\u001b[1;32m   2056\u001b[0m \u001b[38;5;66;03m# http://bugs.python.org/issue14396.\u001b[39;00m\n\u001b[1;32m   2057\u001b[0m \u001b[38;5;28;01mif\u001b[39;00m pid \u001b[38;5;241m==\u001b[39m \u001b[38;5;28mself\u001b[39m\u001b[38;5;241m.\u001b[39mpid:\n",
      "File \u001b[0;32m~/anaconda3/envs/vision/lib/python3.11/subprocess.py:2011\u001b[0m, in \u001b[0;36mPopen._try_wait\u001b[0;34m(self, wait_flags)\u001b[0m\n\u001b[1;32m   2009\u001b[0m \u001b[38;5;250m\u001b[39m\u001b[38;5;124;03m\"\"\"All callers to this function MUST hold self._waitpid_lock.\"\"\"\u001b[39;00m\n\u001b[1;32m   2010\u001b[0m \u001b[38;5;28;01mtry\u001b[39;00m:\n\u001b[0;32m-> 2011\u001b[0m     (pid, sts) \u001b[38;5;241m=\u001b[39m \u001b[43mos\u001b[49m\u001b[38;5;241;43m.\u001b[39;49m\u001b[43mwaitpid\u001b[49m\u001b[43m(\u001b[49m\u001b[38;5;28;43mself\u001b[39;49m\u001b[38;5;241;43m.\u001b[39;49m\u001b[43mpid\u001b[49m\u001b[43m,\u001b[49m\u001b[43m \u001b[49m\u001b[43mwait_flags\u001b[49m\u001b[43m)\u001b[49m\n\u001b[1;32m   2012\u001b[0m \u001b[38;5;28;01mexcept\u001b[39;00m \u001b[38;5;167;01mChildProcessError\u001b[39;00m:\n\u001b[1;32m   2013\u001b[0m     \u001b[38;5;66;03m# This happens if SIGCLD is set to be ignored or waiting\u001b[39;00m\n\u001b[1;32m   2014\u001b[0m     \u001b[38;5;66;03m# for child processes has otherwise been disabled for our\u001b[39;00m\n\u001b[1;32m   2015\u001b[0m     \u001b[38;5;66;03m# process.  This child is dead, we can't get the status.\u001b[39;00m\n\u001b[1;32m   2016\u001b[0m     pid \u001b[38;5;241m=\u001b[39m \u001b[38;5;28mself\u001b[39m\u001b[38;5;241m.\u001b[39mpid\n",
      "\u001b[0;31mKeyboardInterrupt\u001b[0m: "
     ]
    }
   ],
   "source": [
    "import pandas as pd\n",
    "videoStartTime = pd.Timestamp(\"2025-03-16 23:03:00.201352\", tz=\"UTC\")\n",
    "generateDaysVid(deviceDescriptor, videoStartTime)"
   ]
  },
  {
   "cell_type": "code",
   "execution_count": null,
   "metadata": {},
   "outputs": [],
   "source": []
  }
 ],
 "metadata": {
  "kernelspec": {
   "display_name": "vision",
   "language": "python",
   "name": "python3"
  },
  "language_info": {
   "codemirror_mode": {
    "name": "ipython",
    "version": 3
   },
   "file_extension": ".py",
   "mimetype": "text/x-python",
   "name": "python",
   "nbconvert_exporter": "python",
   "pygments_lexer": "ipython3",
   "version": "3.11.10"
  }
 },
 "nbformat": 4,
 "nbformat_minor": 2
}
