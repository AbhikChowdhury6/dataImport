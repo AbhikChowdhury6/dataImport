{
 "cells": [
  {
   "cell_type": "code",
   "execution_count": 2,
   "metadata": {},
   "outputs": [],
   "source": [
    "import cv2\n",
    "import os\n",
    "import sys\n",
    "from datetime import datetime, timezone, timedelta\n",
    "import subprocess\n",
    "\n",
    "\n",
    "cwd = os.getcwd()\n",
    "delimiter = \"\\\\\" if \"\\\\\" in cwd else \"/\"\n",
    "repoPath = delimiter.join(cwd.split(delimiter)[:cwd.split(delimiter).index(\"dataImport\")]) + delimiter\n",
    "sys.path.append(repoPath + \"dataImport/\")\n",
    "import vidUtils\n",
    "from vidUtils import deleteVidInterval, getMP4Path, bulkDataPath\n",
    "import rwWorkingTSDf\n",
    "from rwWorkingTSDf import readWorkingTSDF, deleteTSDfInterval, dt_to_fnString"
   ]
  },
  {
   "cell_type": "code",
   "execution_count": 3,
   "metadata": {},
   "outputs": [
    {
     "name": "stdout",
     "output_type": "stream",
     "text": [
      "read in 536321 rows from 1 files, retruning 536321 rows\n"
     ]
    },
    {
     "data": {
      "text/html": [
       "<div>\n",
       "<style scoped>\n",
       "    .dataframe tbody tr th:only-of-type {\n",
       "        vertical-align: middle;\n",
       "    }\n",
       "\n",
       "    .dataframe tbody tr th {\n",
       "        vertical-align: top;\n",
       "    }\n",
       "\n",
       "    .dataframe thead th {\n",
       "        text-align: right;\n",
       "    }\n",
       "</style>\n",
       "<table border=\"1\" class=\"dataframe\">\n",
       "  <thead>\n",
       "    <tr style=\"text-align: right;\">\n",
       "      <th></th>\n",
       "      <th>videoIndex</th>\n",
       "      <th>videoStartTime</th>\n",
       "      <th>videoEndTime</th>\n",
       "    </tr>\n",
       "    <tr>\n",
       "      <th>sampleDT</th>\n",
       "      <th></th>\n",
       "      <th></th>\n",
       "      <th></th>\n",
       "    </tr>\n",
       "  </thead>\n",
       "  <tbody>\n",
       "    <tr>\n",
       "      <th>2025-03-13 23:03:30.000599+00:00</th>\n",
       "      <td>0</td>\n",
       "      <td>2025-03-13 23:03:30.000599+00:00</td>\n",
       "      <td>2025-03-13 23:37:59.900140+00:00</td>\n",
       "    </tr>\n",
       "    <tr>\n",
       "      <th>2025-03-13 23:03:45.000163+00:00</th>\n",
       "      <td>1</td>\n",
       "      <td>2025-03-13 23:03:30.000599+00:00</td>\n",
       "      <td>2025-03-13 23:37:59.900140+00:00</td>\n",
       "    </tr>\n",
       "    <tr>\n",
       "      <th>2025-03-13 23:04:00.000138+00:00</th>\n",
       "      <td>2</td>\n",
       "      <td>2025-03-13 23:03:30.000599+00:00</td>\n",
       "      <td>2025-03-13 23:37:59.900140+00:00</td>\n",
       "    </tr>\n",
       "    <tr>\n",
       "      <th>2025-03-13 23:04:15.000151+00:00</th>\n",
       "      <td>3</td>\n",
       "      <td>2025-03-13 23:03:30.000599+00:00</td>\n",
       "      <td>2025-03-13 23:37:59.900140+00:00</td>\n",
       "    </tr>\n",
       "    <tr>\n",
       "      <th>2025-03-13 23:04:30.000151+00:00</th>\n",
       "      <td>4</td>\n",
       "      <td>2025-03-13 23:03:30.000599+00:00</td>\n",
       "      <td>2025-03-13 23:37:59.900140+00:00</td>\n",
       "    </tr>\n",
       "    <tr>\n",
       "      <th>...</th>\n",
       "      <td>...</td>\n",
       "      <td>...</td>\n",
       "      <td>...</td>\n",
       "    </tr>\n",
       "    <tr>\n",
       "      <th>2025-03-16 23:58:45.000141+00:00</th>\n",
       "      <td>1597</td>\n",
       "      <td>2025-03-16 23:32:00.000165+00:00</td>\n",
       "      <td>2025-03-16 23:59:45.000144+00:00</td>\n",
       "    </tr>\n",
       "    <tr>\n",
       "      <th>2025-03-16 23:59:00.000195+00:00</th>\n",
       "      <td>1598</td>\n",
       "      <td>2025-03-16 23:32:00.000165+00:00</td>\n",
       "      <td>2025-03-16 23:59:45.000144+00:00</td>\n",
       "    </tr>\n",
       "    <tr>\n",
       "      <th>2025-03-16 23:59:15.000151+00:00</th>\n",
       "      <td>1599</td>\n",
       "      <td>2025-03-16 23:32:00.000165+00:00</td>\n",
       "      <td>2025-03-16 23:59:45.000144+00:00</td>\n",
       "    </tr>\n",
       "    <tr>\n",
       "      <th>2025-03-16 23:59:30.000155+00:00</th>\n",
       "      <td>1600</td>\n",
       "      <td>2025-03-16 23:32:00.000165+00:00</td>\n",
       "      <td>2025-03-16 23:59:45.000144+00:00</td>\n",
       "    </tr>\n",
       "    <tr>\n",
       "      <th>2025-03-16 23:59:45.000144+00:00</th>\n",
       "      <td>1601</td>\n",
       "      <td>2025-03-16 23:32:00.000165+00:00</td>\n",
       "      <td>2025-03-16 23:59:45.000144+00:00</td>\n",
       "    </tr>\n",
       "  </tbody>\n",
       "</table>\n",
       "<p>536321 rows × 3 columns</p>\n",
       "</div>"
      ],
      "text/plain": [
       "                                  videoIndex                   videoStartTime  \\\n",
       "sampleDT                                                                        \n",
       "2025-03-13 23:03:30.000599+00:00           0 2025-03-13 23:03:30.000599+00:00   \n",
       "2025-03-13 23:03:45.000163+00:00           1 2025-03-13 23:03:30.000599+00:00   \n",
       "2025-03-13 23:04:00.000138+00:00           2 2025-03-13 23:03:30.000599+00:00   \n",
       "2025-03-13 23:04:15.000151+00:00           3 2025-03-13 23:03:30.000599+00:00   \n",
       "2025-03-13 23:04:30.000151+00:00           4 2025-03-13 23:03:30.000599+00:00   \n",
       "...                                      ...                              ...   \n",
       "2025-03-16 23:58:45.000141+00:00        1597 2025-03-16 23:32:00.000165+00:00   \n",
       "2025-03-16 23:59:00.000195+00:00        1598 2025-03-16 23:32:00.000165+00:00   \n",
       "2025-03-16 23:59:15.000151+00:00        1599 2025-03-16 23:32:00.000165+00:00   \n",
       "2025-03-16 23:59:30.000155+00:00        1600 2025-03-16 23:32:00.000165+00:00   \n",
       "2025-03-16 23:59:45.000144+00:00        1601 2025-03-16 23:32:00.000165+00:00   \n",
       "\n",
       "                                                     videoEndTime  \n",
       "sampleDT                                                           \n",
       "2025-03-13 23:03:30.000599+00:00 2025-03-13 23:37:59.900140+00:00  \n",
       "2025-03-13 23:03:45.000163+00:00 2025-03-13 23:37:59.900140+00:00  \n",
       "2025-03-13 23:04:00.000138+00:00 2025-03-13 23:37:59.900140+00:00  \n",
       "2025-03-13 23:04:15.000151+00:00 2025-03-13 23:37:59.900140+00:00  \n",
       "2025-03-13 23:04:30.000151+00:00 2025-03-13 23:37:59.900140+00:00  \n",
       "...                                                           ...  \n",
       "2025-03-16 23:58:45.000141+00:00 2025-03-16 23:59:45.000144+00:00  \n",
       "2025-03-16 23:59:00.000195+00:00 2025-03-16 23:59:45.000144+00:00  \n",
       "2025-03-16 23:59:15.000151+00:00 2025-03-16 23:59:45.000144+00:00  \n",
       "2025-03-16 23:59:30.000155+00:00 2025-03-16 23:59:45.000144+00:00  \n",
       "2025-03-16 23:59:45.000144+00:00 2025-03-16 23:59:45.000144+00:00  \n",
       "\n",
       "[536321 rows x 3 columns]"
      ]
     },
     "execution_count": 3,
     "metadata": {},
     "output_type": "execute_result"
    }
   ],
   "source": [
    "deviceDescriptor = [\"abhik\", \"mobilepi\", \"abhik\", \"piCam-raspberryPi5-Camv3120noir\", \"mp4\", \"piVidCap\"]\n",
    "#deviceDescriptor = [\"abhik\", \"bedroompi\", \"abhik\", \"piCam-raspberryPi5-Camv3120\", \"mp4\", \"piVidCap\"]\n",
    "#deviceDescriptor = [\"abhik\", \"bathroompi\", \"abhik\", \"piCam-raspberryPi5-Camv3noir\", \"mp4\", \"piVidCap\"]\n",
    "#deviceDescriptor = [\"abhik\", \"kitchenpi\", \"abhik\", \"piCam-raspberryPi5-Camv3120noir\", \"mp4\", \"piVidCap\"]\n",
    "\n",
    "# find some timestamps\n",
    "vidDf = readWorkingTSDF(deviceDescriptor)\n",
    "vidDf"
   ]
  },
  {
   "cell_type": "code",
   "execution_count": 6,
   "metadata": {},
   "outputs": [
    {
     "data": {
      "text/html": [
       "<div>\n",
       "<style scoped>\n",
       "    .dataframe tbody tr th:only-of-type {\n",
       "        vertical-align: middle;\n",
       "    }\n",
       "\n",
       "    .dataframe tbody tr th {\n",
       "        vertical-align: top;\n",
       "    }\n",
       "\n",
       "    .dataframe thead th {\n",
       "        text-align: right;\n",
       "    }\n",
       "</style>\n",
       "<table border=\"1\" class=\"dataframe\">\n",
       "  <thead>\n",
       "    <tr style=\"text-align: right;\">\n",
       "      <th></th>\n",
       "      <th>videoIndex</th>\n",
       "      <th>videoStartTime</th>\n",
       "      <th>videoEndTime</th>\n",
       "    </tr>\n",
       "    <tr>\n",
       "      <th>sampleDT</th>\n",
       "      <th></th>\n",
       "      <th></th>\n",
       "      <th></th>\n",
       "    </tr>\n",
       "  </thead>\n",
       "  <tbody>\n",
       "    <tr>\n",
       "      <th>2025-03-16 04:53:45.000166+00:00</th>\n",
       "      <td>600</td>\n",
       "      <td>2025-03-16 04:52:45.000141+00:00</td>\n",
       "      <td>2025-03-16 08:39:00.000135+00:00</td>\n",
       "    </tr>\n",
       "    <tr>\n",
       "      <th>2025-03-16 04:53:45.100180+00:00</th>\n",
       "      <td>601</td>\n",
       "      <td>2025-03-16 04:52:45.000141+00:00</td>\n",
       "      <td>2025-03-16 08:39:00.000135+00:00</td>\n",
       "    </tr>\n",
       "    <tr>\n",
       "      <th>2025-03-16 04:53:45.200971+00:00</th>\n",
       "      <td>602</td>\n",
       "      <td>2025-03-16 04:52:45.000141+00:00</td>\n",
       "      <td>2025-03-16 08:39:00.000135+00:00</td>\n",
       "    </tr>\n",
       "    <tr>\n",
       "      <th>2025-03-16 04:53:45.303820+00:00</th>\n",
       "      <td>603</td>\n",
       "      <td>2025-03-16 04:52:45.000141+00:00</td>\n",
       "      <td>2025-03-16 08:39:00.000135+00:00</td>\n",
       "    </tr>\n",
       "    <tr>\n",
       "      <th>2025-03-16 04:53:45.407689+00:00</th>\n",
       "      <td>604</td>\n",
       "      <td>2025-03-16 04:52:45.000141+00:00</td>\n",
       "      <td>2025-03-16 08:39:00.000135+00:00</td>\n",
       "    </tr>\n",
       "    <tr>\n",
       "      <th>2025-03-16 04:53:45.500586+00:00</th>\n",
       "      <td>605</td>\n",
       "      <td>2025-03-16 04:52:45.000141+00:00</td>\n",
       "      <td>2025-03-16 08:39:00.000135+00:00</td>\n",
       "    </tr>\n",
       "    <tr>\n",
       "      <th>2025-03-16 04:53:45.601568+00:00</th>\n",
       "      <td>606</td>\n",
       "      <td>2025-03-16 04:52:45.000141+00:00</td>\n",
       "      <td>2025-03-16 08:39:00.000135+00:00</td>\n",
       "    </tr>\n",
       "    <tr>\n",
       "      <th>2025-03-16 04:53:45.705844+00:00</th>\n",
       "      <td>607</td>\n",
       "      <td>2025-03-16 04:52:45.000141+00:00</td>\n",
       "      <td>2025-03-16 08:39:00.000135+00:00</td>\n",
       "    </tr>\n",
       "    <tr>\n",
       "      <th>2025-03-16 04:53:45.803416+00:00</th>\n",
       "      <td>608</td>\n",
       "      <td>2025-03-16 04:52:45.000141+00:00</td>\n",
       "      <td>2025-03-16 08:39:00.000135+00:00</td>\n",
       "    </tr>\n",
       "    <tr>\n",
       "      <th>2025-03-16 04:53:45.900644+00:00</th>\n",
       "      <td>609</td>\n",
       "      <td>2025-03-16 04:52:45.000141+00:00</td>\n",
       "      <td>2025-03-16 08:39:00.000135+00:00</td>\n",
       "    </tr>\n",
       "  </tbody>\n",
       "</table>\n",
       "</div>"
      ],
      "text/plain": [
       "                                  videoIndex                   videoStartTime  \\\n",
       "sampleDT                                                                        \n",
       "2025-03-16 04:53:45.000166+00:00         600 2025-03-16 04:52:45.000141+00:00   \n",
       "2025-03-16 04:53:45.100180+00:00         601 2025-03-16 04:52:45.000141+00:00   \n",
       "2025-03-16 04:53:45.200971+00:00         602 2025-03-16 04:52:45.000141+00:00   \n",
       "2025-03-16 04:53:45.303820+00:00         603 2025-03-16 04:52:45.000141+00:00   \n",
       "2025-03-16 04:53:45.407689+00:00         604 2025-03-16 04:52:45.000141+00:00   \n",
       "2025-03-16 04:53:45.500586+00:00         605 2025-03-16 04:52:45.000141+00:00   \n",
       "2025-03-16 04:53:45.601568+00:00         606 2025-03-16 04:52:45.000141+00:00   \n",
       "2025-03-16 04:53:45.705844+00:00         607 2025-03-16 04:52:45.000141+00:00   \n",
       "2025-03-16 04:53:45.803416+00:00         608 2025-03-16 04:52:45.000141+00:00   \n",
       "2025-03-16 04:53:45.900644+00:00         609 2025-03-16 04:52:45.000141+00:00   \n",
       "\n",
       "                                                     videoEndTime  \n",
       "sampleDT                                                           \n",
       "2025-03-16 04:53:45.000166+00:00 2025-03-16 08:39:00.000135+00:00  \n",
       "2025-03-16 04:53:45.100180+00:00 2025-03-16 08:39:00.000135+00:00  \n",
       "2025-03-16 04:53:45.200971+00:00 2025-03-16 08:39:00.000135+00:00  \n",
       "2025-03-16 04:53:45.303820+00:00 2025-03-16 08:39:00.000135+00:00  \n",
       "2025-03-16 04:53:45.407689+00:00 2025-03-16 08:39:00.000135+00:00  \n",
       "2025-03-16 04:53:45.500586+00:00 2025-03-16 08:39:00.000135+00:00  \n",
       "2025-03-16 04:53:45.601568+00:00 2025-03-16 08:39:00.000135+00:00  \n",
       "2025-03-16 04:53:45.705844+00:00 2025-03-16 08:39:00.000135+00:00  \n",
       "2025-03-16 04:53:45.803416+00:00 2025-03-16 08:39:00.000135+00:00  \n",
       "2025-03-16 04:53:45.900644+00:00 2025-03-16 08:39:00.000135+00:00  "
      ]
     },
     "execution_count": 6,
     "metadata": {},
     "output_type": "execute_result"
    }
   ],
   "source": [
    "tz = timezone(timedelta(hours=-7))\n",
    "delStartTime = datetime(2025, 3, 15, 21, 53, 0, 000000, tzinfo=tz)\n",
    "delEndTime = datetime(2025, 3, 15, 21, 54, 00, 000000, tzinfo=tz)\n",
    "toDelDf = vidDf.loc[delStartTime:delEndTime]\n",
    "toDelDf.head(10)"
   ]
  },
  {
   "cell_type": "code",
   "execution_count": 38,
   "metadata": {},
   "outputs": [
    {
     "data": {
      "text/html": [
       "<div>\n",
       "<style scoped>\n",
       "    .dataframe tbody tr th:only-of-type {\n",
       "        vertical-align: middle;\n",
       "    }\n",
       "\n",
       "    .dataframe tbody tr th {\n",
       "        vertical-align: top;\n",
       "    }\n",
       "\n",
       "    .dataframe thead th {\n",
       "        text-align: right;\n",
       "    }\n",
       "</style>\n",
       "<table border=\"1\" class=\"dataframe\">\n",
       "  <thead>\n",
       "    <tr style=\"text-align: right;\">\n",
       "      <th></th>\n",
       "      <th>videoIndex</th>\n",
       "      <th>videoStartTime</th>\n",
       "      <th>videoEndTime</th>\n",
       "    </tr>\n",
       "    <tr>\n",
       "      <th>sampleDT</th>\n",
       "      <th></th>\n",
       "      <th></th>\n",
       "      <th></th>\n",
       "    </tr>\n",
       "  </thead>\n",
       "  <tbody>\n",
       "    <tr>\n",
       "      <th>2025-03-16 04:53:00.000139+00:00</th>\n",
       "      <td>150</td>\n",
       "      <td>2025-03-16 04:52:45.000141+00:00</td>\n",
       "      <td>2025-03-16 08:39:00.000135+00:00</td>\n",
       "    </tr>\n",
       "    <tr>\n",
       "      <th>2025-03-16 04:53:00.100172+00:00</th>\n",
       "      <td>151</td>\n",
       "      <td>2025-03-16 04:52:45.000141+00:00</td>\n",
       "      <td>2025-03-16 08:39:00.000135+00:00</td>\n",
       "    </tr>\n",
       "    <tr>\n",
       "      <th>2025-03-16 04:53:00.200511+00:00</th>\n",
       "      <td>152</td>\n",
       "      <td>2025-03-16 04:52:45.000141+00:00</td>\n",
       "      <td>2025-03-16 08:39:00.000135+00:00</td>\n",
       "    </tr>\n",
       "    <tr>\n",
       "      <th>2025-03-16 04:53:00.307422+00:00</th>\n",
       "      <td>153</td>\n",
       "      <td>2025-03-16 04:52:45.000141+00:00</td>\n",
       "      <td>2025-03-16 08:39:00.000135+00:00</td>\n",
       "    </tr>\n",
       "    <tr>\n",
       "      <th>2025-03-16 04:53:00.400822+00:00</th>\n",
       "      <td>154</td>\n",
       "      <td>2025-03-16 04:52:45.000141+00:00</td>\n",
       "      <td>2025-03-16 08:39:00.000135+00:00</td>\n",
       "    </tr>\n",
       "    <tr>\n",
       "      <th>...</th>\n",
       "      <td>...</td>\n",
       "      <td>...</td>\n",
       "      <td>...</td>\n",
       "    </tr>\n",
       "    <tr>\n",
       "      <th>2025-03-16 04:53:44.500156+00:00</th>\n",
       "      <td>595</td>\n",
       "      <td>2025-03-16 04:52:45.000141+00:00</td>\n",
       "      <td>2025-03-16 08:39:00.000135+00:00</td>\n",
       "    </tr>\n",
       "    <tr>\n",
       "      <th>2025-03-16 04:53:44.600153+00:00</th>\n",
       "      <td>596</td>\n",
       "      <td>2025-03-16 04:52:45.000141+00:00</td>\n",
       "      <td>2025-03-16 08:39:00.000135+00:00</td>\n",
       "    </tr>\n",
       "    <tr>\n",
       "      <th>2025-03-16 04:53:44.700143+00:00</th>\n",
       "      <td>597</td>\n",
       "      <td>2025-03-16 04:52:45.000141+00:00</td>\n",
       "      <td>2025-03-16 08:39:00.000135+00:00</td>\n",
       "    </tr>\n",
       "    <tr>\n",
       "      <th>2025-03-16 04:53:44.800141+00:00</th>\n",
       "      <td>598</td>\n",
       "      <td>2025-03-16 04:52:45.000141+00:00</td>\n",
       "      <td>2025-03-16 08:39:00.000135+00:00</td>\n",
       "    </tr>\n",
       "    <tr>\n",
       "      <th>2025-03-16 04:53:44.900172+00:00</th>\n",
       "      <td>599</td>\n",
       "      <td>2025-03-16 04:52:45.000141+00:00</td>\n",
       "      <td>2025-03-16 08:39:00.000135+00:00</td>\n",
       "    </tr>\n",
       "  </tbody>\n",
       "</table>\n",
       "<p>450 rows × 3 columns</p>\n",
       "</div>"
      ],
      "text/plain": [
       "                                  videoIndex                   videoStartTime  \\\n",
       "sampleDT                                                                        \n",
       "2025-03-16 04:53:00.000139+00:00         150 2025-03-16 04:52:45.000141+00:00   \n",
       "2025-03-16 04:53:00.100172+00:00         151 2025-03-16 04:52:45.000141+00:00   \n",
       "2025-03-16 04:53:00.200511+00:00         152 2025-03-16 04:52:45.000141+00:00   \n",
       "2025-03-16 04:53:00.307422+00:00         153 2025-03-16 04:52:45.000141+00:00   \n",
       "2025-03-16 04:53:00.400822+00:00         154 2025-03-16 04:52:45.000141+00:00   \n",
       "...                                      ...                              ...   \n",
       "2025-03-16 04:53:44.500156+00:00         595 2025-03-16 04:52:45.000141+00:00   \n",
       "2025-03-16 04:53:44.600153+00:00         596 2025-03-16 04:52:45.000141+00:00   \n",
       "2025-03-16 04:53:44.700143+00:00         597 2025-03-16 04:52:45.000141+00:00   \n",
       "2025-03-16 04:53:44.800141+00:00         598 2025-03-16 04:52:45.000141+00:00   \n",
       "2025-03-16 04:53:44.900172+00:00         599 2025-03-16 04:52:45.000141+00:00   \n",
       "\n",
       "                                                     videoEndTime  \n",
       "sampleDT                                                           \n",
       "2025-03-16 04:53:00.000139+00:00 2025-03-16 08:39:00.000135+00:00  \n",
       "2025-03-16 04:53:00.100172+00:00 2025-03-16 08:39:00.000135+00:00  \n",
       "2025-03-16 04:53:00.200511+00:00 2025-03-16 08:39:00.000135+00:00  \n",
       "2025-03-16 04:53:00.307422+00:00 2025-03-16 08:39:00.000135+00:00  \n",
       "2025-03-16 04:53:00.400822+00:00 2025-03-16 08:39:00.000135+00:00  \n",
       "...                                                           ...  \n",
       "2025-03-16 04:53:44.500156+00:00 2025-03-16 08:39:00.000135+00:00  \n",
       "2025-03-16 04:53:44.600153+00:00 2025-03-16 08:39:00.000135+00:00  \n",
       "2025-03-16 04:53:44.700143+00:00 2025-03-16 08:39:00.000135+00:00  \n",
       "2025-03-16 04:53:44.800141+00:00 2025-03-16 08:39:00.000135+00:00  \n",
       "2025-03-16 04:53:44.900172+00:00 2025-03-16 08:39:00.000135+00:00  \n",
       "\n",
       "[450 rows x 3 columns]"
      ]
     },
     "execution_count": 38,
     "metadata": {},
     "output_type": "execute_result"
    }
   ],
   "source": [
    "toDelDf = vidDf.loc[delStartTime:delEndTime]\n",
    "toDelDf"
   ]
  },
  {
   "cell_type": "code",
   "execution_count": 39,
   "metadata": {},
   "outputs": [
    {
     "data": {
      "text/plain": [
       "<pandas.core.groupby.generic.DataFrameGroupBy object at 0x7f8c9147da50>"
      ]
     },
     "execution_count": 39,
     "metadata": {},
     "output_type": "execute_result"
    }
   ],
   "source": [
    "grouped = toDelDf.groupby(\"videoStartTime\")\n",
    "grouped"
   ]
  },
  {
   "cell_type": "code",
   "execution_count": 48,
   "metadata": {},
   "outputs": [
    {
     "data": {
      "text/html": [
       "<div>\n",
       "<style scoped>\n",
       "    .dataframe tbody tr th:only-of-type {\n",
       "        vertical-align: middle;\n",
       "    }\n",
       "\n",
       "    .dataframe tbody tr th {\n",
       "        vertical-align: top;\n",
       "    }\n",
       "\n",
       "    .dataframe thead th {\n",
       "        text-align: right;\n",
       "    }\n",
       "</style>\n",
       "<table border=\"1\" class=\"dataframe\">\n",
       "  <thead>\n",
       "    <tr style=\"text-align: right;\">\n",
       "      <th></th>\n",
       "      <th>videoIndex</th>\n",
       "      <th>videoEndTime</th>\n",
       "    </tr>\n",
       "    <tr>\n",
       "      <th>videoStartTime</th>\n",
       "      <th></th>\n",
       "      <th></th>\n",
       "    </tr>\n",
       "  </thead>\n",
       "  <tbody>\n",
       "    <tr>\n",
       "      <th>2025-03-16 04:52:45.000141+00:00</th>\n",
       "      <td>150</td>\n",
       "      <td>2025-03-16 08:39:00.000135+00:00</td>\n",
       "    </tr>\n",
       "  </tbody>\n",
       "</table>\n",
       "</div>"
      ],
      "text/plain": [
       "                                  videoIndex                     videoEndTime\n",
       "videoStartTime                                                               \n",
       "2025-03-16 04:52:45.000141+00:00         150 2025-03-16 08:39:00.000135+00:00"
      ]
     },
     "execution_count": 48,
     "metadata": {},
     "output_type": "execute_result"
    }
   ],
   "source": [
    "grouped.first()"
   ]
  },
  {
   "cell_type": "code",
   "execution_count": 51,
   "metadata": {},
   "outputs": [
    {
     "data": {
      "text/html": [
       "<div>\n",
       "<style scoped>\n",
       "    .dataframe tbody tr th:only-of-type {\n",
       "        vertical-align: middle;\n",
       "    }\n",
       "\n",
       "    .dataframe tbody tr th {\n",
       "        vertical-align: top;\n",
       "    }\n",
       "\n",
       "    .dataframe thead th {\n",
       "        text-align: right;\n",
       "    }\n",
       "</style>\n",
       "<table border=\"1\" class=\"dataframe\">\n",
       "  <thead>\n",
       "    <tr style=\"text-align: right;\">\n",
       "      <th></th>\n",
       "      <th>videoIndex</th>\n",
       "      <th>videoEndTime</th>\n",
       "    </tr>\n",
       "    <tr>\n",
       "      <th>videoStartTime</th>\n",
       "      <th></th>\n",
       "      <th></th>\n",
       "    </tr>\n",
       "  </thead>\n",
       "  <tbody>\n",
       "    <tr>\n",
       "      <th>2025-03-16 04:52:45.000141+00:00</th>\n",
       "      <td>599</td>\n",
       "      <td>2025-03-16 08:39:00.000135+00:00</td>\n",
       "    </tr>\n",
       "  </tbody>\n",
       "</table>\n",
       "</div>"
      ],
      "text/plain": [
       "                                  videoIndex                     videoEndTime\n",
       "videoStartTime                                                               \n",
       "2025-03-16 04:52:45.000141+00:00         599 2025-03-16 08:39:00.000135+00:00"
      ]
     },
     "execution_count": 51,
     "metadata": {},
     "output_type": "execute_result"
    }
   ],
   "source": [
    "grouped.last()"
   ]
  },
  {
   "cell_type": "code",
   "execution_count": null,
   "metadata": {},
   "outputs": [],
   "source": [
    "grouped[\"videoStartTime\"].first()"
   ]
  },
  {
   "cell_type": "code",
   "execution_count": 66,
   "metadata": {},
   "outputs": [
    {
     "data": {
      "text/plain": [
       "Timestamp('2025-03-16 04:52:45.000141+0000', tz='UTC')"
      ]
     },
     "execution_count": 66,
     "metadata": {},
     "output_type": "execute_result"
    }
   ],
   "source": [
    "groupKeys = sorted(toDelDf['videoStartTime'].unique())\n",
    "groupKeys[0]"
   ]
  },
  {
   "cell_type": "code",
   "execution_count": 68,
   "metadata": {},
   "outputs": [
    {
     "data": {
      "text/plain": [
       "np.True_"
      ]
     },
     "execution_count": 68,
     "metadata": {},
     "output_type": "execute_result"
    }
   ],
   "source": [
    "firstCut = grouped.get_group(groupKeys[0])['videoIndex'].iloc[0] != 0\n",
    "firstCut"
   ]
  },
  {
   "cell_type": "code",
   "execution_count": 70,
   "metadata": {},
   "outputs": [
    {
     "data": {
      "text/plain": [
       "True"
      ]
     },
     "execution_count": 70,
     "metadata": {},
     "output_type": "execute_result"
    }
   ],
   "source": [
    "lastRow = grouped.get_group(groupKeys[-1]).iloc[-1]\n",
    "lastCut = lastRow.name != lastRow['videoEndTime']\n",
    "lastCut"
   ]
  },
  {
   "cell_type": "code",
   "execution_count": 140,
   "metadata": {},
   "outputs": [
    {
     "data": {
      "text/plain": [
       "['/home/chowder/Documents/bulkData/abhik_mobilepi_abhik_piCam-raspberryPi5-Camv3120noir_mp4_piVidCap/2025/03-16/2025-03-16T045245,000141+0000_2025-03-16T083900,000135+0000.mp4']"
      ]
     },
     "execution_count": 140,
     "metadata": {},
     "output_type": "execute_result"
    }
   ],
   "source": [
    "allFileNames = []\n",
    "for firstTs, group in grouped:\n",
    "    lastTs = group[\"videoEndTime\"].iloc[0]\n",
    "    allFileNames.append(getMP4Path(deviceDescriptor, firstTs, lastTs))\n",
    "allFileNames = sorted(allFileNames)\n",
    "allFileNames"
   ]
  },
  {
   "cell_type": "code",
   "execution_count": 141,
   "metadata": {},
   "outputs": [],
   "source": [
    "import cv2\n",
    "# get output parameters from the first video\n",
    "cap = cv2.VideoCapture(allFileNames[0])\n",
    "fps = cap.get(cv2.CAP_PROP_FPS)\n",
    "width = int(cap.get(cv2.CAP_PROP_FRAME_WIDTH))\n",
    "height = int(cap.get(cv2.CAP_PROP_FRAME_HEIGHT))\n",
    "fourcc = cv2.VideoWriter_fourcc(*'avc1')\n",
    "tempFilePath = bulkDataPath + \"_\".join(deviceDescriptor) + \"/temp.mp4\"\n",
    "cap.release()\n",
    "\n",
    "# make an outout with the temp direcotry\n",
    "out = cv2.VideoWriter(tempFilePath, fourcc, fps, (width, height))"
   ]
  },
  {
   "cell_type": "code",
   "execution_count": 142,
   "metadata": {},
   "outputs": [],
   "source": [
    "firstGroup = grouped.get_group(groupKeys[0])\n",
    "lastGroup = grouped.get_group(groupKeys[-1])\n",
    "output_start_ts = groupKeys[0]\n",
    "output_end_ts = lastGroup['videoEndTime'].iloc[0]\n",
    "\n",
    "if firstCut:\n",
    "    cap = cv2.VideoCapture(allFileNames[0])\n",
    "    end_frame_index = firstGroup['videoIndex'].iloc[0]\n",
    "    for i in range(end_frame_index):\n",
    "        ret, frame = cap.read()\n",
    "        if not ret:\n",
    "            break\n",
    "        out.write(frame)\n",
    "    cap.release()\n",
    "    if not lastCut:\n",
    "        output_end_ts = firstGroup.iloc[0].name\n",
    "\n",
    "if lastCut:\n",
    "    cap = cv2.VideoCapture(allFileNames[-1])\n",
    "    start_frame_index = lastGroup['videoIndex'].iloc[-1] + 1\n",
    "    cap.set(cv2.CAP_PROP_POS_FRAMES, start_frame_index)\n",
    "    while True:\n",
    "        ret, frame = cap.read()\n",
    "        if not ret:\n",
    "            break\n",
    "        out.write(frame)\n",
    "    cap.release()\n",
    "    if not firstCut:\n",
    "        output_start_ts = lastGroup.iloc[-1].name\n",
    "\n",
    "out.release()"
   ]
  },
  {
   "cell_type": "code",
   "execution_count": 143,
   "metadata": {},
   "outputs": [
    {
     "data": {
      "text/plain": [
       "videoIndex                                     150\n",
       "videoStartTime    2025-03-16 04:52:45.000141+00:00\n",
       "videoEndTime      2025-03-16 08:39:00.000135+00:00\n",
       "Name: 2025-03-16 04:53:00.000139+00:00, dtype: object"
      ]
     },
     "execution_count": 143,
     "metadata": {},
     "output_type": "execute_result"
    }
   ],
   "source": [
    "firstGroup.iloc[0]"
   ]
  },
  {
   "cell_type": "code",
   "execution_count": 144,
   "metadata": {},
   "outputs": [
    {
     "data": {
      "text/plain": [
       "videoIndex                                     599\n",
       "videoStartTime    2025-03-16 04:52:45.000141+00:00\n",
       "videoEndTime      2025-03-16 08:39:00.000135+00:00\n",
       "Name: 2025-03-16 04:53:44.900172+00:00, dtype: object"
      ]
     },
     "execution_count": 144,
     "metadata": {},
     "output_type": "execute_result"
    }
   ],
   "source": [
    "lastGroup.iloc[-1]"
   ]
  },
  {
   "cell_type": "code",
   "execution_count": 145,
   "metadata": {},
   "outputs": [
    {
     "data": {
      "text/plain": [
       "'/home/chowder/Documents/bulkData/abhik_mobilepi_abhik_piCam-raspberryPi5-Camv3120noir_mp4_piVidCap/2025/03-16/2025-03-16T045245,000141+0000_2025-03-16T083900,000135+0000.mp4'"
      ]
     },
     "execution_count": 145,
     "metadata": {},
     "output_type": "execute_result"
    }
   ],
   "source": [
    "newFileName = getMP4Path(deviceDescriptor, output_start_ts, output_end_ts)\n",
    "newFileName"
   ]
  },
  {
   "cell_type": "code",
   "execution_count": 146,
   "metadata": {},
   "outputs": [],
   "source": [
    "import shutil\n",
    "#remove all the files\n",
    "[os.remove(f) for f in allFileNames]\n",
    "\n",
    "if not firstCut and not lastCut:\n",
    "    #delete the temp file\n",
    "    os.remove(tempFilePath)\n",
    "else:\n",
    "    #move the temp file to the new file name\n",
    "    shutil.move(tempFilePath, newFileName)\n"
   ]
  },
  {
   "cell_type": "code",
   "execution_count": 147,
   "metadata": {},
   "outputs": [
    {
     "name": "stdout",
     "output_type": "stream",
     "text": [
      "saved to a file named 2025-03-13T230330,000599+0000_2025-03-16T235945,000144+0000_2cc5211b_.parquet.gzip\n"
     ]
    }
   ],
   "source": [
    "deleteTSDfInterval(deviceDescriptor, delStartTime, delEndTime)"
   ]
  },
  {
   "cell_type": "code",
   "execution_count": 148,
   "metadata": {},
   "outputs": [
    {
     "name": "stdout",
     "output_type": "stream",
     "text": [
      "read in 536321 rows from 1 files, retruning 536321 rows\n"
     ]
    },
    {
     "data": {
      "text/html": [
       "<div>\n",
       "<style scoped>\n",
       "    .dataframe tbody tr th:only-of-type {\n",
       "        vertical-align: middle;\n",
       "    }\n",
       "\n",
       "    .dataframe tbody tr th {\n",
       "        vertical-align: top;\n",
       "    }\n",
       "\n",
       "    .dataframe thead th {\n",
       "        text-align: right;\n",
       "    }\n",
       "</style>\n",
       "<table border=\"1\" class=\"dataframe\">\n",
       "  <thead>\n",
       "    <tr style=\"text-align: right;\">\n",
       "      <th></th>\n",
       "      <th>videoIndex</th>\n",
       "      <th>videoStartTime</th>\n",
       "      <th>videoEndTime</th>\n",
       "    </tr>\n",
       "    <tr>\n",
       "      <th>sampleDT</th>\n",
       "      <th></th>\n",
       "      <th></th>\n",
       "      <th></th>\n",
       "    </tr>\n",
       "  </thead>\n",
       "  <tbody>\n",
       "    <tr>\n",
       "      <th>2025-03-13 23:03:30.000599+00:00</th>\n",
       "      <td>0</td>\n",
       "      <td>2025-03-13 23:03:30.000599+00:00</td>\n",
       "      <td>2025-03-13 23:37:59.900140+00:00</td>\n",
       "    </tr>\n",
       "    <tr>\n",
       "      <th>2025-03-13 23:03:45.000163+00:00</th>\n",
       "      <td>1</td>\n",
       "      <td>2025-03-13 23:03:30.000599+00:00</td>\n",
       "      <td>2025-03-13 23:37:59.900140+00:00</td>\n",
       "    </tr>\n",
       "    <tr>\n",
       "      <th>2025-03-13 23:04:00.000138+00:00</th>\n",
       "      <td>2</td>\n",
       "      <td>2025-03-13 23:03:30.000599+00:00</td>\n",
       "      <td>2025-03-13 23:37:59.900140+00:00</td>\n",
       "    </tr>\n",
       "    <tr>\n",
       "      <th>2025-03-13 23:04:15.000151+00:00</th>\n",
       "      <td>3</td>\n",
       "      <td>2025-03-13 23:03:30.000599+00:00</td>\n",
       "      <td>2025-03-13 23:37:59.900140+00:00</td>\n",
       "    </tr>\n",
       "    <tr>\n",
       "      <th>2025-03-13 23:04:30.000151+00:00</th>\n",
       "      <td>4</td>\n",
       "      <td>2025-03-13 23:03:30.000599+00:00</td>\n",
       "      <td>2025-03-13 23:37:59.900140+00:00</td>\n",
       "    </tr>\n",
       "    <tr>\n",
       "      <th>...</th>\n",
       "      <td>...</td>\n",
       "      <td>...</td>\n",
       "      <td>...</td>\n",
       "    </tr>\n",
       "    <tr>\n",
       "      <th>2025-03-16 23:58:45.000141+00:00</th>\n",
       "      <td>1597</td>\n",
       "      <td>2025-03-16 23:32:00.000165+00:00</td>\n",
       "      <td>2025-03-16 23:59:45.000144+00:00</td>\n",
       "    </tr>\n",
       "    <tr>\n",
       "      <th>2025-03-16 23:59:00.000195+00:00</th>\n",
       "      <td>1598</td>\n",
       "      <td>2025-03-16 23:32:00.000165+00:00</td>\n",
       "      <td>2025-03-16 23:59:45.000144+00:00</td>\n",
       "    </tr>\n",
       "    <tr>\n",
       "      <th>2025-03-16 23:59:15.000151+00:00</th>\n",
       "      <td>1599</td>\n",
       "      <td>2025-03-16 23:32:00.000165+00:00</td>\n",
       "      <td>2025-03-16 23:59:45.000144+00:00</td>\n",
       "    </tr>\n",
       "    <tr>\n",
       "      <th>2025-03-16 23:59:30.000155+00:00</th>\n",
       "      <td>1600</td>\n",
       "      <td>2025-03-16 23:32:00.000165+00:00</td>\n",
       "      <td>2025-03-16 23:59:45.000144+00:00</td>\n",
       "    </tr>\n",
       "    <tr>\n",
       "      <th>2025-03-16 23:59:45.000144+00:00</th>\n",
       "      <td>1601</td>\n",
       "      <td>2025-03-16 23:32:00.000165+00:00</td>\n",
       "      <td>2025-03-16 23:59:45.000144+00:00</td>\n",
       "    </tr>\n",
       "  </tbody>\n",
       "</table>\n",
       "<p>536321 rows × 3 columns</p>\n",
       "</div>"
      ],
      "text/plain": [
       "                                  videoIndex                   videoStartTime  \\\n",
       "sampleDT                                                                        \n",
       "2025-03-13 23:03:30.000599+00:00           0 2025-03-13 23:03:30.000599+00:00   \n",
       "2025-03-13 23:03:45.000163+00:00           1 2025-03-13 23:03:30.000599+00:00   \n",
       "2025-03-13 23:04:00.000138+00:00           2 2025-03-13 23:03:30.000599+00:00   \n",
       "2025-03-13 23:04:15.000151+00:00           3 2025-03-13 23:03:30.000599+00:00   \n",
       "2025-03-13 23:04:30.000151+00:00           4 2025-03-13 23:03:30.000599+00:00   \n",
       "...                                      ...                              ...   \n",
       "2025-03-16 23:58:45.000141+00:00        1597 2025-03-16 23:32:00.000165+00:00   \n",
       "2025-03-16 23:59:00.000195+00:00        1598 2025-03-16 23:32:00.000165+00:00   \n",
       "2025-03-16 23:59:15.000151+00:00        1599 2025-03-16 23:32:00.000165+00:00   \n",
       "2025-03-16 23:59:30.000155+00:00        1600 2025-03-16 23:32:00.000165+00:00   \n",
       "2025-03-16 23:59:45.000144+00:00        1601 2025-03-16 23:32:00.000165+00:00   \n",
       "\n",
       "                                                     videoEndTime  \n",
       "sampleDT                                                           \n",
       "2025-03-13 23:03:30.000599+00:00 2025-03-13 23:37:59.900140+00:00  \n",
       "2025-03-13 23:03:45.000163+00:00 2025-03-13 23:37:59.900140+00:00  \n",
       "2025-03-13 23:04:00.000138+00:00 2025-03-13 23:37:59.900140+00:00  \n",
       "2025-03-13 23:04:15.000151+00:00 2025-03-13 23:37:59.900140+00:00  \n",
       "2025-03-13 23:04:30.000151+00:00 2025-03-13 23:37:59.900140+00:00  \n",
       "...                                                           ...  \n",
       "2025-03-16 23:58:45.000141+00:00 2025-03-16 23:59:45.000144+00:00  \n",
       "2025-03-16 23:59:00.000195+00:00 2025-03-16 23:59:45.000144+00:00  \n",
       "2025-03-16 23:59:15.000151+00:00 2025-03-16 23:59:45.000144+00:00  \n",
       "2025-03-16 23:59:30.000155+00:00 2025-03-16 23:59:45.000144+00:00  \n",
       "2025-03-16 23:59:45.000144+00:00 2025-03-16 23:59:45.000144+00:00  \n",
       "\n",
       "[536321 rows x 3 columns]"
      ]
     },
     "execution_count": 148,
     "metadata": {},
     "output_type": "execute_result"
    }
   ],
   "source": [
    "vidDf = readWorkingTSDF(deviceDescriptor)\n",
    "vidDf"
   ]
  },
  {
   "cell_type": "code",
   "execution_count": 1,
   "metadata": {},
   "outputs": [
    {
     "ename": "NameError",
     "evalue": "name 'timezone' is not defined",
     "output_type": "error",
     "traceback": [
      "\u001b[0;31m---------------------------------------------------------------------------\u001b[0m",
      "\u001b[0;31mNameError\u001b[0m                                 Traceback (most recent call last)",
      "Cell \u001b[0;32mIn[1], line 1\u001b[0m\n\u001b[0;32m----> 1\u001b[0m tz \u001b[38;5;241m=\u001b[39m \u001b[43mtimezone\u001b[49m(timedelta(hours\u001b[38;5;241m=\u001b[39m\u001b[38;5;241m-\u001b[39m\u001b[38;5;241m7\u001b[39m))\n\u001b[1;32m      2\u001b[0m delStartTime \u001b[38;5;241m=\u001b[39m datetime(\u001b[38;5;241m2025\u001b[39m, \u001b[38;5;241m3\u001b[39m, \u001b[38;5;241m15\u001b[39m, \u001b[38;5;241m21\u001b[39m, \u001b[38;5;241m53\u001b[39m, \u001b[38;5;241m0\u001b[39m, \u001b[38;5;241m000000\u001b[39m, tzinfo\u001b[38;5;241m=\u001b[39mtz)\n\u001b[1;32m      3\u001b[0m delEndTime \u001b[38;5;241m=\u001b[39m datetime(\u001b[38;5;241m2025\u001b[39m, \u001b[38;5;241m3\u001b[39m, \u001b[38;5;241m15\u001b[39m, \u001b[38;5;241m21\u001b[39m, \u001b[38;5;241m54\u001b[39m, \u001b[38;5;241m00\u001b[39m, \u001b[38;5;241m000000\u001b[39m, tzinfo\u001b[38;5;241m=\u001b[39mtz)\n",
      "\u001b[0;31mNameError\u001b[0m: name 'timezone' is not defined"
     ]
    }
   ],
   "source": [
    "tz = timezone(timedelta(hours=-7))\n",
    "delStartTime = datetime(2025, 3, 15, 21, 53, 0, 000000, tzinfo=tz)\n",
    "delEndTime = datetime(2025, 3, 15, 21, 54, 00, 000000, tzinfo=tz)\n",
    "toDelDf = vidDf.loc[delStartTime:delEndTime]\n",
    "toDelDf"
   ]
  },
  {
   "cell_type": "code",
   "execution_count": null,
   "metadata": {},
   "outputs": [],
   "source": []
  },
  {
   "cell_type": "code",
   "execution_count": null,
   "metadata": {},
   "outputs": [],
   "source": []
  },
  {
   "cell_type": "code",
   "execution_count": 124,
   "metadata": {},
   "outputs": [
    {
     "data": {
      "text/plain": [
       "videoIndex                                     150\n",
       "videoStartTime    2025-03-16 04:52:45.000141+00:00\n",
       "videoEndTime      2025-03-16 08:39:00.000135+00:00\n",
       "Name: 2025-03-16 04:53:00.000139+00:00, dtype: object"
      ]
     },
     "execution_count": 124,
     "metadata": {},
     "output_type": "execute_result"
    }
   ],
   "source": [
    "firstGroup.iloc[0]"
   ]
  },
  {
   "cell_type": "code",
   "execution_count": null,
   "metadata": {},
   "outputs": [],
   "source": []
  },
  {
   "cell_type": "code",
   "execution_count": 73,
   "metadata": {},
   "outputs": [
    {
     "data": {
      "text/plain": [
       "['/home/chowder/Documents/bulkData/abhik_mobilepi_abhik_piCam-raspberryPi5-Camv3120noir_mp4_piVidCap/2025/03-16/2025-03-16T045245,000141+0000_2025-03-16T083900,000135+0000.mp4']"
      ]
     },
     "execution_count": 73,
     "metadata": {},
     "output_type": "execute_result"
    }
   ],
   "source": []
  },
  {
   "cell_type": "code",
   "execution_count": 118,
   "metadata": {},
   "outputs": [],
   "source": [
    "potentialTempFilePath = bulkDataPath + \"_\".join(deviceDescriptor) + \"/temp.mp4\"\n",
    "doMv = False\n",
    "if firstCut and lastCut:\n",
    "    # do the concat command and return\n",
    "    firstGroupFirstTs = groupKeys[0]\n",
    "    firstGroup = grouped.get_group(groupKeys[0])\n",
    "    lastGroup = grouped.get_group(groupKeys[-1])\n",
    "    lastGroupEndTs = lastGroup['videoEndTime'].iloc[0]\n",
    "    outputFileName = getMP4Path(deviceDescriptor, firstGroupFirstTs, lastGroupEndTs)\n",
    "    end1 = firstGroup['videoIndex'].iloc[0]\n",
    "    start2 = lastGroup['videoIndex'].iloc[-1]\n",
    "\n",
    "    if len(allFileNames) > 1:\n",
    "        trimCommand = (\n",
    "            f\"[0:v]trim=end={end1},setpts=PTS-STARTPTS[v0]; \"\n",
    "            f\"[1:v]trim=start={start2},setpts=PTS-STARTPTS[v1]; \"\n",
    "            \"[v0][v1]concat=n=2:v=1[out]\"\n",
    "        )\n",
    "        ffmpeg_command = [\n",
    "            \"ffmpeg\", \n",
    "            \"-i\", allFileNames[0], \n",
    "            \"-i\", allFileNames[-1], \n",
    "            \"-filter_complex\", trimCommand, \n",
    "            \"-map\", \"[out]\",\n",
    "            \"-c:v\", \"libx264\",\n",
    "            \"-preset\", \"fast\",\n",
    "            \"-crf\", \"23\",\n",
    "            outputFileName\n",
    "        ]\n",
    "    else:\n",
    "        trimCommand = (\n",
    "            f\"[0:v]trim=start=0:end={end1},setpts=PTS-STARTPTS[v0]; \"\n",
    "            f\"[0:v]trim=start={start2}:end=99999,setpts=PTS-STARTPTS[v1]; \"\n",
    "            \"[v0][v1]concat=n=2:v=1[out]\"\n",
    "        )\n",
    "\n",
    "        ffmpeg_command = [\n",
    "            \"ffmpeg\", \n",
    "            \"-i\", allFileNames[0], \n",
    "            \"-filter_complex\", trimCommand, \n",
    "            \"-map\", \"[out]\",\n",
    "            \"-fps_mode\", \"passthrough\",\n",
    "            \"-c:v\", \"libx264\",\n",
    "            \"-preset\", \"fast\",\n",
    "            \"-crf\", \"23\",\n",
    "            \"-y\", potentialTempFilePath\n",
    "        ]\n",
    "        doMv = True\n",
    "\n",
    "elif firstCut:\n",
    "    # set the cut variables accordingly\n",
    "    firstGroupFirstTs = groupKeys[0]\n",
    "    firstGroup = grouped.get_group(groupKeys[0])\n",
    "    inputFileName = allFileNames[0]\n",
    "    eidx = firstGroup['videoIndex'].iloc[-1]\n",
    "    newLastTs = firstGroup['videoEndTime'].iloc[-1]\n",
    "    outputFileName = getMP4Path(deviceDescriptor, firstGroupFirstTs, newLastTs)\n",
    "    \n",
    "    trimCommand = \"trim=end=\" + str(eidx) + \",setpts=PTS-STARTPTS\" \n",
    "    ffmpeg_command = [\n",
    "        \"ffmpeg\", \n",
    "        \"-i\", inputFileName, \n",
    "        \"-vf\", trimCommand, \n",
    "        outputFileName\n",
    "    ]\n",
    "\n",
    "elif lastCut:\n",
    "    lastGroup = grouped.get_group(groupKeys[-1])\n",
    "    lastGroupEndTs = lastGroup['videoEndTime'].iloc[0]\n",
    "    inputFileName = getMP4Path(deviceDescriptor, groupKeys[-1], lastGroupEndTs)\n",
    "    sidx = lastGroup['videoIndex'].iloc[-1]\n",
    "    newFirstTs = lastGroup.iloc[0].name\n",
    "    outputFileName = getMP4Path(deviceDescriptor, newFirstTs, lastGroupEndTs)\n",
    "    \n",
    "    trimCommand = \"trim=start=\" + str(sidx) + \",setpts=PTS-STARTPTS\"\n",
    "    ffmpeg_command = [\n",
    "        \"ffmpeg\", \n",
    "        \"-i\", inputFileName, \n",
    "        \"-vf\", trimCommand, \n",
    "        outputFileName\n",
    "    ]"
   ]
  },
  {
   "cell_type": "code",
   "execution_count": 93,
   "metadata": {},
   "outputs": [
    {
     "data": {
      "text/plain": [
       "['mv',\n",
       " '/home/chowder/Documents/bulkData/abhik_mobilepi_abhik_piCam-raspberryPi5-Camv3120noir_mp4_piVidCap/temp.mp4',\n",
       " '/home/chowder/Documents/bulkData/abhik_mobilepi_abhik_piCam-raspberryPi5-Camv3120noir_mp4_piVidCap/2025/03-16/2025-03-16T045245,000141+0000_2025-03-16T083900,000135+0000.mp4']"
      ]
     },
     "execution_count": 93,
     "metadata": {},
     "output_type": "execute_result"
    }
   ],
   "source": [
    "mv_command = [\"mv\" ,potentialTempFilePath, outputFileName]\n",
    "mv_command"
   ]
  },
  {
   "cell_type": "code",
   "execution_count": 94,
   "metadata": {},
   "outputs": [
    {
     "data": {
      "text/plain": [
       "['rm',\n",
       " '/home/chowder/Documents/bulkData/abhik_mobilepi_abhik_piCam-raspberryPi5-Camv3120noir_mp4_piVidCap/2025/03-16/2025-03-16T045245,000141+0000_2025-03-16T083900,000135+0000.mp4']"
      ]
     },
     "execution_count": 94,
     "metadata": {},
     "output_type": "execute_result"
    }
   ],
   "source": [
    "del_command = ['rm'] + [f for f in allFileNames]\n",
    "del_command"
   ]
  },
  {
   "cell_type": "code",
   "execution_count": 111,
   "metadata": {},
   "outputs": [
    {
     "data": {
      "text/plain": [
       "['ffmpeg',\n",
       " '-i',\n",
       " '/home/chowder/Documents/bulkData/abhik_mobilepi_abhik_piCam-raspberryPi5-Camv3120noir_mp4_piVidCap/2025/03-16/2025-03-16T045245,000141+0000_2025-03-16T083900,000135+0000.mp4',\n",
       " '-vf',\n",
       " '[0:v]trim=start=0:end=150,setpts=PTS-STARTPTS[v0]; [0:v]trim=start=599:end=99999,setpts=PTS-STARTPTS[v1]; [v0][v1]concat=n=2:v=1[out]',\n",
       " '-an',\n",
       " '-y',\n",
       " '/home/chowder/Documents/bulkData/abhik_mobilepi_abhik_piCam-raspberryPi5-Camv3120noir_mp4_piVidCap/temp.mp4']"
      ]
     },
     "execution_count": 111,
     "metadata": {},
     "output_type": "execute_result"
    }
   ],
   "source": [
    "test_trimCommand = \"trim=start=0:end=150,setpts=PTS-STARTPTS\"\n",
    "\n",
    "\n",
    "test_ffmpeg_command = [\n",
    "    \"ffmpeg\", \n",
    "    \"-i\", allFileNames[0], \n",
    "    \"-vf\", trimCommand, \n",
    "    \"-an\", \"-y\", potentialTempFilePath\n",
    "]\n",
    "test_ffmpeg_command"
   ]
  },
  {
   "cell_type": "code",
   "execution_count": 116,
   "metadata": {},
   "outputs": [
    {
     "data": {
      "text/plain": [
       "['ffmpeg',\n",
       " '-i',\n",
       " '/home/chowder/Documents/bulkData/abhik_mobilepi_abhik_piCam-raspberryPi5-Camv3120noir_mp4_piVidCap/2025/03-16/2025-03-16T045245,000141+0000_2025-03-16T083900,000135+0000.mp4',\n",
       " '-filter_complex',\n",
       " '[0:v]trim=start=0:end=150,setpts=PTS-STARTPTS[v0]; [0:v]trim=start=599:end=99999,setpts=PTS-STARTPTS[v1]; [v0][v1]concat=n=2:v=1[out]',\n",
       " '-c:v',\n",
       " 'libx264',\n",
       " '-preset',\n",
       " 'fast',\n",
       " '-crf',\n",
       " '23',\n",
       " '-y',\n",
       " '/home/chowder/Documents/bulkData/abhik_mobilepi_abhik_piCam-raspberryPi5-Camv3120noir_mp4_piVidCap/temp.mp4']"
      ]
     },
     "execution_count": 116,
     "metadata": {},
     "output_type": "execute_result"
    }
   ],
   "source": [
    "test_trimCommand = \"select='between(t,0,150) + between(t,599,9999)',setpts=N/FRAME_RATE/TB\"\n",
    "\n",
    "\n",
    "test_ffmpeg_command = [\n",
    "    \"ffmpeg\", \n",
    "    \"-i\", allFileNames[0], \n",
    "    \"-filter_complex\", trimCommand, \n",
    "    \"-c:v\", \"libx264\",\n",
    "    \"-preset\", \"fast\",\n",
    "    \"-crf\", \"23\",\n",
    "    \"-y\", potentialTempFilePath\n",
    "]\n",
    "test_ffmpeg_command"
   ]
  },
  {
   "cell_type": "code",
   "execution_count": 117,
   "metadata": {},
   "outputs": [
    {
     "name": "stderr",
     "output_type": "stream",
     "text": [
      "ffmpeg version 7.1 Copyright (c) 2000-2024 the FFmpeg developers\n",
      "  built with gcc 13.3.0 (conda-forge gcc 13.3.0-1)\n",
      "  configuration: --prefix=/home/conda/feedstock_root/build_artifacts/ffmpeg_1729892860555/_h_env_placehold_placehold_placehold_placehold_placehold_placehold_placehold_placehold_placehold_placehold_placehold_placehold_placehold_placehold_placehold_placehold_placehold_placehold_plac --cc=/home/conda/feedstock_root/build_artifacts/ffmpeg_1729892860555/_build_env/bin/x86_64-conda-linux-gnu-cc --cxx=/home/conda/feedstock_root/build_artifacts/ffmpeg_1729892860555/_build_env/bin/x86_64-conda-linux-gnu-c++ --nm=/home/conda/feedstock_root/build_artifacts/ffmpeg_1729892860555/_build_env/bin/x86_64-conda-linux-gnu-nm --ar=/home/conda/feedstock_root/build_artifacts/ffmpeg_1729892860555/_build_env/bin/x86_64-conda-linux-gnu-ar --disable-doc --enable-openssl --enable-demuxer=dash --enable-hardcoded-tables --enable-libfreetype --enable-libharfbuzz --enable-libfontconfig --enable-libopenh264 --enable-libdav1d --disable-gnutls --enable-libmp3lame --enable-libvpx --enable-libass --enable-pthreads --enable-vaapi --enable-libopenvino --enable-gpl --enable-libx264 --enable-libx265 --enable-libaom --enable-libsvtav1 --enable-libxml2 --enable-pic --enable-shared --disable-static --enable-version3 --enable-zlib --enable-libopus --enable-librsvg --pkg-config=/home/conda/feedstock_root/build_artifacts/ffmpeg_1729892860555/_build_env/bin/pkg-config\n",
      "  libavutil      59. 39.100 / 59. 39.100\n",
      "  libavcodec     61. 19.100 / 61. 19.100\n",
      "  libavformat    61.  7.100 / 61.  7.100\n",
      "  libavdevice    61.  3.100 / 61.  3.100\n",
      "  libavfilter    10.  4.100 / 10.  4.100\n",
      "  libswscale      8.  3.100 /  8.  3.100\n",
      "  libswresample   5.  3.100 /  5.  3.100\n",
      "  libpostproc    58.  3.100 / 58.  3.100\n",
      "Input #0, mov,mp4,m4a,3gp,3g2,mj2, from '/home/chowder/Documents/bulkData/abhik_mobilepi_abhik_piCam-raspberryPi5-Camv3120noir_mp4_piVidCap/2025/03-16/2025-03-16T045245,000141+0000_2025-03-16T083900,000135+0000.mp4':\n",
      "  Metadata:\n",
      "    major_brand     : isom\n",
      "    minor_version   : 512\n",
      "    compatible_brands: isomiso2avc1mp41\n",
      "    encoder         : Lavf61.7.100\n",
      "  Duration: 00:00:59.97, start: 0.000000, bitrate: 127 kb/s\n",
      "  Stream #0:0[0x1](und): Video: h264 (High) (avc1 / 0x31637661), yuv420p(progressive), 640x360, 123 kb/s, 30.02 fps, 30 tbr, 1000k tbn (default)\n",
      "      Metadata:\n",
      "        handler_name    : VideoHandler\n",
      "        vendor_id       : [0][0][0][0]\n",
      "        encoder         : Lavc61.19.100 libx264\n",
      "[fc#0 @ 0x55d8440e0ac0] Filter concat:out:v0 has an unconnected output\n",
      "Error binding filtergraph inputs/outputs: Invalid argument\n"
     ]
    },
    {
     "data": {
      "text/plain": [
       "CompletedProcess(args=['ffmpeg', '-i', '/home/chowder/Documents/bulkData/abhik_mobilepi_abhik_piCam-raspberryPi5-Camv3120noir_mp4_piVidCap/2025/03-16/2025-03-16T045245,000141+0000_2025-03-16T083900,000135+0000.mp4', '-filter_complex', '[0:v]trim=start=0:end=150,setpts=PTS-STARTPTS[v0]; [0:v]trim=start=599:end=99999,setpts=PTS-STARTPTS[v1]; [v0][v1]concat=n=2:v=1[out]', '-c:v', 'libx264', '-preset', 'fast', '-crf', '23', '-y', '/home/chowder/Documents/bulkData/abhik_mobilepi_abhik_piCam-raspberryPi5-Camv3120noir_mp4_piVidCap/temp.mp4'], returncode=234)"
      ]
     },
     "execution_count": 117,
     "metadata": {},
     "output_type": "execute_result"
    }
   ],
   "source": [
    "subprocess.run(test_ffmpeg_command)"
   ]
  },
  {
   "cell_type": "code",
   "execution_count": 119,
   "metadata": {},
   "outputs": [
    {
     "data": {
      "text/plain": [
       "['ffmpeg',\n",
       " '-i',\n",
       " '/home/chowder/Documents/bulkData/abhik_mobilepi_abhik_piCam-raspberryPi5-Camv3120noir_mp4_piVidCap/2025/03-16/2025-03-16T045245,000141+0000_2025-03-16T083900,000135+0000.mp4',\n",
       " '-filter_complex',\n",
       " '[0:v]trim=start=0:end=150,setpts=PTS-STARTPTS[v0]; [0:v]trim=start=599:end=99999,setpts=PTS-STARTPTS[v1]; [v0][v1]concat=n=2:v=1[out]',\n",
       " '-map',\n",
       " '[out]',\n",
       " '-fps_mode',\n",
       " 'passthrough',\n",
       " '-c:v',\n",
       " 'libx264',\n",
       " '-preset',\n",
       " 'fast',\n",
       " '-crf',\n",
       " '23',\n",
       " '-y',\n",
       " '/home/chowder/Documents/bulkData/abhik_mobilepi_abhik_piCam-raspberryPi5-Camv3120noir_mp4_piVidCap/temp.mp4']"
      ]
     },
     "execution_count": 119,
     "metadata": {},
     "output_type": "execute_result"
    }
   ],
   "source": [
    "ffmpeg_command"
   ]
  },
  {
   "cell_type": "code",
   "execution_count": 120,
   "metadata": {},
   "outputs": [
    {
     "name": "stderr",
     "output_type": "stream",
     "text": [
      "ffmpeg version 7.1 Copyright (c) 2000-2024 the FFmpeg developers\n",
      "  built with gcc 13.3.0 (conda-forge gcc 13.3.0-1)\n",
      "  configuration: --prefix=/home/conda/feedstock_root/build_artifacts/ffmpeg_1729892860555/_h_env_placehold_placehold_placehold_placehold_placehold_placehold_placehold_placehold_placehold_placehold_placehold_placehold_placehold_placehold_placehold_placehold_placehold_placehold_plac --cc=/home/conda/feedstock_root/build_artifacts/ffmpeg_1729892860555/_build_env/bin/x86_64-conda-linux-gnu-cc --cxx=/home/conda/feedstock_root/build_artifacts/ffmpeg_1729892860555/_build_env/bin/x86_64-conda-linux-gnu-c++ --nm=/home/conda/feedstock_root/build_artifacts/ffmpeg_1729892860555/_build_env/bin/x86_64-conda-linux-gnu-nm --ar=/home/conda/feedstock_root/build_artifacts/ffmpeg_1729892860555/_build_env/bin/x86_64-conda-linux-gnu-ar --disable-doc --enable-openssl --enable-demuxer=dash --enable-hardcoded-tables --enable-libfreetype --enable-libharfbuzz --enable-libfontconfig --enable-libopenh264 --enable-libdav1d --disable-gnutls --enable-libmp3lame --enable-libvpx --enable-libass --enable-pthreads --enable-vaapi --enable-libopenvino --enable-gpl --enable-libx264 --enable-libx265 --enable-libaom --enable-libsvtav1 --enable-libxml2 --enable-pic --enable-shared --disable-static --enable-version3 --enable-zlib --enable-libopus --enable-librsvg --pkg-config=/home/conda/feedstock_root/build_artifacts/ffmpeg_1729892860555/_build_env/bin/pkg-config\n",
      "  libavutil      59. 39.100 / 59. 39.100\n",
      "  libavcodec     61. 19.100 / 61. 19.100\n",
      "  libavformat    61.  7.100 / 61.  7.100\n",
      "  libavdevice    61.  3.100 / 61.  3.100\n",
      "  libavfilter    10.  4.100 / 10.  4.100\n",
      "  libswscale      8.  3.100 /  8.  3.100\n",
      "  libswresample   5.  3.100 /  5.  3.100\n",
      "  libpostproc    58.  3.100 / 58.  3.100\n",
      "Input #0, mov,mp4,m4a,3gp,3g2,mj2, from '/home/chowder/Documents/bulkData/abhik_mobilepi_abhik_piCam-raspberryPi5-Camv3120noir_mp4_piVidCap/2025/03-16/2025-03-16T045245,000141+0000_2025-03-16T083900,000135+0000.mp4':\n",
      "  Metadata:\n",
      "    major_brand     : isom\n",
      "    minor_version   : 512\n",
      "    compatible_brands: isomiso2avc1mp41\n",
      "    encoder         : Lavf61.7.100\n",
      "  Duration: 00:00:59.97, start: 0.000000, bitrate: 127 kb/s\n",
      "  Stream #0:0[0x1](und): Video: h264 (High) (avc1 / 0x31637661), yuv420p(progressive), 640x360, 123 kb/s, 30.02 fps, 30 tbr, 1000k tbn (default)\n",
      "      Metadata:\n",
      "        handler_name    : VideoHandler\n",
      "        vendor_id       : [0][0][0][0]\n",
      "        encoder         : Lavc61.19.100 libx264\n",
      "Stream mapping:\n",
      "  Stream #0:0 (h264) -> trim:default\n",
      "  Stream #0:0 (h264) -> trim:default\n",
      "  concat:out:v0 -> Stream #0:0 (libx264)\n",
      "Press [q] to stop, [?] for help\n",
      "[libx264 @ 0x556cbce0f100] MB rate (920000000) > level limit (16711680)\n",
      "[libx264 @ 0x556cbce0f100] using cpu capabilities: MMX2 SSE2Fast SSSE3 SSE4.2 AVX FMA3 BMI2 AVX2\n",
      "[libx264 @ 0x556cbce0f100] profile High, level 6.2, 4:2:0, 8-bit\n",
      "[libx264 @ 0x556cbce0f100] 264 - core 164 r3095 baee400 - H.264/MPEG-4 AVC codec - Copyleft 2003-2022 - http://www.videolan.org/x264.html - options: cabac=1 ref=2 deblock=1:0:0 analyse=0x3:0x113 me=hex subme=6 psy=1 psy_rd=1.00:0.00 mixed_ref=1 me_range=16 chroma_me=1 trellis=1 8x8dct=1 cqm=0 deadzone=21,11 fast_pskip=1 chroma_qp_offset=-2 threads=11 lookahead_threads=1 sliced_threads=0 nr=0 decimate=1 interlaced=0 bluray_compat=0 constrained_intra=0 bframes=3 b_pyramid=2 b_adapt=1 b_bias=0 direct=1 weightb=1 open_gop=0 weightp=1 keyint=250 keyint_min=25 scenecut=40 intra_refresh=0 rc_lookahead=30 rc=crf mbtree=1 crf=23.0 qcomp=0.60 qpmin=0 qpmax=69 qpstep=4 ip_ratio=1.40 aq=1:1.00\n",
      "Output #0, mp4, to '/home/chowder/Documents/bulkData/abhik_mobilepi_abhik_piCam-raspberryPi5-Camv3120noir_mp4_piVidCap/temp.mp4':\n",
      "  Metadata:\n",
      "    major_brand     : isom\n",
      "    minor_version   : 512\n",
      "    compatible_brands: isomiso2avc1mp41\n",
      "    encoder         : Lavf61.7.100\n",
      "  Stream #0:0: Video: h264 (avc1 / 0x31637661), yuv420p(tv, progressive), 640x360, q=2-31, 1000k tbn\n",
      "      Metadata:\n",
      "        encoder         : Lavc61.19.100 libx264\n",
      "      Side data:\n",
      "        cpb: bitrate max/min/avg: 0/0/0 buffer size: 0 vbv_delay: N/A\n",
      "[out#0/mp4 @ 0x556cbce0a4c0] video:867KiB audio:0KiB subtitle:0KiB other streams:0KiB global headers:0KiB muxing overhead: 3.612199%\n",
      "frame= 1800 fps=1264 q=-1.0 Lsize=     899KiB time=00:00:59.90 bitrate= 122.9kbits/s speed=42.1x    \n",
      "[libx264 @ 0x556cbce0f100] frame I:8     Avg QP:13.78  size: 14260\n",
      "[libx264 @ 0x556cbce0f100] frame P:512   Avg QP:19.00  size:   875\n",
      "[libx264 @ 0x556cbce0f100] frame B:1280  Avg QP:24.31  size:   254\n",
      "[libx264 @ 0x556cbce0f100] consecutive B-frames:  0.8% 13.0%  0.2% 86.0%\n",
      "[libx264 @ 0x556cbce0f100] mb I  I16..4: 50.4% 28.0% 21.6%\n",
      "[libx264 @ 0x556cbce0f100] mb P  I16..4:  0.5%  2.0%  0.3%  P16..4:  9.4%  2.4%  1.0%  0.0%  0.0%    skip:84.4%\n",
      "[libx264 @ 0x556cbce0f100] mb B  I16..4:  0.2%  0.5%  0.1%  B16..8:  3.4%  0.8%  0.1%  direct: 0.7%  skip:94.3%  L0:46.5% L1:49.5% BI: 4.0%\n",
      "[libx264 @ 0x556cbce0f100] 8x8 transform intra:58.2% inter:62.9%\n",
      "[libx264 @ 0x556cbce0f100] coded y,uvDC,uvAC intra: 41.5% 44.4% 9.6% inter: 1.3% 2.2% 0.2%\n",
      "[libx264 @ 0x556cbce0f100] i16 v,h,dc,p: 55% 15% 13% 17%\n",
      "[libx264 @ 0x556cbce0f100] i8 v,h,dc,ddl,ddr,vr,hd,vl,hu: 25% 16% 26%  4%  7%  7%  6%  5%  5%\n",
      "[libx264 @ 0x556cbce0f100] i4 v,h,dc,ddl,ddr,vr,hd,vl,hu: 24% 21% 18%  5%  7%  8%  7%  6%  5%\n",
      "[libx264 @ 0x556cbce0f100] i8c dc,h,v,p: 64% 18% 17%  2%\n",
      "[libx264 @ 0x556cbce0f100] Weighted P-Frames: Y:0.2% UV:0.0%\n",
      "[libx264 @ 0x556cbce0f100] ref P L0: 76.4% 23.6%\n",
      "[libx264 @ 0x556cbce0f100] ref B L0: 80.9% 19.1%\n",
      "[libx264 @ 0x556cbce0f100] ref B L1: 96.8%  3.2%\n",
      "[libx264 @ 0x556cbce0f100] kb/s:118.32\n"
     ]
    },
    {
     "data": {
      "text/plain": [
       "CompletedProcess(args=['ffmpeg', '-i', '/home/chowder/Documents/bulkData/abhik_mobilepi_abhik_piCam-raspberryPi5-Camv3120noir_mp4_piVidCap/2025/03-16/2025-03-16T045245,000141+0000_2025-03-16T083900,000135+0000.mp4', '-filter_complex', '[0:v]trim=start=0:end=150,setpts=PTS-STARTPTS[v0]; [0:v]trim=start=599:end=99999,setpts=PTS-STARTPTS[v1]; [v0][v1]concat=n=2:v=1[out]', '-map', '[out]', '-fps_mode', 'passthrough', '-c:v', 'libx264', '-preset', 'fast', '-crf', '23', '-y', '/home/chowder/Documents/bulkData/abhik_mobilepi_abhik_piCam-raspberryPi5-Camv3120noir_mp4_piVidCap/temp.mp4'], returncode=0)"
      ]
     },
     "execution_count": 120,
     "metadata": {},
     "output_type": "execute_result"
    }
   ],
   "source": [
    "subprocess.run(ffmpeg_command)"
   ]
  },
  {
   "cell_type": "code",
   "execution_count": 90,
   "metadata": {},
   "outputs": [],
   "source": [
    "if doMv:\n",
    "    subprocess.run(mv_command)\n",
    "else:\n",
    "    subprocess.run(del_command)"
   ]
  },
  {
   "cell_type": "code",
   "execution_count": 61,
   "metadata": {},
   "outputs": [
    {
     "data": {
      "text/plain": [
       "videoIndex                                     599\n",
       "videoStartTime    2025-03-16 04:52:45.000141+00:00\n",
       "videoEndTime      2025-03-16 08:39:00.000135+00:00\n",
       "Name: 2025-03-16 04:53:44.900172+00:00, dtype: object"
      ]
     },
     "execution_count": 61,
     "metadata": {},
     "output_type": "execute_result"
    }
   ],
   "source": [
    "lastRow = grouped.get_group(groupKeys[-1]).iloc[-1]\n",
    "lastRow"
   ]
  },
  {
   "cell_type": "code",
   "execution_count": 62,
   "metadata": {},
   "outputs": [
    {
     "data": {
      "text/plain": [
       "Timestamp('2025-03-16 04:53:44.900172+0000', tz='UTC')"
      ]
     },
     "execution_count": 62,
     "metadata": {},
     "output_type": "execute_result"
    }
   ],
   "source": [
    "lastRow.name"
   ]
  },
  {
   "cell_type": "code",
   "execution_count": 63,
   "metadata": {},
   "outputs": [
    {
     "data": {
      "text/plain": [
       "Timestamp('2025-03-16 08:39:00.000135+0000', tz='UTC')"
      ]
     },
     "execution_count": 63,
     "metadata": {},
     "output_type": "execute_result"
    }
   ],
   "source": [
    "lastRow['videoEndTime']"
   ]
  },
  {
   "cell_type": "code",
   "execution_count": 65,
   "metadata": {},
   "outputs": [
    {
     "data": {
      "text/plain": [
       "False"
      ]
     },
     "execution_count": 65,
     "metadata": {},
     "output_type": "execute_result"
    }
   ],
   "source": [
    "lastCut = lastRow.name == lastRow['videoEndTime']\n",
    "lastCut"
   ]
  },
  {
   "cell_type": "code",
   "execution_count": null,
   "metadata": {},
   "outputs": [],
   "source": []
  },
  {
   "cell_type": "code",
   "execution_count": null,
   "metadata": {},
   "outputs": [],
   "source": []
  },
  {
   "cell_type": "code",
   "execution_count": 42,
   "metadata": {},
   "outputs": [
    {
     "name": "stdout",
     "output_type": "stream",
     "text": [
      "2025-03-16 04:52:45.000141+00:00\n",
      "2025-03-16 08:39:00.000135+00:00\n",
      "                                  videoIndex                   videoStartTime  \\\n",
      "sampleDT                                                                        \n",
      "2025-03-16 04:53:00.000139+00:00         150 2025-03-16 04:52:45.000141+00:00   \n",
      "2025-03-16 04:53:00.100172+00:00         151 2025-03-16 04:52:45.000141+00:00   \n",
      "2025-03-16 04:53:00.200511+00:00         152 2025-03-16 04:52:45.000141+00:00   \n",
      "2025-03-16 04:53:00.307422+00:00         153 2025-03-16 04:52:45.000141+00:00   \n",
      "2025-03-16 04:53:00.400822+00:00         154 2025-03-16 04:52:45.000141+00:00   \n",
      "...                                      ...                              ...   \n",
      "2025-03-16 04:53:44.500156+00:00         595 2025-03-16 04:52:45.000141+00:00   \n",
      "2025-03-16 04:53:44.600153+00:00         596 2025-03-16 04:52:45.000141+00:00   \n",
      "2025-03-16 04:53:44.700143+00:00         597 2025-03-16 04:52:45.000141+00:00   \n",
      "2025-03-16 04:53:44.800141+00:00         598 2025-03-16 04:52:45.000141+00:00   \n",
      "2025-03-16 04:53:44.900172+00:00         599 2025-03-16 04:52:45.000141+00:00   \n",
      "\n",
      "                                                     videoEndTime  \n",
      "sampleDT                                                           \n",
      "2025-03-16 04:53:00.000139+00:00 2025-03-16 08:39:00.000135+00:00  \n",
      "2025-03-16 04:53:00.100172+00:00 2025-03-16 08:39:00.000135+00:00  \n",
      "2025-03-16 04:53:00.200511+00:00 2025-03-16 08:39:00.000135+00:00  \n",
      "2025-03-16 04:53:00.307422+00:00 2025-03-16 08:39:00.000135+00:00  \n",
      "2025-03-16 04:53:00.400822+00:00 2025-03-16 08:39:00.000135+00:00  \n",
      "...                                                           ...  \n",
      "2025-03-16 04:53:44.500156+00:00 2025-03-16 08:39:00.000135+00:00  \n",
      "2025-03-16 04:53:44.600153+00:00 2025-03-16 08:39:00.000135+00:00  \n",
      "2025-03-16 04:53:44.700143+00:00 2025-03-16 08:39:00.000135+00:00  \n",
      "2025-03-16 04:53:44.800141+00:00 2025-03-16 08:39:00.000135+00:00  \n",
      "2025-03-16 04:53:44.900172+00:00 2025-03-16 08:39:00.000135+00:00  \n",
      "\n",
      "[450 rows x 3 columns]\n"
     ]
    }
   ],
   "source": [
    "#make the output\n",
    "# for each group\n",
    "# if it's the first group then add all the frames before the start index \n",
    "# if it's the last group add all the frames after the end index\n",
    "\n",
    "\n",
    "#but let's get our file operations solid\n",
    "\n",
    "# the only potentially relevant files are the first and the last\n",
    "# they may need to be cut up and stitched together based on the index\n",
    "# as long as that index isn't 0 ot the time isn't the end time.abs\n",
    "#then there's nothing to stitch\n",
    "\n",
    "#so a few options\n",
    "#1 boths sides need cuts\n",
    "#2 only strt is cut\n",
    "#3 only end is cut\n",
    "#4 neither need to be cut\n",
    "\n",
    "#first we can check if we want to cut the first video\n",
    "#grouped[0]\n",
    "\n",
    "for i, startTime, group in enumerate(grouped):\n",
    "    if i == 0:\n",
    "        pass\n",
    "    if i = len(grouped) - 1:\n",
    "        pass\n",
    "    #delete the video\n",
    "    print(startTime)\n",
    "    videoEndTime = group[\"videoEndTime\"].iloc[0]\n",
    "    print(group[\"videoEndTime\"].iloc[0])\n",
    "    print(group)\n",
    "close the ouput"
   ]
  },
  {
   "cell_type": "code",
   "execution_count": 41,
   "metadata": {},
   "outputs": [
    {
     "data": {
      "text/plain": [
       "1"
      ]
     },
     "execution_count": 41,
     "metadata": {},
     "output_type": "execute_result"
    }
   ],
   "source": [
    "len(grouped)"
   ]
  },
  {
   "cell_type": "code",
   "execution_count": null,
   "metadata": {},
   "outputs": [],
   "source": []
  },
  {
   "cell_type": "code",
   "execution_count": null,
   "metadata": {},
   "outputs": [],
   "source": []
  },
  {
   "cell_type": "code",
   "execution_count": null,
   "metadata": {},
   "outputs": [],
   "source": [
    "# deleteTSDfInterval(deviceDescriptor, delStartTime, delEndTime)"
   ]
  },
  {
   "cell_type": "code",
   "execution_count": null,
   "metadata": {},
   "outputs": [],
   "source": []
  },
  {
   "cell_type": "code",
   "execution_count": null,
   "metadata": {},
   "outputs": [],
   "source": []
  },
  {
   "cell_type": "code",
   "execution_count": null,
   "metadata": {},
   "outputs": [],
   "source": []
  },
  {
   "cell_type": "code",
   "execution_count": null,
   "metadata": {},
   "outputs": [],
   "source": []
  },
  {
   "cell_type": "code",
   "execution_count": 11,
   "metadata": {},
   "outputs": [],
   "source": [
    "# the process would be to generate the start and end timestamps from looking at the video\n",
    "\n",
    "# the we'd query the vidDF for the frames beteween the timestamps\n",
    "\n",
    "#then we'd group by the start and end time \n",
    "# for each group of start and end time we'd select the smallest and largest vid index\n",
    "# we'll start a new output, and the frames from every group of videos that arent in the interval\n",
    "#cut one video\n",
    "# delete each video in between\n",
    "# cut last video\n",
    "# delete the metadata from the dataframe\n",
    "# hmm there should be a delete from the df instead of just a write\n",
    "# delte tsdf interval will have the same logic as the files\n",
    "# load all the relevant dataframes, delete them, write them back"
   ]
  },
  {
   "cell_type": "code",
   "execution_count": null,
   "metadata": {},
   "outputs": [],
   "source": []
  },
  {
   "cell_type": "code",
   "execution_count": null,
   "metadata": {},
   "outputs": [],
   "source": []
  }
 ],
 "metadata": {
  "kernelspec": {
   "display_name": "vision",
   "language": "python",
   "name": "python3"
  },
  "language_info": {
   "codemirror_mode": {
    "name": "ipython",
    "version": 3
   },
   "file_extension": ".py",
   "mimetype": "text/x-python",
   "name": "python",
   "nbconvert_exporter": "python",
   "pygments_lexer": "ipython3",
   "version": "3.11.10"
  }
 },
 "nbformat": 4,
 "nbformat_minor": 2
}
