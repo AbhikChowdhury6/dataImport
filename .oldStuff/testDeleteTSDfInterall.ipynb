{
 "cells": [
  {
   "cell_type": "code",
   "execution_count": null,
   "metadata": {},
   "outputs": [],
   "source": [
    "import os\n",
    "import sys\n",
    "\n",
    "cwd = os.getcwd()\n",
    "delimiter = \"\\\\\" if \"\\\\\" in cwd else \"/\"\n",
    "repoPath = delimiter.join(cwd.split(delimiter)[:cwd.split(delimiter).index(\"dataImport\")]) + delimiter\n",
    "sys.path.append(repoPath + \"dataImport/\")\n",
    "\n",
    "\n",
    "import rwWorkingTSDf\n",
    "from rwWorkingTSDf import readWorkingTSDF, deleteTSDfInterval"
   ]
  },
  {
   "cell_type": "code",
   "execution_count": null,
   "metadata": {},
   "outputs": [],
   "source": [
    "fitbitDeviceDescriptor = [\"abhik\", \"0\", \"fitbit\", \"charge4or5\", \"hr\", \"builtin\"]\n",
    "fitbitDf = readWorkingTSDF(fitbitDeviceDescriptor)"
   ]
  },
  {
   "cell_type": "code",
   "execution_count": null,
   "metadata": {},
   "outputs": [],
   "source": [
    "print(fitbitDf.iloc[1_000_000])\n",
    "print(fitbitDf.iloc[1_000_100])\n",
    "fitbitDf.iloc[1_000_000:1_000_100]\n"
   ]
  },
  {
   "cell_type": "code",
   "execution_count": null,
   "metadata": {},
   "outputs": [],
   "source": [
    "startTime = fitbitDf.iloc[1_000_000].name\n",
    "endTime = fitbitDf.iloc[1_000_100].name\n",
    "smallerFitbitDf = readWorkingTSDF(fitbitDeviceDescriptor, None, startTime, endTime)\n",
    "smallerFitbitDf"
   ]
  },
  {
   "cell_type": "code",
   "execution_count": null,
   "metadata": {},
   "outputs": [],
   "source": [
    "startTime = fitbitDf.iloc[1_000_000].name\n",
    "endTime = fitbitDf.iloc[1_000_100].name\n",
    "smallerFitbitDf = readWorkingTSDF(fitbitDeviceDescriptor, None, startTime, endTime)\n",
    "smallerFitbitDf"
   ]
  },
  {
   "cell_type": "code",
   "execution_count": null,
   "metadata": {},
   "outputs": [],
   "source": [
    "dst = smallerFitbitDf.iloc[2].name\n",
    "det = smallerFitbitDf.iloc[97].name\n",
    "deleteTSDfInterval(fitbitDeviceDescriptor, dst, det)"
   ]
  },
  {
   "cell_type": "code",
   "execution_count": null,
   "metadata": {},
   "outputs": [],
   "source": [
    "startTime = fitbitDf.iloc[1_000_000].name\n",
    "endTime = fitbitDf.iloc[1_000_100].name\n",
    "smallerFitbitDf = readWorkingTSDF(fitbitDeviceDescriptor, None, startTime, endTime)\n",
    "smallerFitbitDf"
   ]
  }
 ],
 "metadata": {
  "kernelspec": {
   "display_name": "vision",
   "language": "python",
   "name": "python3"
  },
  "language_info": {
   "name": "python",
   "version": "3.11.10"
  }
 },
 "nbformat": 4,
 "nbformat_minor": 2
}
