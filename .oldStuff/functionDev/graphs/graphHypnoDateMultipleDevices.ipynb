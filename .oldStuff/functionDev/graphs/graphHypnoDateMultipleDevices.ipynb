{
 "cells": [
  {
   "cell_type": "code",
   "execution_count": null,
   "metadata": {},
   "outputs": [],
   "source": []
  },
  {
   "cell_type": "code",
   "execution_count": null,
   "metadata": {},
   "outputs": [],
   "source": [
    "from datetime import datetime, date, time, timedelta\n",
    "import pytz\n",
    "import matplotlib.pyplot as plt\n",
    "def graphHypnoDateMultipleDevices(hypnoDf, forDate, deviceName, cutOffTime = time(12,0,0), timezone = 'US/Arizona'):\n",
    "    graphTimeStart = pytz.timezone(timezone).localize(datetime.combine(forDate - timedelta(days=1), cutOffTime))\n",
    "    graphTimeEnd = graphTimeStart + timedelta(days=1)\n",
    "    hypnoDfForDay = hypnoDf[(hypnoDf['startDate'] < graphTimeEnd) &\n",
    "                            (hypnoDf['endDate'] > graphTimeStart)]\n",
    "\n",
    "    # print(hypnoDfForDay['startDate'].iloc[0])\n",
    "    # print(hypnoDfForDay['value'].iloc[0])\n",
    "    # print(hypnoDfForDay['endDate'].iloc[0])\n",
    "\n",
    "    values = []\n",
    "    times = []\n",
    "    for rowIndex in range(len(hypnoDfForDay)):\n",
    "        times.append(hypnoDfForDay.iloc[rowIndex]['startDate'])\n",
    "        values.append(hypnoDfForDay.iloc[rowIndex]['value'])\n",
    "        times.append(hypnoDfForDay.iloc[rowIndex]['endDate'])\n",
    "        values.append(hypnoDfForDay.iloc[rowIndex]['value'])\n",
    "\n",
    "\n",
    "\n",
    "    fig, ax = plt.subplots(figsize=(16.0, 4.0))\n",
    "\n",
    "    plt.gca().set_title(\"Sleep Stages for \" + deviceName + \" for \" + str(forDate))\n",
    "    plt.gca().set_ylim([-1.3,3.3])\n",
    "    plt.gca().set_xlim([graphTimeStart, graphTimeEnd])\n",
    "    xFormatter = plt.matplotlib.dates.DateFormatter('%H:%M', tz=pytz.timezone(timezone))\n",
    "    plt.gca().xaxis.set_major_formatter(xFormatter)\n",
    "\n",
    "\n",
    "    legend1 = ax.plot(times, values, label=deviceName, alpha=1, linewidth=1)\n",
    "\n",
    "\n",
    "    legend2 = [\n",
    "        ax.axhline(y = -1, color = 'k', linestyle = ':', linewidth=.7, label = \"No Data\"),\n",
    "        ax.axhline(y = 0, color = 'c', linestyle = ':', linewidth=.7, label = \"Awake\"),\n",
    "        ax.axhline(y = 1, color = 'm', linestyle = ':', linewidth=.7, label = \"Light\"),\n",
    "        ax.axhline(y = 2, color = 'r', linestyle = ':', linewidth=.7, label = \"Deep\"),\n",
    "        ax.axhline(y = 3, color = 'b', linestyle = ':', linewidth=.7, label = \"REM\") \n",
    "    ]\n",
    "\n",
    "    legendToAdd = ax.legend(loc=\"upper left\", handles=legend1)\n",
    "    plt.legend(loc=\"upper right\", handles=legend2[::-1])\n",
    "\n",
    "    ax.add_artist(legendToAdd)\n",
    "    plt.ylabel(\"Sleep Stage\")\n",
    "    plt.xlabel(\"Time\")\n",
    "    plt.show()"
   ]
  }
 ],
 "metadata": {
  "language_info": {
   "name": "python"
  }
 },
 "nbformat": 4,
 "nbformat_minor": 2
}
