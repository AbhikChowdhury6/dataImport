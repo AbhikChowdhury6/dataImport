{
 "cells": [
  {
   "cell_type": "code",
   "execution_count": 2,
   "metadata": {},
   "outputs": [],
   "source": [
    "import xml.etree.ElementTree as ET \n",
    "\n",
    "\n",
    "\n",
    "\n",
    "parquetName = \"appleWatchHRdf.parquet.gzip\"\n",
    "\n",
    "\n",
    "path = \"/home/chowder/Documents/personalData/Apple/\"\n",
    "exportPath = \"export/apple_health_export/\"\n",
    "\n",
    "xmlFileName = \"export.xml\"\n",
    "tree = ET.parse(path + exportPath + xmlFileName)\n",
    "\n",
    "root = tree.getroot() \n",
    "\n",
    "\n",
    "rType = \"HKQuantityTypeIdentifierHeartRate\"\n",
    "manufaturerField = \"Apple Inc.\"\n",
    "modelField = \"Watch\"\n",
    "\n",
    "\n",
    "\n"
   ]
  },
  {
   "cell_type": "code",
   "execution_count": 3,
   "metadata": {},
   "outputs": [
    {
     "name": "stdout",
     "output_type": "stream",
     "text": [
      "1183315\n"
     ]
    }
   ],
   "source": [
    "print(len(root.findall(\"./\")))"
   ]
  },
  {
   "cell_type": "code",
   "execution_count": 4,
   "metadata": {},
   "outputs": [
    {
     "name": "stdout",
     "output_type": "stream",
     "text": [
      "1182288\n"
     ]
    }
   ],
   "source": [
    "print(len(root.findall(\"./Record\")))"
   ]
  },
  {
   "cell_type": "code",
   "execution_count": 5,
   "metadata": {},
   "outputs": [
    {
     "name": "stdout",
     "output_type": "stream",
     "text": [
      "{'type': 'HKQuantityTypeIdentifierHeartRate', 'sourceName': 'Abhik’s Apple\\xa0Watch', 'sourceVersion': '7.6', 'device': '<<HKDevice: 0x303053250>, name:Apple Watch, manufacturer:Apple Inc., model:Watch, hardware:Watch6,1, software:7.6>', 'unit': 'count/min', 'creationDate': '2021-07-19 19:55:07 -0700', 'startDate': '2021-07-19 19:55:06 -0700', 'endDate': '2021-07-19 19:55:06 -0700', 'value': '78'}\n"
     ]
    }
   ],
   "source": [
    "print(root.findall(\"./Record\")[2].attrib)"
   ]
  },
  {
   "cell_type": "code",
   "execution_count": 6,
   "metadata": {},
   "outputs": [
    {
     "name": "stdout",
     "output_type": "stream",
     "text": [
      "['<<HKDevice: 0x303053250>', ' name:Apple Watch', ' manufacturer:Apple Inc.', ' model:Watch', ' hardware:Watch6', '1', ' software:7.6>']\n"
     ]
    }
   ],
   "source": [
    "print(root.findall(\"./Record\")[2].attrib[\"device\"].split(\",\"))"
   ]
  },
  {
   "cell_type": "code",
   "execution_count": 7,
   "metadata": {},
   "outputs": [
    {
     "name": "stdout",
     "output_type": "stream",
     "text": [
      "{'<<HKDevice': ' 0x303053250>', ' name': 'Apple Watch', ' manufacturer': 'Apple Inc.', ' model': 'Watch', ' hardware': 'Watch6', ' software': '7.6>'}\n"
     ]
    }
   ],
   "source": [
    "r = root.findall(\"./Record\")[2]\n",
    "dev = {x.split(\":\")[0] : x.split(\":\")[1] for x in r.attrib[\"device\"].split(\",\") if len(x.split(\":\")) == 2}\n",
    "print(dev)"
   ]
  },
  {
   "cell_type": "code",
   "execution_count": 8,
   "metadata": {},
   "outputs": [
    {
     "name": "stdout",
     "output_type": "stream",
     "text": [
      "100000\n",
      "200000\n",
      "300000\n",
      "341786\n",
      "341786\n"
     ]
    }
   ],
   "source": [
    "import pandas as pd\n",
    "\n",
    "numRecords = 0\n",
    "listRecords = []\n",
    "\n",
    "def getAppleWatchInfo(record):\n",
    "    # check if the type of record is right\n",
    "    if (record[\"type\"] == \"HKQuantityTypeIdentifierHeartRate\"):\n",
    "\n",
    "        # parse the device to a dictonary to make sure we have the right one\n",
    "        # raw text of record[\"device\"] should look like this \n",
    "        # '<<HKDevice: 0x999999999>, name:Apple Watch, manufacturer:' +\n",
    "        # 'Apple Inc., model:Watch, hardware:Watch6,1, software:7.6>'\n",
    "        device = {x.split(\":\")[0].strip() : x.split(\":\")[1] \n",
    "                  for x in record[\"device\"].split(\",\")\n",
    "                  if len(x.split(\":\")) == 2}\n",
    "\n",
    "        if(device[\"manufacturer\"] == \"Apple Inc.\" and\n",
    "           device[\"model\"] == \"Watch\"):\n",
    "           return device\n",
    "    \n",
    "    return None\n",
    "\n",
    "\n",
    "# for every element tagged Record\n",
    "for r in root.findall(\"./Record\"):\n",
    "    # the data is in the attributes \n",
    "    record = r.attrib\n",
    "    device = getAppleWatchInfo(record)\n",
    "    if device is not None:\n",
    "        numRecords += 1\n",
    "        if numRecords % 100_000 == 0: print(numRecords)\n",
    "        \n",
    "        row = [pd.to_datetime(record[\"startDate\"]),\n",
    "               device[\"hardware\"], \n",
    "               device[\"software\"][:-1], #removes a hanging '>' from the field\n",
    "               pd.to_datetime(record[\"creationDate\"]), \n",
    "               float(record[\"value\"])]\n",
    "\n",
    "        listRecords.append(row)\n",
    "\n",
    "\n",
    "print(len(listRecords))\n",
    "print(numRecords)"
   ]
  },
  {
   "cell_type": "code",
   "execution_count": 9,
   "metadata": {},
   "outputs": [
    {
     "name": "stdout",
     "output_type": "stream",
     "text": [
      "[[Timestamp('2021-07-19 19:55:06-0700', tz='pytz.FixedOffset(-420)'), 'Watch6', '7.6', Timestamp('2021-07-19 19:55:07-0700', tz='pytz.FixedOffset(-420)'), 78.0], [Timestamp('2021-07-19 19:55:11-0700', tz='pytz.FixedOffset(-420)'), 'Watch6', '7.6', Timestamp('2021-07-19 19:55:12-0700', tz='pytz.FixedOffset(-420)'), 79.0], [Timestamp('2021-07-19 19:55:14-0700', tz='pytz.FixedOffset(-420)'), 'Watch6', '7.6', Timestamp('2021-07-19 19:55:17-0700', tz='pytz.FixedOffset(-420)'), 80.0], [Timestamp('2021-07-19 19:55:21-0700', tz='pytz.FixedOffset(-420)'), 'Watch6', '7.6', Timestamp('2021-07-19 19:55:22-0700', tz='pytz.FixedOffset(-420)'), 82.0], [Timestamp('2021-07-19 19:55:23-0700', tz='pytz.FixedOffset(-420)'), 'Watch6', '7.6', Timestamp('2021-07-19 19:55:27-0700', tz='pytz.FixedOffset(-420)'), 83.0], [Timestamp('2021-07-19 19:55:30-0700', tz='pytz.FixedOffset(-420)'), 'Watch6', '7.6', Timestamp('2021-07-19 19:55:32-0700', tz='pytz.FixedOffset(-420)'), 84.0], [Timestamp('2021-07-19 19:55:34-0700', tz='pytz.FixedOffset(-420)'), 'Watch6', '7.6', Timestamp('2021-07-19 19:55:37-0700', tz='pytz.FixedOffset(-420)'), 82.0], [Timestamp('2021-07-19 19:55:41-0700', tz='pytz.FixedOffset(-420)'), 'Watch6', '7.6', Timestamp('2021-07-19 19:55:42-0700', tz='pytz.FixedOffset(-420)'), 88.0], [Timestamp('2021-07-19 19:55:46-0700', tz='pytz.FixedOffset(-420)'), 'Watch6', '7.6', Timestamp('2021-07-19 19:55:47-0700', tz='pytz.FixedOffset(-420)'), 83.0], [Timestamp('2021-07-19 19:55:49-0700', tz='pytz.FixedOffset(-420)'), 'Watch6', '7.6', Timestamp('2021-07-19 19:55:52-0700', tz='pytz.FixedOffset(-420)'), 82.0]]\n"
     ]
    }
   ],
   "source": [
    "print(listRecords[0:10])\n"
   ]
  },
  {
   "cell_type": "code",
   "execution_count": 10,
   "metadata": {},
   "outputs": [
    {
     "name": "stdout",
     "output_type": "stream",
     "text": [
      "[[Timestamp('2024-07-17 05:39:02-0700', tz='pytz.FixedOffset(-420)'), 'Watch6', '10.4', Timestamp('2024-07-17 05:44:06-0700', tz='pytz.FixedOffset(-420)'), 52.0], [Timestamp('2024-07-17 05:41:14-0700', tz='pytz.FixedOffset(-420)'), 'Watch6', '10.4', Timestamp('2024-07-17 05:49:53-0700', tz='pytz.FixedOffset(-420)'), 52.0], [Timestamp('2024-07-17 05:45:42-0700', tz='pytz.FixedOffset(-420)'), 'Watch6', '10.4', Timestamp('2024-07-17 05:50:01-0700', tz='pytz.FixedOffset(-420)'), 52.0], [Timestamp('2024-07-17 05:50:31-0700', tz='pytz.FixedOffset(-420)'), 'Watch6', '10.4', Timestamp('2024-07-17 05:59:07-0700', tz='pytz.FixedOffset(-420)'), 53.0], [Timestamp('2024-07-17 05:54:54-0700', tz='pytz.FixedOffset(-420)'), 'Watch6', '10.4', Timestamp('2024-07-17 06:06:12-0700', tz='pytz.FixedOffset(-420)'), 55.0], [Timestamp('2024-07-17 06:04:35-0700', tz='pytz.FixedOffset(-420)'), 'Watch6', '10.4', Timestamp('2024-07-17 06:06:12-0700', tz='pytz.FixedOffset(-420)'), 54.0], [Timestamp('2024-07-17 06:08:51-0700', tz='pytz.FixedOffset(-420)'), 'Watch6', '10.4', Timestamp('2024-07-17 06:10:58-0700', tz='pytz.FixedOffset(-420)'), 55.0], [Timestamp('2024-07-17 06:10:52-0700', tz='pytz.FixedOffset(-420)'), 'Watch6', '10.4', Timestamp('2024-07-17 06:24:44-0700', tz='pytz.FixedOffset(-420)'), 54.0], [Timestamp('2024-07-17 06:19:34-0700', tz='pytz.FixedOffset(-420)'), 'Watch6', '10.4', Timestamp('2024-07-17 06:24:44-0700', tz='pytz.FixedOffset(-420)'), 59.0], [Timestamp('2024-07-17 06:21:01-0700', tz='pytz.FixedOffset(-420)'), 'Watch6', '10.4', Timestamp('2024-07-17 06:25:38-0700', tz='pytz.FixedOffset(-420)'), 56.0]]\n"
     ]
    }
   ],
   "source": [
    "print(listRecords[-10:])"
   ]
  },
  {
   "cell_type": "code",
   "execution_count": 11,
   "metadata": {},
   "outputs": [],
   "source": [
    "# convert the dateTime Strings to actual dateTimes\n"
   ]
  },
  {
   "cell_type": "code",
   "execution_count": null,
   "metadata": {},
   "outputs": [],
   "source": []
  },
  {
   "cell_type": "code",
   "execution_count": 12,
   "metadata": {},
   "outputs": [],
   "source": [
    "\n",
    "ColumnNames = [\"sampleDT\", \"hardware\", \"software\", \"creationDate\", \"value\"]\n",
    "\n",
    "appleWatchHRDf = pd.DataFrame(columns=ColumnNames, data=listRecords)\n",
    "\n",
    "appleWatchHRDf = appleWatchHRDf.set_index(\"sampleDT\")\n"
   ]
  },
  {
   "cell_type": "code",
   "execution_count": 13,
   "metadata": {},
   "outputs": [
    {
     "data": {
      "text/html": [
       "<div>\n",
       "<style scoped>\n",
       "    .dataframe tbody tr th:only-of-type {\n",
       "        vertical-align: middle;\n",
       "    }\n",
       "\n",
       "    .dataframe tbody tr th {\n",
       "        vertical-align: top;\n",
       "    }\n",
       "\n",
       "    .dataframe thead th {\n",
       "        text-align: right;\n",
       "    }\n",
       "</style>\n",
       "<table border=\"1\" class=\"dataframe\">\n",
       "  <thead>\n",
       "    <tr style=\"text-align: right;\">\n",
       "      <th></th>\n",
       "      <th>hardware</th>\n",
       "      <th>software</th>\n",
       "      <th>creationDate</th>\n",
       "      <th>value</th>\n",
       "    </tr>\n",
       "    <tr>\n",
       "      <th>sampleDT</th>\n",
       "      <th></th>\n",
       "      <th></th>\n",
       "      <th></th>\n",
       "      <th></th>\n",
       "    </tr>\n",
       "  </thead>\n",
       "  <tbody>\n",
       "    <tr>\n",
       "      <th>2021-07-19 19:55:06-07:00</th>\n",
       "      <td>Watch6</td>\n",
       "      <td>7.6</td>\n",
       "      <td>2021-07-19 19:55:07-07:00</td>\n",
       "      <td>78.0</td>\n",
       "    </tr>\n",
       "    <tr>\n",
       "      <th>2021-07-19 19:55:11-07:00</th>\n",
       "      <td>Watch6</td>\n",
       "      <td>7.6</td>\n",
       "      <td>2021-07-19 19:55:12-07:00</td>\n",
       "      <td>79.0</td>\n",
       "    </tr>\n",
       "    <tr>\n",
       "      <th>2021-07-19 19:55:14-07:00</th>\n",
       "      <td>Watch6</td>\n",
       "      <td>7.6</td>\n",
       "      <td>2021-07-19 19:55:17-07:00</td>\n",
       "      <td>80.0</td>\n",
       "    </tr>\n",
       "    <tr>\n",
       "      <th>2021-07-19 19:55:21-07:00</th>\n",
       "      <td>Watch6</td>\n",
       "      <td>7.6</td>\n",
       "      <td>2021-07-19 19:55:22-07:00</td>\n",
       "      <td>82.0</td>\n",
       "    </tr>\n",
       "    <tr>\n",
       "      <th>2021-07-19 19:55:23-07:00</th>\n",
       "      <td>Watch6</td>\n",
       "      <td>7.6</td>\n",
       "      <td>2021-07-19 19:55:27-07:00</td>\n",
       "      <td>83.0</td>\n",
       "    </tr>\n",
       "    <tr>\n",
       "      <th>...</th>\n",
       "      <td>...</td>\n",
       "      <td>...</td>\n",
       "      <td>...</td>\n",
       "      <td>...</td>\n",
       "    </tr>\n",
       "    <tr>\n",
       "      <th>2024-07-17 06:04:35-07:00</th>\n",
       "      <td>Watch6</td>\n",
       "      <td>10.4</td>\n",
       "      <td>2024-07-17 06:06:12-07:00</td>\n",
       "      <td>54.0</td>\n",
       "    </tr>\n",
       "    <tr>\n",
       "      <th>2024-07-17 06:08:51-07:00</th>\n",
       "      <td>Watch6</td>\n",
       "      <td>10.4</td>\n",
       "      <td>2024-07-17 06:10:58-07:00</td>\n",
       "      <td>55.0</td>\n",
       "    </tr>\n",
       "    <tr>\n",
       "      <th>2024-07-17 06:10:52-07:00</th>\n",
       "      <td>Watch6</td>\n",
       "      <td>10.4</td>\n",
       "      <td>2024-07-17 06:24:44-07:00</td>\n",
       "      <td>54.0</td>\n",
       "    </tr>\n",
       "    <tr>\n",
       "      <th>2024-07-17 06:19:34-07:00</th>\n",
       "      <td>Watch6</td>\n",
       "      <td>10.4</td>\n",
       "      <td>2024-07-17 06:24:44-07:00</td>\n",
       "      <td>59.0</td>\n",
       "    </tr>\n",
       "    <tr>\n",
       "      <th>2024-07-17 06:21:01-07:00</th>\n",
       "      <td>Watch6</td>\n",
       "      <td>10.4</td>\n",
       "      <td>2024-07-17 06:25:38-07:00</td>\n",
       "      <td>56.0</td>\n",
       "    </tr>\n",
       "  </tbody>\n",
       "</table>\n",
       "<p>341786 rows × 4 columns</p>\n",
       "</div>"
      ],
      "text/plain": [
       "                          hardware software              creationDate  value\n",
       "sampleDT                                                                    \n",
       "2021-07-19 19:55:06-07:00   Watch6      7.6 2021-07-19 19:55:07-07:00   78.0\n",
       "2021-07-19 19:55:11-07:00   Watch6      7.6 2021-07-19 19:55:12-07:00   79.0\n",
       "2021-07-19 19:55:14-07:00   Watch6      7.6 2021-07-19 19:55:17-07:00   80.0\n",
       "2021-07-19 19:55:21-07:00   Watch6      7.6 2021-07-19 19:55:22-07:00   82.0\n",
       "2021-07-19 19:55:23-07:00   Watch6      7.6 2021-07-19 19:55:27-07:00   83.0\n",
       "...                            ...      ...                       ...    ...\n",
       "2024-07-17 06:04:35-07:00   Watch6     10.4 2024-07-17 06:06:12-07:00   54.0\n",
       "2024-07-17 06:08:51-07:00   Watch6     10.4 2024-07-17 06:10:58-07:00   55.0\n",
       "2024-07-17 06:10:52-07:00   Watch6     10.4 2024-07-17 06:24:44-07:00   54.0\n",
       "2024-07-17 06:19:34-07:00   Watch6     10.4 2024-07-17 06:24:44-07:00   59.0\n",
       "2024-07-17 06:21:01-07:00   Watch6     10.4 2024-07-17 06:25:38-07:00   56.0\n",
       "\n",
       "[341786 rows x 4 columns]"
      ]
     },
     "execution_count": 13,
     "metadata": {},
     "output_type": "execute_result"
    }
   ],
   "source": [
    "appleWatchHRDf"
   ]
  },
  {
   "cell_type": "code",
   "execution_count": 14,
   "metadata": {},
   "outputs": [
    {
     "data": {
      "text/plain": [
       "hardware                                        object\n",
       "software                                        object\n",
       "creationDate    datetime64[ns, pytz.FixedOffset(-420)]\n",
       "value                                          float64\n",
       "dtype: object"
      ]
     },
     "execution_count": 14,
     "metadata": {},
     "output_type": "execute_result"
    }
   ],
   "source": [
    "appleWatchHRDf.dtypes"
   ]
  },
  {
   "cell_type": "code",
   "execution_count": 18,
   "metadata": {},
   "outputs": [],
   "source": [
    "appleWatchHRDf.to_parquet(path + parquetName,\n",
    "              compression='gzip') "
   ]
  },
  {
   "cell_type": "code",
   "execution_count": null,
   "metadata": {},
   "outputs": [],
   "source": []
  }
 ],
 "metadata": {
  "kernelspec": {
   "display_name": "Python 3",
   "language": "python",
   "name": "python3"
  },
  "language_info": {
   "codemirror_mode": {
    "name": "ipython",
    "version": 3
   },
   "file_extension": ".py",
   "mimetype": "text/x-python",
   "name": "python",
   "nbconvert_exporter": "python",
   "pygments_lexer": "ipython3",
   "version": "3.8.10"
  }
 },
 "nbformat": 4,
 "nbformat_minor": 2
}
