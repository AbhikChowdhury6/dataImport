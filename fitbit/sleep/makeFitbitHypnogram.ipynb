{
 "cells": [
  {
   "cell_type": "code",
   "execution_count": 2,
   "metadata": {},
   "outputs": [
    {
     "name": "stdout",
     "output_type": "stream",
     "text": [
      "1.1.2\n",
      "/home/chowder/Documents/dataExports/fitbit/takeout-20240717T222555Z-001/Takeout/Fitbit/Global Export Data\n",
      "/home/chowder/Documents/personalData/fitbit/takeout-20240717T222555Z-001/Takeout/Fitbit/Global Export Data/\n"
     ]
    },
    {
     "ename": "FileNotFoundError",
     "evalue": "[Errno 2] No such file or directory: '/home/chowder/Documents/personalData/fitbit/takeout-20240717T222555Z-001/Takeout/Fitbit/Global Export Data/'",
     "output_type": "error",
     "traceback": [
      "\u001b[0;31m---------------------------------------------------------------------------\u001b[0m",
      "\u001b[0;31mFileNotFoundError\u001b[0m                         Traceback (most recent call last)",
      "Cell \u001b[0;32mIn[2], line 18\u001b[0m\n\u001b[1;32m     16\u001b[0m \u001b[38;5;28mprint\u001b[39m(\u001b[38;5;124m\"\u001b[39m\u001b[38;5;124m/home/chowder/Documents/dataExports/fitbit/takeout-20240717T222555Z-001/Takeout/Fitbit/Global Export Data\u001b[39m\u001b[38;5;124m\"\u001b[39m)\n\u001b[1;32m     17\u001b[0m \u001b[38;5;28mprint\u001b[39m(globalPath \u001b[38;5;241m+\u001b[39m exportPath)\n\u001b[0;32m---> 18\u001b[0m files \u001b[38;5;241m=\u001b[39m [f \u001b[38;5;28;01mfor\u001b[39;00m f \u001b[38;5;129;01min\u001b[39;00m \u001b[43mos\u001b[49m\u001b[38;5;241;43m.\u001b[39;49m\u001b[43mlistdir\u001b[49m\u001b[43m(\u001b[49m\u001b[43mglobalPath\u001b[49m\u001b[43m \u001b[49m\u001b[38;5;241;43m+\u001b[39;49m\u001b[43m \u001b[49m\u001b[43mexportPath\u001b[49m\u001b[43m)\u001b[49m \u001b[38;5;28;01mif\u001b[39;00m f\u001b[38;5;241m.\u001b[39msplit(\u001b[38;5;124m\"\u001b[39m\u001b[38;5;124m-\u001b[39m\u001b[38;5;124m\"\u001b[39m)[\u001b[38;5;241m0\u001b[39m] \u001b[38;5;241m==\u001b[39m \u001b[38;5;124m\"\u001b[39m\u001b[38;5;124msleep\u001b[39m\u001b[38;5;124m\"\u001b[39m]\n\u001b[1;32m     20\u001b[0m \u001b[38;5;28mprint\u001b[39m(\u001b[38;5;28mlen\u001b[39m(files))\n",
      "\u001b[0;31mFileNotFoundError\u001b[0m: [Errno 2] No such file or directory: '/home/chowder/Documents/personalData/fitbit/takeout-20240717T222555Z-001/Takeout/Fitbit/Global Export Data/'"
     ]
    }
   ],
   "source": [
    "import pandas as pd\n",
    "import datetime\n",
    "import os\n",
    "import pytz\n",
    "import json\n",
    "print(pd.__version__)\n",
    "utc = pytz.utc\n",
    "AZtz = pytz.timezone(\"US/Arizona\")\n",
    "\n",
    "parquetName = \"fitbitHypnoDf.parquet.gzip\"\n",
    "\n",
    "globalPath = \"/home/chowder/Documents/personalData/fitbit/\"\n",
    "\n",
    "exportPath = \"takeout-20240717T222555Z-001/Takeout/Fitbit/Global Export Data/\"\n",
    "\n",
    "print(\"/home/chowder/Documents/dataExports/fitbit/takeout-20240717T222555Z-001/Takeout/Fitbit/Global Export Data\")\n",
    "print(globalPath + exportPath)\n",
    "files = [f for f in os.listdir(globalPath + exportPath) if f.split(\"-\")[0] == \"sleep\"]\n",
    "\n",
    "print(len(files))"
   ]
  },
  {
   "cell_type": "code",
   "execution_count": 3,
   "metadata": {},
   "outputs": [],
   "source": [
    "def fitbitSleepStageToStandard(stageName):\n",
    "    if stageName == \"restless\":\n",
    "        return 1\n",
    "    if stageName == \"asleep\":\n",
    "        return 2\n",
    "    if stageName == \"awake\":\n",
    "        return 0\n",
    "    if stageName == \"wake\":\n",
    "        return 0\n",
    "    if stageName == \"light\":\n",
    "        return 1\n",
    "    if stageName == \"deep\":\n",
    "        return 2\n",
    "    if stageName == \"rem\":\n",
    "        return 3\n",
    "    print(stageName)\n",
    "    return -1\n"
   ]
  },
  {
   "cell_type": "code",
   "execution_count": 32,
   "metadata": {},
   "outputs": [
    {
     "name": "stdout",
     "output_type": "stream",
     "text": [
      "unknown\n",
      "44712\n"
     ]
    }
   ],
   "source": [
    "data = []\n",
    "\n",
    "for sf in files:\n",
    "  with open(globalPath + exportPath + sf) as f:\n",
    "    jsonData = json.load(f)\n",
    "  \n",
    "  for sleepSession in jsonData:\n",
    "        #print(sleepSession['levels']['data'])\n",
    "        #print(sleepSession)\n",
    "        \n",
    "        for sleepStage in sleepSession['levels']['data']:\n",
    "            row = []\n",
    "            stageTime = AZtz.localize(pd.to_datetime(sleepStage['dateTime'], format='%Y-%m-%dT%H:%M:%S.%f'))\n",
    "            row.append(stageTime)\n",
    "            row.append(stageTime + datetime.timedelta(seconds=int(sleepStage['seconds'])))\n",
    "            row.append(fitbitSleepStageToStandard(sleepStage['level']))\n",
    "            data.append(row)\n",
    "  \n",
    "print(len(data))"
   ]
  },
  {
   "cell_type": "code",
   "execution_count": 33,
   "metadata": {},
   "outputs": [
    {
     "data": {
      "text/plain": [
       "[[Timestamp('2020-05-13 13:43:00-0700', tz='US/Arizona'),\n",
       "  Timestamp('2020-05-13 13:45:00-0700', tz='US/Arizona'),\n",
       "  2],\n",
       " [Timestamp('2020-05-13 13:45:00-0700', tz='US/Arizona'),\n",
       "  Timestamp('2020-05-13 14:41:00-0700', tz='US/Arizona'),\n",
       "  3]]"
      ]
     },
     "execution_count": 33,
     "metadata": {},
     "output_type": "execute_result"
    }
   ],
   "source": [
    "data = sorted(data, key=lambda x:x[0])\n",
    "data[:2]"
   ]
  },
  {
   "cell_type": "code",
   "execution_count": 34,
   "metadata": {},
   "outputs": [
    {
     "name": "stdout",
     "output_type": "stream",
     "text": [
      "46850\n"
     ]
    }
   ],
   "source": [
    "# add in the no data segments\n",
    "filledRecords = []\n",
    "# for every row except the last\n",
    "for ri in range(len(data)-1):\n",
    "    filledRecords.append(data[ri])\n",
    "    # if there is a gap between this rows end date and the next rows start date\n",
    "    if data[ri][1] < data[ri+1][0]:\n",
    "        filledRecords.append([\n",
    "            data[ri][1],\n",
    "            data[ri+1][0],\n",
    "            -1\n",
    "        ])\n",
    "\n",
    "print(len(filledRecords))"
   ]
  },
  {
   "cell_type": "code",
   "execution_count": 50,
   "metadata": {},
   "outputs": [
    {
     "data": {
      "text/plain": [
       "{pandas._libs.tslibs.timestamps.Timestamp}"
      ]
     },
     "execution_count": 50,
     "metadata": {},
     "output_type": "execute_result"
    }
   ],
   "source": [
    "set([type(x[1]) for x in filledRecords])"
   ]
  },
  {
   "cell_type": "code",
   "execution_count": 37,
   "metadata": {},
   "outputs": [
    {
     "data": {
      "text/html": [
       "<div>\n",
       "<style scoped>\n",
       "    .dataframe tbody tr th:only-of-type {\n",
       "        vertical-align: middle;\n",
       "    }\n",
       "\n",
       "    .dataframe tbody tr th {\n",
       "        vertical-align: top;\n",
       "    }\n",
       "\n",
       "    .dataframe thead th {\n",
       "        text-align: right;\n",
       "    }\n",
       "</style>\n",
       "<table border=\"1\" class=\"dataframe\">\n",
       "  <thead>\n",
       "    <tr style=\"text-align: right;\">\n",
       "      <th></th>\n",
       "      <th>endDate</th>\n",
       "      <th>value</th>\n",
       "    </tr>\n",
       "    <tr>\n",
       "      <th>startDate</th>\n",
       "      <th></th>\n",
       "      <th></th>\n",
       "    </tr>\n",
       "  </thead>\n",
       "  <tbody>\n",
       "    <tr>\n",
       "      <th>2020-05-13 13:43:00-07:00</th>\n",
       "      <td>2020-05-13 13:45:00-07:00</td>\n",
       "      <td>2.0</td>\n",
       "    </tr>\n",
       "    <tr>\n",
       "      <th>2020-05-13 13:45:00-07:00</th>\n",
       "      <td>2020-05-13 14:41:00-07:00</td>\n",
       "      <td>3.0</td>\n",
       "    </tr>\n",
       "    <tr>\n",
       "      <th>2020-05-13 14:41:00-07:00</th>\n",
       "      <td>2020-05-13 14:42:00-07:00</td>\n",
       "      <td>2.0</td>\n",
       "    </tr>\n",
       "    <tr>\n",
       "      <th>2020-05-13 14:42:00-07:00</th>\n",
       "      <td>2020-05-13 14:43:00-07:00</td>\n",
       "      <td>3.0</td>\n",
       "    </tr>\n",
       "    <tr>\n",
       "      <th>2020-05-13 14:43:00-07:00</th>\n",
       "      <td>2020-05-14 01:21:00-07:00</td>\n",
       "      <td>-1.0</td>\n",
       "    </tr>\n",
       "    <tr>\n",
       "      <th>...</th>\n",
       "      <td>...</td>\n",
       "      <td>...</td>\n",
       "    </tr>\n",
       "    <tr>\n",
       "      <th>2024-07-17 06:26:30-07:00</th>\n",
       "      <td>2024-07-17 07:51:30-07:00</td>\n",
       "      <td>2.0</td>\n",
       "    </tr>\n",
       "    <tr>\n",
       "      <th>2024-07-17 07:51:30-07:00</th>\n",
       "      <td>2024-07-17 07:55:30-07:00</td>\n",
       "      <td>0.0</td>\n",
       "    </tr>\n",
       "    <tr>\n",
       "      <th>2024-07-17 07:55:30-07:00</th>\n",
       "      <td>2024-07-17 08:22:00-07:00</td>\n",
       "      <td>2.0</td>\n",
       "    </tr>\n",
       "    <tr>\n",
       "      <th>2024-07-17 08:22:00-07:00</th>\n",
       "      <td>2024-07-17 08:42:30-07:00</td>\n",
       "      <td>4.0</td>\n",
       "    </tr>\n",
       "    <tr>\n",
       "      <th>2024-07-17 08:42:30-07:00</th>\n",
       "      <td>2024-07-17 08:44:30-07:00</td>\n",
       "      <td>2.0</td>\n",
       "    </tr>\n",
       "  </tbody>\n",
       "</table>\n",
       "<p>46850 rows × 2 columns</p>\n",
       "</div>"
      ],
      "text/plain": [
       "                                            endDate  value\n",
       "startDate                                                 \n",
       "2020-05-13 13:43:00-07:00 2020-05-13 13:45:00-07:00    2.0\n",
       "2020-05-13 13:45:00-07:00 2020-05-13 14:41:00-07:00    3.0\n",
       "2020-05-13 14:41:00-07:00 2020-05-13 14:42:00-07:00    2.0\n",
       "2020-05-13 14:42:00-07:00 2020-05-13 14:43:00-07:00    3.0\n",
       "2020-05-13 14:43:00-07:00 2020-05-14 01:21:00-07:00   -1.0\n",
       "...                                             ...    ...\n",
       "2024-07-17 06:26:30-07:00 2024-07-17 07:51:30-07:00    2.0\n",
       "2024-07-17 07:51:30-07:00 2024-07-17 07:55:30-07:00    0.0\n",
       "2024-07-17 07:55:30-07:00 2024-07-17 08:22:00-07:00    2.0\n",
       "2024-07-17 08:22:00-07:00 2024-07-17 08:42:30-07:00    4.0\n",
       "2024-07-17 08:42:30-07:00 2024-07-17 08:44:30-07:00    2.0\n",
       "\n",
       "[46850 rows x 2 columns]"
      ]
     },
     "execution_count": 37,
     "metadata": {},
     "output_type": "execute_result"
    }
   ],
   "source": [
    "ColumnNames = [\"startDate\", \"endDate\", \"value\"]\n",
    "\n",
    "\n",
    "fitBitHypnoDf = pd.DataFrame(columns=ColumnNames, data=filledRecords)\n",
    "\n",
    "fitBitHypnoDf = fitBitHypnoDf.set_index(\"startDate\")\n",
    "fitBitHypnoDf"
   ]
  },
  {
   "cell_type": "code",
   "execution_count": 39,
   "metadata": {},
   "outputs": [
    {
     "data": {
      "text/plain": [
       "endDate    datetime64[ns, US/Arizona]\n",
       "value                         float64\n",
       "dtype: object"
      ]
     },
     "execution_count": 39,
     "metadata": {},
     "output_type": "execute_result"
    }
   ],
   "source": [
    "fitBitHypnoDf.dtypes"
   ]
  },
  {
   "cell_type": "code",
   "execution_count": 49,
   "metadata": {},
   "outputs": [],
   "source": [
    "fitBitHypnoDf.to_parquet(globalPath + parquetName,\n",
    "              compression='gzip') "
   ]
  },
  {
   "cell_type": "code",
   "execution_count": null,
   "metadata": {},
   "outputs": [],
   "source": []
  }
 ],
 "metadata": {
  "kernelspec": {
   "display_name": "Python 3",
   "language": "python",
   "name": "python3"
  },
  "language_info": {
   "codemirror_mode": {
    "name": "ipython",
    "version": 3
   },
   "file_extension": ".py",
   "mimetype": "text/x-python",
   "name": "python",
   "nbconvert_exporter": "python",
   "pygments_lexer": "ipython3",
   "version": "3.8.10"
  }
 },
 "nbformat": 4,
 "nbformat_minor": 2
}
