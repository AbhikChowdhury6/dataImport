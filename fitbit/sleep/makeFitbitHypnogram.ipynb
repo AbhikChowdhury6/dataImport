{
 "cells": [
  {
   "cell_type": "code",
   "execution_count": 8,
   "metadata": {},
   "outputs": [
    {
     "name": "stdout",
     "output_type": "stream",
     "text": [
      "1.1.2\n",
      "51\n"
     ]
    }
   ],
   "source": [
    "import pandas as pd\n",
    "import datetime\n",
    "import os\n",
    "import pytz\n",
    "import json\n",
    "print(pd.__version__)\n",
    "utc = pytz.utc\n",
    "AZtz = pytz.timezone(\"US/Arizona\")\n",
    "\n",
    "dataFileColumns = [\"timestamp\", \"stage\", \"endTimestamp\"]\n",
    "outputFileName = \"fitbitSleepStages.parquet.gzip\"\n",
    "\n",
    "globalPath = \"/home/chowder/Documents/personalData/fitbit/takeout-20240717T222555Z-001/Takeout/Fitbit/Global Export Data/\"\n",
    "\n",
    "# globalPath = \"/home/chowder/\"\n",
    "\n",
    "files = [f for f in os.listdir(globalPath) if f.split(\"-\")[0] == \"sleep\"]\n",
    "\n",
    "print(len(files))"
   ]
  },
  {
   "cell_type": "code",
   "execution_count": 9,
   "metadata": {},
   "outputs": [
    {
     "data": {
      "text/plain": [
       "['sleep-2020-06-11.json',\n",
       " 'sleep-2023-08-25.json',\n",
       " 'sleep-2024-04-21.json',\n",
       " 'sleep-2023-11-23.json',\n",
       " 'sleep-2022-07-31.json',\n",
       " 'sleep-2020-05-12.json',\n",
       " 'sleep-2022-02-01.json',\n",
       " 'sleep-2021-09-04.json',\n",
       " 'sleep-2024-01-22.json',\n",
       " 'sleep-2021-04-07.json',\n",
       " 'sleep-2023-02-26.json',\n",
       " 'sleep-2022-12-28.json',\n",
       " 'sleep-2021-02-06.json',\n",
       " 'sleep-2022-07-01.json',\n",
       " 'sleep-2021-10-04.json',\n",
       " 'sleep-2020-08-10.json',\n",
       " 'sleep-2023-12-23.json',\n",
       " 'sleep-2024-03-22.json',\n",
       " 'sleep-2022-11-28.json',\n",
       " 'sleep-2024-02-21.json',\n",
       " 'sleep-2022-03-03.json',\n",
       " 'sleep-2023-06-26.json',\n",
       " 'sleep-2023-03-28.json',\n",
       " 'sleep-2023-05-27.json',\n",
       " 'sleep-2023-04-27.json',\n",
       " 'sleep-2020-11-08.json',\n",
       " 'sleep-2021-07-06.json',\n",
       " 'sleep-2021-05-07.json',\n",
       " 'sleep-2023-07-26.json',\n",
       " 'sleep-2020-09-09.json',\n",
       " 'sleep-2022-10-29.json',\n",
       " 'sleep-2023-01-27.json',\n",
       " 'sleep-2020-10-09.json',\n",
       " 'sleep-2020-12-08.json',\n",
       " 'sleep-2021-01-07.json',\n",
       " 'sleep-2022-04-02.json',\n",
       " 'sleep-2022-09-29.json',\n",
       " 'sleep-2021-11-03.json',\n",
       " 'sleep-2021-03-08.json',\n",
       " 'sleep-2023-10-24.json',\n",
       " 'sleep-2022-01-02.json',\n",
       " 'sleep-2022-06-01.json',\n",
       " 'sleep-2021-08-05.json',\n",
       " 'sleep-2021-12-03.json',\n",
       " 'sleep-2023-09-24.json',\n",
       " 'sleep-2022-05-02.json',\n",
       " 'sleep-2020-07-11.json',\n",
       " 'sleep-2024-06-20.json',\n",
       " 'sleep-2022-08-30.json',\n",
       " 'sleep-2024-05-21.json',\n",
       " 'sleep-2021-06-06.json']"
      ]
     },
     "execution_count": 9,
     "metadata": {},
     "output_type": "execute_result"
    }
   ],
   "source": [
    "for sf in files:\n",
    "  with open(globalPath + sf) as f:\n",
    "    jsonData = json.load(f)\n",
    "    "
   ]
  },
  {
   "cell_type": "code",
   "execution_count": null,
   "metadata": {},
   "outputs": [],
   "source": []
  },
  {
   "cell_type": "code",
   "execution_count": null,
   "metadata": {},
   "outputs": [],
   "source": []
  }
 ],
 "metadata": {
  "kernelspec": {
   "display_name": "Python 3",
   "language": "python",
   "name": "python3"
  },
  "language_info": {
   "codemirror_mode": {
    "name": "ipython",
    "version": 3
   },
   "file_extension": ".py",
   "mimetype": "text/x-python",
   "name": "python",
   "nbconvert_exporter": "python",
   "pygments_lexer": "ipython3",
   "version": "3.8.10"
  }
 },
 "nbformat": 4,
 "nbformat_minor": 2
}
