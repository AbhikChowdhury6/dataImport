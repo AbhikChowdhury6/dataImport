{
 "cells": [
  {
   "cell_type": "code",
   "execution_count": 1,
   "metadata": {},
   "outputs": [],
   "source": [
    "# to make the export go to the fitbit app, click on your icon, and order a google takeout \n",
    "# took like 8 hours the last time"
   ]
  },
  {
   "cell_type": "code",
   "execution_count": 1,
   "metadata": {},
   "outputs": [
    {
     "name": "stderr",
     "output_type": "stream",
     "text": [
      "/home/chowder/anaconda3/lib/python3.8/site-packages/pandas/core/computation/expressions.py:20: UserWarning: Pandas requires version '2.7.3' or newer of 'numexpr' (version '2.7.1' currently installed).\n",
      "  from pandas.core.computation.check import NUMEXPR_INSTALLED\n"
     ]
    }
   ],
   "source": [
    "import os\n",
    "import sys\n",
    "def getRepoPath():\n",
    "    cwd = os.getcwd()\n",
    "    delimiter = \"\\\\\" if \"\\\\\" in cwd else \"/\"\n",
    "    repoPath = delimiter.join(cwd.split(delimiter)[:cwd.split(delimiter).index(\"dataImport\")+1]) + delimiter\n",
    "    return repoPath\n",
    "repoPath = getRepoPath()\n",
    "sys.path.append(repoPath)\n",
    "from utils import exportsDataPath, workingDataPath, writeWorkingHRDfParquet\n",
    "\n",
    "import pandas as pd\n",
    "\n",
    "fitbitHRWorkingDataPath = workingDataPath + 'fitbit/hr/'\n",
    "\n",
    "# Get the list of all files and directories\n",
    "exportFilePath = exportsDataPath + \"fitbit/17-9-24/takeout-20240917T195619Z-001/Takeout/Fitbit/Global Export Data/\"\n",
    "dir_list = os.listdir(exportFilePath)\n"
   ]
  },
  {
   "cell_type": "code",
   "execution_count": 2,
   "metadata": {},
   "outputs": [],
   "source": [
    "# read in the existing files and make the existing df\n",
    "workingDataFiles = os.listdir(fitbitHRWorkingDataPath)\n",
    "columnNames = [\"sampleDT\", \"confidence\", \"value\"]\n",
    "dfSoFar = pd.DataFrame(columns=columnNames).set_index(\"sampleDT\")"
   ]
  },
  {
   "cell_type": "code",
   "execution_count": 3,
   "metadata": {},
   "outputs": [
    {
     "name": "stdout",
     "output_type": "stream",
     "text": [
      "read in 7000000 rows from 38 files\n"
     ]
    }
   ],
   "source": [
    "for dataFileName in workingDataFiles:\n",
    "    dfSoFar = pd.concat([dfSoFar, pd.read_parquet(fitbitHRWorkingDataPath + dataFileName)]) \n",
    "\n",
    "dfSoFar = dfSoFar[~dfSoFar.index.duplicated(keep=\"first\")].sort_index()\n",
    "\n",
    "print(f\"read in {len(dfSoFar)} rows from {len(workingDataFiles)} files\")"
   ]
  },
  {
   "cell_type": "code",
   "execution_count": 4,
   "metadata": {},
   "outputs": [
    {
     "name": "stdout",
     "output_type": "stream",
     "text": [
      "2023-07-29\n"
     ]
    }
   ],
   "source": [
    "# get a list of unique dates in the index\n",
    "#   removing the latest 3 days since they might be incomplete\n",
    "if len(dfSoFar) > 0:\n",
    "    datesSoFar = sorted(list(set(dfSoFar.index.date)))[:-3]\n",
    "    print(datesSoFar[-1])\n",
    "    hrFilenames = [x for x in dir_list if x.split(\"-\")[0] == \"heart_rate\"]\n",
    "    hrFilenames = [x for x in hrFilenames if pd.to_datetime(x[11:-5]).date() not in datesSoFar]\n",
    "else:\n",
    "    hrFilenames = [x for x in dir_list if x.split(\"-\")[0] == \"heart_rate\"]"
   ]
  },
  {
   "cell_type": "code",
   "execution_count": 5,
   "metadata": {},
   "outputs": [
    {
     "name": "stdout",
     "output_type": "stream",
     "text": [
      "added 1000000 samples so far\n",
      "added 2000000 samples so far\n",
      "added 3000000 samples so far\n",
      "added 4000000 samples so far\n",
      "added 5000000 samples so far\n",
      "added 6000000 samples so far\n",
      "added 7000000 samples so far\n",
      "added 8000000 samples so far\n",
      "added 9000000 samples so far\n",
      "added 9084269 samples\n"
     ]
    }
   ],
   "source": [
    "#takes like 50 seconds to make 16 million rows\n",
    "import json\n",
    "import pytz\n",
    "from datetime import datetime\n",
    "\n",
    "def to_iso(s):\n",
    "    return '20' + s[6:8] + '-' + s[0:2] + '-' + s[3:5] + s[8:]\n",
    "\n",
    "samplesCount = 0\n",
    "samplesList = []\n",
    "for fn in hrFilenames:\n",
    "    data = json.load(open(exportFilePath + fn))\n",
    "    for row in data:\n",
    "        sampleDT = datetime.fromisoformat(to_iso(row[\"dateTime\"]))\n",
    "        samplesList.append([sampleDT, \n",
    "                            row[\"value\"][\"confidence\"], \n",
    "                            row[\"value\"][\"bpm\"]])\n",
    "        samplesCount += 1\n",
    "        if samplesCount % 1_000_000 == 0:\n",
    "            print(f\"added {samplesCount} samples so far\")\n",
    "print(f\"added {samplesCount} samples\")"
   ]
  },
  {
   "cell_type": "code",
   "execution_count": 6,
   "metadata": {},
   "outputs": [
    {
     "data": {
      "text/plain": [
       "confidence    uint8\n",
       "value         uint8\n",
       "dtype: object"
      ]
     },
     "execution_count": 6,
     "metadata": {},
     "output_type": "execute_result"
    }
   ],
   "source": [
    "import pandas as pd\n",
    "\n",
    "columnNames = [\"sampleDT\", \"confidence\", \"value\"]\n",
    "samplesList = sorted(samplesList, key=lambda x: x[0]) #sort by timestamp\n",
    "\n",
    "fitbitHRdf = pd.DataFrame(data=samplesList, columns=columnNames)\n",
    "fitbitHRdf = fitbitHRdf.set_index(\"sampleDT\")\n",
    "fitbitHRdf.index = fitbitHRdf.index.tz_localize('UTC')\n",
    "\n",
    "fitbitHRdf.index = fitbitHRdf.index.tz_convert(\"US/Arizona\")\n",
    "\n",
    "fitbitHRdf[\"confidence\"] = fitbitHRdf[\"confidence\"].astype('uint8')\n",
    "fitbitHRdf[\"value\"] = fitbitHRdf[\"value\"].astype('uint8')\n",
    "fitbitHRdf.dtypes"
   ]
  },
  {
   "cell_type": "code",
   "execution_count": 7,
   "metadata": {},
   "outputs": [],
   "source": [
    "# concatenate the df's\n",
    "# remove duplicate indexes\n",
    "fitbitHRdf = pd.concat([dfSoFar, fitbitHRdf])\n",
    "fitbitHRdf = fitbitHRdf[~fitbitHRdf.index.duplicated(keep=\"first\")].sort_index()"
   ]
  },
  {
   "cell_type": "code",
   "execution_count": null,
   "metadata": {},
   "outputs": [],
   "source": []
  },
  {
   "cell_type": "code",
   "execution_count": null,
   "metadata": {},
   "outputs": [],
   "source": [
    "#new fileNames = <start timestamp>_<end timestamp>_<8 hex hash>_.parquet.gzip"
   ]
  },
  {
   "cell_type": "code",
   "execution_count": null,
   "metadata": {},
   "outputs": [],
   "source": [
    "import hashlib\n",
    "import pickle\n",
    "\n",
    "# Function to compute a short hash of a Python object\n",
    "def short_hash(obj, length=8):\n",
    "    # Serialize the object using pickle\n",
    "    obj_bytes = pickle.dumps(obj)\n",
    "    \n",
    "    # Compute MD5 hash of the serialized object\n",
    "    hash_obj = hashlib.md5(obj_bytes)\n",
    "    \n",
    "    # Return the hash truncated to the specified length\n",
    "    return hash_obj.hexdigest()[:length]"
   ]
  },
  {
   "cell_type": "code",
   "execution_count": 45,
   "metadata": {},
   "outputs": [],
   "source": [
    "def writeToFileName(fileName, HRDf, interval, minRowsPerFile):\n",
    "    if(short_hash(HRDf[starttime:endtime].values) != fileName.split('_')[2]):\n",
    "        #combine, sort and deduplicate\n",
    "        dftoWrite = pd.concat([HRDf[starttime:endtime], pd.read_parquet(fitbitHRWorkingDataPath + dataFileName)]) \n",
    "        dftoWrite = dftoWrite[~dftoWrite.index.duplicated(keep=\"first\")].sort_index()\n",
    "\n",
    "        #combine the\n",
    "\n"
   ]
  },
  {
   "cell_type": "code",
   "execution_count": null,
   "metadata": {},
   "outputs": [],
   "source": [
    "#segmenting a big portion\n",
    "# cut off half max length segments untill the last one\n",
    "\n",
    "import math\n",
    "def writeWorkingHRDfParquet(deviceName, HRDf, clearFiles = True):\n",
    "    # first check if there are any files already there\n",
    "    fileNames = sorted(os.listdir(workingDataHRPath))\n",
    "    # what are those file names and what ranges do they cover\n",
    "    firstFilesEndtime = pd.to_datetime(fileNames[0].split('_')[1])\n",
    "    intersectionDF = HRDf[HRDf.index[0]:filesStarttime]\n",
    "\n",
    "    chunkToWrite(HRDf)\n",
    "\n",
    "\n",
    "    filesToadd = []\n",
    "    #add all the rows it can to the existing file range\n",
    "    for fNumber, fName in enumerate(fileNames):\n",
    "        startTime = pd.to_datetime(fName.split('_')[0])\n",
    "        endTime = pd.to_datetime(fName.split('_')[1])\n",
    "        intersectionDF = HRDf[startTime:endTime]\n",
    "        if len(intersectionDF) > 0:\n",
    "            pass\n",
    "    \n",
    "    # fill in the gaps by incorporating them into the previous file, exept for the first one\n",
    "\n",
    "\n",
    "    # calculate the dataframe to save based on that interval and calc hash\n",
    "    # read the interval file and calc hash\n",
    "    # if the hashes are the same then remove that interval from the HRDf\n",
    "        # but also make sure we don't make a file that encompasses the other one\n",
    "    \n",
    "    # we can go in chronological order for the files\n",
    "    # for any files bedfore the start of the Df, pop those files off\n",
    "    # for any samples before the existing files, merge them into the first file and segment\n",
    "    # for each file, check that there are no gaps from the last file\n",
    "\n",
    "    # for each file merge prevous data since last file and split, merge last split into a bigger file\n",
    "\n",
    "    pass"
   ]
  },
  {
   "cell_type": "code",
   "execution_count": null,
   "metadata": {},
   "outputs": [],
   "source": [
    "getRowsPerFile(fileName = None, targetFileSize = 2 * 1024 * 1024)"
   ]
  },
  {
   "cell_type": "code",
   "execution_count": null,
   "metadata": {},
   "outputs": [],
   "source": [
    "def writeWorkingHRDfParquet(deviceName, HRDf, clearFiles = True):\n",
    "    # let's just start with if files\n",
    "    fileNames = sorted(os.listdir(workingDataHRPath))\n",
    "\n",
    "    #get the size and rows of the first file to calculate the \n",
    "\n",
    "    for fileNum, fileName in fileNames:\n",
    "        if fileNum == 0:\n",
    "            startTime = HRDf.index[0]\n",
    "        else:\n",
    "            startTime = pd.to_datetime(fileName.split('_')[0])\n",
    "        \n",
    "        if len(fileNames) == 1 or fileNum == len(fileNames) - 1:\n",
    "            endTime = HRDf.index[-1]\n",
    "        else:\n",
    "            endTime = pd.to_datetime(fileNames[fileNum + 1].split('_')[0])\n",
    "\n",
    "        if shortHash(HRDf[startTime:endTime].values) != fileName.split('_')[2]:\n",
    "            saveRows(HRDf[startTime:endTime])\n",
    "\n",
    "\n",
    "                \n",
    "            \n",
    "        \n",
    "        \n",
    "                \n",
    "\n"
   ]
  },
  {
   "cell_type": "code",
   "execution_count": null,
   "metadata": {},
   "outputs": [],
   "source": []
  },
  {
   "cell_type": "code",
   "execution_count": null,
   "metadata": {},
   "outputs": [],
   "source": []
  },
  {
   "cell_type": "code",
   "execution_count": null,
   "metadata": {},
   "outputs": [],
   "source": []
  },
  {
   "cell_type": "code",
   "execution_count": null,
   "metadata": {},
   "outputs": [],
   "source": []
  },
  {
   "cell_type": "code",
   "execution_count": 8,
   "metadata": {},
   "outputs": [
    {
     "name": "stdout",
     "output_type": "stream",
     "text": [
      "a million rows took up 2.7354907989501953 MB\n",
      "putting 365565 rows per file\n",
      "2021-08-12T042809-0700_2021-08-12T042809-0700.parquet.gzip\n",
      "0\n",
      "the start row and parsed time is 0 2021-08-12 04:28:09-07:00\n",
      "the time of the start row is 2021-08-12 08:41:48-07:00\n",
      "the end row and  parsed  time is 0 2021-08-12 04:28:09-07:00\n",
      "the time of the end row is 2021-08-12 08:41:48-07:00\n",
      "saving rows 0 to 0\n",
      "to a file named 2021-08-12T084148-0700_2021-08-12T084148-0700.parquet.gzip\n",
      "2021-08-12T042809-0700_2021-08-22T211118-0700.parquet.gzip\n",
      "1\n",
      "the start row and parsed time is 0 2021-08-12 04:28:09-07:00\n",
      "the time of the start row is 2021-08-12 08:41:48-07:00\n",
      "the end row and  parsed  time is 114139 2021-08-22 21:11:18-07:00\n",
      "the time of the end row is 2021-08-22 21:11:23-07:00\n",
      "saving rows 0 to 114139\n",
      "to a file named 2021-08-12T084148-0700_2021-08-22T211123-0700.parquet.gzip\n",
      "2021-08-12T042820-0700_2021-09-14T203957-0700.parquet.gzip\n",
      "2\n",
      "the start row and parsed time is 0 2021-08-12 04:28:20-07:00\n",
      "the time of the start row is 2021-08-12 08:41:48-07:00\n",
      "the end row and  parsed  time is 363570 2021-09-14 20:39:57-07:00\n",
      "the time of the end row is 2021-09-14 20:40:02-07:00\n",
      "saving rows 0 to 363570\n",
      "to a file named 2021-08-12T084148-0700_2021-09-14T204002-0700.parquet.gzip\n",
      "2021-08-22T211118-0700_2021-09-25T095710-0700.parquet.gzip\n",
      "3\n",
      "the start row and parsed time is 114139 2021-08-22 21:11:18-07:00\n",
      "the time of the start row is 2021-08-22 21:11:23-07:00\n",
      "the end row and  parsed  time is 479575 2021-09-25 09:57:10-07:00\n",
      "the time of the end row is 2021-09-25 09:57:20-07:00\n",
      "saving rows 114139 to 479575\n",
      "to a file named 2021-08-22T211123-0700_2021-09-25T095720-0700.parquet.gzip\n",
      "2021-09-14T204002-0700_2021-10-18T083845-0700.parquet.gzip\n",
      "4\n",
      "the start row and parsed time is 363571 2021-09-14 20:40:02-07:00\n",
      "the time of the start row is 2021-09-14 20:40:17-07:00\n",
      "the end row and  parsed  time is 729105 2021-10-18 08:38:45-07:00\n",
      "the time of the end row is 2021-10-18 08:38:50-07:00\n",
      "saving rows 363571 to 729105\n",
      "to a file named 2021-09-14T204017-0700_2021-10-18T083850-0700.parquet.gzip\n",
      "2021-09-25T095710-0700_2021-10-29T180144-0700.parquet.gzip\n",
      "5\n",
      "the start row and parsed time is 479575 2021-09-25 09:57:10-07:00\n",
      "the time of the start row is 2021-09-25 09:57:20-07:00\n",
      "the end row and  parsed  time is 845011 2021-10-29 18:01:44-07:00\n",
      "the time of the end row is 2021-10-29 18:01:59-07:00\n",
      "saving rows 479575 to 845011\n",
      "to a file named 2021-09-25T095720-0700_2021-10-29T180159-0700.parquet.gzip\n",
      "2021-10-18T083850-0700_2021-11-23T085327-0700.parquet.gzip\n",
      "6\n",
      "the start row and parsed time is 729106 2021-10-18 08:38:50-07:00\n",
      "the time of the start row is 2021-10-18 08:38:55-07:00\n",
      "the end row and  parsed  time is 1094640 2021-11-23 08:53:27-07:00\n",
      "the time of the end row is 2021-11-23 08:53:32-07:00\n",
      "saving rows 729106 to 1094640\n",
      "to a file named 2021-10-18T083855-0700_2021-11-23T085332-0700.parquet.gzip\n",
      "2021-10-29T180144-0700_2021-12-07T041326-0700.parquet.gzip\n",
      "7\n",
      "the start row and parsed time is 845011 2021-10-29 18:01:44-07:00\n",
      "the time of the start row is 2021-10-29 18:01:59-07:00\n",
      "the end row and  parsed  time is 1210447 2021-12-07 04:13:26-07:00\n",
      "the time of the end row is 2021-12-07 04:13:31-07:00\n",
      "saving rows 845011 to 1210447\n",
      "to a file named 2021-10-29T180159-0700_2021-12-07T041331-0700.parquet.gzip\n",
      "2021-11-23T085332-0700_2022-01-04T094807-0700.parquet.gzip\n",
      "8\n",
      "the start row and parsed time is 1094641 2021-11-23 08:53:32-07:00\n",
      "the time of the start row is 2021-11-23 08:53:42-07:00\n",
      "the end row and  parsed  time is 1460175 2022-01-04 09:48:07-07:00\n",
      "the time of the end row is 2022-01-04 09:48:17-07:00\n",
      "saving rows 1094641 to 1460175\n",
      "to a file named 2021-11-23T085342-0700_2022-01-04T094817-0700.parquet.gzip\n",
      "2021-12-07T041326-0700_2022-02-13T113329-0700.parquet.gzip\n",
      "9\n",
      "the start row and parsed time is 1210447 2021-12-07 04:13:26-07:00\n",
      "the time of the start row is 2021-12-07 04:13:31-07:00\n",
      "the end row and  parsed  time is 1825710 2022-02-13 11:33:29-07:00\n",
      "the time of the end row is 2022-02-13 11:33:34-07:00\n",
      "saving rows 1210447 to 1825710\n",
      "to a file named 2021-12-07T041331-0700_2022-02-13T113334-0700.parquet.gzip\n",
      "2022-02-13T113334-0700_2022-03-19T051957-0700.parquet.gzip\n",
      "10\n",
      "the start row and parsed time is 1825711 2022-02-13 11:33:34-07:00\n",
      "the time of the start row is 2022-02-13 11:33:39-07:00\n",
      "the end row and  parsed  time is 2191245 2022-03-19 05:19:57-07:00\n",
      "the time of the end row is 2022-03-19 05:20:12-07:00\n",
      "saving rows 1825711 to 2191245\n",
      "to a file named 2022-02-13T113339-0700_2022-03-19T052012-0700.parquet.gzip\n",
      "2022-03-19T052012-0700_2022-04-27T215536-0700.parquet.gzip\n",
      "11\n",
      "the start row and parsed time is 2191246 2022-03-19 05:20:12-07:00\n",
      "the time of the start row is 2022-03-19 05:20:17-07:00\n",
      "the end row and  parsed  time is 2556682 2022-04-27 21:55:36-07:00\n",
      "the time of the end row is 2022-04-27 21:55:41-07:00\n",
      "saving rows 2191246 to 2556682\n",
      "to a file named 2022-03-19T052017-0700_2022-04-27T215541-0700.parquet.gzip\n",
      "2022-04-27T215536-0700_2022-06-02T014358-0700.parquet.gzip\n",
      "12\n",
      "the start row and parsed time is 2556682 2022-04-27 21:55:36-07:00\n",
      "the time of the start row is 2022-04-27 21:55:41-07:00\n",
      "the end row and  parsed  time is 2922118 2022-06-02 01:43:58-07:00\n",
      "the time of the end row is 2022-06-02 01:44:03-07:00\n",
      "saving rows 2556682 to 2922118\n",
      "to a file named 2022-04-27T215541-0700_2022-06-02T014403-0700.parquet.gzip\n",
      "2022-04-27T220914-0700_2022-06-02T021003-0700.parquet.gzip\n",
      "13\n",
      "the start row and parsed time is 2556781 2022-04-27 22:09:14-07:00\n",
      "the time of the start row is 2022-04-27 22:09:24-07:00\n",
      "the end row and  parsed  time is 2922315 2022-06-02 02:10:03-07:00\n",
      "the time of the end row is 2022-06-02 02:10:08-07:00\n",
      "saving rows 2556781 to 2922315\n",
      "to a file named 2022-04-27T220924-0700_2022-06-02T021008-0700.parquet.gzip\n",
      "2022-06-02T014358-0700_2022-07-07T194255-0700.parquet.gzip\n",
      "14\n",
      "the start row and parsed time is 2922118 2022-06-02 01:43:58-07:00\n",
      "the time of the start row is 2022-06-02 01:44:03-07:00\n",
      "the end row and  parsed  time is 3287554 2022-07-07 19:42:55-07:00\n",
      "the time of the end row is 2022-07-07 19:43:00-07:00\n",
      "saving rows 2922118 to 3287554\n",
      "to a file named 2022-06-02T014403-0700_2022-07-07T194300-0700.parquet.gzip\n",
      "2022-06-02T021008-0700_2022-07-07T201510-0700.parquet.gzip\n",
      "15\n",
      "the start row and parsed time is 2922316 2022-06-02 02:10:08-07:00\n",
      "the time of the start row is 2022-06-02 02:10:13-07:00\n",
      "the end row and  parsed  time is 3287850 2022-07-07 20:15:10-07:00\n",
      "the time of the end row is 2022-07-07 20:15:15-07:00\n",
      "saving rows 2922316 to 3287850\n",
      "to a file named 2022-06-02T021013-0700_2022-07-07T201515-0700.parquet.gzip\n",
      "2022-07-07T194255-0700_2022-08-14T173024-0700.parquet.gzip\n",
      "16\n",
      "the start row and parsed time is 3287554 2022-07-07 19:42:55-07:00\n",
      "the time of the start row is 2022-07-07 19:43:00-07:00\n",
      "the end row and  parsed  time is 3652990 2022-08-14 17:30:24-07:00\n",
      "the time of the end row is 2022-08-14 17:30:29-07:00\n",
      "saving rows 3287554 to 3652990\n",
      "to a file named 2022-07-07T194300-0700_2022-08-14T173029-0700.parquet.gzip\n",
      "2022-07-07T201515-0700_2022-08-14T181911-0700.parquet.gzip\n",
      "17\n",
      "the start row and parsed time is 3287851 2022-07-07 20:15:15-07:00\n",
      "the time of the start row is 2022-07-07 20:15:20-07:00\n",
      "the end row and  parsed  time is 3653385 2022-08-14 18:19:11-07:00\n",
      "the time of the end row is 2022-08-14 18:19:21-07:00\n",
      "saving rows 3287851 to 3653385\n",
      "to a file named 2022-07-07T201520-0700_2022-08-14T181921-0700.parquet.gzip\n",
      "2022-08-14T173024-0700_2022-09-25T173713-0700.parquet.gzip\n",
      "18\n",
      "the start row and parsed time is 3652990 2022-08-14 17:30:24-07:00\n",
      "the time of the start row is 2022-08-14 17:30:29-07:00\n",
      "the end row and  parsed  time is 4018426 2022-09-25 17:37:13-07:00\n",
      "the time of the end row is 2022-09-25 17:37:23-07:00\n",
      "saving rows 3652990 to 4018426\n",
      "to a file named 2022-08-14T173029-0700_2022-09-25T173723-0700.parquet.gzip\n",
      "2022-08-14T181921-0700_2022-09-25T183057-0700.parquet.gzip\n",
      "19\n",
      "the start row and parsed time is 3653386 2022-08-14 18:19:21-07:00\n",
      "the time of the start row is 2022-08-14 18:19:26-07:00\n",
      "the end row and  parsed  time is 4018920 2022-09-25 18:30:57-07:00\n",
      "the time of the end row is 2022-09-25 18:31:02-07:00\n",
      "saving rows 3653386 to 4018920\n",
      "to a file named 2022-08-14T181926-0700_2022-09-25T183102-0700.parquet.gzip\n",
      "2022-09-25T173713-0700_2022-11-08T102105-0700.parquet.gzip\n",
      "20\n",
      "the start row and parsed time is 4018426 2022-09-25 17:37:13-07:00\n",
      "the time of the start row is 2022-09-25 17:37:23-07:00\n",
      "the end row and  parsed  time is 4383862 2022-11-08 10:21:05-07:00\n",
      "the time of the end row is 2022-11-08 10:21:10-07:00\n",
      "saving rows 4018426 to 4383862\n",
      "to a file named 2022-09-25T173723-0700_2022-11-08T102110-0700.parquet.gzip\n",
      "2022-09-25T183102-0700_2022-11-08T122133-0700.parquet.gzip\n",
      "21\n",
      "the start row and parsed time is 4018921 2022-09-25 18:31:02-07:00\n",
      "the time of the start row is 2022-09-25 18:31:07-07:00\n",
      "the end row and  parsed  time is 4384455 2022-11-08 12:21:33-07:00\n",
      "the time of the end row is 2022-11-08 12:21:38-07:00\n",
      "saving rows 4018921 to 4384455\n",
      "to a file named 2022-09-25T183107-0700_2022-11-08T122138-0700.parquet.gzip\n",
      "2022-11-08T102105-0700_2022-12-11T005929-0700.parquet.gzip\n",
      "22\n",
      "the start row and parsed time is 4383862 2022-11-08 10:21:05-07:00\n",
      "the time of the start row is 2022-11-08 10:21:10-07:00\n",
      "the end row and  parsed  time is 4749298 2022-12-11 00:59:29-07:00\n",
      "the time of the end row is 2022-12-11 00:59:39-07:00\n",
      "saving rows 4383862 to 4749298\n",
      "to a file named 2022-11-08T102110-0700_2022-12-11T005939-0700.parquet.gzip\n",
      "2022-11-08T122138-0700_2022-12-11T023103-0700.parquet.gzip\n",
      "23\n",
      "the start row and parsed time is 4384456 2022-11-08 12:21:38-07:00\n",
      "the time of the start row is 2022-11-08 12:21:43-07:00\n",
      "the end row and  parsed  time is 4749990 2022-12-11 02:31:03-07:00\n",
      "the time of the end row is 2022-12-11 02:31:18-07:00\n",
      "saving rows 4384456 to 4749990\n",
      "to a file named 2022-11-08T122143-0700_2022-12-11T023118-0700.parquet.gzip\n",
      "2022-12-11T005929-0700_2023-01-11T155723-0700.parquet.gzip\n",
      "24\n",
      "the start row and parsed time is 4749298 2022-12-11 00:59:29-07:00\n",
      "the time of the start row is 2022-12-11 00:59:39-07:00\n",
      "the end row and  parsed  time is 5114734 2023-01-11 15:57:23-07:00\n",
      "the time of the end row is 2023-01-11 15:57:28-07:00\n",
      "saving rows 4749298 to 5114734\n",
      "to a file named 2022-12-11T005939-0700_2023-01-11T155728-0700.parquet.gzip\n",
      "2022-12-11T023118-0700_2023-01-11T194833-0700.parquet.gzip\n",
      "25\n",
      "the start row and parsed time is 4749991 2022-12-11 02:31:18-07:00\n",
      "the time of the start row is 2022-12-11 02:31:33-07:00\n",
      "the end row and  parsed  time is 5115525 2023-01-11 19:48:33-07:00\n",
      "the time of the end row is 2023-01-11 19:48:48-07:00\n",
      "saving rows 4749991 to 5115525\n",
      "to a file named 2022-12-11T023133-0700_2023-01-11T194848-0700.parquet.gzip\n",
      "2023-01-11T155723-0700_2023-02-20T053909-0700.parquet.gzip\n",
      "26\n",
      "the start row and parsed time is 5114734 2023-01-11 15:57:23-07:00\n",
      "the time of the start row is 2023-01-11 15:57:28-07:00\n",
      "the end row and  parsed  time is 5480170 2023-02-20 05:39:09-07:00\n",
      "the time of the end row is 2023-02-20 05:39:19-07:00\n",
      "saving rows 5114734 to 5480170\n",
      "to a file named 2023-01-11T155728-0700_2023-02-20T053919-0700.parquet.gzip\n",
      "2023-01-11T194848-0700_2023-02-20T072739-0700.parquet.gzip\n",
      "27\n",
      "the start row and parsed time is 5115526 2023-01-11 19:48:48-07:00\n",
      "the time of the start row is 2023-01-11 19:48:53-07:00\n",
      "the end row and  parsed  time is 5481060 2023-02-20 07:27:39-07:00\n",
      "the time of the end row is 2023-02-20 07:27:44-07:00\n",
      "saving rows 5115526 to 5481060\n",
      "to a file named 2023-01-11T194853-0700_2023-02-20T072744-0700.parquet.gzip\n",
      "2023-02-20T053909-0700_2023-03-29T085241-0700.parquet.gzip\n",
      "28\n",
      "the start row and parsed time is 5480170 2023-02-20 05:39:09-07:00\n",
      "the time of the start row is 2023-02-20 05:39:19-07:00\n",
      "the end row and  parsed  time is 5845606 2023-03-29 08:52:41-07:00\n",
      "the time of the end row is 2023-03-29 08:52:46-07:00\n",
      "saving rows 5480170 to 5845606\n",
      "to a file named 2023-02-20T053919-0700_2023-03-29T085246-0700.parquet.gzip\n",
      "2023-02-20T072744-0700_2023-03-29T105622-0700.parquet.gzip\n",
      "29\n",
      "the start row and parsed time is 5481061 2023-02-20 07:27:44-07:00\n",
      "the time of the start row is 2023-02-20 07:27:49-07:00\n",
      "the end row and  parsed  time is 5846595 2023-03-29 10:56:22-07:00\n",
      "the time of the end row is 2023-03-29 10:56:37-07:00\n",
      "saving rows 5481061 to 5846595\n",
      "to a file named 2023-02-20T072749-0700_2023-03-29T105637-0700.parquet.gzip\n",
      "2023-03-29T085241-0700_2023-05-16T135916-0700.parquet.gzip\n",
      "30\n",
      "the start row and parsed time is 5845606 2023-03-29 08:52:41-07:00\n",
      "the time of the start row is 2023-03-29 08:52:46-07:00\n",
      "the end row and  parsed  time is 6211042 2023-05-16 13:59:16-07:00\n",
      "the time of the end row is 2023-05-16 13:59:26-07:00\n",
      "saving rows 5845606 to 6211042\n",
      "to a file named 2023-03-29T085246-0700_2023-05-16T135926-0700.parquet.gzip\n",
      "2023-03-29T105637-0700_2023-05-16T162637-0700.parquet.gzip\n",
      "31\n",
      "the start row and parsed time is 5846596 2023-03-29 10:56:37-07:00\n",
      "the time of the start row is 2023-03-29 10:56:41-07:00\n",
      "the end row and  parsed  time is 6212130 2023-05-16 16:26:37-07:00\n",
      "the time of the end row is 2023-05-16 16:26:42-07:00\n",
      "saving rows 5846596 to 6212130\n",
      "to a file named 2023-03-29T105641-0700_2023-05-16T162642-0700.parquet.gzip\n",
      "2023-05-16T135916-0700_2023-06-26T123704-0700.parquet.gzip\n",
      "32\n",
      "the start row and parsed time is 6211042 2023-05-16 13:59:16-07:00\n",
      "the time of the start row is 2023-05-16 13:59:26-07:00\n",
      "the end row and  parsed  time is 6576478 2023-06-26 12:37:04-07:00\n",
      "the time of the end row is 2023-06-26 12:37:09-07:00\n",
      "saving rows 6211042 to 6576478\n",
      "to a file named 2023-05-16T135926-0700_2023-06-26T123709-0700.parquet.gzip\n",
      "2023-05-16T162642-0700_2023-06-26T152555-0700.parquet.gzip\n",
      "33\n",
      "the start row and parsed time is 6212131 2023-05-16 16:26:42-07:00\n",
      "the time of the start row is 2023-05-16 16:26:47-07:00\n",
      "the end row and  parsed  time is 6577665 2023-06-26 15:25:55-07:00\n",
      "the time of the end row is 2023-06-26 15:26:00-07:00\n",
      "saving rows 6212131 to 6577665\n",
      "to a file named 2023-05-16T162647-0700_2023-06-26T152600-0700.parquet.gzip\n",
      "2023-06-26T123704-0700_2023-07-27T072601-0700.parquet.gzip\n",
      "34\n",
      "the start row and parsed time is 6576478 2023-06-26 12:37:04-07:00\n",
      "the time of the start row is 2023-06-26 12:37:09-07:00\n",
      "the end row and  parsed  time is 6941914 2023-07-27 07:26:01-07:00\n",
      "the time of the end row is 2023-07-27 07:26:06-07:00\n",
      "saving rows 6576478 to 6941914\n",
      "to a file named 2023-06-26T123709-0700_2023-07-27T072606-0700.parquet.gzip\n",
      "2023-06-26T152600-0700_2023-07-27T095639-0700.parquet.gzip\n",
      "35\n",
      "the start row and parsed time is 6577666 2023-06-26 15:26:00-07:00\n",
      "the time of the start row is 2023-06-26 15:26:15-07:00\n",
      "the end row and  parsed  time is 6943200 2023-07-27 09:56:39-07:00\n",
      "the time of the end row is 2023-07-27 09:56:44-07:00\n",
      "saving rows 6577666 to 6943200\n",
      "to a file named 2023-06-26T152615-0700_2023-07-27T095644-0700.parquet.gzip\n",
      "2023-07-27T072601-0700_2023-08-01T225324-0700.parquet.gzip\n",
      "36\n",
      "the start row and parsed time is 6941914 2023-07-27 07:26:01-07:00\n",
      "the time of the start row is 2023-07-27 07:26:06-07:00\n",
      "the end row and  parsed  time is 6998033 2023-08-01 22:53:24-07:00\n",
      "the time of the end row is 2023-08-01 22:53:29-07:00\n",
      "saving rows 6941914 to 6998033\n",
      "to a file named 2023-07-27T072606-0700_2023-08-01T225329-0700.parquet.gzip\n",
      "2023-07-27T095644-0700_2023-08-01T225324-0700.parquet.gzip\n",
      "37\n",
      "the start row and parsed time is 6943201 2023-07-27 09:56:44-07:00\n",
      "the time of the start row is 2023-07-27 09:56:49-07:00\n",
      "the end row and  parsed  time is 6999999 2023-08-01 22:53:24-07:00\n",
      "the time of the end row is 2023-08-02 03:09:20-07:00\n",
      "saving rows 6943201 to 6999999\n",
      "to a file named 2023-07-27T095649-0700_2023-08-02T030920-0700.parquet.gzip\n"
     ]
    }
   ],
   "source": [
    "writeWorkingHRDfParquet('fitbit', fitbitHRdf.iloc[5000000:12000000])"
   ]
  },
  {
   "cell_type": "code",
   "execution_count": 9,
   "metadata": {},
   "outputs": [
    {
     "name": "stdout",
     "output_type": "stream",
     "text": [
      "a million rows took up 2.7364563941955566 MB\n",
      "putting 365436 rows per file\n",
      "2022-01-04T094802-0700_2022-02-13T113319-0700.parquet.gzip\n",
      "0\n",
      "the start row and parsed time is 0 2022-01-04 09:48:02-07:00\n",
      "the time of the start row is 2020-05-13 10:02:19-07:00\n",
      "the end row and  parsed  time is 6827675 2022-02-13 11:33:19-07:00\n",
      "the time of the end row is 2022-02-13 11:33:24-07:00\n",
      "6827675 is too many rows writing 0 to 365436\n",
      "saving rows 0 to 365436\n",
      "to a file named 2020-05-13T100219-0700_2020-06-15T175149-0700.parquet.gzip\n",
      "6462239 is too many rows writing 365436 to 730872\n",
      "saving rows 365436 to 730872\n",
      "to a file named 2020-06-15T175149-0700_2020-07-19T103931-0700.parquet.gzip\n",
      "6096803 is too many rows writing 730872 to 1096308\n",
      "saving rows 730872 to 1096308\n",
      "to a file named 2020-07-19T103931-0700_2020-08-22T011641-0700.parquet.gzip\n",
      "5731367 is too many rows writing 1096308 to 1461744\n",
      "saving rows 1096308 to 1461744\n",
      "to a file named 2020-08-22T011641-0700_2020-09-25T101037-0700.parquet.gzip\n",
      "5365931 is too many rows writing 1461744 to 1827180\n",
      "saving rows 1461744 to 1827180\n",
      "to a file named 2020-09-25T101037-0700_2020-10-28T182707-0700.parquet.gzip\n",
      "5000495 is too many rows writing 1827180 to 2192616\n",
      "saving rows 1827180 to 2192616\n",
      "to a file named 2020-10-28T182707-0700_2020-12-01T022613-0700.parquet.gzip\n",
      "4635059 is too many rows writing 2192616 to 2558052\n",
      "saving rows 2192616 to 2558052\n",
      "to a file named 2020-12-01T022613-0700_2021-01-04T062220-0700.parquet.gzip\n",
      "4269623 is too many rows writing 2558052 to 2923488\n",
      "saving rows 2558052 to 2923488\n",
      "to a file named 2021-01-04T062220-0700_2021-02-05T204607-0700.parquet.gzip\n",
      "3904187 is too many rows writing 2923488 to 3288924\n",
      "saving rows 2923488 to 3288924\n",
      "to a file named 2021-02-05T204607-0700_2021-03-10T204558-0700.parquet.gzip\n",
      "3538751 is too many rows writing 3288924 to 3654360\n",
      "saving rows 3288924 to 3654360\n",
      "to a file named 2021-03-10T204558-0700_2021-04-12T181209-0700.parquet.gzip\n",
      "3173315 is too many rows writing 3654360 to 4019796\n",
      "saving rows 3654360 to 4019796\n",
      "to a file named 2021-04-12T181209-0700_2021-05-15T211855-0700.parquet.gzip\n",
      "2807879 is too many rows writing 4019796 to 4385232\n",
      "saving rows 4019796 to 4385232\n",
      "to a file named 2021-05-15T211855-0700_2021-06-17T102224-0700.parquet.gzip\n",
      "2442443 is too many rows writing 4385232 to 4750668\n",
      "saving rows 4385232 to 4750668\n",
      "to a file named 2021-06-17T102224-0700_2021-07-20T155538-0700.parquet.gzip\n",
      "2077007 is too many rows writing 4750668 to 5116104\n",
      "saving rows 4750668 to 5116104\n",
      "to a file named 2021-07-20T155538-0700_2021-08-22T211108-0700.parquet.gzip\n",
      "1711571 is too many rows writing 5116104 to 5481540\n",
      "saving rows 5116104 to 5481540\n",
      "to a file named 2021-08-22T211108-0700_2021-09-25T095705-0700.parquet.gzip\n",
      "1346135 is too many rows writing 5481540 to 5846976\n",
      "saving rows 5481540 to 5846976\n",
      "to a file named 2021-09-25T095705-0700_2021-10-29T180139-0700.parquet.gzip\n",
      "980699 is too many rows writing 5846976 to 6212412\n",
      "saving rows 5846976 to 6212412\n",
      "to a file named 2021-10-29T180139-0700_2021-12-07T041321-0700.parquet.gzip\n",
      "saving rows 6212412 to 6827675\n",
      "to a file named 2021-12-07T041321-0700_2022-02-13T113324-0700.parquet.gzip\n",
      "2022-04-27T220849-0700_2022-06-02T020953-0700.parquet.gzip\n",
      "1\n",
      "the start row and parsed time is 7558746 2022-04-27 22:08:49-07:00\n",
      "the time of the start row is 2022-04-27 22:08:59-07:00\n",
      "the end row and  parsed  time is 7924280 2022-06-02 02:09:53-07:00\n",
      "the time of the end row is 2022-06-02 02:09:58-07:00\n",
      "saving rows 7558746 to 7924280\n",
      "to a file named 2022-04-27T220859-0700_2022-06-02T020958-0700.parquet.gzip\n",
      "2023-01-11T194823-0700_2023-02-20T072729-0700.parquet.gzip\n",
      "2\n",
      "the start row and parsed time is 10117491 2023-01-11 19:48:23-07:00\n",
      "the time of the start row is 2023-01-11 19:48:33-07:00\n",
      "the end row and  parsed  time is 10483025 2023-02-20 07:27:29-07:00\n",
      "the time of the end row is 2023-02-20 07:27:34-07:00\n",
      "saving rows 10117491 to 10483025\n",
      "to a file named 2023-01-11T194833-0700_2023-02-20T072734-0700.parquet.gzip\n",
      "2023-05-16T162632-0700_2023-06-26T152545-0700.parquet.gzip\n",
      "3\n",
      "the start row and parsed time is 11214096 2023-05-16 16:26:32-07:00\n",
      "the time of the start row is 2023-05-16 16:26:37-07:00\n",
      "the end row and  parsed  time is 11579630 2023-06-26 15:25:45-07:00\n",
      "the time of the end row is 2023-06-26 15:25:50-07:00\n",
      "saving rows 11214096 to 11579630\n",
      "to a file named 2023-05-16T162637-0700_2023-06-26T152550-0700.parquet.gzip\n",
      "2022-12-11T023058-0700_2023-01-11T194813-0700.parquet.gzip\n",
      "4\n",
      "the start row and parsed time is 9751956 2022-12-11 02:30:58-07:00\n",
      "the time of the start row is 2022-12-11 02:31:03-07:00\n",
      "the end row and  parsed  time is 10117490 2023-01-11 19:48:13-07:00\n",
      "the time of the end row is 2023-01-11 19:48:23-07:00\n",
      "saving rows 9751956 to 10117490\n",
      "to a file named 2022-12-11T023103-0700_2023-01-11T194823-0700.parquet.gzip\n",
      "2023-07-27T095634-0700_2023-08-01T225324-0700.parquet.gzip\n",
      "5\n",
      "the start row and parsed time is 11945166 2023-07-27 09:56:34-07:00\n",
      "the time of the start row is 2023-07-27 09:56:39-07:00\n",
      "the end row and  parsed  time is 12000000 2023-08-01 22:53:24-07:00\n",
      "the time of the end row is 2023-08-01 22:53:29-07:00\n",
      "saving rows 11945166 to 12000000\n",
      "to a file named 2023-07-27T095639-0700_2023-08-01T225329-0700.parquet.gzip\n",
      "2023-06-26T152550-0700_2023-07-27T095629-0700.parquet.gzip\n",
      "6\n",
      "the start row and parsed time is 11579631 2023-06-26 15:25:50-07:00\n",
      "the time of the start row is 2023-06-26 15:25:55-07:00\n",
      "the end row and  parsed  time is 11945165 2023-07-27 09:56:29-07:00\n",
      "the time of the end row is 2023-07-27 09:56:34-07:00\n",
      "saving rows 11579631 to 11945165\n",
      "to a file named 2023-06-26T152555-0700_2023-07-27T095634-0700.parquet.gzip\n",
      "2022-09-25T183042-0700_2022-11-08T122123-0700.parquet.gzip\n",
      "7\n",
      "the start row and parsed time is 9020886 2022-09-25 18:30:42-07:00\n",
      "the time of the start row is 2022-09-25 18:30:57-07:00\n",
      "the end row and  parsed  time is 9386420 2022-11-08 12:21:23-07:00\n",
      "the time of the end row is 2022-11-08 12:21:28-07:00\n",
      "saving rows 9020886 to 9386420\n",
      "to a file named 2022-09-25T183057-0700_2022-11-08T122128-0700.parquet.gzip\n",
      "2023-03-29T105617-0700_2023-05-16T162627-0700.parquet.gzip\n",
      "8\n",
      "the start row and parsed time is 10848561 2023-03-29 10:56:17-07:00\n",
      "the time of the start row is 2023-03-29 10:56:22-07:00\n",
      "the end row and  parsed  time is 11214095 2023-05-16 16:26:27-07:00\n",
      "the time of the end row is 2023-05-16 16:26:32-07:00\n",
      "saving rows 10848561 to 11214095\n",
      "to a file named 2023-03-29T105622-0700_2023-05-16T162632-0700.parquet.gzip\n",
      "2022-11-08T122128-0700_2022-12-11T023048-0700.parquet.gzip\n",
      "9\n",
      "the start row and parsed time is 9386421 2022-11-08 12:21:28-07:00\n",
      "the time of the start row is 2022-11-08 12:21:33-07:00\n",
      "the end row and  parsed  time is 9751955 2022-12-11 02:30:48-07:00\n",
      "the time of the end row is 2022-12-11 02:30:58-07:00\n",
      "saving rows 9386421 to 9751955\n",
      "to a file named 2022-11-08T122133-0700_2022-12-11T023058-0700.parquet.gzip\n",
      "2021-11-23T085322-0700_2022-01-04T094752-0700.parquet.gzip\n",
      "10\n",
      "the start row and parsed time is 6096606 2021-11-23 08:53:22-07:00\n",
      "the time of the start row is 2021-11-23 08:53:27-07:00\n",
      "the end row and  parsed  time is 6462140 2022-01-04 09:47:52-07:00\n",
      "the time of the end row is 2022-01-04 09:48:02-07:00\n",
      "saving rows 6096606 to 6462140\n",
      "to a file named 2021-11-23T085327-0700_2022-01-04T094802-0700.parquet.gzip\n",
      "2022-08-14T181906-0700_2022-09-25T183037-0700.parquet.gzip\n",
      "11\n",
      "the start row and parsed time is 8655351 2022-08-14 18:19:06-07:00\n",
      "the time of the start row is 2022-08-14 18:19:11-07:00\n",
      "the end row and  parsed  time is 9020885 2022-09-25 18:30:37-07:00\n",
      "the time of the end row is 2022-09-25 18:30:42-07:00\n",
      "saving rows 8655351 to 9020885\n",
      "to a file named 2022-08-14T181911-0700_2022-09-25T183042-0700.parquet.gzip\n",
      "2022-02-13T113324-0700_2022-03-19T051947-0700.parquet.gzip\n",
      "12\n",
      "the start row and parsed time is 6827676 2022-02-13 11:33:24-07:00\n",
      "the time of the start row is 2022-02-13 11:33:29-07:00\n",
      "the end row and  parsed  time is 7193210 2022-03-19 05:19:47-07:00\n",
      "the time of the end row is 2022-03-19 05:19:52-07:00\n",
      "saving rows 6827676 to 7193210\n",
      "to a file named 2022-02-13T113329-0700_2022-03-19T051952-0700.parquet.gzip\n",
      "2021-10-18T083840-0700_2021-11-23T085312-0700.parquet.gzip\n",
      "13\n",
      "the start row and parsed time is 5731071 2021-10-18 08:38:40-07:00\n",
      "the time of the start row is 2021-10-18 08:38:45-07:00\n",
      "the end row and  parsed  time is 6096605 2021-11-23 08:53:12-07:00\n",
      "the time of the end row is 2021-11-23 08:53:22-07:00\n",
      "saving rows 5731071 to 6096605\n",
      "to a file named 2021-10-18T083845-0700_2021-11-23T085322-0700.parquet.gzip\n",
      "2023-02-20T072734-0700_2023-03-29T105607-0700.parquet.gzip\n",
      "14\n",
      "the start row and parsed time is 10483026 2023-02-20 07:27:34-07:00\n",
      "the time of the start row is 2023-02-20 07:27:39-07:00\n",
      "the end row and  parsed  time is 10848560 2023-03-29 10:56:07-07:00\n",
      "the time of the end row is 2023-03-29 10:56:17-07:00\n",
      "saving rows 10483026 to 10848560\n",
      "to a file named 2023-02-20T072739-0700_2023-03-29T105617-0700.parquet.gzip\n",
      "2021-09-14T203952-0700_2021-10-18T083835-0700.parquet.gzip\n",
      "15\n",
      "the start row and parsed time is 5365536 2021-09-14 20:39:52-07:00\n",
      "the time of the start row is 2021-09-14 20:39:57-07:00\n",
      "the end row and  parsed  time is 5731070 2021-10-18 08:38:35-07:00\n",
      "the time of the end row is 2021-10-18 08:38:40-07:00\n",
      "saving rows 5365536 to 5731070\n",
      "to a file named 2021-09-14T203957-0700_2021-10-18T083840-0700.parquet.gzip\n",
      "2022-07-07T201505-0700_2022-08-14T181901-0700.parquet.gzip\n",
      "16\n",
      "the start row and parsed time is 8289816 2022-07-07 20:15:05-07:00\n",
      "the time of the start row is 2022-07-07 20:15:10-07:00\n",
      "the end row and  parsed  time is 8655350 2022-08-14 18:19:01-07:00\n",
      "the time of the end row is 2022-08-14 18:19:06-07:00\n",
      "saving rows 8289816 to 8655350\n",
      "to a file named 2022-07-07T201510-0700_2022-08-14T181906-0700.parquet.gzip\n",
      "2021-08-12T042809-0700_2021-09-14T203942-0700.parquet.gzip\n",
      "17\n",
      "the start row and parsed time is 5000001 2021-08-12 04:28:09-07:00\n",
      "the time of the start row is 2021-08-12 04:28:14-07:00\n",
      "the end row and  parsed  time is 5365535 2021-09-14 20:39:42-07:00\n",
      "the time of the end row is 2021-09-14 20:39:52-07:00\n",
      "saving rows 5000001 to 5365535\n",
      "to a file named 2021-08-12T042814-0700_2021-09-14T203952-0700.parquet.gzip\n",
      "2022-06-02T020958-0700_2022-07-07T201500-0700.parquet.gzip\n",
      "18\n",
      "the start row and parsed time is 7924281 2022-06-02 02:09:58-07:00\n",
      "the time of the start row is 2022-06-02 02:10:03-07:00\n",
      "the end row and  parsed  time is 8289815 2022-07-07 20:15:00-07:00\n",
      "the time of the end row is 2022-07-07 20:15:05-07:00\n",
      "saving rows 7924281 to 8289815\n",
      "to a file named 2022-06-02T021003-0700_2022-07-07T201505-0700.parquet.gzip\n",
      "2022-03-19T051952-0700_2022-04-27T220834-0700.parquet.gzip\n",
      "19\n",
      "the start row and parsed time is 7193211 2022-03-19 05:19:52-07:00\n",
      "the time of the start row is 2022-03-19 05:19:57-07:00\n",
      "the end row and  parsed  time is 16052784 2022-04-27 22:08:34-07:00\n",
      "the time of the end row is 2024-09-17 12:52:20-07:00\n",
      "8859573 is too many rows writing 7193211 to 7558647\n",
      "saving rows 7193211 to 7558647\n",
      "to a file named 2022-03-19T051957-0700_2022-04-27T215531-0700.parquet.gzip\n",
      "8494137 is too many rows writing 7558647 to 7924083\n",
      "saving rows 7558647 to 7924083\n",
      "to a file named 2022-04-27T215531-0700_2022-06-02T014353-0700.parquet.gzip\n",
      "8128701 is too many rows writing 7924083 to 8289519\n",
      "saving rows 7924083 to 8289519\n",
      "to a file named 2022-06-02T014353-0700_2022-07-07T194245-0700.parquet.gzip\n",
      "7763265 is too many rows writing 8289519 to 8654955\n",
      "saving rows 8289519 to 8654955\n",
      "to a file named 2022-07-07T194245-0700_2022-08-14T173009-0700.parquet.gzip\n",
      "7397829 is too many rows writing 8654955 to 9020391\n",
      "saving rows 8654955 to 9020391\n",
      "to a file named 2022-08-14T173009-0700_2022-09-25T173703-0700.parquet.gzip\n",
      "7032393 is too many rows writing 9020391 to 9385827\n",
      "saving rows 9020391 to 9385827\n",
      "to a file named 2022-09-25T173703-0700_2022-11-08T102100-0700.parquet.gzip\n",
      "6666957 is too many rows writing 9385827 to 9751263\n",
      "saving rows 9385827 to 9751263\n",
      "to a file named 2022-11-08T102100-0700_2022-12-11T005919-0700.parquet.gzip\n",
      "6301521 is too many rows writing 9751263 to 10116699\n",
      "saving rows 9751263 to 10116699\n",
      "to a file named 2022-12-11T005919-0700_2023-01-11T155718-0700.parquet.gzip\n",
      "5936085 is too many rows writing 10116699 to 10482135\n",
      "saving rows 10116699 to 10482135\n",
      "to a file named 2023-01-11T155718-0700_2023-02-20T053904-0700.parquet.gzip\n",
      "5570649 is too many rows writing 10482135 to 10847571\n",
      "saving rows 10482135 to 10847571\n",
      "to a file named 2023-02-20T053904-0700_2023-03-29T085226-0700.parquet.gzip\n",
      "5205213 is too many rows writing 10847571 to 11213007\n",
      "saving rows 10847571 to 11213007\n",
      "to a file named 2023-03-29T085226-0700_2023-05-16T135906-0700.parquet.gzip\n",
      "4839777 is too many rows writing 11213007 to 11578443\n",
      "saving rows 11213007 to 11578443\n",
      "to a file named 2023-05-16T135906-0700_2023-06-26T123659-0700.parquet.gzip\n",
      "4474341 is too many rows writing 11578443 to 11943879\n",
      "saving rows 11578443 to 11943879\n",
      "to a file named 2023-06-26T123659-0700_2023-07-27T072556-0700.parquet.gzip\n",
      "4108905 is too many rows writing 11943879 to 12309315\n",
      "saving rows 11943879 to 12309315\n",
      "to a file named 2023-07-27T072556-0700_2023-09-01T130127-0700.parquet.gzip\n",
      "3743469 is too many rows writing 12309315 to 12674751\n",
      "saving rows 12309315 to 12674751\n",
      "to a file named 2023-09-01T130127-0700_2023-10-30T160222-0700.parquet.gzip\n",
      "3378033 is too many rows writing 12674751 to 13040187\n",
      "saving rows 12674751 to 13040187\n",
      "to a file named 2023-10-30T160222-0700_2023-12-14T071827-0700.parquet.gzip\n",
      "3012597 is too many rows writing 13040187 to 13405623\n",
      "saving rows 13040187 to 13405623\n",
      "to a file named 2023-12-14T071827-0700_2024-01-15T072859-0700.parquet.gzip\n",
      "2647161 is too many rows writing 13405623 to 13771059\n",
      "saving rows 13405623 to 13771059\n",
      "to a file named 2024-01-15T072859-0700_2024-02-22T063942-0700.parquet.gzip\n",
      "2281725 is too many rows writing 13771059 to 14136495\n",
      "saving rows 13771059 to 14136495\n",
      "to a file named 2024-02-22T063942-0700_2024-03-28T183404-0700.parquet.gzip\n",
      "1916289 is too many rows writing 14136495 to 14501931\n",
      "saving rows 14136495 to 14501931\n",
      "to a file named 2024-03-28T183404-0700_2024-04-28T055641-0700.parquet.gzip\n",
      "1550853 is too many rows writing 14501931 to 14867367\n",
      "saving rows 14501931 to 14867367\n",
      "to a file named 2024-04-28T055641-0700_2024-05-28T195811-0700.parquet.gzip\n",
      "1185417 is too many rows writing 14867367 to 15232803\n",
      "saving rows 14867367 to 15232803\n",
      "to a file named 2024-05-28T195811-0700_2024-06-27T145237-0700.parquet.gzip\n",
      "819981 is too many rows writing 15232803 to 15598239\n",
      "saving rows 15232803 to 15598239\n",
      "to a file named 2024-06-27T145237-0700_2024-07-30T160049-0700.parquet.gzip\n",
      "saving rows 15598239 to 16052784\n",
      "to a file named 2024-07-30T160049-0700_2024-09-17T125220-0700.parquet.gzip\n"
     ]
    }
   ],
   "source": [
    "writeWorkingHRDfParquet('fitbit', fitbitHRdf)"
   ]
  },
  {
   "cell_type": "code",
   "execution_count": 11,
   "metadata": {},
   "outputs": [
    {
     "data": {
      "text/plain": [
       "['2023-06-27T010355-0700', '2023-07-10T061055-0700', 'parquet', 'gzip']"
      ]
     },
     "execution_count": 11,
     "metadata": {},
     "output_type": "execute_result"
    }
   ],
   "source": [
    "\"2023-06-27T010355-0700_2023-07-10T061055-0700.parquet.gzip\".replace('.', '_').split('_')"
   ]
  },
  {
   "cell_type": "code",
   "execution_count": 9,
   "metadata": {},
   "outputs": [
    {
     "name": "stdout",
     "output_type": "stream",
     "text": [
      "Short hash: 34df307f\n"
     ]
    }
   ],
   "source": [
    "import hashlib\n",
    "import pickle\n",
    "\n",
    "# Function to compute a short hash of a Python object\n",
    "def short_hash(obj, length=8):\n",
    "    # Serialize the object using pickle\n",
    "    obj_bytes = pickle.dumps(obj)\n",
    "    \n",
    "    # Compute MD5 hash of the serialized object\n",
    "    hash_obj = hashlib.md5(obj_bytes)\n",
    "    \n",
    "    # Return the hash truncated to the specified length\n",
    "    return hash_obj.hexdigest()[:length]\n",
    "\n",
    "# Example object\n",
    "\n",
    "# Compute short hash\n",
    "hash_value = short_hash(fitbitHRdf)\n",
    "\n",
    "print(f\"Short hash: {hash_value}\")"
   ]
  },
  {
   "cell_type": "code",
   "execution_count": 25,
   "metadata": {},
   "outputs": [
    {
     "name": "stdout",
     "output_type": "stream",
     "text": [
      "Short hash: 6f7d2095\n"
     ]
    }
   ],
   "source": [
    "hash_value = short_hash(fitbitHRdf)\n",
    "\n",
    "print(f\"Short hash: {hash_value}\")"
   ]
  },
  {
   "cell_type": "code",
   "execution_count": 29,
   "metadata": {},
   "outputs": [
    {
     "name": "stdout",
     "output_type": "stream",
     "text": [
      "Short hash: b07419fc\n"
     ]
    }
   ],
   "source": [
    "hash_value = short_hash(fitbitHRdf)\n",
    "\n",
    "print(f\"Short hash: {hash_value}\")"
   ]
  },
  {
   "cell_type": "code",
   "execution_count": 32,
   "metadata": {},
   "outputs": [
    {
     "name": "stdout",
     "output_type": "stream",
     "text": [
      "Short hash: 6f7d2095\n"
     ]
    }
   ],
   "source": [
    "hash_value = short_hash(fitbitHRdf)\n",
    "\n",
    "print(f\"Short hash: {hash_value}\")"
   ]
  },
  {
   "cell_type": "code",
   "execution_count": 43,
   "metadata": {},
   "outputs": [
    {
     "name": "stdout",
     "output_type": "stream",
     "text": [
      "Short hash: 60ece183\n"
     ]
    }
   ],
   "source": [
    "hash_value = short_hash(fitbitHRdf.values)\n",
    "\n",
    "print(f\"Short hash: {hash_value}\")"
   ]
  },
  {
   "cell_type": "code",
   "execution_count": 44,
   "metadata": {},
   "outputs": [
    {
     "name": "stdout",
     "output_type": "stream",
     "text": [
      "Short hash: 60ece183\n"
     ]
    }
   ],
   "source": [
    "dfCopy = fitbitHRdf.copy()\n",
    "hash_value = short_hash(dfCopy.values)\n",
    "\n",
    "print(f\"Short hash: {hash_value}\")"
   ]
  },
  {
   "cell_type": "code",
   "execution_count": null,
   "metadata": {},
   "outputs": [],
   "source": []
  },
  {
   "cell_type": "code",
   "execution_count": 14,
   "metadata": {},
   "outputs": [
    {
     "data": {
      "text/plain": [
       "61"
      ]
     },
     "execution_count": 14,
     "metadata": {},
     "output_type": "execute_result"
    }
   ],
   "source": [
    "fitbitHRdf.iloc[5000000]['value']"
   ]
  },
  {
   "cell_type": "code",
   "execution_count": 19,
   "metadata": {},
   "outputs": [
    {
     "data": {
      "text/plain": [
       "Timestamp('2021-08-12 08:41:48-0700', tz='US/Arizona')"
      ]
     },
     "execution_count": 19,
     "metadata": {},
     "output_type": "execute_result"
    }
   ],
   "source": [
    "tatgetIndex = fitbitHRdf.index[5000000]\n",
    "tatgetIndex"
   ]
  },
  {
   "cell_type": "code",
   "execution_count": 20,
   "metadata": {},
   "outputs": [
    {
     "data": {
      "text/plain": [
       "61"
      ]
     },
     "execution_count": 20,
     "metadata": {},
     "output_type": "execute_result"
    }
   ],
   "source": [
    "fitbitHRdf.loc[tatgetIndex]['value']"
   ]
  },
  {
   "cell_type": "code",
   "execution_count": 21,
   "metadata": {},
   "outputs": [
    {
     "name": "stderr",
     "output_type": "stream",
     "text": [
      "/tmp/ipykernel_2866694/2761556078.py:1: SettingWithCopyWarning: \n",
      "A value is trying to be set on a copy of a slice from a DataFrame\n",
      "\n",
      "See the caveats in the documentation: https://pandas.pydata.org/pandas-docs/stable/user_guide/indexing.html#returning-a-view-versus-a-copy\n",
      "  fitbitHRdf.loc[tatgetIndex]['value'] = 60\n"
     ]
    }
   ],
   "source": [
    "fitbitHRdf.loc[tatgetIndex]['value'] = 60"
   ]
  },
  {
   "cell_type": "code",
   "execution_count": 33,
   "metadata": {},
   "outputs": [],
   "source": [
    "fitbitHRdf.at[tatgetIndex, 'value'] = 61"
   ]
  },
  {
   "cell_type": "code",
   "execution_count": 34,
   "metadata": {},
   "outputs": [
    {
     "data": {
      "text/plain": [
       "61"
      ]
     },
     "execution_count": 34,
     "metadata": {},
     "output_type": "execute_result"
    }
   ],
   "source": [
    "fitbitHRdf.loc[tatgetIndex]['value']"
   ]
  },
  {
   "cell_type": "code",
   "execution_count": null,
   "metadata": {},
   "outputs": [],
   "source": []
  }
 ],
 "metadata": {
  "kernelspec": {
   "display_name": "Python 3",
   "language": "python",
   "name": "python3"
  },
  "language_info": {
   "codemirror_mode": {
    "name": "ipython",
    "version": 3
   },
   "file_extension": ".py",
   "mimetype": "text/x-python",
   "name": "python",
   "nbconvert_exporter": "python",
   "pygments_lexer": "ipython3",
   "version": "3.8.3"
  }
 },
 "nbformat": 4,
 "nbformat_minor": 2
}
